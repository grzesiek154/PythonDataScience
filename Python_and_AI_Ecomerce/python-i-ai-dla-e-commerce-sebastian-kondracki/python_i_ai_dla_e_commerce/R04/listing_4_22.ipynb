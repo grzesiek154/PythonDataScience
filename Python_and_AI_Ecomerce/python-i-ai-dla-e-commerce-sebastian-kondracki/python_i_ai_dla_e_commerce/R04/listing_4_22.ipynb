{
  "nbformat": 4,
  "nbformat_minor": 0,
  "metadata": {
    "colab": {
      "name": "listing_4_22.ipynb",
      "provenance": []
    },
    "kernelspec": {
      "name": "python3",
      "display_name": "Python 3"
    },
    "language_info": {
      "name": "python"
    }
  },
  "cells": [
    {
      "cell_type": "code",
      "execution_count": null,
      "metadata": {
        "id": "gYyTqojUdY1N"
      },
      "outputs": [],
      "source": [
        "from google.colab import files\n",
        "import os\n",
        "import pandas as pd\n",
        "\n",
        "csv = \"Kwartalne_wskaźniki_cen_towarów_i_usług_konsumpcyjnych_od_1995_roku.csv\"\n",
        "df =  pd.DataFrame()\n",
        "\n",
        "if not os.path.isfile(csv):\n",
        "  uploaded = files.upload()\n",
        "  for fn in uploaded.keys():\n",
        "    if (csv.upper() == fn.upper()):\n",
        "      print('Odczyt pliku \"{name}\", rozmiar {length} bajtów'.format(name=fn, length=len(uploaded[fn])))\n",
        "      df = pd.read_csv(fn)\n",
        "      break\n",
        "else:\n",
        "  df = pd.read_csv(csv)\n",
        "\n",
        "print(df)"
      ]
    }
  ]
}