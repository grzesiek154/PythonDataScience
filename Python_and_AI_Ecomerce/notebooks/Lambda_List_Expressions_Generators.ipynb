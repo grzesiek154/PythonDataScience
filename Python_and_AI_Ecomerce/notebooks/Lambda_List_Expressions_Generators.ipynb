{
 "cells": [
  {
   "cell_type": "code",
   "execution_count": 1,
   "metadata": {},
   "outputs": [
    {
     "name": "stdout",
     "output_type": "stream",
     "text": [
      "[3, 6, 12, 15, 300, 3000]\n"
     ]
    }
   ],
   "source": [
    "numbers = [1, 2, 4, 5, 100, 1000]\n",
    "print(list(map(lambda x: 3*x, numbers)))"
   ]
  },
  {
   "cell_type": "code",
   "execution_count": 1,
   "metadata": {},
   "outputs": [
    {
     "name": "stdout",
     "output_type": "stream",
     "text": [
      "AUDI \n",
      "SKODA\n",
      "MAZDA\n",
      "TOYOTA\n"
     ]
    }
   ],
   "source": [
    "views = ['audi ', 'skoda', 'mazda', 'toyota']\n",
    "brands = (brand.upper() for brand in views)\n",
    "for brand in brands:\n",
    "    print(brand)"
   ]
  },
  {
   "cell_type": "code",
   "execution_count": 2,
   "metadata": {},
   "outputs": [
    {
     "name": "stdout",
     "output_type": "stream",
     "text": [
      "['Agnieszka', 'Anna']\n"
     ]
    }
   ],
   "source": [
    "customers = [\"Sebastian\", \"Jan\", \"Henryk\", \"Agnieszka\", \"Anna\"]\n",
    "women = [first_name for first_name in customers if first_name[-1] == \"a\"]\n",
    "print(women)"
   ]
  }
 ],
 "metadata": {
  "kernelspec": {
   "display_name": "Python 3.10.4 64-bit",
   "language": "python",
   "name": "python3"
  },
  "language_info": {
   "codemirror_mode": {
    "name": "ipython",
    "version": 3
   },
   "file_extension": ".py",
   "mimetype": "text/x-python",
   "name": "python",
   "nbconvert_exporter": "python",
   "pygments_lexer": "ipython3",
   "version": "3.10.4"
  },
  "orig_nbformat": 4,
  "vscode": {
   "interpreter": {
    "hash": "61f7f75044dedb4e03ecf6b077c125388b58c1bc2432e9805d68d38c21443220"
   }
  }
 },
 "nbformat": 4,
 "nbformat_minor": 2
}
