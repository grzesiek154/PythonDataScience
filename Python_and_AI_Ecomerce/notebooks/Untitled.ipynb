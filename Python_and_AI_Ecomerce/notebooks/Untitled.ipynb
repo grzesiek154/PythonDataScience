{
 "cells": [
  {
   "cell_type": "code",
   "execution_count": 1,
   "metadata": {},
   "outputs": [
    {
     "name": "stdout",
     "output_type": "stream",
     "text": [
      "Imię    Nazwisko\n",
      "------  ----------\n",
      "Anna    Nowak\n",
      "Jan     Kowalski\n"
     ]
    }
   ],
   "source": [
    "from tabulate import tabulate\n",
    "\n",
    "customers = []\n",
    "customers.append([\"Anna\", \"Nowak\"])\n",
    "customers.append([\"Jan\", \"Kowalski\"])\n",
    "print(tabulate(customers, headers=[\"Imię\", \"Nazwisko\"]))"
   ]
  }
 ],
 "metadata": {
  "kernelspec": {
   "display_name": "Python 3.10.4 64-bit",
   "language": "python",
   "name": "python3"
  },
  "language_info": {
   "codemirror_mode": {
    "name": "ipython",
    "version": 3
   },
   "file_extension": ".py",
   "mimetype": "text/x-python",
   "name": "python",
   "nbconvert_exporter": "python",
   "pygments_lexer": "ipython3",
   "version": "3.10.4"
  },
  "vscode": {
   "interpreter": {
    "hash": "61f7f75044dedb4e03ecf6b077c125388b58c1bc2432e9805d68d38c21443220"
   }
  }
 },
 "nbformat": 4,
 "nbformat_minor": 5
}
