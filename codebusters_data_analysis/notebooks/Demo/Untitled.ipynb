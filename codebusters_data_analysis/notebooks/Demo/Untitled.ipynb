{
 "cells": [
  {
   "cell_type": "code",
   "execution_count": 2,
   "id": "71fb0d32",
   "metadata": {},
   "outputs": [],
   "source": [
    "import pandas as pd\n",
    "import datetime as dt\n",
    "import matplotlib.pyplot as plt"
   ]
  },
  {
   "cell_type": "markdown",
   "id": "04919b2e",
   "metadata": {},
   "source": [
    "**Data import**"
   ]
  },
  {
   "cell_type": "code",
   "execution_count": 3,
   "id": "abe16a4b",
   "metadata": {},
   "outputs": [
    {
     "data": {
      "text/html": [
       "<div>\n",
       "<style scoped>\n",
       "    .dataframe tbody tr th:only-of-type {\n",
       "        vertical-align: middle;\n",
       "    }\n",
       "\n",
       "    .dataframe tbody tr th {\n",
       "        vertical-align: top;\n",
       "    }\n",
       "\n",
       "    .dataframe thead th {\n",
       "        text-align: right;\n",
       "    }\n",
       "</style>\n",
       "<table border=\"1\" class=\"dataframe\">\n",
       "  <thead>\n",
       "    <tr style=\"text-align: right;\">\n",
       "      <th></th>\n",
       "      <th>Summary</th>\n",
       "      <th>Issue key</th>\n",
       "      <th>Issue id</th>\n",
       "      <th>Issue Type</th>\n",
       "      <th>Status</th>\n",
       "      <th>Project key</th>\n",
       "      <th>Project name</th>\n",
       "      <th>Project type</th>\n",
       "      <th>Project lead</th>\n",
       "      <th>Project description</th>\n",
       "      <th>...</th>\n",
       "      <th>Comment.17</th>\n",
       "      <th>Comment.18</th>\n",
       "      <th>Comment.19</th>\n",
       "      <th>Comment.20</th>\n",
       "      <th>Comment.21</th>\n",
       "      <th>Comment.22</th>\n",
       "      <th>Comment.23</th>\n",
       "      <th>Comment.24</th>\n",
       "      <th>Comment.25</th>\n",
       "      <th>Comment.26</th>\n",
       "    </tr>\n",
       "  </thead>\n",
       "  <tbody>\n",
       "    <tr>\n",
       "      <th>0</th>\n",
       "      <td>CEPSA - Not working for Attachement validation...</td>\n",
       "      <td>CI-7816</td>\n",
       "      <td>432641</td>\n",
       "      <td>Expense Delivery</td>\n",
       "      <td>Review</td>\n",
       "      <td>CI</td>\n",
       "      <td>codebusters</td>\n",
       "      <td>software</td>\n",
       "      <td>rohkamm</td>\n",
       "      <td>NaN</td>\n",
       "      <td>...</td>\n",
       "      <td>NaN</td>\n",
       "      <td>NaN</td>\n",
       "      <td>NaN</td>\n",
       "      <td>NaN</td>\n",
       "      <td>NaN</td>\n",
       "      <td>NaN</td>\n",
       "      <td>NaN</td>\n",
       "      <td>NaN</td>\n",
       "      <td>NaN</td>\n",
       "      <td>NaN</td>\n",
       "    </tr>\n",
       "    <tr>\n",
       "      <th>1</th>\n",
       "      <td>ARD / hide sections in regards to EXD-17008</td>\n",
       "      <td>CI-7813</td>\n",
       "      <td>432591</td>\n",
       "      <td>Expense Delivery</td>\n",
       "      <td>Configure</td>\n",
       "      <td>CI</td>\n",
       "      <td>codebusters</td>\n",
       "      <td>software</td>\n",
       "      <td>rohkamm</td>\n",
       "      <td>NaN</td>\n",
       "      <td>...</td>\n",
       "      <td>NaN</td>\n",
       "      <td>NaN</td>\n",
       "      <td>NaN</td>\n",
       "      <td>NaN</td>\n",
       "      <td>NaN</td>\n",
       "      <td>NaN</td>\n",
       "      <td>NaN</td>\n",
       "      <td>NaN</td>\n",
       "      <td>NaN</td>\n",
       "      <td>NaN</td>\n",
       "    </tr>\n",
       "    <tr>\n",
       "      <th>2</th>\n",
       "      <td>ADR / add valdiation rule for private overnigh...</td>\n",
       "      <td>CI-7809</td>\n",
       "      <td>432581</td>\n",
       "      <td>Expense Delivery</td>\n",
       "      <td>Review</td>\n",
       "      <td>CI</td>\n",
       "      <td>codebusters</td>\n",
       "      <td>software</td>\n",
       "      <td>rohkamm</td>\n",
       "      <td>NaN</td>\n",
       "      <td>...</td>\n",
       "      <td>NaN</td>\n",
       "      <td>NaN</td>\n",
       "      <td>NaN</td>\n",
       "      <td>NaN</td>\n",
       "      <td>NaN</td>\n",
       "      <td>NaN</td>\n",
       "      <td>NaN</td>\n",
       "      <td>NaN</td>\n",
       "      <td>NaN</td>\n",
       "      <td>NaN</td>\n",
       "    </tr>\n",
       "    <tr>\n",
       "      <th>3</th>\n",
       "      <td>Amadeus - not working on \"PreferredApprovers\"</td>\n",
       "      <td>CI-7808</td>\n",
       "      <td>432567</td>\n",
       "      <td>Expense Delivery</td>\n",
       "      <td>Review</td>\n",
       "      <td>CI</td>\n",
       "      <td>codebusters</td>\n",
       "      <td>software</td>\n",
       "      <td>rohkamm</td>\n",
       "      <td>NaN</td>\n",
       "      <td>...</td>\n",
       "      <td>NaN</td>\n",
       "      <td>NaN</td>\n",
       "      <td>NaN</td>\n",
       "      <td>NaN</td>\n",
       "      <td>NaN</td>\n",
       "      <td>NaN</td>\n",
       "      <td>NaN</td>\n",
       "      <td>NaN</td>\n",
       "      <td>NaN</td>\n",
       "      <td>NaN</td>\n",
       "    </tr>\n",
       "    <tr>\n",
       "      <th>4</th>\n",
       "      <td>Numiga GBO - Adapt the Export file</td>\n",
       "      <td>CI-7807</td>\n",
       "      <td>432492</td>\n",
       "      <td>Expense Delivery</td>\n",
       "      <td>Review</td>\n",
       "      <td>CI</td>\n",
       "      <td>codebusters</td>\n",
       "      <td>software</td>\n",
       "      <td>rohkamm</td>\n",
       "      <td>NaN</td>\n",
       "      <td>...</td>\n",
       "      <td>NaN</td>\n",
       "      <td>NaN</td>\n",
       "      <td>NaN</td>\n",
       "      <td>NaN</td>\n",
       "      <td>NaN</td>\n",
       "      <td>NaN</td>\n",
       "      <td>NaN</td>\n",
       "      <td>NaN</td>\n",
       "      <td>NaN</td>\n",
       "      <td>NaN</td>\n",
       "    </tr>\n",
       "  </tbody>\n",
       "</table>\n",
       "<p>5 rows × 248 columns</p>\n",
       "</div>"
      ],
      "text/plain": [
       "                                             Summary Issue key  Issue id  \\\n",
       "0  CEPSA - Not working for Attachement validation...   CI-7816    432641   \n",
       "1        ARD / hide sections in regards to EXD-17008   CI-7813    432591   \n",
       "2  ADR / add valdiation rule for private overnigh...   CI-7809    432581   \n",
       "3      Amadeus - not working on \"PreferredApprovers\"   CI-7808    432567   \n",
       "4                 Numiga GBO - Adapt the Export file   CI-7807    432492   \n",
       "\n",
       "         Issue Type     Status Project key Project name Project type  \\\n",
       "0  Expense Delivery     Review          CI  codebusters     software   \n",
       "1  Expense Delivery  Configure          CI  codebusters     software   \n",
       "2  Expense Delivery     Review          CI  codebusters     software   \n",
       "3  Expense Delivery     Review          CI  codebusters     software   \n",
       "4  Expense Delivery     Review          CI  codebusters     software   \n",
       "\n",
       "  Project lead  Project description  ...  Comment.17 Comment.18  Comment.19  \\\n",
       "0      rohkamm                  NaN  ...         NaN        NaN         NaN   \n",
       "1      rohkamm                  NaN  ...         NaN        NaN         NaN   \n",
       "2      rohkamm                  NaN  ...         NaN        NaN         NaN   \n",
       "3      rohkamm                  NaN  ...         NaN        NaN         NaN   \n",
       "4      rohkamm                  NaN  ...         NaN        NaN         NaN   \n",
       "\n",
       "  Comment.20 Comment.21 Comment.22 Comment.23 Comment.24 Comment.25 Comment.26  \n",
       "0        NaN        NaN        NaN        NaN        NaN        NaN        NaN  \n",
       "1        NaN        NaN        NaN        NaN        NaN        NaN        NaN  \n",
       "2        NaN        NaN        NaN        NaN        NaN        NaN        NaN  \n",
       "3        NaN        NaN        NaN        NaN        NaN        NaN        NaN  \n",
       "4        NaN        NaN        NaN        NaN        NaN        NaN        NaN  \n",
       "\n",
       "[5 rows x 248 columns]"
      ]
     },
     "execution_count": 3,
     "metadata": {},
     "output_type": "execute_result"
    }
   ],
   "source": [
    "tickets = pd.read_csv('i_FAO JIRA 2022-12-05T15_24_20+0100.csv')\n",
    "tickets.head()"
   ]
  },
  {
   "cell_type": "markdown",
   "id": "c9ea323f",
   "metadata": {},
   "source": [
    "**Define funtions used in the project**"
   ]
  },
  {
   "cell_type": "code",
   "execution_count": 4,
   "id": "9dcc5f5b",
   "metadata": {},
   "outputs": [],
   "source": [
    "def convert_to_date(date_string):\n",
    "    month_and_num = {'Sep': '09', 'Oct':'10', 'Nov':'11', 'Dec': '12'}\n",
    "    for key, val in month_and_num.items():\n",
    "        if key in date_string:\n",
    "            print('found: ', key)\n",
    "            date_string.replace(key, val)"
   ]
  },
  {
   "cell_type": "markdown",
   "id": "b174c51b",
   "metadata": {},
   "source": [
    "## Data investigation"
   ]
  },
  {
   "cell_type": "code",
   "execution_count": 5,
   "id": "b5c1369f",
   "metadata": {
    "scrolled": true
   },
   "outputs": [
    {
     "data": {
      "text/plain": [
       "0    05/Dec/22 10:09 AM\n",
       "1     05/Dec/22 9:26 AM\n",
       "2     05/Dec/22 9:12 AM\n",
       "3     05/Dec/22 8:05 AM\n",
       "4     03/Dec/22 1:20 PM\n",
       "Name: Created, dtype: object"
      ]
     },
     "execution_count": 5,
     "metadata": {},
     "output_type": "execute_result"
    }
   ],
   "source": [
    "tickets['Created'].head()"
   ]
  },
  {
   "cell_type": "code",
   "execution_count": 47,
   "id": "df4e5e46",
   "metadata": {
    "scrolled": true
   },
   "outputs": [
    {
     "data": {
      "text/plain": [
       "0    NaN\n",
       "1    NaN\n",
       "2    NaN\n",
       "3    NaN\n",
       "4    NaN\n",
       "Name: Resolved, dtype: object"
      ]
     },
     "execution_count": 47,
     "metadata": {},
     "output_type": "execute_result"
    }
   ],
   "source": [
    "tickets['Resolved'].head()"
   ]
  },
  {
   "cell_type": "markdown",
   "id": "42da6040",
   "metadata": {},
   "source": [
    "## Data Cleaning"
   ]
  },
  {
   "cell_type": "markdown",
   "id": "4badad00",
   "metadata": {},
   "source": [
    "Changing column names to more readable format"
   ]
  },
  {
   "cell_type": "code",
   "execution_count": 7,
   "id": "0941ed53",
   "metadata": {},
   "outputs": [
    {
     "name": "stdout",
     "output_type": "stream",
     "text": [
      "<class 'pandas.core.frame.DataFrame'>\n",
      "RangeIndex: 420 entries, 0 to 419\n",
      "Data columns (total 8 columns):\n",
      " #   Column           Non-Null Count  Dtype \n",
      "---  ------           --------------  ----- \n",
      " 0   Issue key        420 non-null    object\n",
      " 1   Status           420 non-null    object\n",
      " 2   Reporter         420 non-null    object\n",
      " 3   Created          420 non-null    object\n",
      " 4   Due Date         420 non-null    object\n",
      " 5   Resolved         248 non-null    object\n",
      " 6   Customer         420 non-null    object\n",
      " 7   Type of Request  420 non-null    object\n",
      "dtypes: object(8)\n",
      "memory usage: 26.4+ KB\n"
     ]
    },
    {
     "name": "stderr",
     "output_type": "stream",
     "text": [
      "C:\\Users\\gmalarski\\AppData\\Local\\Temp\\ipykernel_23332\\4286452309.py:2: SettingWithCopyWarning: \n",
      "A value is trying to be set on a copy of a slice from a DataFrame\n",
      "\n",
      "See the caveats in the documentation: https://pandas.pydata.org/pandas-docs/stable/user_guide/indexing.html#returning-a-view-versus-a-copy\n",
      "  ticktes_updated.rename({\"Custom field (Customer/s)\": \"Customer\", \"Custom field (Type of Request)\":\"Type of Request\"},axis=1, inplace=True)\n"
     ]
    },
    {
     "data": {
      "text/html": [
       "<div>\n",
       "<style scoped>\n",
       "    .dataframe tbody tr th:only-of-type {\n",
       "        vertical-align: middle;\n",
       "    }\n",
       "\n",
       "    .dataframe tbody tr th {\n",
       "        vertical-align: top;\n",
       "    }\n",
       "\n",
       "    .dataframe thead th {\n",
       "        text-align: right;\n",
       "    }\n",
       "</style>\n",
       "<table border=\"1\" class=\"dataframe\">\n",
       "  <thead>\n",
       "    <tr style=\"text-align: right;\">\n",
       "      <th></th>\n",
       "      <th>Issue key</th>\n",
       "      <th>Status</th>\n",
       "      <th>Reporter</th>\n",
       "      <th>Created</th>\n",
       "      <th>Due Date</th>\n",
       "      <th>Resolved</th>\n",
       "      <th>Customer</th>\n",
       "      <th>Type of Request</th>\n",
       "    </tr>\n",
       "  </thead>\n",
       "  <tbody>\n",
       "    <tr>\n",
       "      <th>0</th>\n",
       "      <td>CI-7816</td>\n",
       "      <td>Review</td>\n",
       "      <td>yutaka</td>\n",
       "      <td>05/Dec/22 10:09 AM</td>\n",
       "      <td>09/Dec/22 12:00 AM</td>\n",
       "      <td>NaN</td>\n",
       "      <td>CEPSA</td>\n",
       "      <td>Incident Request (IR)</td>\n",
       "    </tr>\n",
       "    <tr>\n",
       "      <th>1</th>\n",
       "      <td>CI-7813</td>\n",
       "      <td>Configure</td>\n",
       "      <td>mueller</td>\n",
       "      <td>05/Dec/22 9:26 AM</td>\n",
       "      <td>09/Dec/22 12:00 AM</td>\n",
       "      <td>NaN</td>\n",
       "      <td>ARD.ZDF</td>\n",
       "      <td>Project</td>\n",
       "    </tr>\n",
       "    <tr>\n",
       "      <th>2</th>\n",
       "      <td>CI-7809</td>\n",
       "      <td>Review</td>\n",
       "      <td>mueller</td>\n",
       "      <td>05/Dec/22 9:12 AM</td>\n",
       "      <td>07/Dec/22 12:00 AM</td>\n",
       "      <td>NaN</td>\n",
       "      <td>ARD.ZDF</td>\n",
       "      <td>Project</td>\n",
       "    </tr>\n",
       "    <tr>\n",
       "      <th>3</th>\n",
       "      <td>CI-7808</td>\n",
       "      <td>Review</td>\n",
       "      <td>yutaka</td>\n",
       "      <td>05/Dec/22 8:05 AM</td>\n",
       "      <td>09/Dec/22 12:00 AM</td>\n",
       "      <td>NaN</td>\n",
       "      <td>Amadeus</td>\n",
       "      <td>Incident Request (IR)</td>\n",
       "    </tr>\n",
       "    <tr>\n",
       "      <th>4</th>\n",
       "      <td>CI-7807</td>\n",
       "      <td>Review</td>\n",
       "      <td>aruizrobles</td>\n",
       "      <td>03/Dec/22 1:20 PM</td>\n",
       "      <td>15/Dec/22 12:00 AM</td>\n",
       "      <td>NaN</td>\n",
       "      <td>Numiga</td>\n",
       "      <td>Service Request (SR)</td>\n",
       "    </tr>\n",
       "    <tr>\n",
       "      <th>...</th>\n",
       "      <td>...</td>\n",
       "      <td>...</td>\n",
       "      <td>...</td>\n",
       "      <td>...</td>\n",
       "      <td>...</td>\n",
       "      <td>...</td>\n",
       "      <td>...</td>\n",
       "      <td>...</td>\n",
       "    </tr>\n",
       "    <tr>\n",
       "      <th>375</th>\n",
       "      <td>CI-7415</td>\n",
       "      <td>Closed</td>\n",
       "      <td>aruizrobles</td>\n",
       "      <td>15/Sep/22 10:03 AM</td>\n",
       "      <td>22/Sep/22 12:00 AM</td>\n",
       "      <td>22/Sep/22 5:52 PM</td>\n",
       "      <td>Numiga</td>\n",
       "      <td>Service Request (SR)</td>\n",
       "    </tr>\n",
       "    <tr>\n",
       "      <th>376</th>\n",
       "      <td>CI-7414</td>\n",
       "      <td>Closed</td>\n",
       "      <td>mueller</td>\n",
       "      <td>15/Sep/22 9:56 AM</td>\n",
       "      <td>28/Oct/22 12:00 AM</td>\n",
       "      <td>04/Nov/22 8:01 AM</td>\n",
       "      <td>ARD.ZDF</td>\n",
       "      <td>Project</td>\n",
       "    </tr>\n",
       "    <tr>\n",
       "      <th>377</th>\n",
       "      <td>CI-7413</td>\n",
       "      <td>Communicate</td>\n",
       "      <td>achattopadhyay</td>\n",
       "      <td>15/Sep/22 9:47 AM</td>\n",
       "      <td>20/Sep/22 12:00 AM</td>\n",
       "      <td>NaN</td>\n",
       "      <td>Vaillant</td>\n",
       "      <td>Service Request (SR)</td>\n",
       "    </tr>\n",
       "    <tr>\n",
       "      <th>378</th>\n",
       "      <td>CI-7412</td>\n",
       "      <td>Communicate</td>\n",
       "      <td>achattopadhyay</td>\n",
       "      <td>15/Sep/22 9:40 AM</td>\n",
       "      <td>20/Sep/22 12:00 AM</td>\n",
       "      <td>NaN</td>\n",
       "      <td>Vaillant</td>\n",
       "      <td>Service Request (SR)</td>\n",
       "    </tr>\n",
       "    <tr>\n",
       "      <th>379</th>\n",
       "      <td>CI-7411</td>\n",
       "      <td>Communicate</td>\n",
       "      <td>achattopadhyay</td>\n",
       "      <td>15/Sep/22 9:33 AM</td>\n",
       "      <td>20/Sep/22 12:00 AM</td>\n",
       "      <td>NaN</td>\n",
       "      <td>Vaillant</td>\n",
       "      <td>Service Request (SR)</td>\n",
       "    </tr>\n",
       "  </tbody>\n",
       "</table>\n",
       "<p>380 rows × 8 columns</p>\n",
       "</div>"
      ],
      "text/plain": [
       "    Issue key       Status        Reporter             Created  \\\n",
       "0     CI-7816       Review          yutaka  05/Dec/22 10:09 AM   \n",
       "1     CI-7813    Configure         mueller   05/Dec/22 9:26 AM   \n",
       "2     CI-7809       Review         mueller   05/Dec/22 9:12 AM   \n",
       "3     CI-7808       Review          yutaka   05/Dec/22 8:05 AM   \n",
       "4     CI-7807       Review     aruizrobles   03/Dec/22 1:20 PM   \n",
       "..        ...          ...             ...                 ...   \n",
       "375   CI-7415       Closed     aruizrobles  15/Sep/22 10:03 AM   \n",
       "376   CI-7414       Closed         mueller   15/Sep/22 9:56 AM   \n",
       "377   CI-7413  Communicate  achattopadhyay   15/Sep/22 9:47 AM   \n",
       "378   CI-7412  Communicate  achattopadhyay   15/Sep/22 9:40 AM   \n",
       "379   CI-7411  Communicate  achattopadhyay   15/Sep/22 9:33 AM   \n",
       "\n",
       "               Due Date           Resolved  Customer        Type of Request  \n",
       "0    09/Dec/22 12:00 AM                NaN     CEPSA  Incident Request (IR)  \n",
       "1    09/Dec/22 12:00 AM                NaN   ARD.ZDF                Project  \n",
       "2    07/Dec/22 12:00 AM                NaN   ARD.ZDF                Project  \n",
       "3    09/Dec/22 12:00 AM                NaN   Amadeus  Incident Request (IR)  \n",
       "4    15/Dec/22 12:00 AM                NaN    Numiga   Service Request (SR)  \n",
       "..                  ...                ...       ...                    ...  \n",
       "375  22/Sep/22 12:00 AM  22/Sep/22 5:52 PM    Numiga   Service Request (SR)  \n",
       "376  28/Oct/22 12:00 AM  04/Nov/22 8:01 AM   ARD.ZDF                Project  \n",
       "377  20/Sep/22 12:00 AM                NaN  Vaillant   Service Request (SR)  \n",
       "378  20/Sep/22 12:00 AM                NaN  Vaillant   Service Request (SR)  \n",
       "379  20/Sep/22 12:00 AM                NaN  Vaillant   Service Request (SR)  \n",
       "\n",
       "[380 rows x 8 columns]"
      ]
     },
     "execution_count": 7,
     "metadata": {},
     "output_type": "execute_result"
    }
   ],
   "source": [
    "\n",
    "ticktes_updated = tickets[['Issue key', 'Status', 'Reporter', 'Created', 'Due Date', 'Resolved', 'Custom field (Customer/s)','Custom field (Type of Request)']]\n",
    "ticktes_updated.rename({\"Custom field (Customer/s)\": \"Customer\", \"Custom field (Type of Request)\":\"Type of Request\"},axis=1, inplace=True)\n",
    "\n",
    "ticktes_updated.info()\n",
    "ticktes_updated.head(-40)"
   ]
  },
  {
   "cell_type": "markdown",
   "id": "a57b3eec",
   "metadata": {},
   "source": [
    "### Date column cleaning"
   ]
  },
  {
   "cell_type": "markdown",
   "id": "ca074738",
   "metadata": {},
   "source": [
    "Convert date columns from string `to datetime` class"
   ]
  },
  {
   "cell_type": "code",
   "execution_count": 8,
   "id": "04bcbe20",
   "metadata": {
    "scrolled": true
   },
   "outputs": [
    {
     "name": "stderr",
     "output_type": "stream",
     "text": [
      "C:\\Users\\gmalarski\\AppData\\Local\\Temp\\ipykernel_23332\\1543218348.py:1: SettingWithCopyWarning: \n",
      "A value is trying to be set on a copy of a slice from a DataFrame.\n",
      "Try using .loc[row_indexer,col_indexer] = value instead\n",
      "\n",
      "See the caveats in the documentation: https://pandas.pydata.org/pandas-docs/stable/user_guide/indexing.html#returning-a-view-versus-a-copy\n",
      "  ticktes_updated['Created'] = pd.to_datetime(ticktes_updated['Created'])\n",
      "C:\\Users\\gmalarski\\AppData\\Local\\Temp\\ipykernel_23332\\1543218348.py:2: SettingWithCopyWarning: \n",
      "A value is trying to be set on a copy of a slice from a DataFrame.\n",
      "Try using .loc[row_indexer,col_indexer] = value instead\n",
      "\n",
      "See the caveats in the documentation: https://pandas.pydata.org/pandas-docs/stable/user_guide/indexing.html#returning-a-view-versus-a-copy\n",
      "  ticktes_updated['Due Date'] = pd.to_datetime(ticktes_updated['Due Date'])\n",
      "C:\\Users\\gmalarski\\AppData\\Local\\Temp\\ipykernel_23332\\1543218348.py:3: SettingWithCopyWarning: \n",
      "A value is trying to be set on a copy of a slice from a DataFrame.\n",
      "Try using .loc[row_indexer,col_indexer] = value instead\n",
      "\n",
      "See the caveats in the documentation: https://pandas.pydata.org/pandas-docs/stable/user_guide/indexing.html#returning-a-view-versus-a-copy\n",
      "  ticktes_updated['Resolved'] = pd.to_datetime(ticktes_updated['Resolved'])\n"
     ]
    },
    {
     "data": {
      "text/html": [
       "<div>\n",
       "<style scoped>\n",
       "    .dataframe tbody tr th:only-of-type {\n",
       "        vertical-align: middle;\n",
       "    }\n",
       "\n",
       "    .dataframe tbody tr th {\n",
       "        vertical-align: top;\n",
       "    }\n",
       "\n",
       "    .dataframe thead th {\n",
       "        text-align: right;\n",
       "    }\n",
       "</style>\n",
       "<table border=\"1\" class=\"dataframe\">\n",
       "  <thead>\n",
       "    <tr style=\"text-align: right;\">\n",
       "      <th></th>\n",
       "      <th>Issue key</th>\n",
       "      <th>Status</th>\n",
       "      <th>Reporter</th>\n",
       "      <th>Created</th>\n",
       "      <th>Due Date</th>\n",
       "      <th>Resolved</th>\n",
       "      <th>Customer</th>\n",
       "      <th>Type of Request</th>\n",
       "    </tr>\n",
       "  </thead>\n",
       "  <tbody>\n",
       "    <tr>\n",
       "      <th>0</th>\n",
       "      <td>CI-7816</td>\n",
       "      <td>Review</td>\n",
       "      <td>yutaka</td>\n",
       "      <td>2022-12-05 10:09:00</td>\n",
       "      <td>2022-12-09</td>\n",
       "      <td>NaT</td>\n",
       "      <td>CEPSA</td>\n",
       "      <td>Incident Request (IR)</td>\n",
       "    </tr>\n",
       "    <tr>\n",
       "      <th>1</th>\n",
       "      <td>CI-7813</td>\n",
       "      <td>Configure</td>\n",
       "      <td>mueller</td>\n",
       "      <td>2022-12-05 09:26:00</td>\n",
       "      <td>2022-12-09</td>\n",
       "      <td>NaT</td>\n",
       "      <td>ARD.ZDF</td>\n",
       "      <td>Project</td>\n",
       "    </tr>\n",
       "    <tr>\n",
       "      <th>2</th>\n",
       "      <td>CI-7809</td>\n",
       "      <td>Review</td>\n",
       "      <td>mueller</td>\n",
       "      <td>2022-12-05 09:12:00</td>\n",
       "      <td>2022-12-07</td>\n",
       "      <td>NaT</td>\n",
       "      <td>ARD.ZDF</td>\n",
       "      <td>Project</td>\n",
       "    </tr>\n",
       "    <tr>\n",
       "      <th>3</th>\n",
       "      <td>CI-7808</td>\n",
       "      <td>Review</td>\n",
       "      <td>yutaka</td>\n",
       "      <td>2022-12-05 08:05:00</td>\n",
       "      <td>2022-12-09</td>\n",
       "      <td>NaT</td>\n",
       "      <td>Amadeus</td>\n",
       "      <td>Incident Request (IR)</td>\n",
       "    </tr>\n",
       "    <tr>\n",
       "      <th>4</th>\n",
       "      <td>CI-7807</td>\n",
       "      <td>Review</td>\n",
       "      <td>aruizrobles</td>\n",
       "      <td>2022-12-03 13:20:00</td>\n",
       "      <td>2022-12-15</td>\n",
       "      <td>NaT</td>\n",
       "      <td>Numiga</td>\n",
       "      <td>Service Request (SR)</td>\n",
       "    </tr>\n",
       "    <tr>\n",
       "      <th>...</th>\n",
       "      <td>...</td>\n",
       "      <td>...</td>\n",
       "      <td>...</td>\n",
       "      <td>...</td>\n",
       "      <td>...</td>\n",
       "      <td>...</td>\n",
       "      <td>...</td>\n",
       "      <td>...</td>\n",
       "    </tr>\n",
       "    <tr>\n",
       "      <th>95</th>\n",
       "      <td>CI-7708</td>\n",
       "      <td>Closed</td>\n",
       "      <td>nsanchez</td>\n",
       "      <td>2022-11-16 14:47:00</td>\n",
       "      <td>2022-11-23</td>\n",
       "      <td>2022-12-01 12:38:00</td>\n",
       "      <td>Porsche</td>\n",
       "      <td>Service Request (SR)</td>\n",
       "    </tr>\n",
       "    <tr>\n",
       "      <th>96</th>\n",
       "      <td>CI-7707</td>\n",
       "      <td>Configure</td>\n",
       "      <td>nsanchez</td>\n",
       "      <td>2022-11-16 13:45:00</td>\n",
       "      <td>2022-11-23</td>\n",
       "      <td>NaT</td>\n",
       "      <td>Porsche</td>\n",
       "      <td>Service Request (SR)</td>\n",
       "    </tr>\n",
       "    <tr>\n",
       "      <th>97</th>\n",
       "      <td>CI-7706</td>\n",
       "      <td>Configure</td>\n",
       "      <td>ssanz</td>\n",
       "      <td>2022-11-16 11:36:00</td>\n",
       "      <td>2022-11-23</td>\n",
       "      <td>NaT</td>\n",
       "      <td>Allianz</td>\n",
       "      <td>Incident Request (IR)</td>\n",
       "    </tr>\n",
       "    <tr>\n",
       "      <th>98</th>\n",
       "      <td>CI-7705</td>\n",
       "      <td>Closed</td>\n",
       "      <td>ccasper</td>\n",
       "      <td>2022-11-16 08:44:00</td>\n",
       "      <td>2022-11-18</td>\n",
       "      <td>2022-11-22 11:27:00</td>\n",
       "      <td>dm-drogerie markt</td>\n",
       "      <td>Project</td>\n",
       "    </tr>\n",
       "    <tr>\n",
       "      <th>99</th>\n",
       "      <td>CI-7704</td>\n",
       "      <td>Closed</td>\n",
       "      <td>ccasper</td>\n",
       "      <td>2022-11-16 08:38:00</td>\n",
       "      <td>2022-11-18</td>\n",
       "      <td>2022-11-18 15:50:00</td>\n",
       "      <td>dm-drogerie markt</td>\n",
       "      <td>Project</td>\n",
       "    </tr>\n",
       "  </tbody>\n",
       "</table>\n",
       "<p>100 rows × 8 columns</p>\n",
       "</div>"
      ],
      "text/plain": [
       "   Issue key     Status     Reporter             Created   Due Date  \\\n",
       "0    CI-7816     Review       yutaka 2022-12-05 10:09:00 2022-12-09   \n",
       "1    CI-7813  Configure      mueller 2022-12-05 09:26:00 2022-12-09   \n",
       "2    CI-7809     Review      mueller 2022-12-05 09:12:00 2022-12-07   \n",
       "3    CI-7808     Review       yutaka 2022-12-05 08:05:00 2022-12-09   \n",
       "4    CI-7807     Review  aruizrobles 2022-12-03 13:20:00 2022-12-15   \n",
       "..       ...        ...          ...                 ...        ...   \n",
       "95   CI-7708     Closed     nsanchez 2022-11-16 14:47:00 2022-11-23   \n",
       "96   CI-7707  Configure     nsanchez 2022-11-16 13:45:00 2022-11-23   \n",
       "97   CI-7706  Configure        ssanz 2022-11-16 11:36:00 2022-11-23   \n",
       "98   CI-7705     Closed      ccasper 2022-11-16 08:44:00 2022-11-18   \n",
       "99   CI-7704     Closed      ccasper 2022-11-16 08:38:00 2022-11-18   \n",
       "\n",
       "              Resolved           Customer        Type of Request  \n",
       "0                  NaT              CEPSA  Incident Request (IR)  \n",
       "1                  NaT            ARD.ZDF                Project  \n",
       "2                  NaT            ARD.ZDF                Project  \n",
       "3                  NaT            Amadeus  Incident Request (IR)  \n",
       "4                  NaT             Numiga   Service Request (SR)  \n",
       "..                 ...                ...                    ...  \n",
       "95 2022-12-01 12:38:00            Porsche   Service Request (SR)  \n",
       "96                 NaT            Porsche   Service Request (SR)  \n",
       "97                 NaT            Allianz  Incident Request (IR)  \n",
       "98 2022-11-22 11:27:00  dm-drogerie markt                Project  \n",
       "99 2022-11-18 15:50:00  dm-drogerie markt                Project  \n",
       "\n",
       "[100 rows x 8 columns]"
      ]
     },
     "execution_count": 8,
     "metadata": {},
     "output_type": "execute_result"
    }
   ],
   "source": [
    "ticktes_updated['Created'] = pd.to_datetime(ticktes_updated['Created'])\n",
    "ticktes_updated['Due Date'] = pd.to_datetime(ticktes_updated['Due Date'])\n",
    "ticktes_updated['Resolved'] = pd.to_datetime(ticktes_updated['Resolved'])\n",
    "ticktes_updated.head(100)"
   ]
  },
  {
   "cell_type": "markdown",
   "id": "7ca8c07b",
   "metadata": {},
   "source": [
    "### Adding `Ticket age` and `Above due date` columns"
   ]
  },
  {
   "cell_type": "code",
   "execution_count": 9,
   "id": "33a5fad3",
   "metadata": {
    "scrolled": false
   },
   "outputs": [
    {
     "name": "stderr",
     "output_type": "stream",
     "text": [
      "C:\\Users\\gmalarski\\AppData\\Local\\Temp\\ipykernel_23332\\1702089089.py:1: SettingWithCopyWarning: \n",
      "A value is trying to be set on a copy of a slice from a DataFrame.\n",
      "Try using .loc[row_indexer,col_indexer] = value instead\n",
      "\n",
      "See the caveats in the documentation: https://pandas.pydata.org/pandas-docs/stable/user_guide/indexing.html#returning-a-view-versus-a-copy\n",
      "  ticktes_updated['Ticket age'] = ticktes_updated['Resolved'] - ticktes_updated['Created']\n",
      "C:\\Users\\gmalarski\\AppData\\Local\\Temp\\ipykernel_23332\\1702089089.py:2: SettingWithCopyWarning: \n",
      "A value is trying to be set on a copy of a slice from a DataFrame.\n",
      "Try using .loc[row_indexer,col_indexer] = value instead\n",
      "\n",
      "See the caveats in the documentation: https://pandas.pydata.org/pandas-docs/stable/user_guide/indexing.html#returning-a-view-versus-a-copy\n",
      "  ticktes_updated['Above due date'] = ticktes_updated['Resolved'] - ticktes_updated['Due Date']\n"
     ]
    },
    {
     "data": {
      "text/html": [
       "<div>\n",
       "<style scoped>\n",
       "    .dataframe tbody tr th:only-of-type {\n",
       "        vertical-align: middle;\n",
       "    }\n",
       "\n",
       "    .dataframe tbody tr th {\n",
       "        vertical-align: top;\n",
       "    }\n",
       "\n",
       "    .dataframe thead th {\n",
       "        text-align: right;\n",
       "    }\n",
       "</style>\n",
       "<table border=\"1\" class=\"dataframe\">\n",
       "  <thead>\n",
       "    <tr style=\"text-align: right;\">\n",
       "      <th></th>\n",
       "      <th>Issue key</th>\n",
       "      <th>Status</th>\n",
       "      <th>Reporter</th>\n",
       "      <th>Created</th>\n",
       "      <th>Due Date</th>\n",
       "      <th>Resolved</th>\n",
       "      <th>Customer</th>\n",
       "      <th>Type of Request</th>\n",
       "      <th>Ticket age</th>\n",
       "      <th>Above due date</th>\n",
       "    </tr>\n",
       "  </thead>\n",
       "  <tbody>\n",
       "    <tr>\n",
       "      <th>0</th>\n",
       "      <td>CI-7816</td>\n",
       "      <td>Review</td>\n",
       "      <td>yutaka</td>\n",
       "      <td>2022-12-05 10:09:00</td>\n",
       "      <td>2022-12-09</td>\n",
       "      <td>NaT</td>\n",
       "      <td>CEPSA</td>\n",
       "      <td>Incident Request (IR)</td>\n",
       "      <td>NaT</td>\n",
       "      <td>NaT</td>\n",
       "    </tr>\n",
       "    <tr>\n",
       "      <th>1</th>\n",
       "      <td>CI-7813</td>\n",
       "      <td>Configure</td>\n",
       "      <td>mueller</td>\n",
       "      <td>2022-12-05 09:26:00</td>\n",
       "      <td>2022-12-09</td>\n",
       "      <td>NaT</td>\n",
       "      <td>ARD.ZDF</td>\n",
       "      <td>Project</td>\n",
       "      <td>NaT</td>\n",
       "      <td>NaT</td>\n",
       "    </tr>\n",
       "    <tr>\n",
       "      <th>2</th>\n",
       "      <td>CI-7809</td>\n",
       "      <td>Review</td>\n",
       "      <td>mueller</td>\n",
       "      <td>2022-12-05 09:12:00</td>\n",
       "      <td>2022-12-07</td>\n",
       "      <td>NaT</td>\n",
       "      <td>ARD.ZDF</td>\n",
       "      <td>Project</td>\n",
       "      <td>NaT</td>\n",
       "      <td>NaT</td>\n",
       "    </tr>\n",
       "    <tr>\n",
       "      <th>3</th>\n",
       "      <td>CI-7808</td>\n",
       "      <td>Review</td>\n",
       "      <td>yutaka</td>\n",
       "      <td>2022-12-05 08:05:00</td>\n",
       "      <td>2022-12-09</td>\n",
       "      <td>NaT</td>\n",
       "      <td>Amadeus</td>\n",
       "      <td>Incident Request (IR)</td>\n",
       "      <td>NaT</td>\n",
       "      <td>NaT</td>\n",
       "    </tr>\n",
       "    <tr>\n",
       "      <th>4</th>\n",
       "      <td>CI-7807</td>\n",
       "      <td>Review</td>\n",
       "      <td>aruizrobles</td>\n",
       "      <td>2022-12-03 13:20:00</td>\n",
       "      <td>2022-12-15</td>\n",
       "      <td>NaT</td>\n",
       "      <td>Numiga</td>\n",
       "      <td>Service Request (SR)</td>\n",
       "      <td>NaT</td>\n",
       "      <td>NaT</td>\n",
       "    </tr>\n",
       "  </tbody>\n",
       "</table>\n",
       "</div>"
      ],
      "text/plain": [
       "  Issue key     Status     Reporter             Created   Due Date Resolved  \\\n",
       "0   CI-7816     Review       yutaka 2022-12-05 10:09:00 2022-12-09      NaT   \n",
       "1   CI-7813  Configure      mueller 2022-12-05 09:26:00 2022-12-09      NaT   \n",
       "2   CI-7809     Review      mueller 2022-12-05 09:12:00 2022-12-07      NaT   \n",
       "3   CI-7808     Review       yutaka 2022-12-05 08:05:00 2022-12-09      NaT   \n",
       "4   CI-7807     Review  aruizrobles 2022-12-03 13:20:00 2022-12-15      NaT   \n",
       "\n",
       "  Customer        Type of Request Ticket age Above due date  \n",
       "0    CEPSA  Incident Request (IR)        NaT            NaT  \n",
       "1  ARD.ZDF                Project        NaT            NaT  \n",
       "2  ARD.ZDF                Project        NaT            NaT  \n",
       "3  Amadeus  Incident Request (IR)        NaT            NaT  \n",
       "4   Numiga   Service Request (SR)        NaT            NaT  "
      ]
     },
     "execution_count": 9,
     "metadata": {},
     "output_type": "execute_result"
    }
   ],
   "source": [
    "ticktes_updated['Ticket age'] = ticktes_updated['Resolved'] - ticktes_updated['Created']\n",
    "ticktes_updated['Above due date'] = ticktes_updated['Resolved'] - ticktes_updated['Due Date']\n",
    "ticktes_updated.head()"
   ]
  },
  {
   "cell_type": "markdown",
   "id": "205081d1",
   "metadata": {},
   "source": [
    "## Data analysis"
   ]
  },
  {
   "cell_type": "markdown",
   "id": "d89b2252",
   "metadata": {},
   "source": [
    "Number of tickets reported base on type of requests"
   ]
  },
  {
   "cell_type": "code",
   "execution_count": 46,
   "id": "29698c03",
   "metadata": {},
   "outputs": [
    {
     "data": {
      "image/png": "[encoded data removed]",
      "text/plain": [
       "<Figure size 504x504 with 1 Axes>"
      ]
     },
     "metadata": {},
     "output_type": "display_data"
    }
   ],
   "source": [
    "type_of_requests_created = ticktes_updated['Type of Request'].value_counts()\n",
    "explode = (0, 0.1, 0, 0)\n",
    "fig1, ax1 = plt.subplots(figsize=(7, 7))\n",
    "request_index, request_value, autotext = ax1.pie(type_of_requests_created, autopct='%1.1f%%', shadow=True, startangle=90)\n",
    "ax1.axis('equal')\n",
    "ax1.legend(type_of_requests_created.index, loc='upper right', bbox_to_anchor=(1, 0, 0.5, 1))\n",
    "\n",
    "plt.setp(autotext, size=18, weight=\"bold\")\n",
    "plt.xticks(fontsize=21)\n",
    "plt.show()"
   ]
  },
  {
   "cell_type": "code",
   "execution_count": 19,
   "id": "133d9c0f",
   "metadata": {},
   "outputs": [
    {
     "data": {
      "text/plain": [
       "array([256, 102,  62], dtype=int64)"
      ]
     },
     "execution_count": 19,
     "metadata": {},
     "output_type": "execute_result"
    }
   ],
   "source": [
    "type_of_requests_created.values"
   ]
  },
  {
   "cell_type": "code",
   "execution_count": 11,
   "id": "424ad6f1",
   "metadata": {},
   "outputs": [
    {
     "data": {
      "text/plain": [
       "<AxesSubplot:>"
      ]
     },
     "execution_count": 11,
     "metadata": {},
     "output_type": "execute_result"
    },
    {
     "data": {
      "image/png": "[encoded data removed]",
      "text/plain": [
       "<Figure size 432x288 with 1 Axes>"
      ]
     },
     "metadata": {
      "needs_background": "light"
     },
     "output_type": "display_data"
    }
   ],
   "source": [
    "ticktes_updated['Type of Request'].value_counts().plot(kind='bar')"
   ]
  },
  {
   "cell_type": "markdown",
   "id": "066c6908",
   "metadata": {},
   "source": [
    "Average time to solve each type of the ticket"
   ]
  },
  {
   "cell_type": "markdown",
   "id": "60ec1e36",
   "metadata": {},
   "source": [
    "SRs open vs closed"
   ]
  },
  {
   "cell_type": "markdown",
   "id": "a9c00718",
   "metadata": {},
   "source": [
    "IRs open vs closed"
   ]
  },
  {
   "cell_type": "markdown",
   "id": "e7973920",
   "metadata": {},
   "source": [
    "IRs per customer"
   ]
  },
  {
   "cell_type": "markdown",
   "id": "98333778",
   "metadata": {},
   "source": [
    "Srs per customer"
   ]
  },
  {
   "cell_type": "markdown",
   "id": "3ec85987",
   "metadata": {},
   "source": [
    "MTTR - tickets solved before the due date"
   ]
  }
 ],
 "metadata": {
  "kernelspec": {
   "display_name": "Python 3 (ipykernel)",
   "language": "python",
   "name": "python3"
  },
  "language_info": {
   "codemirror_mode": {
    "name": "ipython",
    "version": 3
   },
   "file_extension": ".py",
   "mimetype": "text/x-python",
   "name": "python",
   "nbconvert_exporter": "python",
   "pygments_lexer": "ipython3",
   "version": "3.10.4"
  }
 },
 "nbformat": 4,
 "nbformat_minor": 5
}
