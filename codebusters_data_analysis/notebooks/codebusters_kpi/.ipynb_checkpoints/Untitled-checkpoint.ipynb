{
 "cells": [
  {
   "cell_type": "markdown",
   "id": "a54d9f52",
   "metadata": {},
   "source": [
    "# Codebusters KPIs and Other Usefull Patterns"
   ]
  },
  {
   "cell_type": "markdown",
   "id": "aeabf216",
   "metadata": {},
   "source": [
    "## import libraries"
   ]
  },
  {
   "cell_type": "code",
   "execution_count": 1,
   "id": "b68fabf7",
   "metadata": {},
   "outputs": [],
   "source": [
    "import pandas as pd\n",
    "import numpy as np"
   ]
  },
  {
   "cell_type": "markdown",
   "id": "73cfc22a",
   "metadata": {},
   "source": [
    "Import and clean `all_tickets_2022` data set \n",
    "- remove unnecessary columns\n",
    "- rename columns"
   ]
  },
  {
   "cell_type": "markdown",
   "id": "aa1b7e16",
   "metadata": {},
   "source": [
    "# Prepare data with all tickets"
   ]
  },
  {
   "cell_type": "markdown",
   "id": "e2df4387",
   "metadata": {
    "scrolled": true
   },
   "source": [
    "### Import all service request\n",
    "\n",
    "Tickets are taken from the following jira filter:<br/> `project = CI AND issuetype in (standardIssueTypes(), \"Expense Delivery\") AND \"Epic Link\" is EMPTY AND \"Case Number/s\" is not EMPTY AND cf[14125] in (\"Service Request (SR)\") AND resolved is not EMPTY AND resolutiondate >= 2022-12-19 and resolutiondate <= 2023-01-08`"
   ]
  },
  {
   "cell_type": "code",
   "execution_count": 2,
   "id": "ad3d7f62",
   "metadata": {},
   "outputs": [
    {
     "data": {
      "text/html": [
       "<div>\n",
       "<style scoped>\n",
       "    .dataframe tbody tr th:only-of-type {\n",
       "        vertical-align: middle;\n",
       "    }\n",
       "\n",
       "    .dataframe tbody tr th {\n",
       "        vertical-align: top;\n",
       "    }\n",
       "\n",
       "    .dataframe thead th {\n",
       "        text-align: right;\n",
       "    }\n",
       "</style>\n",
       "<table border=\"1\" class=\"dataframe\">\n",
       "  <thead>\n",
       "    <tr style=\"text-align: right;\">\n",
       "      <th></th>\n",
       "      <th>Summary</th>\n",
       "      <th>Issue key</th>\n",
       "      <th>Issue id</th>\n",
       "      <th>Issue Type</th>\n",
       "      <th>Status</th>\n",
       "      <th>Project key</th>\n",
       "      <th>Project name</th>\n",
       "      <th>Project type</th>\n",
       "      <th>Project lead</th>\n",
       "      <th>Project description</th>\n",
       "      <th>...</th>\n",
       "      <th>Comment.18</th>\n",
       "      <th>Comment.19</th>\n",
       "      <th>Comment.20</th>\n",
       "      <th>Comment.21</th>\n",
       "      <th>Comment.22</th>\n",
       "      <th>Comment.23</th>\n",
       "      <th>Comment.24</th>\n",
       "      <th>Comment.25</th>\n",
       "      <th>Comment.26</th>\n",
       "      <th>Comment.27</th>\n",
       "    </tr>\n",
       "  </thead>\n",
       "  <tbody>\n",
       "    <tr>\n",
       "      <th>0</th>\n",
       "      <td>Rehau - Add EDI number Airplus</td>\n",
       "      <td>CI-8574</td>\n",
       "      <td>468635</td>\n",
       "      <td>Expense Delivery</td>\n",
       "      <td>Closed</td>\n",
       "      <td>CI</td>\n",
       "      <td>codebusters</td>\n",
       "      <td>software</td>\n",
       "      <td>rohkamm</td>\n",
       "      <td>NaN</td>\n",
       "      <td>...</td>\n",
       "      <td>NaN</td>\n",
       "      <td>NaN</td>\n",
       "      <td>NaN</td>\n",
       "      <td>NaN</td>\n",
       "      <td>NaN</td>\n",
       "      <td>NaN</td>\n",
       "      <td>NaN</td>\n",
       "      <td>NaN</td>\n",
       "      <td>NaN</td>\n",
       "      <td>NaN</td>\n",
       "    </tr>\n",
       "    <tr>\n",
       "      <th>1</th>\n",
       "      <td>Numiga VFL Wolfsburg - Remove a receipt</td>\n",
       "      <td>CI-8568</td>\n",
       "      <td>468149</td>\n",
       "      <td>Expense Delivery</td>\n",
       "      <td>Closed</td>\n",
       "      <td>CI</td>\n",
       "      <td>codebusters</td>\n",
       "      <td>software</td>\n",
       "      <td>rohkamm</td>\n",
       "      <td>NaN</td>\n",
       "      <td>...</td>\n",
       "      <td>NaN</td>\n",
       "      <td>NaN</td>\n",
       "      <td>NaN</td>\n",
       "      <td>NaN</td>\n",
       "      <td>NaN</td>\n",
       "      <td>NaN</td>\n",
       "      <td>NaN</td>\n",
       "      <td>NaN</td>\n",
       "      <td>NaN</td>\n",
       "      <td>NaN</td>\n",
       "    </tr>\n",
       "    <tr>\n",
       "      <th>2</th>\n",
       "      <td>oebb: correct perdiem/EMS</td>\n",
       "      <td>CI-8560</td>\n",
       "      <td>467735</td>\n",
       "      <td>Expense Delivery</td>\n",
       "      <td>Closed</td>\n",
       "      <td>CI</td>\n",
       "      <td>codebusters</td>\n",
       "      <td>software</td>\n",
       "      <td>rohkamm</td>\n",
       "      <td>NaN</td>\n",
       "      <td>...</td>\n",
       "      <td>NaN</td>\n",
       "      <td>NaN</td>\n",
       "      <td>NaN</td>\n",
       "      <td>NaN</td>\n",
       "      <td>NaN</td>\n",
       "      <td>NaN</td>\n",
       "      <td>NaN</td>\n",
       "      <td>NaN</td>\n",
       "      <td>NaN</td>\n",
       "      <td>NaN</td>\n",
       "    </tr>\n",
       "    <tr>\n",
       "      <th>3</th>\n",
       "      <td>Hensoldt - Update Approval notification mail</td>\n",
       "      <td>CI-8554</td>\n",
       "      <td>467243</td>\n",
       "      <td>Expense Delivery</td>\n",
       "      <td>Closed</td>\n",
       "      <td>CI</td>\n",
       "      <td>codebusters</td>\n",
       "      <td>software</td>\n",
       "      <td>rohkamm</td>\n",
       "      <td>NaN</td>\n",
       "      <td>...</td>\n",
       "      <td>NaN</td>\n",
       "      <td>NaN</td>\n",
       "      <td>NaN</td>\n",
       "      <td>NaN</td>\n",
       "      <td>NaN</td>\n",
       "      <td>NaN</td>\n",
       "      <td>NaN</td>\n",
       "      <td>NaN</td>\n",
       "      <td>NaN</td>\n",
       "      <td>NaN</td>\n",
       "    </tr>\n",
       "    <tr>\n",
       "      <th>4</th>\n",
       "      <td>vw-cso: activate bing map in itinerary section</td>\n",
       "      <td>CI-8552</td>\n",
       "      <td>467085</td>\n",
       "      <td>Expense Delivery</td>\n",
       "      <td>Closed</td>\n",
       "      <td>CI</td>\n",
       "      <td>codebusters</td>\n",
       "      <td>software</td>\n",
       "      <td>rohkamm</td>\n",
       "      <td>NaN</td>\n",
       "      <td>...</td>\n",
       "      <td>NaN</td>\n",
       "      <td>NaN</td>\n",
       "      <td>NaN</td>\n",
       "      <td>NaN</td>\n",
       "      <td>NaN</td>\n",
       "      <td>NaN</td>\n",
       "      <td>NaN</td>\n",
       "      <td>NaN</td>\n",
       "      <td>NaN</td>\n",
       "      <td>NaN</td>\n",
       "    </tr>\n",
       "    <tr>\n",
       "      <th>...</th>\n",
       "      <td>...</td>\n",
       "      <td>...</td>\n",
       "      <td>...</td>\n",
       "      <td>...</td>\n",
       "      <td>...</td>\n",
       "      <td>...</td>\n",
       "      <td>...</td>\n",
       "      <td>...</td>\n",
       "      <td>...</td>\n",
       "      <td>...</td>\n",
       "      <td>...</td>\n",
       "      <td>...</td>\n",
       "      <td>...</td>\n",
       "      <td>...</td>\n",
       "      <td>...</td>\n",
       "      <td>...</td>\n",
       "      <td>...</td>\n",
       "      <td>...</td>\n",
       "      <td>...</td>\n",
       "      <td>...</td>\n",
       "      <td>...</td>\n",
       "    </tr>\n",
       "    <tr>\n",
       "      <th>309</th>\n",
       "      <td>Aquila Capital - Expense issue with export and...</td>\n",
       "      <td>CI-6926</td>\n",
       "      <td>393799</td>\n",
       "      <td>Expense Delivery</td>\n",
       "      <td>Closed</td>\n",
       "      <td>CI</td>\n",
       "      <td>codebusters</td>\n",
       "      <td>software</td>\n",
       "      <td>rohkamm</td>\n",
       "      <td>NaN</td>\n",
       "      <td>...</td>\n",
       "      <td>04/Aug/22 10:36 AM;gmalarski;Export path added...</td>\n",
       "      <td>27/Jan/23 7:54 PM;raphose;SR is closed since A...</td>\n",
       "      <td>NaN</td>\n",
       "      <td>NaN</td>\n",
       "      <td>NaN</td>\n",
       "      <td>NaN</td>\n",
       "      <td>NaN</td>\n",
       "      <td>NaN</td>\n",
       "      <td>NaN</td>\n",
       "      <td>NaN</td>\n",
       "    </tr>\n",
       "    <tr>\n",
       "      <th>310</th>\n",
       "      <td>VW - Splitting of approval for expense statements</td>\n",
       "      <td>CI-6911</td>\n",
       "      <td>393585</td>\n",
       "      <td>Expense Delivery</td>\n",
       "      <td>Closed</td>\n",
       "      <td>CI</td>\n",
       "      <td>codebusters</td>\n",
       "      <td>software</td>\n",
       "      <td>rohkamm</td>\n",
       "      <td>NaN</td>\n",
       "      <td>...</td>\n",
       "      <td>NaN</td>\n",
       "      <td>NaN</td>\n",
       "      <td>NaN</td>\n",
       "      <td>NaN</td>\n",
       "      <td>NaN</td>\n",
       "      <td>NaN</td>\n",
       "      <td>NaN</td>\n",
       "      <td>NaN</td>\n",
       "      <td>NaN</td>\n",
       "      <td>NaN</td>\n",
       "    </tr>\n",
       "    <tr>\n",
       "      <th>311</th>\n",
       "      <td>Porsche - Adjustment of approval process for n...</td>\n",
       "      <td>CI-6901</td>\n",
       "      <td>393357</td>\n",
       "      <td>Expense Delivery</td>\n",
       "      <td>Closed</td>\n",
       "      <td>CI</td>\n",
       "      <td>codebusters</td>\n",
       "      <td>software</td>\n",
       "      <td>rohkamm</td>\n",
       "      <td>NaN</td>\n",
       "      <td>...</td>\n",
       "      <td>NaN</td>\n",
       "      <td>NaN</td>\n",
       "      <td>NaN</td>\n",
       "      <td>NaN</td>\n",
       "      <td>NaN</td>\n",
       "      <td>NaN</td>\n",
       "      <td>NaN</td>\n",
       "      <td>NaN</td>\n",
       "      <td>NaN</td>\n",
       "      <td>NaN</td>\n",
       "    </tr>\n",
       "    <tr>\n",
       "      <th>312</th>\n",
       "      <td>Hugo Boss - add 3 new meal receipt types for t...</td>\n",
       "      <td>CI-6825</td>\n",
       "      <td>389774</td>\n",
       "      <td>Expense Delivery</td>\n",
       "      <td>Closed</td>\n",
       "      <td>CI</td>\n",
       "      <td>codebusters</td>\n",
       "      <td>software</td>\n",
       "      <td>rohkamm</td>\n",
       "      <td>NaN</td>\n",
       "      <td>...</td>\n",
       "      <td>NaN</td>\n",
       "      <td>NaN</td>\n",
       "      <td>NaN</td>\n",
       "      <td>NaN</td>\n",
       "      <td>NaN</td>\n",
       "      <td>NaN</td>\n",
       "      <td>NaN</td>\n",
       "      <td>NaN</td>\n",
       "      <td>NaN</td>\n",
       "      <td>NaN</td>\n",
       "    </tr>\n",
       "    <tr>\n",
       "      <th>313</th>\n",
       "      <td>Replace deprecate method setReceiptTypeList in...</td>\n",
       "      <td>CI-5953</td>\n",
       "      <td>349721</td>\n",
       "      <td>Expense Delivery</td>\n",
       "      <td>Closed</td>\n",
       "      <td>CI</td>\n",
       "      <td>codebusters</td>\n",
       "      <td>software</td>\n",
       "      <td>rohkamm</td>\n",
       "      <td>NaN</td>\n",
       "      <td>...</td>\n",
       "      <td>NaN</td>\n",
       "      <td>NaN</td>\n",
       "      <td>NaN</td>\n",
       "      <td>NaN</td>\n",
       "      <td>NaN</td>\n",
       "      <td>NaN</td>\n",
       "      <td>NaN</td>\n",
       "      <td>NaN</td>\n",
       "      <td>NaN</td>\n",
       "      <td>NaN</td>\n",
       "    </tr>\n",
       "  </tbody>\n",
       "</table>\n",
       "<p>314 rows × 276 columns</p>\n",
       "</div>"
      ],
      "text/plain": [
       "                                               Summary Issue key  Issue id  \\\n",
       "0                       Rehau - Add EDI number Airplus   CI-8574    468635   \n",
       "1              Numiga VFL Wolfsburg - Remove a receipt   CI-8568    468149   \n",
       "2                            oebb: correct perdiem/EMS   CI-8560    467735   \n",
       "3         Hensoldt - Update Approval notification mail   CI-8554    467243   \n",
       "4       vw-cso: activate bing map in itinerary section   CI-8552    467085   \n",
       "..                                                 ...       ...       ...   \n",
       "309  Aquila Capital - Expense issue with export and...   CI-6926    393799   \n",
       "310  VW - Splitting of approval for expense statements   CI-6911    393585   \n",
       "311  Porsche - Adjustment of approval process for n...   CI-6901    393357   \n",
       "312  Hugo Boss - add 3 new meal receipt types for t...   CI-6825    389774   \n",
       "313  Replace deprecate method setReceiptTypeList in...   CI-5953    349721   \n",
       "\n",
       "           Issue Type  Status Project key Project name Project type  \\\n",
       "0    Expense Delivery  Closed          CI  codebusters     software   \n",
       "1    Expense Delivery  Closed          CI  codebusters     software   \n",
       "2    Expense Delivery  Closed          CI  codebusters     software   \n",
       "3    Expense Delivery  Closed          CI  codebusters     software   \n",
       "4    Expense Delivery  Closed          CI  codebusters     software   \n",
       "..                ...     ...         ...          ...          ...   \n",
       "309  Expense Delivery  Closed          CI  codebusters     software   \n",
       "310  Expense Delivery  Closed          CI  codebusters     software   \n",
       "311  Expense Delivery  Closed          CI  codebusters     software   \n",
       "312  Expense Delivery  Closed          CI  codebusters     software   \n",
       "313  Expense Delivery  Closed          CI  codebusters     software   \n",
       "\n",
       "    Project lead  Project description  ...  \\\n",
       "0        rohkamm                  NaN  ...   \n",
       "1        rohkamm                  NaN  ...   \n",
       "2        rohkamm                  NaN  ...   \n",
       "3        rohkamm                  NaN  ...   \n",
       "4        rohkamm                  NaN  ...   \n",
       "..           ...                  ...  ...   \n",
       "309      rohkamm                  NaN  ...   \n",
       "310      rohkamm                  NaN  ...   \n",
       "311      rohkamm                  NaN  ...   \n",
       "312      rohkamm                  NaN  ...   \n",
       "313      rohkamm                  NaN  ...   \n",
       "\n",
       "                                            Comment.18  \\\n",
       "0                                                  NaN   \n",
       "1                                                  NaN   \n",
       "2                                                  NaN   \n",
       "3                                                  NaN   \n",
       "4                                                  NaN   \n",
       "..                                                 ...   \n",
       "309  04/Aug/22 10:36 AM;gmalarski;Export path added...   \n",
       "310                                                NaN   \n",
       "311                                                NaN   \n",
       "312                                                NaN   \n",
       "313                                                NaN   \n",
       "\n",
       "                                            Comment.19  Comment.20 Comment.21  \\\n",
       "0                                                  NaN         NaN        NaN   \n",
       "1                                                  NaN         NaN        NaN   \n",
       "2                                                  NaN         NaN        NaN   \n",
       "3                                                  NaN         NaN        NaN   \n",
       "4                                                  NaN         NaN        NaN   \n",
       "..                                                 ...         ...        ...   \n",
       "309  27/Jan/23 7:54 PM;raphose;SR is closed since A...         NaN        NaN   \n",
       "310                                                NaN         NaN        NaN   \n",
       "311                                                NaN         NaN        NaN   \n",
       "312                                                NaN         NaN        NaN   \n",
       "313                                                NaN         NaN        NaN   \n",
       "\n",
       "    Comment.22 Comment.23 Comment.24 Comment.25 Comment.26 Comment.27  \n",
       "0          NaN        NaN        NaN        NaN        NaN        NaN  \n",
       "1          NaN        NaN        NaN        NaN        NaN        NaN  \n",
       "2          NaN        NaN        NaN        NaN        NaN        NaN  \n",
       "3          NaN        NaN        NaN        NaN        NaN        NaN  \n",
       "4          NaN        NaN        NaN        NaN        NaN        NaN  \n",
       "..         ...        ...        ...        ...        ...        ...  \n",
       "309        NaN        NaN        NaN        NaN        NaN        NaN  \n",
       "310        NaN        NaN        NaN        NaN        NaN        NaN  \n",
       "311        NaN        NaN        NaN        NaN        NaN        NaN  \n",
       "312        NaN        NaN        NaN        NaN        NaN        NaN  \n",
       "313        NaN        NaN        NaN        NaN        NaN        NaN  \n",
       "\n",
       "[314 rows x 276 columns]"
      ]
     },
     "execution_count": 2,
     "metadata": {},
     "output_type": "execute_result"
    }
   ],
   "source": [
    "all_sr_origin = pd.read_csv('../../DataSets/KPIs/MainTickets/all_service_requests.csv')\n",
    "all_sr_origin"
   ]
  },
  {
   "cell_type": "markdown",
   "id": "a459f908",
   "metadata": {},
   "source": [
    "### Select from the dataset only columns necessary for the further analysis"
   ]
  },
  {
   "cell_type": "code",
   "execution_count": 3,
   "id": "594cf3f9",
   "metadata": {},
   "outputs": [
    {
     "name": "stderr",
     "output_type": "stream",
     "text": [
      "C:\\Users\\gmalarski\\AppData\\Local\\Temp\\ipykernel_12368\\2948666729.py:2: SettingWithCopyWarning: \n",
      "A value is trying to be set on a copy of a slice from a DataFrame\n",
      "\n",
      "See the caveats in the documentation: https://pandas.pydata.org/pandas-docs/stable/user_guide/indexing.html#returning-a-view-versus-a-copy\n",
      "  all_sr.rename({\"Custom field (Customer/s)\": \"Customer\", \"Custom field (Type of Request)\":\"Type of Request\"},axis=1, inplace=True)\n"
     ]
    }
   ],
   "source": [
    "all_sr = all_sr_origin[['Issue key', 'Issue id', 'Status', 'Reporter', 'Created', 'Due Date', 'Resolved', 'Custom field (Customer/s)','Custom field (Type of Request)']]\n",
    "all_sr.rename({\"Custom field (Customer/s)\": \"Customer\", \"Custom field (Type of Request)\":\"Type of Request\"},axis=1, inplace=True)"
   ]
  },
  {
   "cell_type": "code",
   "execution_count": 4,
   "id": "7f096856",
   "metadata": {
    "scrolled": true
   },
   "outputs": [
    {
     "name": "stdout",
     "output_type": "stream",
     "text": [
      "<class 'pandas.core.frame.DataFrame'>\n",
      "RangeIndex: 314 entries, 0 to 313\n",
      "Data columns (total 9 columns):\n",
      " #   Column           Non-Null Count  Dtype \n",
      "---  ------           --------------  ----- \n",
      " 0   Issue key        314 non-null    object\n",
      " 1   Issue id         314 non-null    int64 \n",
      " 2   Status           314 non-null    object\n",
      " 3   Reporter         314 non-null    object\n",
      " 4   Created          314 non-null    object\n",
      " 5   Due Date         314 non-null    object\n",
      " 6   Resolved         314 non-null    object\n",
      " 7   Customer         314 non-null    object\n",
      " 8   Type of Request  314 non-null    object\n",
      "dtypes: int64(1), object(8)\n",
      "memory usage: 22.2+ KB\n"
     ]
    }
   ],
   "source": [
    "all_sr.info()"
   ]
  },
  {
   "cell_type": "code",
   "execution_count": 5,
   "id": "bc99c95d",
   "metadata": {},
   "outputs": [
    {
     "data": {
      "text/plain": [
       "Issue key          0\n",
       "Issue id           0\n",
       "Status             0\n",
       "Reporter           0\n",
       "Created            0\n",
       "Due Date           0\n",
       "Resolved           0\n",
       "Customer           0\n",
       "Type of Request    0\n",
       "dtype: int64"
      ]
     },
     "execution_count": 5,
     "metadata": {},
     "output_type": "execute_result"
    }
   ],
   "source": [
    "all_sr.isnull().sum()"
   ]
  },
  {
   "cell_type": "markdown",
   "id": "e14ee897",
   "metadata": {
    "scrolled": false
   },
   "source": [
    "### Convert date table to `datetime` object"
   ]
  },
  {
   "cell_type": "code",
   "execution_count": 6,
   "id": "987e0afa",
   "metadata": {
    "scrolled": true
   },
   "outputs": [
    {
     "name": "stderr",
     "output_type": "stream",
     "text": [
      "C:\\Users\\gmalarski\\AppData\\Local\\Temp\\ipykernel_12368\\2794271155.py:1: SettingWithCopyWarning: \n",
      "A value is trying to be set on a copy of a slice from a DataFrame.\n",
      "Try using .loc[row_indexer,col_indexer] = value instead\n",
      "\n",
      "See the caveats in the documentation: https://pandas.pydata.org/pandas-docs/stable/user_guide/indexing.html#returning-a-view-versus-a-copy\n",
      "  all_sr[\"Created\"] = pd.to_datetime(all_sr[\"Created\"])\n",
      "C:\\Users\\gmalarski\\AppData\\Local\\Temp\\ipykernel_12368\\2794271155.py:2: SettingWithCopyWarning: \n",
      "A value is trying to be set on a copy of a slice from a DataFrame.\n",
      "Try using .loc[row_indexer,col_indexer] = value instead\n",
      "\n",
      "See the caveats in the documentation: https://pandas.pydata.org/pandas-docs/stable/user_guide/indexing.html#returning-a-view-versus-a-copy\n",
      "  all_sr[\"Resolved\"] = pd.to_datetime(all_sr[\"Resolved\"])\n"
     ]
    }
   ],
   "source": [
    "all_sr[\"Created\"] = pd.to_datetime(all_sr[\"Created\"])\n",
    "all_sr[\"Resolved\"] = pd.to_datetime(all_sr[\"Resolved\"])"
   ]
  },
  {
   "cell_type": "code",
   "execution_count": 7,
   "id": "dbad0f24",
   "metadata": {
    "scrolled": true
   },
   "outputs": [
    {
     "name": "stdout",
     "output_type": "stream",
     "text": [
      "<class 'pandas.core.frame.DataFrame'>\n",
      "RangeIndex: 314 entries, 0 to 313\n",
      "Data columns (total 9 columns):\n",
      " #   Column           Non-Null Count  Dtype         \n",
      "---  ------           --------------  -----         \n",
      " 0   Issue key        314 non-null    object        \n",
      " 1   Issue id         314 non-null    int64         \n",
      " 2   Status           314 non-null    object        \n",
      " 3   Reporter         314 non-null    object        \n",
      " 4   Created          314 non-null    datetime64[ns]\n",
      " 5   Due Date         314 non-null    object        \n",
      " 6   Resolved         314 non-null    datetime64[ns]\n",
      " 7   Customer         314 non-null    object        \n",
      " 8   Type of Request  314 non-null    object        \n",
      "dtypes: datetime64[ns](2), int64(1), object(6)\n",
      "memory usage: 22.2+ KB\n"
     ]
    }
   ],
   "source": [
    "all_sr.info()"
   ]
  },
  {
   "cell_type": "markdown",
   "id": "2e708eda",
   "metadata": {},
   "source": [
    "**Summary**\n",
    "- there is not SR ticket without `resolved` date\n",
    "- there is no `null` value in any of the column\n",
    "- date type columns converted to `datetime` object in order to make calculucations on these columns"
   ]
  },
  {
   "cell_type": "markdown",
   "id": "ddf357d6",
   "metadata": {},
   "source": [
    "# Prepare data with individuals tasks for service requests"
   ]
  },
  {
   "cell_type": "markdown",
   "id": "4de9f4c8",
   "metadata": {},
   "source": [
    "## Import and clean `all_individual_tasks` data set \n",
    "- we are not able to downaload full data becuase of jira limitation, therefore we need to combine data from differen periods\n",
    "- remove unnecessary columns\n",
    "- replace missing `date` values with 0\n",
    "- drop rows with \"null\" values"
   ]
  },
  {
   "cell_type": "code",
   "execution_count": 9,
   "id": "8b6078d0",
   "metadata": {
    "scrolled": true
   },
   "outputs": [
    {
     "name": "stderr",
     "output_type": "stream",
     "text": [
      "C:\\Users\\gmalarski\\AppData\\Local\\Temp\\ipykernel_12368\\1151201038.py:1: DtypeWarning: Columns (25,29,30,31,42,43,224,225,226,227,228,229,230,231,232,233,234,235,236,237,238,239) have mixed types. Specify dtype option on import or set low_memory=False.\n",
      "  individual_part_1 = pd.read_csv('../../DataSets/KPIs/IndividualTasks/from20220101_till_2022_05_31.csv')\n",
      "C:\\Users\\gmalarski\\AppData\\Local\\Temp\\ipykernel_12368\\1151201038.py:2: DtypeWarning: Columns (21,35,36,74,77,215,216,217,218,249,286,287) have mixed types. Specify dtype option on import or set low_memory=False.\n",
      "  individual_part_2 = pd.read_csv('../../DataSets/KPIs/IndividualTasks/from_20220601_till_20220831.csv')\n",
      "C:\\Users\\gmalarski\\AppData\\Local\\Temp\\ipykernel_12368\\1151201038.py:3: DtypeWarning: Columns (215,216,217,218,219,220,221,222,223,224,225,226,227,228,229,230,231,232) have mixed types. Specify dtype option on import or set low_memory=False.\n",
      "  individual_part_3 = pd.read_csv('../../DataSets/KPIs/IndividualTasks/from_20220901_till_20221231.csv')\n",
      "C:\\Users\\gmalarski\\AppData\\Local\\Temp\\ipykernel_12368\\1151201038.py:4: DtypeWarning: Columns (25,215,216,217,218,219,220,221,222,223,224,225) have mixed types. Specify dtype option on import or set low_memory=False.\n",
      "  individual_part_4 = pd.read_csv('../../DataSets/KPIs/IndividualTasks/from20230101_till_20230310.csv')\n"
     ]
    },
    {
     "data": {
      "text/html": [
       "<div>\n",
       "<style scoped>\n",
       "    .dataframe tbody tr th:only-of-type {\n",
       "        vertical-align: middle;\n",
       "    }\n",
       "\n",
       "    .dataframe tbody tr th {\n",
       "        vertical-align: top;\n",
       "    }\n",
       "\n",
       "    .dataframe thead th {\n",
       "        text-align: right;\n",
       "    }\n",
       "</style>\n",
       "<table border=\"1\" class=\"dataframe\">\n",
       "  <thead>\n",
       "    <tr style=\"text-align: right;\">\n",
       "      <th></th>\n",
       "      <th>Summary</th>\n",
       "      <th>Issue key</th>\n",
       "      <th>Issue id</th>\n",
       "      <th>Parent id</th>\n",
       "      <th>Issue Type</th>\n",
       "      <th>Status</th>\n",
       "      <th>Project key</th>\n",
       "      <th>Project name</th>\n",
       "      <th>Project type</th>\n",
       "      <th>Project lead</th>\n",
       "      <th>...</th>\n",
       "      <th>Custom field (arctic QA Findings)</th>\n",
       "      <th>Custom field (cytric Stability Findings)</th>\n",
       "      <th>Comment</th>\n",
       "      <th>Comment.1</th>\n",
       "      <th>Component/s</th>\n",
       "      <th>Custom field (Customer/s)</th>\n",
       "      <th>Sprint.35</th>\n",
       "      <th>Sprint.36</th>\n",
       "      <th>Custom field (Priority Index)</th>\n",
       "      <th>Custom field (Remaining Story Points)</th>\n",
       "    </tr>\n",
       "  </thead>\n",
       "  <tbody>\n",
       "    <tr>\n",
       "      <th>0</th>\n",
       "      <td>Import in Production</td>\n",
       "      <td>CI-10217127</td>\n",
       "      <td>394675</td>\n",
       "      <td>373630</td>\n",
       "      <td>Individual Task</td>\n",
       "      <td>Done</td>\n",
       "      <td>CI</td>\n",
       "      <td>codebusters</td>\n",
       "      <td>software</td>\n",
       "      <td>rohkamm</td>\n",
       "      <td>...</td>\n",
       "      <td>NaN</td>\n",
       "      <td>NaN</td>\n",
       "      <td>NaN</td>\n",
       "      <td>NaN</td>\n",
       "      <td>NaN</td>\n",
       "      <td>NaN</td>\n",
       "      <td>NaN</td>\n",
       "      <td>NaN</td>\n",
       "      <td>NaN</td>\n",
       "      <td>NaN</td>\n",
       "    </tr>\n",
       "    <tr>\n",
       "      <th>1</th>\n",
       "      <td>Communicate</td>\n",
       "      <td>CI-10217126</td>\n",
       "      <td>394671</td>\n",
       "      <td>389490</td>\n",
       "      <td>Individual Task</td>\n",
       "      <td>Done</td>\n",
       "      <td>CI</td>\n",
       "      <td>codebusters</td>\n",
       "      <td>software</td>\n",
       "      <td>rohkamm</td>\n",
       "      <td>...</td>\n",
       "      <td>NaN</td>\n",
       "      <td>NaN</td>\n",
       "      <td>NaN</td>\n",
       "      <td>NaN</td>\n",
       "      <td>NaN</td>\n",
       "      <td>NaN</td>\n",
       "      <td>NaN</td>\n",
       "      <td>NaN</td>\n",
       "      <td>NaN</td>\n",
       "      <td>NaN</td>\n",
       "    </tr>\n",
       "    <tr>\n",
       "      <th>2</th>\n",
       "      <td>Communicate</td>\n",
       "      <td>CI-10217125</td>\n",
       "      <td>394670</td>\n",
       "      <td>393625</td>\n",
       "      <td>Individual Task</td>\n",
       "      <td>Done</td>\n",
       "      <td>CI</td>\n",
       "      <td>codebusters</td>\n",
       "      <td>software</td>\n",
       "      <td>rohkamm</td>\n",
       "      <td>...</td>\n",
       "      <td>NaN</td>\n",
       "      <td>NaN</td>\n",
       "      <td>NaN</td>\n",
       "      <td>NaN</td>\n",
       "      <td>NaN</td>\n",
       "      <td>NaN</td>\n",
       "      <td>NaN</td>\n",
       "      <td>NaN</td>\n",
       "      <td>NaN</td>\n",
       "      <td>NaN</td>\n",
       "    </tr>\n",
       "    <tr>\n",
       "      <th>3</th>\n",
       "      <td>Configure</td>\n",
       "      <td>CI-10217121</td>\n",
       "      <td>394664</td>\n",
       "      <td>389982</td>\n",
       "      <td>Individual Task</td>\n",
       "      <td>Done</td>\n",
       "      <td>CI</td>\n",
       "      <td>codebusters</td>\n",
       "      <td>software</td>\n",
       "      <td>rohkamm</td>\n",
       "      <td>...</td>\n",
       "      <td>NaN</td>\n",
       "      <td>NaN</td>\n",
       "      <td>NaN</td>\n",
       "      <td>NaN</td>\n",
       "      <td>NaN</td>\n",
       "      <td>NaN</td>\n",
       "      <td>NaN</td>\n",
       "      <td>NaN</td>\n",
       "      <td>NaN</td>\n",
       "      <td>NaN</td>\n",
       "    </tr>\n",
       "    <tr>\n",
       "      <th>4</th>\n",
       "      <td>Configure</td>\n",
       "      <td>CI-10217120</td>\n",
       "      <td>394663</td>\n",
       "      <td>370941</td>\n",
       "      <td>Individual Task</td>\n",
       "      <td>Done</td>\n",
       "      <td>CI</td>\n",
       "      <td>codebusters</td>\n",
       "      <td>software</td>\n",
       "      <td>rohkamm</td>\n",
       "      <td>...</td>\n",
       "      <td>NaN</td>\n",
       "      <td>NaN</td>\n",
       "      <td>NaN</td>\n",
       "      <td>NaN</td>\n",
       "      <td>NaN</td>\n",
       "      <td>NaN</td>\n",
       "      <td>NaN</td>\n",
       "      <td>NaN</td>\n",
       "      <td>NaN</td>\n",
       "      <td>NaN</td>\n",
       "    </tr>\n",
       "    <tr>\n",
       "      <th>...</th>\n",
       "      <td>...</td>\n",
       "      <td>...</td>\n",
       "      <td>...</td>\n",
       "      <td>...</td>\n",
       "      <td>...</td>\n",
       "      <td>...</td>\n",
       "      <td>...</td>\n",
       "      <td>...</td>\n",
       "      <td>...</td>\n",
       "      <td>...</td>\n",
       "      <td>...</td>\n",
       "      <td>...</td>\n",
       "      <td>...</td>\n",
       "      <td>...</td>\n",
       "      <td>...</td>\n",
       "      <td>...</td>\n",
       "      <td>...</td>\n",
       "      <td>...</td>\n",
       "      <td>...</td>\n",
       "      <td>...</td>\n",
       "      <td>...</td>\n",
       "    </tr>\n",
       "    <tr>\n",
       "      <th>860</th>\n",
       "      <td>Explain</td>\n",
       "      <td>CI-10237898</td>\n",
       "      <td>465501</td>\n",
       "      <td>465496</td>\n",
       "      <td>Individual Task</td>\n",
       "      <td>Done</td>\n",
       "      <td>CI</td>\n",
       "      <td>codebusters</td>\n",
       "      <td>software</td>\n",
       "      <td>rohkamm</td>\n",
       "      <td>...</td>\n",
       "      <td>NaN</td>\n",
       "      <td>NaN</td>\n",
       "      <td>NaN</td>\n",
       "      <td>NaN</td>\n",
       "      <td>NaN</td>\n",
       "      <td>NaN</td>\n",
       "      <td>NaN</td>\n",
       "      <td>NaN</td>\n",
       "      <td>NaN</td>\n",
       "      <td>NaN</td>\n",
       "    </tr>\n",
       "    <tr>\n",
       "      <th>861</th>\n",
       "      <td>Review</td>\n",
       "      <td>CI-10237897</td>\n",
       "      <td>465500</td>\n",
       "      <td>465499</td>\n",
       "      <td>Individual Task</td>\n",
       "      <td>Done</td>\n",
       "      <td>CI</td>\n",
       "      <td>codebusters</td>\n",
       "      <td>software</td>\n",
       "      <td>rohkamm</td>\n",
       "      <td>...</td>\n",
       "      <td>NaN</td>\n",
       "      <td>NaN</td>\n",
       "      <td>NaN</td>\n",
       "      <td>NaN</td>\n",
       "      <td>NaN</td>\n",
       "      <td>NaN</td>\n",
       "      <td>NaN</td>\n",
       "      <td>NaN</td>\n",
       "      <td>NaN</td>\n",
       "      <td>NaN</td>\n",
       "    </tr>\n",
       "    <tr>\n",
       "      <th>862</th>\n",
       "      <td>Review</td>\n",
       "      <td>CI-10237896</td>\n",
       "      <td>465497</td>\n",
       "      <td>465496</td>\n",
       "      <td>Individual Task</td>\n",
       "      <td>Done</td>\n",
       "      <td>CI</td>\n",
       "      <td>codebusters</td>\n",
       "      <td>software</td>\n",
       "      <td>rohkamm</td>\n",
       "      <td>...</td>\n",
       "      <td>NaN</td>\n",
       "      <td>NaN</td>\n",
       "      <td>NaN</td>\n",
       "      <td>NaN</td>\n",
       "      <td>NaN</td>\n",
       "      <td>NaN</td>\n",
       "      <td>NaN</td>\n",
       "      <td>NaN</td>\n",
       "      <td>NaN</td>\n",
       "      <td>NaN</td>\n",
       "    </tr>\n",
       "    <tr>\n",
       "      <th>863</th>\n",
       "      <td>Review</td>\n",
       "      <td>CI-10237895</td>\n",
       "      <td>465494</td>\n",
       "      <td>465493</td>\n",
       "      <td>Individual Task</td>\n",
       "      <td>Done</td>\n",
       "      <td>CI</td>\n",
       "      <td>codebusters</td>\n",
       "      <td>software</td>\n",
       "      <td>rohkamm</td>\n",
       "      <td>...</td>\n",
       "      <td>NaN</td>\n",
       "      <td>NaN</td>\n",
       "      <td>NaN</td>\n",
       "      <td>NaN</td>\n",
       "      <td>NaN</td>\n",
       "      <td>NaN</td>\n",
       "      <td>NaN</td>\n",
       "      <td>NaN</td>\n",
       "      <td>NaN</td>\n",
       "      <td>NaN</td>\n",
       "    </tr>\n",
       "    <tr>\n",
       "      <th>864</th>\n",
       "      <td>Review</td>\n",
       "      <td>CI-10237894</td>\n",
       "      <td>465492</td>\n",
       "      <td>465491</td>\n",
       "      <td>Individual Task</td>\n",
       "      <td>Done</td>\n",
       "      <td>CI</td>\n",
       "      <td>codebusters</td>\n",
       "      <td>software</td>\n",
       "      <td>rohkamm</td>\n",
       "      <td>...</td>\n",
       "      <td>NaN</td>\n",
       "      <td>NaN</td>\n",
       "      <td>NaN</td>\n",
       "      <td>NaN</td>\n",
       "      <td>NaN</td>\n",
       "      <td>NaN</td>\n",
       "      <td>NaN</td>\n",
       "      <td>NaN</td>\n",
       "      <td>NaN</td>\n",
       "      <td>NaN</td>\n",
       "    </tr>\n",
       "  </tbody>\n",
       "</table>\n",
       "<p>14072 rows × 315 columns</p>\n",
       "</div>"
      ],
      "text/plain": [
       "                  Summary    Issue key  Issue id  Parent id       Issue Type  \\\n",
       "0    Import in Production  CI-10217127    394675     373630  Individual Task   \n",
       "1             Communicate  CI-10217126    394671     389490  Individual Task   \n",
       "2             Communicate  CI-10217125    394670     393625  Individual Task   \n",
       "3               Configure  CI-10217121    394664     389982  Individual Task   \n",
       "4               Configure  CI-10217120    394663     370941  Individual Task   \n",
       "..                    ...          ...       ...        ...              ...   \n",
       "860               Explain  CI-10237898    465501     465496  Individual Task   \n",
       "861                Review  CI-10237897    465500     465499  Individual Task   \n",
       "862                Review  CI-10237896    465497     465496  Individual Task   \n",
       "863                Review  CI-10237895    465494     465493  Individual Task   \n",
       "864                Review  CI-10237894    465492     465491  Individual Task   \n",
       "\n",
       "    Status Project key Project name Project type Project lead  ...  \\\n",
       "0     Done          CI  codebusters     software      rohkamm  ...   \n",
       "1     Done          CI  codebusters     software      rohkamm  ...   \n",
       "2     Done          CI  codebusters     software      rohkamm  ...   \n",
       "3     Done          CI  codebusters     software      rohkamm  ...   \n",
       "4     Done          CI  codebusters     software      rohkamm  ...   \n",
       "..     ...         ...          ...          ...          ...  ...   \n",
       "860   Done          CI  codebusters     software      rohkamm  ...   \n",
       "861   Done          CI  codebusters     software      rohkamm  ...   \n",
       "862   Done          CI  codebusters     software      rohkamm  ...   \n",
       "863   Done          CI  codebusters     software      rohkamm  ...   \n",
       "864   Done          CI  codebusters     software      rohkamm  ...   \n",
       "\n",
       "     Custom field (arctic QA Findings)  \\\n",
       "0                                  NaN   \n",
       "1                                  NaN   \n",
       "2                                  NaN   \n",
       "3                                  NaN   \n",
       "4                                  NaN   \n",
       "..                                 ...   \n",
       "860                                NaN   \n",
       "861                                NaN   \n",
       "862                                NaN   \n",
       "863                                NaN   \n",
       "864                                NaN   \n",
       "\n",
       "     Custom field (cytric Stability Findings) Comment Comment.1 Component/s  \\\n",
       "0                                         NaN     NaN       NaN         NaN   \n",
       "1                                         NaN     NaN       NaN         NaN   \n",
       "2                                         NaN     NaN       NaN         NaN   \n",
       "3                                         NaN     NaN       NaN         NaN   \n",
       "4                                         NaN     NaN       NaN         NaN   \n",
       "..                                        ...     ...       ...         ...   \n",
       "860                                       NaN     NaN       NaN         NaN   \n",
       "861                                       NaN     NaN       NaN         NaN   \n",
       "862                                       NaN     NaN       NaN         NaN   \n",
       "863                                       NaN     NaN       NaN         NaN   \n",
       "864                                       NaN     NaN       NaN         NaN   \n",
       "\n",
       "    Custom field (Customer/s) Sprint.35 Sprint.36  \\\n",
       "0                         NaN       NaN       NaN   \n",
       "1                         NaN       NaN       NaN   \n",
       "2                         NaN       NaN       NaN   \n",
       "3                         NaN       NaN       NaN   \n",
       "4                         NaN       NaN       NaN   \n",
       "..                        ...       ...       ...   \n",
       "860                       NaN       NaN       NaN   \n",
       "861                       NaN       NaN       NaN   \n",
       "862                       NaN       NaN       NaN   \n",
       "863                       NaN       NaN       NaN   \n",
       "864                       NaN       NaN       NaN   \n",
       "\n",
       "    Custom field (Priority Index) Custom field (Remaining Story Points)  \n",
       "0                             NaN                                   NaN  \n",
       "1                             NaN                                   NaN  \n",
       "2                             NaN                                   NaN  \n",
       "3                             NaN                                   NaN  \n",
       "4                             NaN                                   NaN  \n",
       "..                            ...                                   ...  \n",
       "860                           NaN                                   NaN  \n",
       "861                           NaN                                   NaN  \n",
       "862                           NaN                                   NaN  \n",
       "863                           NaN                                   NaN  \n",
       "864                           NaN                                   NaN  \n",
       "\n",
       "[14072 rows x 315 columns]"
      ]
     },
     "execution_count": 9,
     "metadata": {},
     "output_type": "execute_result"
    }
   ],
   "source": [
    "individual_part_1 = pd.read_csv('../../DataSets/KPIs/IndividualTasks/from20220101_till_2022_05_31.csv')\n",
    "individual_part_2 = pd.read_csv('../../DataSets/KPIs/IndividualTasks/from_20220601_till_20220831.csv')\n",
    "individual_part_3 = pd.read_csv('../../DataSets/KPIs/IndividualTasks/from_20220901_till_20221231.csv')\n",
    "individual_part_4 = pd.read_csv('../../DataSets/KPIs/IndividualTasks/from20230101_till_20230310.csv')\n",
    "individual_part_5 = pd.read_csv('../../DataSets/KPIs/IndividualTasks/from20230311_till_20230417.csv')\n",
    "individual_part_5 = pd.read_csv('../../DataSets/KPIs/IndividualTasks/from20230418_till_20230511.csv')\n",
    "\n",
    "\n",
    "all_individual_tasks_combined = pd.concat([individual_part_1, individual_part_2, individual_part_3, individual_part_4, individual_part_5], axis=0)\n",
    "all_individual_tasks_combined"
   ]
  },
  {
   "cell_type": "markdown",
   "id": "e585db71",
   "metadata": {},
   "source": [
    "### Reset indexex of a combined dataset </br>\n",
    "Indexes of a new dataset are not appropriate, we need to apply `reset_index` method in order to match them with the number of rows"
   ]
  },
  {
   "cell_type": "code",
   "execution_count": 12,
   "id": "0709ca4c",
   "metadata": {
    "scrolled": true
   },
   "outputs": [
    {
     "name": "stderr",
     "output_type": "stream",
     "text": [
      "C:\\Users\\gmalarski\\AppData\\Local\\Temp\\ipykernel_12368\\4115877976.py:1: PerformanceWarning: DataFrame is highly fragmented.  This is usually the result of calling `frame.insert` many times, which has poor performance.  Consider joining all columns at once using pd.concat(axis=1) instead. To get a de-fragmented frame, use `newframe = frame.copy()`\n",
      "  all_individual_tasks_combined.reset_index(inplace=True)\n"
     ]
    },
    {
     "data": {
      "text/html": [
       "<div>\n",
       "<style scoped>\n",
       "    .dataframe tbody tr th:only-of-type {\n",
       "        vertical-align: middle;\n",
       "    }\n",
       "\n",
       "    .dataframe tbody tr th {\n",
       "        vertical-align: top;\n",
       "    }\n",
       "\n",
       "    .dataframe thead th {\n",
       "        text-align: right;\n",
       "    }\n",
       "</style>\n",
       "<table border=\"1\" class=\"dataframe\">\n",
       "  <thead>\n",
       "    <tr style=\"text-align: right;\">\n",
       "      <th></th>\n",
       "      <th>level_0</th>\n",
       "      <th>index</th>\n",
       "      <th>Summary</th>\n",
       "      <th>Issue key</th>\n",
       "      <th>Issue id</th>\n",
       "      <th>Parent id</th>\n",
       "      <th>Issue Type</th>\n",
       "      <th>Status</th>\n",
       "      <th>Project key</th>\n",
       "      <th>Project name</th>\n",
       "      <th>...</th>\n",
       "      <th>Custom field (arctic QA Findings)</th>\n",
       "      <th>Custom field (cytric Stability Findings)</th>\n",
       "      <th>Comment</th>\n",
       "      <th>Comment.1</th>\n",
       "      <th>Component/s</th>\n",
       "      <th>Custom field (Customer/s)</th>\n",
       "      <th>Sprint.35</th>\n",
       "      <th>Sprint.36</th>\n",
       "      <th>Custom field (Priority Index)</th>\n",
       "      <th>Custom field (Remaining Story Points)</th>\n",
       "    </tr>\n",
       "  </thead>\n",
       "  <tbody>\n",
       "    <tr>\n",
       "      <th>0</th>\n",
       "      <td>0</td>\n",
       "      <td>0</td>\n",
       "      <td>Import in Production</td>\n",
       "      <td>CI-10217127</td>\n",
       "      <td>394675</td>\n",
       "      <td>373630</td>\n",
       "      <td>Individual Task</td>\n",
       "      <td>Done</td>\n",
       "      <td>CI</td>\n",
       "      <td>codebusters</td>\n",
       "      <td>...</td>\n",
       "      <td>NaN</td>\n",
       "      <td>NaN</td>\n",
       "      <td>NaN</td>\n",
       "      <td>NaN</td>\n",
       "      <td>NaN</td>\n",
       "      <td>NaN</td>\n",
       "      <td>NaN</td>\n",
       "      <td>NaN</td>\n",
       "      <td>NaN</td>\n",
       "      <td>NaN</td>\n",
       "    </tr>\n",
       "    <tr>\n",
       "      <th>1</th>\n",
       "      <td>1</td>\n",
       "      <td>1</td>\n",
       "      <td>Communicate</td>\n",
       "      <td>CI-10217126</td>\n",
       "      <td>394671</td>\n",
       "      <td>389490</td>\n",
       "      <td>Individual Task</td>\n",
       "      <td>Done</td>\n",
       "      <td>CI</td>\n",
       "      <td>codebusters</td>\n",
       "      <td>...</td>\n",
       "      <td>NaN</td>\n",
       "      <td>NaN</td>\n",
       "      <td>NaN</td>\n",
       "      <td>NaN</td>\n",
       "      <td>NaN</td>\n",
       "      <td>NaN</td>\n",
       "      <td>NaN</td>\n",
       "      <td>NaN</td>\n",
       "      <td>NaN</td>\n",
       "      <td>NaN</td>\n",
       "    </tr>\n",
       "    <tr>\n",
       "      <th>2</th>\n",
       "      <td>2</td>\n",
       "      <td>2</td>\n",
       "      <td>Communicate</td>\n",
       "      <td>CI-10217125</td>\n",
       "      <td>394670</td>\n",
       "      <td>393625</td>\n",
       "      <td>Individual Task</td>\n",
       "      <td>Done</td>\n",
       "      <td>CI</td>\n",
       "      <td>codebusters</td>\n",
       "      <td>...</td>\n",
       "      <td>NaN</td>\n",
       "      <td>NaN</td>\n",
       "      <td>NaN</td>\n",
       "      <td>NaN</td>\n",
       "      <td>NaN</td>\n",
       "      <td>NaN</td>\n",
       "      <td>NaN</td>\n",
       "      <td>NaN</td>\n",
       "      <td>NaN</td>\n",
       "      <td>NaN</td>\n",
       "    </tr>\n",
       "    <tr>\n",
       "      <th>3</th>\n",
       "      <td>3</td>\n",
       "      <td>3</td>\n",
       "      <td>Configure</td>\n",
       "      <td>CI-10217121</td>\n",
       "      <td>394664</td>\n",
       "      <td>389982</td>\n",
       "      <td>Individual Task</td>\n",
       "      <td>Done</td>\n",
       "      <td>CI</td>\n",
       "      <td>codebusters</td>\n",
       "      <td>...</td>\n",
       "      <td>NaN</td>\n",
       "      <td>NaN</td>\n",
       "      <td>NaN</td>\n",
       "      <td>NaN</td>\n",
       "      <td>NaN</td>\n",
       "      <td>NaN</td>\n",
       "      <td>NaN</td>\n",
       "      <td>NaN</td>\n",
       "      <td>NaN</td>\n",
       "      <td>NaN</td>\n",
       "    </tr>\n",
       "    <tr>\n",
       "      <th>4</th>\n",
       "      <td>4</td>\n",
       "      <td>4</td>\n",
       "      <td>Configure</td>\n",
       "      <td>CI-10217120</td>\n",
       "      <td>394663</td>\n",
       "      <td>370941</td>\n",
       "      <td>Individual Task</td>\n",
       "      <td>Done</td>\n",
       "      <td>CI</td>\n",
       "      <td>codebusters</td>\n",
       "      <td>...</td>\n",
       "      <td>NaN</td>\n",
       "      <td>NaN</td>\n",
       "      <td>NaN</td>\n",
       "      <td>NaN</td>\n",
       "      <td>NaN</td>\n",
       "      <td>NaN</td>\n",
       "      <td>NaN</td>\n",
       "      <td>NaN</td>\n",
       "      <td>NaN</td>\n",
       "      <td>NaN</td>\n",
       "    </tr>\n",
       "    <tr>\n",
       "      <th>...</th>\n",
       "      <td>...</td>\n",
       "      <td>...</td>\n",
       "      <td>...</td>\n",
       "      <td>...</td>\n",
       "      <td>...</td>\n",
       "      <td>...</td>\n",
       "      <td>...</td>\n",
       "      <td>...</td>\n",
       "      <td>...</td>\n",
       "      <td>...</td>\n",
       "      <td>...</td>\n",
       "      <td>...</td>\n",
       "      <td>...</td>\n",
       "      <td>...</td>\n",
       "      <td>...</td>\n",
       "      <td>...</td>\n",
       "      <td>...</td>\n",
       "      <td>...</td>\n",
       "      <td>...</td>\n",
       "      <td>...</td>\n",
       "      <td>...</td>\n",
       "    </tr>\n",
       "    <tr>\n",
       "      <th>14067</th>\n",
       "      <td>14067</td>\n",
       "      <td>860</td>\n",
       "      <td>Explain</td>\n",
       "      <td>CI-10237898</td>\n",
       "      <td>465501</td>\n",
       "      <td>465496</td>\n",
       "      <td>Individual Task</td>\n",
       "      <td>Done</td>\n",
       "      <td>CI</td>\n",
       "      <td>codebusters</td>\n",
       "      <td>...</td>\n",
       "      <td>NaN</td>\n",
       "      <td>NaN</td>\n",
       "      <td>NaN</td>\n",
       "      <td>NaN</td>\n",
       "      <td>NaN</td>\n",
       "      <td>NaN</td>\n",
       "      <td>NaN</td>\n",
       "      <td>NaN</td>\n",
       "      <td>NaN</td>\n",
       "      <td>NaN</td>\n",
       "    </tr>\n",
       "    <tr>\n",
       "      <th>14068</th>\n",
       "      <td>14068</td>\n",
       "      <td>861</td>\n",
       "      <td>Review</td>\n",
       "      <td>CI-10237897</td>\n",
       "      <td>465500</td>\n",
       "      <td>465499</td>\n",
       "      <td>Individual Task</td>\n",
       "      <td>Done</td>\n",
       "      <td>CI</td>\n",
       "      <td>codebusters</td>\n",
       "      <td>...</td>\n",
       "      <td>NaN</td>\n",
       "      <td>NaN</td>\n",
       "      <td>NaN</td>\n",
       "      <td>NaN</td>\n",
       "      <td>NaN</td>\n",
       "      <td>NaN</td>\n",
       "      <td>NaN</td>\n",
       "      <td>NaN</td>\n",
       "      <td>NaN</td>\n",
       "      <td>NaN</td>\n",
       "    </tr>\n",
       "    <tr>\n",
       "      <th>14069</th>\n",
       "      <td>14069</td>\n",
       "      <td>862</td>\n",
       "      <td>Review</td>\n",
       "      <td>CI-10237896</td>\n",
       "      <td>465497</td>\n",
       "      <td>465496</td>\n",
       "      <td>Individual Task</td>\n",
       "      <td>Done</td>\n",
       "      <td>CI</td>\n",
       "      <td>codebusters</td>\n",
       "      <td>...</td>\n",
       "      <td>NaN</td>\n",
       "      <td>NaN</td>\n",
       "      <td>NaN</td>\n",
       "      <td>NaN</td>\n",
       "      <td>NaN</td>\n",
       "      <td>NaN</td>\n",
       "      <td>NaN</td>\n",
       "      <td>NaN</td>\n",
       "      <td>NaN</td>\n",
       "      <td>NaN</td>\n",
       "    </tr>\n",
       "    <tr>\n",
       "      <th>14070</th>\n",
       "      <td>14070</td>\n",
       "      <td>863</td>\n",
       "      <td>Review</td>\n",
       "      <td>CI-10237895</td>\n",
       "      <td>465494</td>\n",
       "      <td>465493</td>\n",
       "      <td>Individual Task</td>\n",
       "      <td>Done</td>\n",
       "      <td>CI</td>\n",
       "      <td>codebusters</td>\n",
       "      <td>...</td>\n",
       "      <td>NaN</td>\n",
       "      <td>NaN</td>\n",
       "      <td>NaN</td>\n",
       "      <td>NaN</td>\n",
       "      <td>NaN</td>\n",
       "      <td>NaN</td>\n",
       "      <td>NaN</td>\n",
       "      <td>NaN</td>\n",
       "      <td>NaN</td>\n",
       "      <td>NaN</td>\n",
       "    </tr>\n",
       "    <tr>\n",
       "      <th>14071</th>\n",
       "      <td>14071</td>\n",
       "      <td>864</td>\n",
       "      <td>Review</td>\n",
       "      <td>CI-10237894</td>\n",
       "      <td>465492</td>\n",
       "      <td>465491</td>\n",
       "      <td>Individual Task</td>\n",
       "      <td>Done</td>\n",
       "      <td>CI</td>\n",
       "      <td>codebusters</td>\n",
       "      <td>...</td>\n",
       "      <td>NaN</td>\n",
       "      <td>NaN</td>\n",
       "      <td>NaN</td>\n",
       "      <td>NaN</td>\n",
       "      <td>NaN</td>\n",
       "      <td>NaN</td>\n",
       "      <td>NaN</td>\n",
       "      <td>NaN</td>\n",
       "      <td>NaN</td>\n",
       "      <td>NaN</td>\n",
       "    </tr>\n",
       "  </tbody>\n",
       "</table>\n",
       "<p>14072 rows × 317 columns</p>\n",
       "</div>"
      ],
      "text/plain": [
       "       level_0  index               Summary    Issue key  Issue id  Parent id  \\\n",
       "0            0      0  Import in Production  CI-10217127    394675     373630   \n",
       "1            1      1           Communicate  CI-10217126    394671     389490   \n",
       "2            2      2           Communicate  CI-10217125    394670     393625   \n",
       "3            3      3             Configure  CI-10217121    394664     389982   \n",
       "4            4      4             Configure  CI-10217120    394663     370941   \n",
       "...        ...    ...                   ...          ...       ...        ...   \n",
       "14067    14067    860               Explain  CI-10237898    465501     465496   \n",
       "14068    14068    861                Review  CI-10237897    465500     465499   \n",
       "14069    14069    862                Review  CI-10237896    465497     465496   \n",
       "14070    14070    863                Review  CI-10237895    465494     465493   \n",
       "14071    14071    864                Review  CI-10237894    465492     465491   \n",
       "\n",
       "            Issue Type Status Project key Project name  ...  \\\n",
       "0      Individual Task   Done          CI  codebusters  ...   \n",
       "1      Individual Task   Done          CI  codebusters  ...   \n",
       "2      Individual Task   Done          CI  codebusters  ...   \n",
       "3      Individual Task   Done          CI  codebusters  ...   \n",
       "4      Individual Task   Done          CI  codebusters  ...   \n",
       "...                ...    ...         ...          ...  ...   \n",
       "14067  Individual Task   Done          CI  codebusters  ...   \n",
       "14068  Individual Task   Done          CI  codebusters  ...   \n",
       "14069  Individual Task   Done          CI  codebusters  ...   \n",
       "14070  Individual Task   Done          CI  codebusters  ...   \n",
       "14071  Individual Task   Done          CI  codebusters  ...   \n",
       "\n",
       "      Custom field (arctic QA Findings)  \\\n",
       "0                                   NaN   \n",
       "1                                   NaN   \n",
       "2                                   NaN   \n",
       "3                                   NaN   \n",
       "4                                   NaN   \n",
       "...                                 ...   \n",
       "14067                               NaN   \n",
       "14068                               NaN   \n",
       "14069                               NaN   \n",
       "14070                               NaN   \n",
       "14071                               NaN   \n",
       "\n",
       "      Custom field (cytric Stability Findings)  Comment  Comment.1  \\\n",
       "0                                          NaN      NaN        NaN   \n",
       "1                                          NaN      NaN        NaN   \n",
       "2                                          NaN      NaN        NaN   \n",
       "3                                          NaN      NaN        NaN   \n",
       "4                                          NaN      NaN        NaN   \n",
       "...                                        ...      ...        ...   \n",
       "14067                                      NaN      NaN        NaN   \n",
       "14068                                      NaN      NaN        NaN   \n",
       "14069                                      NaN      NaN        NaN   \n",
       "14070                                      NaN      NaN        NaN   \n",
       "14071                                      NaN      NaN        NaN   \n",
       "\n",
       "      Component/s Custom field (Customer/s) Sprint.35 Sprint.36  \\\n",
       "0             NaN                       NaN       NaN       NaN   \n",
       "1             NaN                       NaN       NaN       NaN   \n",
       "2             NaN                       NaN       NaN       NaN   \n",
       "3             NaN                       NaN       NaN       NaN   \n",
       "4             NaN                       NaN       NaN       NaN   \n",
       "...           ...                       ...       ...       ...   \n",
       "14067         NaN                       NaN       NaN       NaN   \n",
       "14068         NaN                       NaN       NaN       NaN   \n",
       "14069         NaN                       NaN       NaN       NaN   \n",
       "14070         NaN                       NaN       NaN       NaN   \n",
       "14071         NaN                       NaN       NaN       NaN   \n",
       "\n",
       "      Custom field (Priority Index) Custom field (Remaining Story Points)  \n",
       "0                               NaN                                   NaN  \n",
       "1                               NaN                                   NaN  \n",
       "2                               NaN                                   NaN  \n",
       "3                               NaN                                   NaN  \n",
       "4                               NaN                                   NaN  \n",
       "...                             ...                                   ...  \n",
       "14067                           NaN                                   NaN  \n",
       "14068                           NaN                                   NaN  \n",
       "14069                           NaN                                   NaN  \n",
       "14070                           NaN                                   NaN  \n",
       "14071                           NaN                                   NaN  \n",
       "\n",
       "[14072 rows x 317 columns]"
      ]
     },
     "execution_count": 12,
     "metadata": {},
     "output_type": "execute_result"
    }
   ],
   "source": [
    "all_individual_tasks_combined.reset_index(inplace=True)\n",
    "all_individual_tasks_combined"
   ]
  },
  {
   "cell_type": "markdown",
   "id": "d632c724",
   "metadata": {},
   "source": [
    "### Filter columns and select only the ones needed for further calculations"
   ]
  },
  {
   "cell_type": "code",
   "execution_count": 14,
   "id": "586e5751",
   "metadata": {
    "scrolled": false
   },
   "outputs": [],
   "source": [
    "all_individual_tasks_2022 = all_individual_tasks_combined[['Summary','Issue id', 'Parent id', 'Created', 'Resolved']]"
   ]
  },
  {
   "cell_type": "markdown",
   "id": "17fdf3d4",
   "metadata": {},
   "source": [
    "Drop columns with missing values"
   ]
  },
  {
   "cell_type": "code",
   "execution_count": null,
   "id": "2748d038",
   "metadata": {
    "scrolled": false
   },
   "outputs": [],
   "source": [
    "# all_individual_tasks_2022.dropna(inplace=True)"
   ]
  },
  {
   "cell_type": "markdown",
   "id": "8c8b04ad",
   "metadata": {},
   "source": [
    "### Convert date like columns to `datetime` object"
   ]
  },
  {
   "cell_type": "code",
   "execution_count": 15,
   "id": "65dcc49e",
   "metadata": {
    "scrolled": true
   },
   "outputs": [
    {
     "name": "stderr",
     "output_type": "stream",
     "text": [
      "C:\\Users\\gmalarski\\AppData\\Local\\Temp\\ipykernel_12368\\1196317782.py:1: SettingWithCopyWarning: \n",
      "A value is trying to be set on a copy of a slice from a DataFrame.\n",
      "Try using .loc[row_indexer,col_indexer] = value instead\n",
      "\n",
      "See the caveats in the documentation: https://pandas.pydata.org/pandas-docs/stable/user_guide/indexing.html#returning-a-view-versus-a-copy\n",
      "  all_individual_tasks_2022[\"Created\"] = pd.to_datetime(all_individual_tasks_2022[\"Created\"])\n"
     ]
    },
    {
     "name": "stdout",
     "output_type": "stream",
     "text": [
      "<class 'pandas.core.frame.DataFrame'>\n",
      "RangeIndex: 14072 entries, 0 to 14071\n",
      "Data columns (total 5 columns):\n",
      " #   Column     Non-Null Count  Dtype         \n",
      "---  ------     --------------  -----         \n",
      " 0   Summary    14072 non-null  object        \n",
      " 1   Issue id   14072 non-null  int64         \n",
      " 2   Parent id  14072 non-null  int64         \n",
      " 3   Created    14072 non-null  datetime64[ns]\n",
      " 4   Resolved   13635 non-null  datetime64[ns]\n",
      "dtypes: datetime64[ns](2), int64(2), object(1)\n",
      "memory usage: 549.8+ KB\n"
     ]
    },
    {
     "name": "stderr",
     "output_type": "stream",
     "text": [
      "C:\\Users\\gmalarski\\AppData\\Local\\Temp\\ipykernel_12368\\1196317782.py:2: SettingWithCopyWarning: \n",
      "A value is trying to be set on a copy of a slice from a DataFrame.\n",
      "Try using .loc[row_indexer,col_indexer] = value instead\n",
      "\n",
      "See the caveats in the documentation: https://pandas.pydata.org/pandas-docs/stable/user_guide/indexing.html#returning-a-view-versus-a-copy\n",
      "  all_individual_tasks_2022[\"Resolved\"] = pd.to_datetime(all_individual_tasks_2022[\"Resolved\"])\n"
     ]
    }
   ],
   "source": [
    "all_individual_tasks_2022[\"Created\"] = pd.to_datetime(all_individual_tasks_2022[\"Created\"])\n",
    "all_individual_tasks_2022[\"Resolved\"] = pd.to_datetime(all_individual_tasks_2022[\"Resolved\"])\n",
    "all_individual_tasks_2022.info()"
   ]
  },
  {
   "cell_type": "code",
   "execution_count": 16,
   "id": "4f872fd4",
   "metadata": {
    "scrolled": true
   },
   "outputs": [
    {
     "data": {
      "text/plain": [
       "Configure                         2501\n",
       "Review                            2496\n",
       "Verify                            2191\n",
       "Communicate                       2009\n",
       "Import to Test System             1822\n",
       "Import in Production              1688\n",
       "Import to Customer Test System     629\n",
       "Explain                            333\n",
       "Import to Staging System           161\n",
       "Clarify                            158\n",
       "Do                                  73\n",
       "Michał Training                      2\n",
       "Marcin Training                      2\n",
       "Maciej Training                      2\n",
       "Training - Marcin                    1\n",
       "Training - Maciej                    1\n",
       "Import to Test/Staging               1\n",
       "Bartosz Training                     1\n",
       "CLONE - Review                       1\n",
       "Name: Summary, dtype: int64"
      ]
     },
     "execution_count": 16,
     "metadata": {},
     "output_type": "execute_result"
    }
   ],
   "source": [
    "all_individual_tasks_2022['Summary'].value_counts()"
   ]
  },
  {
   "cell_type": "markdown",
   "id": "7bf23a92",
   "metadata": {},
   "source": [
    "### Check if there are any `null` values"
   ]
  },
  {
   "cell_type": "code",
   "execution_count": 17,
   "id": "c2b6ff6e",
   "metadata": {
    "scrolled": false
   },
   "outputs": [
    {
     "data": {
      "text/plain": [
       "Summary        0\n",
       "Issue id       0\n",
       "Parent id      0\n",
       "Created        0\n",
       "Resolved     437\n",
       "dtype: int64"
      ]
     },
     "execution_count": 17,
     "metadata": {},
     "output_type": "execute_result"
    }
   ],
   "source": [
    "all_individual_tasks_2022.isnull().sum()"
   ]
  },
  {
   "cell_type": "code",
   "execution_count": 22,
   "id": "f5378510",
   "metadata": {
    "scrolled": true
   },
   "outputs": [
    {
     "name": "stderr",
     "output_type": "stream",
     "text": [
      "C:\\Users\\gmalarski\\AppData\\Local\\Temp\\ipykernel_12368\\3476594673.py:1: SettingWithCopyWarning: \n",
      "A value is trying to be set on a copy of a slice from a DataFrame\n",
      "\n",
      "See the caveats in the documentation: https://pandas.pydata.org/pandas-docs/stable/user_guide/indexing.html#returning-a-view-versus-a-copy\n",
      "  all_individual_tasks_2022['Resolved'].dropna(inplace=True)\n"
     ]
    },
    {
     "data": {
      "text/plain": [
       "Summary        0\n",
       "Issue id       0\n",
       "Parent id      0\n",
       "Created        0\n",
       "Resolved     437\n",
       "time_in      437\n",
       "dtype: int64"
      ]
     },
     "execution_count": 22,
     "metadata": {},
     "output_type": "execute_result"
    }
   ],
   "source": [
    "all_individual_tasks_2022['Resolved'].dropna(inplace=True)\n",
    "all_individual_tasks_2022.isnull().sum()"
   ]
  },
  {
   "cell_type": "markdown",
   "id": "8df05d53",
   "metadata": {},
   "source": [
    "**Summary:**\n",
    "- there are `437` rows with null value in `resolved` column, but we will match on"
   ]
  },
  {
   "cell_type": "markdown",
   "id": "572ff98c",
   "metadata": {},
   "source": [
    "## Daterminate how long each ticket was in particular individual task"
   ]
  },
  {
   "cell_type": "markdown",
   "id": "77b72bd3",
   "metadata": {},
   "source": [
    "- calculate time for eacch subtask\n",
    "- calculate how long the ticket was in review, configure, verify, import.., communicate steps\n",
    "- calcualte the total eg. sum all time spend in verify for one ticket\n"
   ]
  },
  {
   "cell_type": "markdown",
   "id": "29057cab",
   "metadata": {},
   "source": [
    "### Calculate time spent for each of the subtask"
   ]
  },
  {
   "cell_type": "code",
   "execution_count": 19,
   "id": "ebfd1d20",
   "metadata": {
    "scrolled": true
   },
   "outputs": [
    {
     "name": "stderr",
     "output_type": "stream",
     "text": [
      "C:\\Users\\gmalarski\\AppData\\Local\\Temp\\ipykernel_12368\\218195536.py:2: SettingWithCopyWarning: \n",
      "A value is trying to be set on a copy of a slice from a DataFrame.\n",
      "Try using .loc[row_indexer,col_indexer] = value instead\n",
      "\n",
      "See the caveats in the documentation: https://pandas.pydata.org/pandas-docs/stable/user_guide/indexing.html#returning-a-view-versus-a-copy\n",
      "  all_individual_tasks_2022_time_calculation[\"time_in\"] = all_individual_tasks_2022_time_calculation[\"Resolved\"] - all_individual_tasks_2022_time_calculation[\"Created\"]\n"
     ]
    }
   ],
   "source": [
    "all_individual_tasks_2022_time_calculation = all_individual_tasks_2022\n",
    "all_individual_tasks_2022_time_calculation[\"time_in\"] = all_individual_tasks_2022_time_calculation[\"Resolved\"] - all_individual_tasks_2022_time_calculation[\"Created\"]"
   ]
  },
  {
   "cell_type": "code",
   "execution_count": 20,
   "id": "fb0705b4",
   "metadata": {
    "scrolled": true
   },
   "outputs": [
    {
     "data": {
      "text/html": [
       "<div>\n",
       "<style scoped>\n",
       "    .dataframe tbody tr th:only-of-type {\n",
       "        vertical-align: middle;\n",
       "    }\n",
       "\n",
       "    .dataframe tbody tr th {\n",
       "        vertical-align: top;\n",
       "    }\n",
       "\n",
       "    .dataframe thead th {\n",
       "        text-align: right;\n",
       "    }\n",
       "</style>\n",
       "<table border=\"1\" class=\"dataframe\">\n",
       "  <thead>\n",
       "    <tr style=\"text-align: right;\">\n",
       "      <th></th>\n",
       "      <th>Summary</th>\n",
       "      <th>Issue id</th>\n",
       "      <th>Parent id</th>\n",
       "      <th>Created</th>\n",
       "      <th>Resolved</th>\n",
       "      <th>time_in</th>\n",
       "    </tr>\n",
       "  </thead>\n",
       "  <tbody>\n",
       "    <tr>\n",
       "      <th>7276</th>\n",
       "      <td>Review</td>\n",
       "      <td>438383</td>\n",
       "      <td>438382</td>\n",
       "      <td>2022-12-29 14:47:00</td>\n",
       "      <td>2023-01-04 11:44:00</td>\n",
       "      <td>5 days 20:57:00</td>\n",
       "    </tr>\n",
       "    <tr>\n",
       "      <th>13089</th>\n",
       "      <td>Import in Production</td>\n",
       "      <td>439047</td>\n",
       "      <td>438382</td>\n",
       "      <td>2023-01-04 11:44:00</td>\n",
       "      <td>NaT</td>\n",
       "      <td>NaT</td>\n",
       "    </tr>\n",
       "    <tr>\n",
       "      <th>13090</th>\n",
       "      <td>Configure</td>\n",
       "      <td>439046</td>\n",
       "      <td>438382</td>\n",
       "      <td>2023-01-04 11:44:00</td>\n",
       "      <td>2023-01-04 11:44:00</td>\n",
       "      <td>0 days 00:00:00</td>\n",
       "    </tr>\n",
       "  </tbody>\n",
       "</table>\n",
       "</div>"
      ],
      "text/plain": [
       "                    Summary  Issue id  Parent id             Created  \\\n",
       "7276                 Review    438383     438382 2022-12-29 14:47:00   \n",
       "13089  Import in Production    439047     438382 2023-01-04 11:44:00   \n",
       "13090             Configure    439046     438382 2023-01-04 11:44:00   \n",
       "\n",
       "                 Resolved         time_in  \n",
       "7276  2023-01-04 11:44:00 5 days 20:57:00  \n",
       "13089                 NaT             NaT  \n",
       "13090 2023-01-04 11:44:00 0 days 00:00:00  "
      ]
     },
     "execution_count": 20,
     "metadata": {},
     "output_type": "execute_result"
    }
   ],
   "source": [
    "all_individual_tasks_2022_time_calculation.loc[all_individual_tasks_2022_time_calculation[\"Parent id\"] == 438382]"
   ]
  },
  {
   "cell_type": "code",
   "execution_count": null,
   "id": "9bf51c0a",
   "metadata": {
    "scrolled": true
   },
   "outputs": [],
   "source": [
    "all_individual_tasks_2022_time_calculation[\"Summary\"].value_counts()"
   ]
  },
  {
   "cell_type": "markdown",
   "id": "2128b111",
   "metadata": {},
   "source": [
    "### Calculate time ticket was in review step"
   ]
  },
  {
   "cell_type": "code",
   "execution_count": null,
   "id": "b6191047",
   "metadata": {
    "scrolled": false
   },
   "outputs": [],
   "source": [
    "all_individual_tasks_reivew_time = all_individual_tasks_2022[all_individual_tasks_2022['Summary'] == 'Review']\n",
    "all_individual_tasks_reivew_time"
   ]
  },
  {
   "cell_type": "code",
   "execution_count": null,
   "id": "099a8605",
   "metadata": {},
   "outputs": [],
   "source": [
    "all_individual_tasks_reivew_time.isnull().sum()"
   ]
  },
  {
   "cell_type": "markdown",
   "id": "ed41e7b8",
   "metadata": {},
   "source": [
    "Drop rows with `null` in `resolved` columns"
   ]
  },
  {
   "cell_type": "code",
   "execution_count": null,
   "id": "28a89857",
   "metadata": {},
   "outputs": [],
   "source": [
    "all_individual_tasks_reivew_no_null = all_individual_tasks_reivew_time.dropna(subset=['Resolved'])\n",
    "all_individual_tasks_reivew_no_null.isnull().sum()"
   ]
  },
  {
   "cell_type": "markdown",
   "id": "7ff5984b",
   "metadata": {},
   "source": [
    "Group rows by `Parent id` to get all subtaks for one ticekt"
   ]
  },
  {
   "cell_type": "code",
   "execution_count": null,
   "id": "17cc4147",
   "metadata": {
    "scrolled": true
   },
   "outputs": [],
   "source": [
    "all_individual_tasks_reivew_no_null.groupby(\"Parent id\")[\"time_in\"].sum()"
   ]
  },
  {
   "cell_type": "code",
   "execution_count": null,
   "id": "03ec8fca",
   "metadata": {},
   "outputs": [],
   "source": [
    "type(all_individual_tasks_reivew_no_null)"
   ]
  },
  {
   "cell_type": "code",
   "execution_count": null,
   "id": "4260d278",
   "metadata": {},
   "outputs": [],
   "source": [
    "all_individual_tasks_reivew_no_null.rename({\"time_in\": \"time_in_review\"},axis=1, inplace=True)"
   ]
  },
  {
   "cell_type": "code",
   "execution_count": null,
   "id": "bbfc80b7",
   "metadata": {},
   "outputs": [],
   "source": [
    "all_individual_tasks_reivew_no_null[['Parent id', 'time_in_review']]"
   ]
  },
  {
   "cell_type": "code",
   "execution_count": null,
   "id": "77b3254e",
   "metadata": {
    "scrolled": true
   },
   "outputs": [],
   "source": [
    "all_tickets_with_review_time = pd.merge(all_tickets_without_null, all_individual_tasks_reivew_no_null[['Parent id', 'time_in_review']], how=\"left\",left_on = \"Issue id\",right_on = \"Parent id\")\n",
    "all_tickets_with_review_time"
   ]
  },
  {
   "cell_type": "code",
   "execution_count": null,
   "id": "d18f836a",
   "metadata": {},
   "outputs": [],
   "source": [
    "all_tickets_with_review_time.shape"
   ]
  },
  {
   "cell_type": "markdown",
   "id": "4e70c1e8",
   "metadata": {},
   "source": [
    "### Determinate time spent on codebusters"
   ]
  },
  {
   "cell_type": "markdown",
   "id": "2a8b5fb5",
   "metadata": {},
   "source": [
    "- calculate the total time ticket was in subtasks \"Configure\", \"Review\", \"mport to Test System\", \"Import in Production\", \"Import to Customer Test System\"\n",
    "- apply the results to new dataset based on `all_tickets_2022`"
   ]
  },
  {
   "cell_type": "code",
   "execution_count": null,
   "id": "673222d1",
   "metadata": {},
   "outputs": [],
   "source": [
    "all_individual_with_codebusters_time = all_individual_tasks_2022_time_calculation.loc[all_individual_tasks_2022_time_calculation[\"Summary\"].isin([\"Configure\", \"Review\", \"Import to Test System\", \"Import in Production\", \"Import to Customer Test System\", \"Import to Test\", \"Import to Staging System\"])]"
   ]
  },
  {
   "cell_type": "markdown",
   "id": "faa2ae1f",
   "metadata": {},
   "source": [
    "Summarize time for each codebusters subtask "
   ]
  },
  {
   "cell_type": "code",
   "execution_count": null,
   "id": "e36f13ef",
   "metadata": {},
   "outputs": [],
   "source": [
    "codebusters_time = all_individual_with_codebusters_time.groupby(\"Parent id\")[\"time_in\"].sum()"
   ]
  },
  {
   "cell_type": "code",
   "execution_count": null,
   "id": "72892191",
   "metadata": {},
   "outputs": [],
   "source": [
    "codebusters_time.rename({\"time_in\": \"time_on_codebusters\"},axis=1, inplace=True)"
   ]
  },
  {
   "cell_type": "code",
   "execution_count": null,
   "id": "50dd7881",
   "metadata": {
    "scrolled": true
   },
   "outputs": [],
   "source": [
    "codebusters_time"
   ]
  },
  {
   "cell_type": "code",
   "execution_count": null,
   "id": "70eb504c",
   "metadata": {},
   "outputs": [],
   "source": [
    "codebusters_time.isnull().sum()"
   ]
  },
  {
   "cell_type": "code",
   "execution_count": null,
   "id": "c2c0c524",
   "metadata": {},
   "outputs": [],
   "source": [
    "all_tickets.shape"
   ]
  },
  {
   "cell_type": "code",
   "execution_count": null,
   "id": "bd04a501",
   "metadata": {},
   "outputs": [],
   "source": [
    "all_tickets.isnull().sum()"
   ]
  },
  {
   "cell_type": "markdown",
   "id": "26137298",
   "metadata": {},
   "source": [
    "Merge total time on codebusters with all jira ticekts dataset"
   ]
  },
  {
   "cell_type": "code",
   "execution_count": null,
   "id": "a948cc92",
   "metadata": {},
   "outputs": [],
   "source": [
    "all_tickets_with_codebusters_time = pd.merge(all_tickets_without_null, codebusters_time, how=\"left\",left_on = \"Issue id\",right_on = \"Parent id\")"
   ]
  },
  {
   "cell_type": "code",
   "execution_count": null,
   "id": "77ada0d5",
   "metadata": {},
   "outputs": [],
   "source": [
    "all_tickets_with_codebusters_time"
   ]
  },
  {
   "cell_type": "code",
   "execution_count": null,
   "id": "a2d864e5",
   "metadata": {
    "scrolled": true
   },
   "outputs": [],
   "source": [
    "all_tickets_with_codebusters_time.rename({\"time_in\": \"time_on_codebusters\"},axis=1, inplace=True)\n",
    "all_tickets_with_codebusters_time"
   ]
  },
  {
   "cell_type": "code",
   "execution_count": null,
   "id": "d93f2db4",
   "metadata": {},
   "outputs": [],
   "source": [
    "all_tickets_with_codebusters_time.notnull().sum()"
   ]
  },
  {
   "cell_type": "markdown",
   "id": "13573d6a",
   "metadata": {},
   "source": [
    "### Determinate time spent outside codebusters"
   ]
  },
  {
   "cell_type": "markdown",
   "id": "dbe4a484",
   "metadata": {},
   "source": [
    "- calculate the total time ticket was in one of the subtask \"Explain\", \"Verify\", \"Clarify\", \"Communicate\", \"Import in Production\", \"Import to Customer Test System\"\n",
    "- apply the results to new dataset based on `all_tickets_2022`"
   ]
  },
  {
   "cell_type": "code",
   "execution_count": null,
   "id": "8a170dcb",
   "metadata": {},
   "outputs": [],
   "source": [
    "all_individual_with_others_time = all_individual_tasks_2022_time_calculation.loc[all_individual_tasks_2022_time_calculation[\"Summary\"].isin([\"Explain\", \"Verify\", \"Clarify\", \"Communicate\"])]"
   ]
  },
  {
   "cell_type": "code",
   "execution_count": null,
   "id": "2861ed08",
   "metadata": {
    "scrolled": true
   },
   "outputs": [],
   "source": [
    "all_individual_with_others_time"
   ]
  },
  {
   "cell_type": "markdown",
   "id": "9b93866e",
   "metadata": {},
   "source": [
    "Summarize time for each subtask outside codeubsters"
   ]
  },
  {
   "cell_type": "code",
   "execution_count": null,
   "id": "696a13ec",
   "metadata": {},
   "outputs": [],
   "source": [
    "others_time = all_individual_with_others_time.groupby(\"Parent id\")[\"time_in\"].sum()"
   ]
  },
  {
   "cell_type": "markdown",
   "id": "0e2974d7",
   "metadata": {},
   "source": [
    "Summarize time for each subtask outside codeubsters"
   ]
  },
  {
   "cell_type": "markdown",
   "id": "f5acef5f",
   "metadata": {},
   "source": [
    "Merge `all_tickets` with time outisde codebusters column"
   ]
  },
  {
   "cell_type": "code",
   "execution_count": null,
   "id": "826605ed",
   "metadata": {},
   "outputs": [],
   "source": [
    "all_tickets_with_outside_codebusters_time = pd.merge(all_tickets_without_null, others_time, how=\"left\",left_on = \"Issue id\",right_on = \"Parent id\")"
   ]
  },
  {
   "cell_type": "code",
   "execution_count": null,
   "id": "f421c417",
   "metadata": {},
   "outputs": [],
   "source": [
    "all_tickets_with_outside_codebusters_time.rename({\"time_in\": \"time_outside_codebusters\"},axis=1, inplace=True)\n",
    "all_tickets_with_outside_codebusters_time"
   ]
  },
  {
   "cell_type": "markdown",
   "id": "4e30cd51",
   "metadata": {},
   "source": [
    "### Merge all dataframes together"
   ]
  },
  {
   "cell_type": "markdown",
   "id": "4e61452e",
   "metadata": {},
   "source": [
    "Merge df containing \"review\" time with df containg \"time on codebusters\" "
   ]
  },
  {
   "cell_type": "code",
   "execution_count": null,
   "id": "1a94b3b3",
   "metadata": {
    "scrolled": true
   },
   "outputs": [],
   "source": [
    "all_tickets_with_time = pd.merge(all_tickets_with_review_time, all_tickets_with_codebusters_time[['Issue id','time_on_codebusters']],  how=\"left\",left_on = \"Issue id\",right_on = \"Issue id\")"
   ]
  },
  {
   "cell_type": "markdown",
   "id": "dd380b4a",
   "metadata": {},
   "source": [
    "Merge df containing \"review\" and \"time on codebusters\" time with df containg \"time outside codebusters\" "
   ]
  },
  {
   "cell_type": "code",
   "execution_count": null,
   "id": "503080f2",
   "metadata": {
    "scrolled": true
   },
   "outputs": [],
   "source": [
    "all_tickets_with_time = pd.merge(all_tickets_with_time, all_tickets_with_outside_codebusters_time[['Issue id','time_outside_codebusters']],  how=\"left\",left_on = \"Issue id\",right_on = \"Issue id\")"
   ]
  },
  {
   "cell_type": "code",
   "execution_count": null,
   "id": "7dc16b88",
   "metadata": {},
   "outputs": [],
   "source": [
    "all_tickets_with_time"
   ]
  },
  {
   "cell_type": "markdown",
   "id": "630805f8",
   "metadata": {},
   "source": [
    "### Convert `time in..` columns to minutes"
   ]
  },
  {
   "cell_type": "markdown",
   "id": "1499fa3a",
   "metadata": {},
   "source": [
    "Convert `timedelta` columns to float"
   ]
  },
  {
   "cell_type": "code",
   "execution_count": null,
   "id": "92db7d0b",
   "metadata": {
    "scrolled": true
   },
   "outputs": [],
   "source": [
    "all_tickets_with_time_converted = all_tickets_with_time\n",
    "all_tickets_with_time_converted.info()"
   ]
  },
  {
   "cell_type": "markdown",
   "id": "b835cf4b",
   "metadata": {},
   "source": [
    "Convert `time in..` columns to minutes"
   ]
  },
  {
   "cell_type": "code",
   "execution_count": null,
   "id": "dd9710da",
   "metadata": {
    "scrolled": true
   },
   "outputs": [],
   "source": [
    "all_tickets_with_time_converted['time_in_review'] = all_tickets_with_time_converted['time_in_review'].dt.total_seconds().div(60)\n",
    "all_tickets_with_time_converted"
   ]
  },
  {
   "cell_type": "code",
   "execution_count": null,
   "id": "b72f38f4",
   "metadata": {},
   "outputs": [],
   "source": [
    "all_tickets_with_time_converted['time_on_codebusters'] = all_tickets_with_time_converted['time_on_codebusters'].dt.total_seconds().div(60)\n",
    "all_tickets_with_time_converted"
   ]
  },
  {
   "cell_type": "code",
   "execution_count": null,
   "id": "64e9132d",
   "metadata": {
    "scrolled": true
   },
   "outputs": [],
   "source": [
    "all_tickets_with_time_converted['time_outside_codebusters'] = all_tickets_with_time['time_outside_codebusters'].dt.total_seconds().div(60)\n",
    "all_tickets_with_time_converted"
   ]
  },
  {
   "cell_type": "code",
   "execution_count": null,
   "id": "d86ef2e6",
   "metadata": {
    "scrolled": true
   },
   "outputs": [],
   "source": [
    "all_tickets_with_time_converted.isnull().sum()"
   ]
  },
  {
   "cell_type": "code",
   "execution_count": null,
   "id": "19a2af89",
   "metadata": {},
   "outputs": [],
   "source": [
    "all_tickets_with_time_converted.dropna(subset=['time_in_review'], how=\"any\", inplace=True)\n",
    "all_tickets_with_time_converted.isnull().sum()"
   ]
  },
  {
   "cell_type": "markdown",
   "id": "3bcc0095",
   "metadata": {},
   "source": [
    "## Save data for KPIs purposes"
   ]
  },
  {
   "cell_type": "code",
   "execution_count": null,
   "id": "07a92dcb",
   "metadata": {},
   "outputs": [],
   "source": [
    "all_tickets_with_time_converted.to_csv('all_partners.csv', index=False)"
   ]
  },
  {
   "cell_type": "markdown",
   "id": "3228749e",
   "metadata": {},
   "source": [
    "### Add a column to all tasks with the latest communicate step date\n",
    "- count \"real\" close time, bease on the date when ticket was moved to `communicate` step"
   ]
  },
  {
   "cell_type": "code",
   "execution_count": null,
   "id": "c9b9a690",
   "metadata": {},
   "outputs": [],
   "source": [
    "all_individual_tasks_2022"
   ]
  },
  {
   "cell_type": "code",
   "execution_count": null,
   "id": "65538ac6",
   "metadata": {
    "scrolled": true
   },
   "outputs": [],
   "source": [
    "summary_duplicates = all_individual_tasks_2022.duplicated(['Summary', 'Parent id'], keep=False)\n",
    "all_individual_tasks_2022[summary_duplicates].sort_values(\"Parent id\")"
   ]
  },
  {
   "cell_type": "code",
   "execution_count": null,
   "id": "0337b4ca",
   "metadata": {
    "scrolled": false
   },
   "outputs": [],
   "source": [
    "all_individual_tasks_2022_communicate = all_individual_tasks_2022[all_individual_tasks_2022[\"Summary\"] == \"Communicate\"]\n",
    "all_individual_tasks_2022_communicate.sort_values(\"Parent id\")"
   ]
  },
  {
   "cell_type": "code",
   "execution_count": null,
   "id": "95951d40",
   "metadata": {},
   "outputs": [],
   "source": [
    "all_individual_tasks_2022_communicate.nunique()"
   ]
  },
  {
   "cell_type": "markdown",
   "id": "99ccd5c5",
   "metadata": {},
   "source": [
    "Drop rows with duplicated `Communicate` subtask and keep only the newest one"
   ]
  },
  {
   "cell_type": "code",
   "execution_count": null,
   "id": "9aa5dd3d",
   "metadata": {},
   "outputs": [],
   "source": [
    "all_individual_tasks_2022_communicate.sort_values([\"Parent id\", \"Created\"])\n",
    "all_individual_tasks_2022_communicate_no_duplicates = all_individual_tasks_2022_communicate.drop_duplicates(['Summary', 'Parent id'], keep=\"last\")\n",
    "# all_individual_tasks_2022_communicate_no_duplicates = all_individual_tasks_2022_communicate\n",
    "all_individual_tasks_2022_communicate_no_duplicates"
   ]
  },
  {
   "cell_type": "code",
   "execution_count": null,
   "id": "8d864618",
   "metadata": {},
   "outputs": [],
   "source": [
    "all_tickets_with_time_and_cummunicate_date = pd.merge(all_tickets_with_time_converted, all_individual_tasks_2022_communicate_no_duplicates[['Parent id','Created']], how=\"left\",left_on = \"Issue id\",right_on = \"Parent id\").drop(columns=[\"Parent id\"])\n",
    "all_tickets_with_time_and_cummunicate_date.rename({\"Created_y\": \"comminicate_created\"},axis=1, inplace=True)\n",
    "all_tickets_with_time_and_cummunicate_date"
   ]
  },
  {
   "cell_type": "markdown",
   "id": "010ca864",
   "metadata": {},
   "source": [
    "Drop rows without `communicate_create`, we are taking in to consideration only completed tickets"
   ]
  },
  {
   "cell_type": "code",
   "execution_count": null,
   "id": "15e03400",
   "metadata": {
    "scrolled": true
   },
   "outputs": [],
   "source": [
    "all_tickets_2022_with_time_and_cummunicate_date.isnull().sum()"
   ]
  },
  {
   "cell_type": "code",
   "execution_count": null,
   "id": "4f62c94b",
   "metadata": {},
   "outputs": [],
   "source": [
    "all_tickets_2022_with_time_and_cummunicate_date.nunique()"
   ]
  },
  {
   "cell_type": "code",
   "execution_count": null,
   "id": "b7570e79",
   "metadata": {
    "scrolled": true
   },
   "outputs": [],
   "source": [
    "500 - 145"
   ]
  },
  {
   "cell_type": "markdown",
   "id": "2ae5fcb3",
   "metadata": {},
   "source": []
  },
  {
   "cell_type": "code",
   "execution_count": null,
   "id": "b795973c",
   "metadata": {},
   "outputs": [],
   "source": [
    "all_tickets_2022_with_time_and_cummunicate_date.dropna(subset=['comminicate_created'], how=\"any\", inplace=True)"
   ]
  },
  {
   "cell_type": "code",
   "execution_count": null,
   "id": "08c3e222",
   "metadata": {},
   "outputs": [],
   "source": [
    "all_tickets_2022_with_time_and_cummunicate_date"
   ]
  },
  {
   "cell_type": "code",
   "execution_count": null,
   "id": "27ffe4db",
   "metadata": {},
   "outputs": [],
   "source": []
  },
  {
   "cell_type": "markdown",
   "id": "e3f23084",
   "metadata": {},
   "source": [
    "**Summary:**\n",
    "- rows with null value are droped\n",
    "- we take into consideration only completed tickets"
   ]
  },
  {
   "cell_type": "markdown",
   "id": "e3063da1",
   "metadata": {},
   "source": [
    "### Save data to csv file"
   ]
  },
  {
   "cell_type": "code",
   "execution_count": null,
   "id": "f95fb4de",
   "metadata": {},
   "outputs": [],
   "source": [
    "all_tickets_2022_with_time_and_cummunicate_date.to_csv('all_tickets_combined.csv', index=False)"
   ]
  },
  {
   "cell_type": "code",
   "execution_count": null,
   "id": "7347c20c",
   "metadata": {},
   "outputs": [],
   "source": [
    "all_individual_tasks_2022_communicate_no_duplicates.nunique()"
   ]
  },
  {
   "cell_type": "markdown",
   "id": "1fd24602",
   "metadata": {},
   "source": [
    "## Data Analysis"
   ]
  },
  {
   "cell_type": "markdown",
   "id": "1dfb0cfa",
   "metadata": {},
   "source": [
    "### Compare the size of the created data sets\n",
    "- compare the size of each datasests, in order to verify v"
   ]
  },
  {
   "cell_type": "code",
   "execution_count": null,
   "id": "5de3ff53",
   "metadata": {},
   "outputs": [],
   "source": [
    "all_individual_tasks_2022_origin[all_individual_tasks_2022_origin['Parent id'] == 450084]"
   ]
  },
  {
   "cell_type": "code",
   "execution_count": null,
   "id": "8da6c96e",
   "metadata": {},
   "outputs": [],
   "source": [
    "all_individual_tasks_2022.info()"
   ]
  },
  {
   "cell_type": "markdown",
   "id": "b0b51a77",
   "metadata": {},
   "source": [
    "**Summary:**\n",
    "- We should receive inside `all_individual_tasks_2022_communicate_no_duplicates` 1372 rows not 1297"
   ]
  },
  {
   "cell_type": "markdown",
   "id": "9a2d6084",
   "metadata": {},
   "source": [
    "# To Do:\n",
    "- invesitigate discrepency between datasests: `codebusters_time`(1798 rows),  `others_time` (1672 rows), `all_tickets_2022` (1699 rows)"
   ]
  },
  {
   "cell_type": "code",
   "execution_count": null,
   "id": "16600e93",
   "metadata": {},
   "outputs": [],
   "source": [
    "duplucated_communicate = all_individual_tasks_2022_communicate.duplicated(['Summary', 'Parent id'])\n",
    "all_individual_tasks_2022_communicate[duplucated_communicate]"
   ]
  },
  {
   "cell_type": "code",
   "execution_count": null,
   "id": "88fadf83",
   "metadata": {},
   "outputs": [],
   "source": [
    "codebusters_time.shape"
   ]
  },
  {
   "cell_type": "code",
   "execution_count": null,
   "id": "4388a262",
   "metadata": {},
   "outputs": [],
   "source": [
    "others_time.shape"
   ]
  },
  {
   "cell_type": "code",
   "execution_count": null,
   "id": "1a7a921e",
   "metadata": {},
   "outputs": [],
   "source": [
    "all_tickets.shape"
   ]
  },
  {
   "cell_type": "markdown",
   "id": "e9376c7a",
   "metadata": {},
   "source": [
    "## Investigate different columns with the tickets age"
   ]
  },
  {
   "cell_type": "markdown",
   "id": "cd994e5d",
   "metadata": {},
   "source": [
    "- check the useful KPIs"
   ]
  },
  {
   "cell_type": "code",
   "execution_count": null,
   "id": "3f12d4d8",
   "metadata": {
    "scrolled": true
   },
   "outputs": [],
   "source": [
    "all_tickets_2022_updated.head(-5)"
   ]
  },
  {
   "cell_type": "code",
   "execution_count": null,
   "id": "15bf3683",
   "metadata": {
    "scrolled": true
   },
   "outputs": [],
   "source": [
    "all_tickets_2022_updated[all_tickets_2022_updated['Issue key'] == 'CI-7689']"
   ]
  },
  {
   "cell_type": "code",
   "execution_count": null,
   "id": "b02384b8",
   "metadata": {},
   "outputs": [],
   "source": [
    "all_tickets_2022_updated['age_till_communicate_hours'].describe()"
   ]
  },
  {
   "cell_type": "code",
   "execution_count": null,
   "id": "ea650148",
   "metadata": {},
   "outputs": [],
   "source": [
    "# all_tickets_2022_updated.to_csv('all_tickets_2022_updated.csv')"
   ]
  }
 ],
 "metadata": {
  "kernelspec": {
   "display_name": "Python 3 (ipykernel)",
   "language": "python",
   "name": "python3"
  },
  "language_info": {
   "codemirror_mode": {
    "name": "ipython",
    "version": 3
   },
   "file_extension": ".py",
   "mimetype": "text/x-python",
   "name": "python",
   "nbconvert_exporter": "python",
   "pygments_lexer": "ipython3",
   "version": "3.10.9"
  }
 },
 "nbformat": 4,
 "nbformat_minor": 5
}
