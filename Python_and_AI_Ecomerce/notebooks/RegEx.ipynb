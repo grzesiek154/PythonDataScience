{
 "cells": [
  {
   "cell_type": "code",
   "execution_count": 4,
   "metadata": {},
   "outputs": [
    {
     "name": "stdout",
     "output_type": "stream",
     "text": [
      "Wzorzec wykryty w tekście Sebastian\n",
      "<re.Match object; span=(0, 2), match='Se'>\n",
      "Wzorzec wykryty w tekście Seweryn\n",
      "<re.Match object; span=(0, 2), match='Se'>\n",
      "Wzorzec nie wykryty w tekście Anna\n",
      "Wzorzec nie wykryty w tekście Wojciech\n"
     ]
    }
   ],
   "source": [
    "import re\n",
    "names = [\"Sebastian\", \"Seweryn\", \"Anna\", \"Wojciech\"]\n",
    "pattern = \"Se\"\n",
    "for name in names:\n",
    "    match = re.search(pattern, name)\n",
    "    if match:\n",
    "        print(\"Wzorzec wykryty w tekście\", name)\n",
    "        # print(match.start())\n",
    "        # print(match.end())\n",
    "        # print(match.span())\n",
    "        # print(match.pos)\n",
    "        # print(match.endpos)\n",
    "        print(match)\n",
    "    else:\n",
    "        print(\"Wzorzec nie wykryty w tekście\", name)\n",
    "\n",
    "\n"
   ]
  },
  {
   "cell_type": "code",
   "execution_count": 8,
   "metadata": {},
   "outputs": [
    {
     "name": "stdout",
     "output_type": "stream",
     "text": [
      "Wzorzec wykryty w tekście SebastianSe\n",
      "<re.Match object; span=(0, 2), match='Se'>\n",
      "Wzorzec wykryty w tekście Seweryn\n",
      "<re.Match object; span=(0, 2), match='Se'>\n",
      "Wzorzec nie wykryty w tekście Anna\n",
      "Wzorzec nie wykryty w tekście Wojciech\n"
     ]
    }
   ],
   "source": [
    "import re\n",
    "names = [\"SebastianSe\", \"Seweryn\", \"Anna\", \"Wojciech\"]\n",
    "pattern = re.compile(\"Se\")\n",
    "for name in names:\n",
    "    match = re.search(pattern, name)\n",
    "    if match:\n",
    "        print(\"Wzorzec wykryty w tekście\", name)\n",
    "        print(match)\n",
    "    else:\n",
    "        print(\"Wzorzec nie wykryty w tekście\", name)\n"
   ]
  },
  {
   "cell_type": "code",
   "execution_count": 26,
   "metadata": {},
   "outputs": [
    {
     "name": "stdout",
     "output_type": "stream",
     "text": [
      "<re.Match object; span=(0, 10), match='kuraieqwee'>\n"
     ]
    }
   ],
   "source": [
    "import re\n",
    "\n",
    "phrases = [\"kuraieqwee\", \"plewi\", \"kra\", \"zlew\", \"kira\", \"kąt\", \"sadasfyidgthasdd\", \"@3214324547657435346787686\"]\n",
    "pattern = \"k.*ra\"\n",
    "pattern2 = \"k.+i.+e{2}\"\n",
    "for phrase in phrases:\n",
    "    for match in re.finditer(pattern2, phrase):\n",
    "        print(match)"
   ]
  },
  {
   "cell_type": "code",
   "execution_count": 33,
   "metadata": {},
   "outputs": [
    {
     "name": "stdout",
     "output_type": "stream",
     "text": [
      "abc 123 def\n"
     ]
    }
   ],
   "source": [
    "import re\n",
    "\n",
    "input_text = \"abc 123 def\"\n",
    "pattern = \"a.+[0-9].+[a-z]\"\n",
    "for match in re.findall(pattern,input_text):\n",
    "    print(match)"
   ]
  },
  {
   "cell_type": "code",
   "execution_count": 34,
   "metadata": {},
   "outputs": [
    {
     "name": "stdout",
     "output_type": "stream",
     "text": [
      "None\n",
      "<re.Match object; span=(0, 2), match='Se'>\n",
      "<re.Match object; span=(0, 2), match='Se'>\n",
      "<re.Match object; span=(0, 2), match='Se'>\n"
     ]
    }
   ],
   "source": [
    "import re\n",
    "\n",
    "input_text = \"Sebastian\"\n",
    "pattern = \"se\"\n",
    "pattern_with_flag = \"(?i)se\"\n",
    "match1 = re.search(pattern, input_text)\n",
    "match2 = re.search(pattern, input_text, re.I)\n",
    "\n",
    "match3 = re.search(pattern, input_text, re.IGNORECASE)\n",
    "match4 = re.search(pattern_with_flag, input_text)\n",
    "print(match1)\n",
    "print(match2)\n",
    "print(match3)\n",
    "print(match4)"
   ]
  },
  {
   "cell_type": "code",
   "execution_count": 47,
   "metadata": {},
   "outputs": [
    {
     "name": "stdout",
     "output_type": "stream",
     "text": [
      "False\n",
      "True\n",
      "False\n",
      "False\n",
      "True\n"
     ]
    }
   ],
   "source": [
    "import re\n",
    "\n",
    "def is_mail(email):\n",
    "    pattern = r'^[\\w.+]+@[\\w]+\\.[a-z]{2,10}$'\n",
    "    if re.match(pattern, email, re.IGNORECASE):\n",
    "        return True\n",
    "    return False\n",
    "\n",
    "print(is_mail(\"sebastian@@mailinator.com\"))\n",
    "print(is_mail(\"sebastian.kondracki@mailinator.com\"))\n",
    "print(is_mail(\"@mailinator.com\"))\n",
    "print(is_mail(\"sebastian@mailinator\"))\n",
    "print(is_mail(\"Sebastian@mailinator.STORE\"))"
   ]
  },
  {
   "cell_type": "code",
   "execution_count": null,
   "metadata": {},
   "outputs": [],
   "source": []
  },
  {
   "cell_type": "code",
   "execution_count": 49,
   "metadata": {},
   "outputs": [
    {
     "name": "stdout",
     "output_type": "stream",
     "text": [
      "<re.Match object; span=(58, 78), match='biuro@mailinator.com'>\n",
      "<re.Match object; span=(79, 104), match='reklamacje@mailinator.com'>\n"
     ]
    }
   ],
   "source": [
    "import re\n",
    "\n",
    "text = \"Wszystkie wnioski i reklamacje proszę kierować na emaile: biuro@mailinator.com reklamacje@mailinator.com lub (błędny adres) sebastian@mailinator\"\n",
    "pattern = r'[\\w\\.]+@[\\w\\.]+\\.[a-z]{2,3}'\n",
    "for match in re.finditer(pattern, text):\n",
    "    print(match)"
   ]
  },
  {
   "cell_type": "code",
   "execution_count": 52,
   "metadata": {},
   "outputs": [
    {
     "name": "stdout",
     "output_type": "stream",
     "text": [
      "Format liczby [d]:  10\n",
      "Format liczby [o]:  12\n",
      "Format liczby [x]:  a\n",
      "Format liczby [e]:  1.050000e+01\n",
      "Format liczby [f]:  10.500000\n"
     ]
    }
   ],
   "source": [
    "int_number = 10\n",
    "float_number = 10.5\n",
    "line1 = \"Format liczby [d]:  %d\" % (int_number)\n",
    "line2 = \"Format liczby [o]:  %o\" % (int_number)\n",
    "line3 = \"Format liczby [x]:  %x\" % (int_number)\n",
    "line4 = \"Format liczby [e]:  %e\" % (float_number)\n",
    "line5 = \"Format liczby [f]:  %f\" % (float_number)\n",
    "print(line1)\n",
    "print(line2)\n",
    "print(line3)\n",
    "print(line4)\n",
    "print(line5)"
   ]
  },
  {
   "cell_type": "code",
   "execution_count": 53,
   "metadata": {},
   "outputs": [
    {
     "data": {
      "text/html": [
       "<pre style=\"white-space:pre;overflow-x:auto;line-height:normal;font-family:Menlo,'DejaVu Sans Mono',consolas,'Courier New',monospace\"><span style=\"font-weight: bold\">{</span>\n",
       "    <span style=\"color: #008000; text-decoration-color: #008000\">'first_name'</span>: <span style=\"color: #008000; text-decoration-color: #008000\">'Sebastian'</span>,\n",
       "    <span style=\"color: #008000; text-decoration-color: #008000\">'last_name'</span>: <span style=\"color: #008000; text-decoration-color: #008000\">'Kondracki'</span>,\n",
       "    <span style=\"color: #008000; text-decoration-color: #008000\">'items'</span>: <span style=\"font-weight: bold\">[</span>\n",
       "        <span style=\"font-weight: bold\">{</span><span style=\"color: #008000; text-decoration-color: #008000\">'product'</span>: <span style=\"color: #008000; text-decoration-color: #008000\">'Produkt 1'</span>, <span style=\"color: #008000; text-decoration-color: #008000\">'price'</span>: <span style=\"color: #008080; text-decoration-color: #008080; font-weight: bold\">22.4</span>, <span style=\"color: #008000; text-decoration-color: #008000\">'states'</span>: <span style=\"font-weight: bold\">(</span><span style=\"color: #00ff00; text-decoration-color: #00ff00; font-style: italic\">True</span>, <span style=\"color: #ff0000; text-decoration-color: #ff0000; font-style: italic\">False</span>, <span style=\"color: #800080; text-decoration-color: #800080; font-style: italic\">None</span><span style=\"font-weight: bold\">)}</span>,\n",
       "        <span style=\"font-weight: bold\">{</span><span style=\"color: #008000; text-decoration-color: #008000\">'product'</span>: <span style=\"color: #008000; text-decoration-color: #008000\">'Produkt 2'</span>, <span style=\"color: #008000; text-decoration-color: #008000\">'price'</span>: <span style=\"color: #008080; text-decoration-color: #008080; font-weight: bold\">15.4</span>, <span style=\"color: #008000; text-decoration-color: #008000\">'states'</span>: <span style=\"font-weight: bold\">(</span><span style=\"color: #00ff00; text-decoration-color: #00ff00; font-style: italic\">True</span>, <span style=\"color: #ff0000; text-decoration-color: #ff0000; font-style: italic\">False</span>, <span style=\"color: #800080; text-decoration-color: #800080; font-style: italic\">None</span><span style=\"font-weight: bold\">)}</span>\n",
       "    <span style=\"font-weight: bold\">]</span>\n",
       "<span style=\"font-weight: bold\">}</span>\n",
       "</pre>\n"
      ],
      "text/plain": [
       "\u001b[1m{\u001b[0m\n",
       "    \u001b[32m'first_name'\u001b[0m: \u001b[32m'Sebastian'\u001b[0m,\n",
       "    \u001b[32m'last_name'\u001b[0m: \u001b[32m'Kondracki'\u001b[0m,\n",
       "    \u001b[32m'items'\u001b[0m: \u001b[1m[\u001b[0m\n",
       "        \u001b[1m{\u001b[0m\u001b[32m'product'\u001b[0m: \u001b[32m'Produkt 1'\u001b[0m, \u001b[32m'price'\u001b[0m: \u001b[1;36m22.4\u001b[0m, \u001b[32m'states'\u001b[0m: \u001b[1m(\u001b[0m\u001b[3;92mTrue\u001b[0m, \u001b[3;91mFalse\u001b[0m, \u001b[3;35mNone\u001b[0m\u001b[1m)\u001b[0m\u001b[1m}\u001b[0m,\n",
       "        \u001b[1m{\u001b[0m\u001b[32m'product'\u001b[0m: \u001b[32m'Produkt 2'\u001b[0m, \u001b[32m'price'\u001b[0m: \u001b[1;36m15.4\u001b[0m, \u001b[32m'states'\u001b[0m: \u001b[1m(\u001b[0m\u001b[3;92mTrue\u001b[0m, \u001b[3;91mFalse\u001b[0m, \u001b[3;35mNone\u001b[0m\u001b[1m)\u001b[0m\u001b[1m}\u001b[0m\n",
       "    \u001b[1m]\u001b[0m\n",
       "\u001b[1m}\u001b[0m\n"
      ]
     },
     "metadata": {},
     "output_type": "display_data"
    }
   ],
   "source": [
    "from rich import print\n",
    "\n",
    "state = (True,False,None)\n",
    "items = []\n",
    "items.append({\"product\" : \"Produkt 1\", \"price\" : 22.4, \"states\" : state}) \n",
    "items.append({\"product\" : \"Produkt 2\", \"price\" : 15.4, \"states\" : state})\n",
    "customer = {\"first_name\" : \"Sebastian\", \"last_name\" : \"Kondracki\", \"items\" : items}\n",
    "print(customer)"
   ]
  },
  {
   "cell_type": "code",
   "execution_count": 64,
   "metadata": {},
   "outputs": [
    {
     "data": {
      "application/vnd.jupyter.widget-view+json": {
       "model_id": "86305790cb2b42e9853b6a89b9e987d9",
       "version_major": 2,
       "version_minor": 0
      },
      "text/plain": [
       "Output()"
      ]
     },
     "metadata": {},
     "output_type": "display_data"
    },
    {
     "data": {
      "text/html": [
       "<pre style=\"white-space:pre;overflow-x:auto;line-height:normal;font-family:Menlo,'DejaVu Sans Mono',consolas,'Courier New',monospace\"></pre>\n"
      ],
      "text/plain": []
     },
     "metadata": {},
     "output_type": "display_data"
    },
    {
     "data": {
      "text/html": [
       "<pre style=\"white-space:pre;overflow-x:auto;line-height:normal;font-family:Menlo,'DejaVu Sans Mono',consolas,'Courier New',monospace\">\n",
       "</pre>\n"
      ],
      "text/plain": [
       "\n"
      ]
     },
     "metadata": {},
     "output_type": "display_data"
    }
   ],
   "source": [
    "import time\n",
    "from rich.progress import track\n",
    "\n",
    "max_step = 5\n",
    "      \n",
    "def hard_calculation(n):\n",
    "    time.sleep(n)\n",
    "    return True\n",
    "      \n",
    "for i in track(range(max_step), description=\"Processing...\"):\n",
    "    hard_calculation(i)"
   ]
  },
  {
   "cell_type": "code",
   "execution_count": null,
   "metadata": {},
   "outputs": [],
   "source": []
  },
  {
   "cell_type": "code",
   "execution_count": 65,
   "metadata": {},
   "outputs": [
    {
     "data": {
      "text/html": [
       "<pre style=\"white-space:pre;overflow-x:auto;line-height:normal;font-family:Menlo,'DejaVu Sans Mono',consolas,'Courier New',monospace\">+-----------+-----------+\n",
       "|   Imię    | Nazwisko  |\n",
       "+-----------+-----------+\n",
       "| Sebastian | Kondracki |\n",
       "|    Jan    |   Nowak   |\n",
       "+-----------+-----------+\n",
       "</pre>\n"
      ],
      "text/plain": [
       "+-----------+-----------+\n",
       "|   Imię    | Nazwisko  |\n",
       "+-----------+-----------+\n",
       "| Sebastian | Kondracki |\n",
       "|    Jan    |   Nowak   |\n",
       "+-----------+-----------+\n"
      ]
     },
     "metadata": {},
     "output_type": "display_data"
    }
   ],
   "source": [
    "from tabulate import tabulate\n",
    "\n",
    "customers_list = [[\"Imię\", \"Nazwisko\"], [\"Sebastian\", \"Kondracki\"], [\"Jan\", \"Nowak\"]]\n",
    "print(tabulate(customers_list, headers=\"firstrow\", tablefmt=\"pretty\"))"
   ]
  },
  {
   "cell_type": "code",
   "execution_count": 66,
   "metadata": {},
   "outputs": [
    {
     "data": {
      "text/html": [
       "<pre style=\"white-space:pre;overflow-x:auto;line-height:normal;font-family:Menlo,'DejaVu Sans Mono',consolas,'Courier New',monospace\"><span style=\"font-weight: bold\">&lt;</span><span style=\"color: #ff00ff; text-decoration-color: #ff00ff; font-weight: bold\">table</span><span style=\"font-weight: bold\">&gt;</span>\n",
       "<span style=\"font-weight: bold\">&lt;</span><span style=\"color: #ff00ff; text-decoration-color: #ff00ff; font-weight: bold\">thead</span><span style=\"font-weight: bold\">&gt;</span>\n",
       "<span style=\"font-weight: bold\">&lt;</span><span style=\"color: #ff00ff; text-decoration-color: #ff00ff; font-weight: bold\">tr</span><span style=\"font-weight: bold\">&gt;&lt;</span><span style=\"color: #ff00ff; text-decoration-color: #ff00ff; font-weight: bold\">th</span><span style=\"font-weight: bold\">&gt;</span>Imię     <span style=\"font-weight: bold\">&lt;</span><span style=\"color: #800080; text-decoration-color: #800080\">/</span><span style=\"color: #ff00ff; text-decoration-color: #ff00ff\">th</span><span style=\"font-weight: bold\">&gt;&lt;</span><span style=\"color: #ff00ff; text-decoration-color: #ff00ff; font-weight: bold\">th</span><span style=\"font-weight: bold\">&gt;</span>Nazwisko  <span style=\"font-weight: bold\">&lt;</span><span style=\"color: #800080; text-decoration-color: #800080\">/</span><span style=\"color: #ff00ff; text-decoration-color: #ff00ff\">th</span><span style=\"font-weight: bold\">&gt;&lt;</span><span style=\"color: #800080; text-decoration-color: #800080\">/</span><span style=\"color: #ff00ff; text-decoration-color: #ff00ff\">tr</span><span style=\"font-weight: bold\">&gt;</span>\n",
       "<span style=\"font-weight: bold\">&lt;</span><span style=\"color: #800080; text-decoration-color: #800080\">/</span><span style=\"color: #ff00ff; text-decoration-color: #ff00ff\">thead</span><span style=\"font-weight: bold\">&gt;</span>\n",
       "<span style=\"font-weight: bold\">&lt;</span><span style=\"color: #ff00ff; text-decoration-color: #ff00ff; font-weight: bold\">tbody</span><span style=\"font-weight: bold\">&gt;</span>\n",
       "<span style=\"font-weight: bold\">&lt;</span><span style=\"color: #ff00ff; text-decoration-color: #ff00ff; font-weight: bold\">tr</span><span style=\"font-weight: bold\">&gt;&lt;</span><span style=\"color: #ff00ff; text-decoration-color: #ff00ff; font-weight: bold\">td</span><span style=\"font-weight: bold\">&gt;</span>Sebastian<span style=\"font-weight: bold\">&lt;</span><span style=\"color: #800080; text-decoration-color: #800080\">/</span><span style=\"color: #ff00ff; text-decoration-color: #ff00ff\">td</span><span style=\"font-weight: bold\">&gt;&lt;</span><span style=\"color: #ff00ff; text-decoration-color: #ff00ff; font-weight: bold\">td</span><span style=\"font-weight: bold\">&gt;</span>Kondracki <span style=\"font-weight: bold\">&lt;</span><span style=\"color: #800080; text-decoration-color: #800080\">/</span><span style=\"color: #ff00ff; text-decoration-color: #ff00ff\">td</span><span style=\"font-weight: bold\">&gt;&lt;</span><span style=\"color: #800080; text-decoration-color: #800080\">/</span><span style=\"color: #ff00ff; text-decoration-color: #ff00ff\">tr</span><span style=\"font-weight: bold\">&gt;</span>\n",
       "<span style=\"font-weight: bold\">&lt;</span><span style=\"color: #ff00ff; text-decoration-color: #ff00ff; font-weight: bold\">tr</span><span style=\"font-weight: bold\">&gt;&lt;</span><span style=\"color: #ff00ff; text-decoration-color: #ff00ff; font-weight: bold\">td</span><span style=\"font-weight: bold\">&gt;</span>Jan      <span style=\"font-weight: bold\">&lt;</span><span style=\"color: #800080; text-decoration-color: #800080\">/</span><span style=\"color: #ff00ff; text-decoration-color: #ff00ff\">td</span><span style=\"font-weight: bold\">&gt;&lt;</span><span style=\"color: #ff00ff; text-decoration-color: #ff00ff; font-weight: bold\">td</span><span style=\"font-weight: bold\">&gt;</span>Nowak     <span style=\"font-weight: bold\">&lt;</span><span style=\"color: #800080; text-decoration-color: #800080\">/</span><span style=\"color: #ff00ff; text-decoration-color: #ff00ff\">td</span><span style=\"font-weight: bold\">&gt;&lt;</span><span style=\"color: #800080; text-decoration-color: #800080\">/</span><span style=\"color: #ff00ff; text-decoration-color: #ff00ff\">tr</span><span style=\"font-weight: bold\">&gt;</span>\n",
       "<span style=\"font-weight: bold\">&lt;</span><span style=\"color: #800080; text-decoration-color: #800080\">/</span><span style=\"color: #ff00ff; text-decoration-color: #ff00ff\">tbody</span><span style=\"font-weight: bold\">&gt;</span>\n",
       "<span style=\"font-weight: bold\">&lt;</span><span style=\"color: #800080; text-decoration-color: #800080\">/</span><span style=\"color: #ff00ff; text-decoration-color: #ff00ff\">table</span><span style=\"font-weight: bold\">&gt;</span>\n",
       "</pre>\n"
      ],
      "text/plain": [
       "\u001b[1m<\u001b[0m\u001b[1;95mtable\u001b[0m\u001b[1m>\u001b[0m\n",
       "\u001b[1m<\u001b[0m\u001b[1;95mthead\u001b[0m\u001b[1m>\u001b[0m\n",
       "\u001b[1m<\u001b[0m\u001b[1;95mtr\u001b[0m\u001b[1m>\u001b[0m\u001b[1m<\u001b[0m\u001b[1;95mth\u001b[0m\u001b[1m>\u001b[0mImię     \u001b[1m<\u001b[0m\u001b[35m/\u001b[0m\u001b[95mth\u001b[0m\u001b[1m>\u001b[0m\u001b[1m<\u001b[0m\u001b[1;95mth\u001b[0m\u001b[1m>\u001b[0mNazwisko  \u001b[1m<\u001b[0m\u001b[35m/\u001b[0m\u001b[95mth\u001b[0m\u001b[1m>\u001b[0m\u001b[1m<\u001b[0m\u001b[35m/\u001b[0m\u001b[95mtr\u001b[0m\u001b[1m>\u001b[0m\n",
       "\u001b[1m<\u001b[0m\u001b[35m/\u001b[0m\u001b[95mthead\u001b[0m\u001b[1m>\u001b[0m\n",
       "\u001b[1m<\u001b[0m\u001b[1;95mtbody\u001b[0m\u001b[1m>\u001b[0m\n",
       "\u001b[1m<\u001b[0m\u001b[1;95mtr\u001b[0m\u001b[1m>\u001b[0m\u001b[1m<\u001b[0m\u001b[1;95mtd\u001b[0m\u001b[1m>\u001b[0mSebastian\u001b[1m<\u001b[0m\u001b[35m/\u001b[0m\u001b[95mtd\u001b[0m\u001b[1m>\u001b[0m\u001b[1m<\u001b[0m\u001b[1;95mtd\u001b[0m\u001b[1m>\u001b[0mKondracki \u001b[1m<\u001b[0m\u001b[35m/\u001b[0m\u001b[95mtd\u001b[0m\u001b[1m>\u001b[0m\u001b[1m<\u001b[0m\u001b[35m/\u001b[0m\u001b[95mtr\u001b[0m\u001b[1m>\u001b[0m\n",
       "\u001b[1m<\u001b[0m\u001b[1;95mtr\u001b[0m\u001b[1m>\u001b[0m\u001b[1m<\u001b[0m\u001b[1;95mtd\u001b[0m\u001b[1m>\u001b[0mJan      \u001b[1m<\u001b[0m\u001b[35m/\u001b[0m\u001b[95mtd\u001b[0m\u001b[1m>\u001b[0m\u001b[1m<\u001b[0m\u001b[1;95mtd\u001b[0m\u001b[1m>\u001b[0mNowak     \u001b[1m<\u001b[0m\u001b[35m/\u001b[0m\u001b[95mtd\u001b[0m\u001b[1m>\u001b[0m\u001b[1m<\u001b[0m\u001b[35m/\u001b[0m\u001b[95mtr\u001b[0m\u001b[1m>\u001b[0m\n",
       "\u001b[1m<\u001b[0m\u001b[35m/\u001b[0m\u001b[95mtbody\u001b[0m\u001b[1m>\u001b[0m\n",
       "\u001b[1m<\u001b[0m\u001b[35m/\u001b[0m\u001b[95mtable\u001b[0m\u001b[1m>\u001b[0m\n"
      ]
     },
     "metadata": {},
     "output_type": "display_data"
    }
   ],
   "source": [
    "from tabulate import tabulate\n",
    "\n",
    "customers_list = [[\"Imię\", \"Nazwisko\"], [\"Sebastian\", \"Kondracki\"], [\"Jan\", \"Nowak\"]]\n",
    "print(tabulate(customers_list, headers=\"firstrow\", tablefmt=\"html\"))"
   ]
  },
  {
   "cell_type": "code",
   "execution_count": null,
   "metadata": {},
   "outputs": [],
   "source": [
    "from rich.console import Console\n",
    "from rich.table import Table\n",
    "\n",
    "customers = []\n",
    "customers.append([\"2021-02-01\", \"Jan Nowak\", \"2000,00 PLN\"])\n",
    "customers.append([\"2021-02-01\", \"Anna Kowalska\", \"3999,90 PLN\"])\n",
    "customers.append([\"2021-02-02\", \"Kondracki & Partner sp. z o.o.\", \"5000,00 PLN\"])\n",
    "customers.append([\"2021-02-03\", \"Importex sp. z o.o.\", \"120,00 PLN\"])\n",
    "\n",
    "table = Table(title=\"Sprzedaż Q1-2021\")\n",
    "table.add_column(\"Data transakcji\", justify=\"right\", style=\"cyan\", no_wrap=True)\n",
    "table.add_column(\"Klient\", style=\"magenta\")\n",
    "table.add_column(\"Przychód\", justify=\"right\", style=\"green\")\n",
    "\n",
    "for customer in customers:\n",
    "    table.add_row(customer[0],customer[1],customer[2])\n",
    "\n",
    "console = Console()\n",
    "console.print(table)"
   ]
  }
 ],
 "metadata": {
  "kernelspec": {
   "display_name": "Python 3.10.4 64-bit",
   "language": "python",
   "name": "python3"
  },
  "language_info": {
   "codemirror_mode": {
    "name": "ipython",
    "version": 3
   },
   "file_extension": ".py",
   "mimetype": "text/x-python",
   "name": "python",
   "nbconvert_exporter": "python",
   "pygments_lexer": "ipython3",
   "version": "3.10.4"
  },
  "orig_nbformat": 4,
  "vscode": {
   "interpreter": {
    "hash": "61f7f75044dedb4e03ecf6b077c125388b58c1bc2432e9805d68d38c21443220"
   }
  }
 },
 "nbformat": 4,
 "nbformat_minor": 2
}
