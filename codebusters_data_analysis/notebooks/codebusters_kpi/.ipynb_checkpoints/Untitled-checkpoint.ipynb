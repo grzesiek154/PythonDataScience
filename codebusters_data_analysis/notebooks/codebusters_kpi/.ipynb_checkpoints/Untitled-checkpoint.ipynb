{
 "cells": [
  {
   "cell_type": "markdown",
   "metadata": {},
   "source": [
    "# Codebusters KPIs and Other Usefull Patterns"
   ]
  },
  {
   "cell_type": "markdown",
   "metadata": {},
   "source": [
    "## import libraries"
   ]
  },
  {
   "cell_type": "code",
   "execution_count": 36,
   "metadata": {},
   "outputs": [],
   "source": [
    "import pandas as pd\n",
    "import numpy as np"
   ]
  },
  {
   "cell_type": "markdown",
   "metadata": {},
   "source": [
    "Import and clean `all_tickets_2022` data set \n",
    "- remove unnecessary columns\n",
    "- rename columns"
   ]
  },
  {
   "cell_type": "markdown",
   "metadata": {},
   "source": [
    "# Prepare data with all tickets"
   ]
  },
  {
   "cell_type": "markdown",
   "metadata": {
    "scrolled": true
   },
   "source": [
    "### Import all service request\n",
    "\n",
    "Tickets are taken from the following jira filter:<br/> `project = CI AND issuetype in (standardIssueTypes(), \"Expense Delivery\") AND \"Epic Link\" is EMPTY AND \"Case Number/s\" is not EMPTY AND cf[14125] in (\"Service Request (SR)\") AND resolved is not EMPTY AND resolutiondate >= 2022-12-19 and resolutiondate <= 2023-01-08`"
   ]
  },
  {
   "cell_type": "code",
   "execution_count": 37,
   "metadata": {},
   "outputs": [
    {
     "data": {
      "text/html": [
       "<div>\n",
       "<style scoped>\n",
       "    .dataframe tbody tr th:only-of-type {\n",
       "        vertical-align: middle;\n",
       "    }\n",
       "\n",
       "    .dataframe tbody tr th {\n",
       "        vertical-align: top;\n",
       "    }\n",
       "\n",
       "    .dataframe thead th {\n",
       "        text-align: right;\n",
       "    }\n",
       "</style>\n",
       "<table border=\"1\" class=\"dataframe\">\n",
       "  <thead>\n",
       "    <tr style=\"text-align: right;\">\n",
       "      <th></th>\n",
       "      <th>Summary</th>\n",
       "      <th>Issue key</th>\n",
       "      <th>Issue id</th>\n",
       "      <th>Issue Type</th>\n",
       "      <th>Status</th>\n",
       "      <th>Project key</th>\n",
       "      <th>Project name</th>\n",
       "      <th>Project type</th>\n",
       "      <th>Project lead</th>\n",
       "      <th>Project description</th>\n",
       "      <th>...</th>\n",
       "      <th>Comment.18</th>\n",
       "      <th>Comment.19</th>\n",
       "      <th>Comment.20</th>\n",
       "      <th>Comment.21</th>\n",
       "      <th>Comment.22</th>\n",
       "      <th>Comment.23</th>\n",
       "      <th>Comment.24</th>\n",
       "      <th>Comment.25</th>\n",
       "      <th>Comment.26</th>\n",
       "      <th>Comment.27</th>\n",
       "    </tr>\n",
       "  </thead>\n",
       "  <tbody>\n",
       "    <tr>\n",
       "      <th>0</th>\n",
       "      <td>Rehau - Add EDI number Airplus</td>\n",
       "      <td>CI-8574</td>\n",
       "      <td>468635</td>\n",
       "      <td>Expense Delivery</td>\n",
       "      <td>Closed</td>\n",
       "      <td>CI</td>\n",
       "      <td>codebusters</td>\n",
       "      <td>software</td>\n",
       "      <td>rohkamm</td>\n",
       "      <td>NaN</td>\n",
       "      <td>...</td>\n",
       "      <td>NaN</td>\n",
       "      <td>NaN</td>\n",
       "      <td>NaN</td>\n",
       "      <td>NaN</td>\n",
       "      <td>NaN</td>\n",
       "      <td>NaN</td>\n",
       "      <td>NaN</td>\n",
       "      <td>NaN</td>\n",
       "      <td>NaN</td>\n",
       "      <td>NaN</td>\n",
       "    </tr>\n",
       "    <tr>\n",
       "      <th>1</th>\n",
       "      <td>Numiga VFL Wolfsburg - Remove a receipt</td>\n",
       "      <td>CI-8568</td>\n",
       "      <td>468149</td>\n",
       "      <td>Expense Delivery</td>\n",
       "      <td>Closed</td>\n",
       "      <td>CI</td>\n",
       "      <td>codebusters</td>\n",
       "      <td>software</td>\n",
       "      <td>rohkamm</td>\n",
       "      <td>NaN</td>\n",
       "      <td>...</td>\n",
       "      <td>NaN</td>\n",
       "      <td>NaN</td>\n",
       "      <td>NaN</td>\n",
       "      <td>NaN</td>\n",
       "      <td>NaN</td>\n",
       "      <td>NaN</td>\n",
       "      <td>NaN</td>\n",
       "      <td>NaN</td>\n",
       "      <td>NaN</td>\n",
       "      <td>NaN</td>\n",
       "    </tr>\n",
       "    <tr>\n",
       "      <th>2</th>\n",
       "      <td>oebb: correct perdiem/EMS</td>\n",
       "      <td>CI-8560</td>\n",
       "      <td>467735</td>\n",
       "      <td>Expense Delivery</td>\n",
       "      <td>Closed</td>\n",
       "      <td>CI</td>\n",
       "      <td>codebusters</td>\n",
       "      <td>software</td>\n",
       "      <td>rohkamm</td>\n",
       "      <td>NaN</td>\n",
       "      <td>...</td>\n",
       "      <td>NaN</td>\n",
       "      <td>NaN</td>\n",
       "      <td>NaN</td>\n",
       "      <td>NaN</td>\n",
       "      <td>NaN</td>\n",
       "      <td>NaN</td>\n",
       "      <td>NaN</td>\n",
       "      <td>NaN</td>\n",
       "      <td>NaN</td>\n",
       "      <td>NaN</td>\n",
       "    </tr>\n",
       "    <tr>\n",
       "      <th>3</th>\n",
       "      <td>Hensoldt - Update Approval notification mail</td>\n",
       "      <td>CI-8554</td>\n",
       "      <td>467243</td>\n",
       "      <td>Expense Delivery</td>\n",
       "      <td>Closed</td>\n",
       "      <td>CI</td>\n",
       "      <td>codebusters</td>\n",
       "      <td>software</td>\n",
       "      <td>rohkamm</td>\n",
       "      <td>NaN</td>\n",
       "      <td>...</td>\n",
       "      <td>NaN</td>\n",
       "      <td>NaN</td>\n",
       "      <td>NaN</td>\n",
       "      <td>NaN</td>\n",
       "      <td>NaN</td>\n",
       "      <td>NaN</td>\n",
       "      <td>NaN</td>\n",
       "      <td>NaN</td>\n",
       "      <td>NaN</td>\n",
       "      <td>NaN</td>\n",
       "    </tr>\n",
       "    <tr>\n",
       "      <th>4</th>\n",
       "      <td>vw-cso: activate bing map in itinerary section</td>\n",
       "      <td>CI-8552</td>\n",
       "      <td>467085</td>\n",
       "      <td>Expense Delivery</td>\n",
       "      <td>Closed</td>\n",
       "      <td>CI</td>\n",
       "      <td>codebusters</td>\n",
       "      <td>software</td>\n",
       "      <td>rohkamm</td>\n",
       "      <td>NaN</td>\n",
       "      <td>...</td>\n",
       "      <td>NaN</td>\n",
       "      <td>NaN</td>\n",
       "      <td>NaN</td>\n",
       "      <td>NaN</td>\n",
       "      <td>NaN</td>\n",
       "      <td>NaN</td>\n",
       "      <td>NaN</td>\n",
       "      <td>NaN</td>\n",
       "      <td>NaN</td>\n",
       "      <td>NaN</td>\n",
       "    </tr>\n",
       "    <tr>\n",
       "      <th>...</th>\n",
       "      <td>...</td>\n",
       "      <td>...</td>\n",
       "      <td>...</td>\n",
       "      <td>...</td>\n",
       "      <td>...</td>\n",
       "      <td>...</td>\n",
       "      <td>...</td>\n",
       "      <td>...</td>\n",
       "      <td>...</td>\n",
       "      <td>...</td>\n",
       "      <td>...</td>\n",
       "      <td>...</td>\n",
       "      <td>...</td>\n",
       "      <td>...</td>\n",
       "      <td>...</td>\n",
       "      <td>...</td>\n",
       "      <td>...</td>\n",
       "      <td>...</td>\n",
       "      <td>...</td>\n",
       "      <td>...</td>\n",
       "      <td>...</td>\n",
       "    </tr>\n",
       "    <tr>\n",
       "      <th>309</th>\n",
       "      <td>Aquila Capital - Expense issue with export and...</td>\n",
       "      <td>CI-6926</td>\n",
       "      <td>393799</td>\n",
       "      <td>Expense Delivery</td>\n",
       "      <td>Closed</td>\n",
       "      <td>CI</td>\n",
       "      <td>codebusters</td>\n",
       "      <td>software</td>\n",
       "      <td>rohkamm</td>\n",
       "      <td>NaN</td>\n",
       "      <td>...</td>\n",
       "      <td>04/Aug/22 10:36 AM;gmalarski;Export path added...</td>\n",
       "      <td>27/Jan/23 7:54 PM;raphose;SR is closed since A...</td>\n",
       "      <td>NaN</td>\n",
       "      <td>NaN</td>\n",
       "      <td>NaN</td>\n",
       "      <td>NaN</td>\n",
       "      <td>NaN</td>\n",
       "      <td>NaN</td>\n",
       "      <td>NaN</td>\n",
       "      <td>NaN</td>\n",
       "    </tr>\n",
       "    <tr>\n",
       "      <th>310</th>\n",
       "      <td>VW - Splitting of approval for expense statements</td>\n",
       "      <td>CI-6911</td>\n",
       "      <td>393585</td>\n",
       "      <td>Expense Delivery</td>\n",
       "      <td>Closed</td>\n",
       "      <td>CI</td>\n",
       "      <td>codebusters</td>\n",
       "      <td>software</td>\n",
       "      <td>rohkamm</td>\n",
       "      <td>NaN</td>\n",
       "      <td>...</td>\n",
       "      <td>NaN</td>\n",
       "      <td>NaN</td>\n",
       "      <td>NaN</td>\n",
       "      <td>NaN</td>\n",
       "      <td>NaN</td>\n",
       "      <td>NaN</td>\n",
       "      <td>NaN</td>\n",
       "      <td>NaN</td>\n",
       "      <td>NaN</td>\n",
       "      <td>NaN</td>\n",
       "    </tr>\n",
       "    <tr>\n",
       "      <th>311</th>\n",
       "      <td>Porsche - Adjustment of approval process for n...</td>\n",
       "      <td>CI-6901</td>\n",
       "      <td>393357</td>\n",
       "      <td>Expense Delivery</td>\n",
       "      <td>Closed</td>\n",
       "      <td>CI</td>\n",
       "      <td>codebusters</td>\n",
       "      <td>software</td>\n",
       "      <td>rohkamm</td>\n",
       "      <td>NaN</td>\n",
       "      <td>...</td>\n",
       "      <td>NaN</td>\n",
       "      <td>NaN</td>\n",
       "      <td>NaN</td>\n",
       "      <td>NaN</td>\n",
       "      <td>NaN</td>\n",
       "      <td>NaN</td>\n",
       "      <td>NaN</td>\n",
       "      <td>NaN</td>\n",
       "      <td>NaN</td>\n",
       "      <td>NaN</td>\n",
       "    </tr>\n",
       "    <tr>\n",
       "      <th>312</th>\n",
       "      <td>Hugo Boss - add 3 new meal receipt types for t...</td>\n",
       "      <td>CI-6825</td>\n",
       "      <td>389774</td>\n",
       "      <td>Expense Delivery</td>\n",
       "      <td>Closed</td>\n",
       "      <td>CI</td>\n",
       "      <td>codebusters</td>\n",
       "      <td>software</td>\n",
       "      <td>rohkamm</td>\n",
       "      <td>NaN</td>\n",
       "      <td>...</td>\n",
       "      <td>NaN</td>\n",
       "      <td>NaN</td>\n",
       "      <td>NaN</td>\n",
       "      <td>NaN</td>\n",
       "      <td>NaN</td>\n",
       "      <td>NaN</td>\n",
       "      <td>NaN</td>\n",
       "      <td>NaN</td>\n",
       "      <td>NaN</td>\n",
       "      <td>NaN</td>\n",
       "    </tr>\n",
       "    <tr>\n",
       "      <th>313</th>\n",
       "      <td>Replace deprecate method setReceiptTypeList in...</td>\n",
       "      <td>CI-5953</td>\n",
       "      <td>349721</td>\n",
       "      <td>Expense Delivery</td>\n",
       "      <td>Closed</td>\n",
       "      <td>CI</td>\n",
       "      <td>codebusters</td>\n",
       "      <td>software</td>\n",
       "      <td>rohkamm</td>\n",
       "      <td>NaN</td>\n",
       "      <td>...</td>\n",
       "      <td>NaN</td>\n",
       "      <td>NaN</td>\n",
       "      <td>NaN</td>\n",
       "      <td>NaN</td>\n",
       "      <td>NaN</td>\n",
       "      <td>NaN</td>\n",
       "      <td>NaN</td>\n",
       "      <td>NaN</td>\n",
       "      <td>NaN</td>\n",
       "      <td>NaN</td>\n",
       "    </tr>\n",
       "  </tbody>\n",
       "</table>\n",
       "<p>314 rows × 276 columns</p>\n",
       "</div>"
      ],
      "text/plain": [
       "                                               Summary Issue key  Issue id  \\\n",
       "0                       Rehau - Add EDI number Airplus   CI-8574    468635   \n",
       "1              Numiga VFL Wolfsburg - Remove a receipt   CI-8568    468149   \n",
       "2                            oebb: correct perdiem/EMS   CI-8560    467735   \n",
       "3         Hensoldt - Update Approval notification mail   CI-8554    467243   \n",
       "4       vw-cso: activate bing map in itinerary section   CI-8552    467085   \n",
       "..                                                 ...       ...       ...   \n",
       "309  Aquila Capital - Expense issue with export and...   CI-6926    393799   \n",
       "310  VW - Splitting of approval for expense statements   CI-6911    393585   \n",
       "311  Porsche - Adjustment of approval process for n...   CI-6901    393357   \n",
       "312  Hugo Boss - add 3 new meal receipt types for t...   CI-6825    389774   \n",
       "313  Replace deprecate method setReceiptTypeList in...   CI-5953    349721   \n",
       "\n",
       "           Issue Type  Status Project key Project name Project type  \\\n",
       "0    Expense Delivery  Closed          CI  codebusters     software   \n",
       "1    Expense Delivery  Closed          CI  codebusters     software   \n",
       "2    Expense Delivery  Closed          CI  codebusters     software   \n",
       "3    Expense Delivery  Closed          CI  codebusters     software   \n",
       "4    Expense Delivery  Closed          CI  codebusters     software   \n",
       "..                ...     ...         ...          ...          ...   \n",
       "309  Expense Delivery  Closed          CI  codebusters     software   \n",
       "310  Expense Delivery  Closed          CI  codebusters     software   \n",
       "311  Expense Delivery  Closed          CI  codebusters     software   \n",
       "312  Expense Delivery  Closed          CI  codebusters     software   \n",
       "313  Expense Delivery  Closed          CI  codebusters     software   \n",
       "\n",
       "    Project lead  Project description  ...  \\\n",
       "0        rohkamm                  NaN  ...   \n",
       "1        rohkamm                  NaN  ...   \n",
       "2        rohkamm                  NaN  ...   \n",
       "3        rohkamm                  NaN  ...   \n",
       "4        rohkamm                  NaN  ...   \n",
       "..           ...                  ...  ...   \n",
       "309      rohkamm                  NaN  ...   \n",
       "310      rohkamm                  NaN  ...   \n",
       "311      rohkamm                  NaN  ...   \n",
       "312      rohkamm                  NaN  ...   \n",
       "313      rohkamm                  NaN  ...   \n",
       "\n",
       "                                            Comment.18  \\\n",
       "0                                                  NaN   \n",
       "1                                                  NaN   \n",
       "2                                                  NaN   \n",
       "3                                                  NaN   \n",
       "4                                                  NaN   \n",
       "..                                                 ...   \n",
       "309  04/Aug/22 10:36 AM;gmalarski;Export path added...   \n",
       "310                                                NaN   \n",
       "311                                                NaN   \n",
       "312                                                NaN   \n",
       "313                                                NaN   \n",
       "\n",
       "                                            Comment.19  Comment.20 Comment.21  \\\n",
       "0                                                  NaN         NaN        NaN   \n",
       "1                                                  NaN         NaN        NaN   \n",
       "2                                                  NaN         NaN        NaN   \n",
       "3                                                  NaN         NaN        NaN   \n",
       "4                                                  NaN         NaN        NaN   \n",
       "..                                                 ...         ...        ...   \n",
       "309  27/Jan/23 7:54 PM;raphose;SR is closed since A...         NaN        NaN   \n",
       "310                                                NaN         NaN        NaN   \n",
       "311                                                NaN         NaN        NaN   \n",
       "312                                                NaN         NaN        NaN   \n",
       "313                                                NaN         NaN        NaN   \n",
       "\n",
       "    Comment.22 Comment.23 Comment.24 Comment.25 Comment.26 Comment.27  \n",
       "0          NaN        NaN        NaN        NaN        NaN        NaN  \n",
       "1          NaN        NaN        NaN        NaN        NaN        NaN  \n",
       "2          NaN        NaN        NaN        NaN        NaN        NaN  \n",
       "3          NaN        NaN        NaN        NaN        NaN        NaN  \n",
       "4          NaN        NaN        NaN        NaN        NaN        NaN  \n",
       "..         ...        ...        ...        ...        ...        ...  \n",
       "309        NaN        NaN        NaN        NaN        NaN        NaN  \n",
       "310        NaN        NaN        NaN        NaN        NaN        NaN  \n",
       "311        NaN        NaN        NaN        NaN        NaN        NaN  \n",
       "312        NaN        NaN        NaN        NaN        NaN        NaN  \n",
       "313        NaN        NaN        NaN        NaN        NaN        NaN  \n",
       "\n",
       "[314 rows x 276 columns]"
      ]
     },
     "execution_count": 37,
     "metadata": {},
     "output_type": "execute_result"
    }
   ],
   "source": [
    "all_sr_origin = pd.read_csv('../../DataSets/KPIs/MainTickets/all_service_requests.csv')\n",
    "all_sr_origin"
   ]
  },
  {
   "cell_type": "markdown",
   "metadata": {},
   "source": [
    "### Select from the dataset only columns necessary for the further analysis"
   ]
  },
  {
   "cell_type": "code",
   "execution_count": 38,
   "metadata": {},
   "outputs": [
    {
     "name": "stderr",
     "output_type": "stream",
     "text": [
      "C:\\Users\\gmalarski\\Anaconda3\\lib\\site-packages\\pandas\\core\\frame.py:4125: SettingWithCopyWarning: \n",
      "A value is trying to be set on a copy of a slice from a DataFrame\n",
      "\n",
      "See the caveats in the documentation: https://pandas.pydata.org/pandas-docs/stable/user_guide/indexing.html#returning-a-view-versus-a-copy\n",
      "  return super().rename(\n"
     ]
    }
   ],
   "source": [
    "all_sr = all_sr_origin[['Issue key', 'Issue id', 'Status', 'Reporter', 'Created', 'Due Date', 'Resolved', 'Custom field (Customer/s)','Custom field (Type of Request)']]\n",
    "all_sr.rename({\"Custom field (Customer/s)\": \"Customer\", \"Custom field (Type of Request)\":\"Type of Request\"},axis=1, inplace=True)"
   ]
  },
  {
   "cell_type": "code",
   "execution_count": 39,
   "metadata": {
    "scrolled": true
   },
   "outputs": [
    {
     "name": "stdout",
     "output_type": "stream",
     "text": [
      "<class 'pandas.core.frame.DataFrame'>\n",
      "RangeIndex: 314 entries, 0 to 313\n",
      "Data columns (total 9 columns):\n",
      " #   Column           Non-Null Count  Dtype \n",
      "---  ------           --------------  ----- \n",
      " 0   Issue key        314 non-null    object\n",
      " 1   Issue id         314 non-null    int64 \n",
      " 2   Status           314 non-null    object\n",
      " 3   Reporter         314 non-null    object\n",
      " 4   Created          314 non-null    object\n",
      " 5   Due Date         314 non-null    object\n",
      " 6   Resolved         314 non-null    object\n",
      " 7   Customer         314 non-null    object\n",
      " 8   Type of Request  314 non-null    object\n",
      "dtypes: int64(1), object(8)\n",
      "memory usage: 22.2+ KB\n"
     ]
    }
   ],
   "source": [
    "all_sr.info()"
   ]
  },
  {
   "cell_type": "code",
   "execution_count": 40,
   "metadata": {},
   "outputs": [
    {
     "data": {
      "text/plain": [
       "Issue key          0\n",
       "Issue id           0\n",
       "Status             0\n",
       "Reporter           0\n",
       "Created            0\n",
       "Due Date           0\n",
       "Resolved           0\n",
       "Customer           0\n",
       "Type of Request    0\n",
       "dtype: int64"
      ]
     },
     "execution_count": 40,
     "metadata": {},
     "output_type": "execute_result"
    }
   ],
   "source": [
    "all_sr.isnull().sum()"
   ]
  },
  {
   "cell_type": "markdown",
   "metadata": {
    "scrolled": false
   },
   "source": [
    "### Convert date table to `datetime` object"
   ]
  },
  {
   "cell_type": "code",
   "execution_count": 41,
   "metadata": {
    "scrolled": true
   },
   "outputs": [
    {
     "name": "stderr",
     "output_type": "stream",
     "text": [
      "<ipython-input-41-40075430d991>:1: SettingWithCopyWarning: \n",
      "A value is trying to be set on a copy of a slice from a DataFrame.\n",
      "Try using .loc[row_indexer,col_indexer] = value instead\n",
      "\n",
      "See the caveats in the documentation: https://pandas.pydata.org/pandas-docs/stable/user_guide/indexing.html#returning-a-view-versus-a-copy\n",
      "  all_sr[\"Created\"] = pd.to_datetime(all_sr[\"Created\"])\n",
      "<ipython-input-41-40075430d991>:2: SettingWithCopyWarning: \n",
      "A value is trying to be set on a copy of a slice from a DataFrame.\n",
      "Try using .loc[row_indexer,col_indexer] = value instead\n",
      "\n",
      "See the caveats in the documentation: https://pandas.pydata.org/pandas-docs/stable/user_guide/indexing.html#returning-a-view-versus-a-copy\n",
      "  all_sr[\"Resolved\"] = pd.to_datetime(all_sr[\"Resolved\"])\n"
     ]
    }
   ],
   "source": [
    "all_sr[\"Created\"] = pd.to_datetime(all_sr[\"Created\"])\n",
    "all_sr[\"Resolved\"] = pd.to_datetime(all_sr[\"Resolved\"])"
   ]
  },
  {
   "cell_type": "code",
   "execution_count": 42,
   "metadata": {
    "scrolled": true
   },
   "outputs": [
    {
     "name": "stdout",
     "output_type": "stream",
     "text": [
      "<class 'pandas.core.frame.DataFrame'>\n",
      "RangeIndex: 314 entries, 0 to 313\n",
      "Data columns (total 9 columns):\n",
      " #   Column           Non-Null Count  Dtype         \n",
      "---  ------           --------------  -----         \n",
      " 0   Issue key        314 non-null    object        \n",
      " 1   Issue id         314 non-null    int64         \n",
      " 2   Status           314 non-null    object        \n",
      " 3   Reporter         314 non-null    object        \n",
      " 4   Created          314 non-null    datetime64[ns]\n",
      " 5   Due Date         314 non-null    object        \n",
      " 6   Resolved         314 non-null    datetime64[ns]\n",
      " 7   Customer         314 non-null    object        \n",
      " 8   Type of Request  314 non-null    object        \n",
      "dtypes: datetime64[ns](2), int64(1), object(6)\n",
      "memory usage: 22.2+ KB\n"
     ]
    }
   ],
   "source": [
    "all_sr.info()"
   ]
  },
  {
   "cell_type": "markdown",
   "metadata": {},
   "source": [
    "**Summary**\n",
    "- there is not SR ticket without `resolved` date\n",
    "- there is no `null` value in any of the column\n",
    "- date type columns converted to `datetime` object in order to make calculucations on these columns"
   ]
  },
  {
   "cell_type": "markdown",
   "metadata": {},
   "source": [
    "# Prepare data with individuals tasks for service requests"
   ]
  },
  {
   "cell_type": "markdown",
   "metadata": {},
   "source": [
    "## Import and clean `all_individual_tasks` data set \n",
    "- we are not able to downaload full data becuase of jira limitation, therefore we need to combine data from differen periods\n",
    "- remove unnecessary columns\n",
    "- replace missing `date` values with 0\n",
    "- drop rows with \"null\" values"
   ]
  },
  {
   "cell_type": "code",
   "execution_count": 43,
   "metadata": {
    "scrolled": true
   },
   "outputs": [
    {
     "name": "stderr",
     "output_type": "stream",
     "text": [
      "C:\\Users\\gmalarski\\Anaconda3\\lib\\site-packages\\IPython\\core\\interactiveshell.py:3071: DtypeWarning: Columns (25,29,30,31,42,43,224,225,226,227,228,229,230,231,232,233,234,235,236,237,238,239) have mixed types.Specify dtype option on import or set low_memory=False.\n",
      "  has_raised = await self.run_ast_nodes(code_ast.body, cell_name,\n",
      "C:\\Users\\gmalarski\\Anaconda3\\lib\\site-packages\\IPython\\core\\interactiveshell.py:3071: DtypeWarning: Columns (21,35,36,74,77,215,216,217,218,249,286,287) have mixed types.Specify dtype option on import or set low_memory=False.\n",
      "  has_raised = await self.run_ast_nodes(code_ast.body, cell_name,\n",
      "C:\\Users\\gmalarski\\Anaconda3\\lib\\site-packages\\IPython\\core\\interactiveshell.py:3071: DtypeWarning: Columns (215,216,217,218,219,220,221,222,223,224,225,226,227,228,229,230,231,232) have mixed types.Specify dtype option on import or set low_memory=False.\n",
      "  has_raised = await self.run_ast_nodes(code_ast.body, cell_name,\n",
      "C:\\Users\\gmalarski\\Anaconda3\\lib\\site-packages\\IPython\\core\\interactiveshell.py:3071: DtypeWarning: Columns (25,215,216,217,218,219,220,221,222,223,224,225) have mixed types.Specify dtype option on import or set low_memory=False.\n",
      "  has_raised = await self.run_ast_nodes(code_ast.body, cell_name,\n"
     ]
    },
    {
     "data": {
      "text/html": [
       "<div>\n",
       "<style scoped>\n",
       "    .dataframe tbody tr th:only-of-type {\n",
       "        vertical-align: middle;\n",
       "    }\n",
       "\n",
       "    .dataframe tbody tr th {\n",
       "        vertical-align: top;\n",
       "    }\n",
       "\n",
       "    .dataframe thead th {\n",
       "        text-align: right;\n",
       "    }\n",
       "</style>\n",
       "<table border=\"1\" class=\"dataframe\">\n",
       "  <thead>\n",
       "    <tr style=\"text-align: right;\">\n",
       "      <th></th>\n",
       "      <th>Summary</th>\n",
       "      <th>Issue key</th>\n",
       "      <th>Issue id</th>\n",
       "      <th>Parent id</th>\n",
       "      <th>Issue Type</th>\n",
       "      <th>Status</th>\n",
       "      <th>Project key</th>\n",
       "      <th>Project name</th>\n",
       "      <th>Project type</th>\n",
       "      <th>Project lead</th>\n",
       "      <th>...</th>\n",
       "      <th>Custom field (arctic QA Findings)</th>\n",
       "      <th>Custom field (cytric Stability Findings)</th>\n",
       "      <th>Comment</th>\n",
       "      <th>Comment.1</th>\n",
       "      <th>Component/s</th>\n",
       "      <th>Custom field (Customer/s)</th>\n",
       "      <th>Sprint.35</th>\n",
       "      <th>Sprint.36</th>\n",
       "      <th>Custom field (Priority Index)</th>\n",
       "      <th>Custom field (Remaining Story Points)</th>\n",
       "    </tr>\n",
       "  </thead>\n",
       "  <tbody>\n",
       "    <tr>\n",
       "      <th>0</th>\n",
       "      <td>Import in Production</td>\n",
       "      <td>CI-10217127</td>\n",
       "      <td>394675</td>\n",
       "      <td>373630</td>\n",
       "      <td>Individual Task</td>\n",
       "      <td>Done</td>\n",
       "      <td>CI</td>\n",
       "      <td>codebusters</td>\n",
       "      <td>software</td>\n",
       "      <td>rohkamm</td>\n",
       "      <td>...</td>\n",
       "      <td>NaN</td>\n",
       "      <td>NaN</td>\n",
       "      <td>NaN</td>\n",
       "      <td>NaN</td>\n",
       "      <td>NaN</td>\n",
       "      <td>NaN</td>\n",
       "      <td>NaN</td>\n",
       "      <td>NaN</td>\n",
       "      <td>NaN</td>\n",
       "      <td>NaN</td>\n",
       "    </tr>\n",
       "    <tr>\n",
       "      <th>1</th>\n",
       "      <td>Communicate</td>\n",
       "      <td>CI-10217126</td>\n",
       "      <td>394671</td>\n",
       "      <td>389490</td>\n",
       "      <td>Individual Task</td>\n",
       "      <td>Done</td>\n",
       "      <td>CI</td>\n",
       "      <td>codebusters</td>\n",
       "      <td>software</td>\n",
       "      <td>rohkamm</td>\n",
       "      <td>...</td>\n",
       "      <td>NaN</td>\n",
       "      <td>NaN</td>\n",
       "      <td>NaN</td>\n",
       "      <td>NaN</td>\n",
       "      <td>NaN</td>\n",
       "      <td>NaN</td>\n",
       "      <td>NaN</td>\n",
       "      <td>NaN</td>\n",
       "      <td>NaN</td>\n",
       "      <td>NaN</td>\n",
       "    </tr>\n",
       "    <tr>\n",
       "      <th>2</th>\n",
       "      <td>Communicate</td>\n",
       "      <td>CI-10217125</td>\n",
       "      <td>394670</td>\n",
       "      <td>393625</td>\n",
       "      <td>Individual Task</td>\n",
       "      <td>Done</td>\n",
       "      <td>CI</td>\n",
       "      <td>codebusters</td>\n",
       "      <td>software</td>\n",
       "      <td>rohkamm</td>\n",
       "      <td>...</td>\n",
       "      <td>NaN</td>\n",
       "      <td>NaN</td>\n",
       "      <td>NaN</td>\n",
       "      <td>NaN</td>\n",
       "      <td>NaN</td>\n",
       "      <td>NaN</td>\n",
       "      <td>NaN</td>\n",
       "      <td>NaN</td>\n",
       "      <td>NaN</td>\n",
       "      <td>NaN</td>\n",
       "    </tr>\n",
       "    <tr>\n",
       "      <th>3</th>\n",
       "      <td>Configure</td>\n",
       "      <td>CI-10217121</td>\n",
       "      <td>394664</td>\n",
       "      <td>389982</td>\n",
       "      <td>Individual Task</td>\n",
       "      <td>Done</td>\n",
       "      <td>CI</td>\n",
       "      <td>codebusters</td>\n",
       "      <td>software</td>\n",
       "      <td>rohkamm</td>\n",
       "      <td>...</td>\n",
       "      <td>NaN</td>\n",
       "      <td>NaN</td>\n",
       "      <td>NaN</td>\n",
       "      <td>NaN</td>\n",
       "      <td>NaN</td>\n",
       "      <td>NaN</td>\n",
       "      <td>NaN</td>\n",
       "      <td>NaN</td>\n",
       "      <td>NaN</td>\n",
       "      <td>NaN</td>\n",
       "    </tr>\n",
       "    <tr>\n",
       "      <th>4</th>\n",
       "      <td>Configure</td>\n",
       "      <td>CI-10217120</td>\n",
       "      <td>394663</td>\n",
       "      <td>370941</td>\n",
       "      <td>Individual Task</td>\n",
       "      <td>Done</td>\n",
       "      <td>CI</td>\n",
       "      <td>codebusters</td>\n",
       "      <td>software</td>\n",
       "      <td>rohkamm</td>\n",
       "      <td>...</td>\n",
       "      <td>NaN</td>\n",
       "      <td>NaN</td>\n",
       "      <td>NaN</td>\n",
       "      <td>NaN</td>\n",
       "      <td>NaN</td>\n",
       "      <td>NaN</td>\n",
       "      <td>NaN</td>\n",
       "      <td>NaN</td>\n",
       "      <td>NaN</td>\n",
       "      <td>NaN</td>\n",
       "    </tr>\n",
       "    <tr>\n",
       "      <th>...</th>\n",
       "      <td>...</td>\n",
       "      <td>...</td>\n",
       "      <td>...</td>\n",
       "      <td>...</td>\n",
       "      <td>...</td>\n",
       "      <td>...</td>\n",
       "      <td>...</td>\n",
       "      <td>...</td>\n",
       "      <td>...</td>\n",
       "      <td>...</td>\n",
       "      <td>...</td>\n",
       "      <td>...</td>\n",
       "      <td>...</td>\n",
       "      <td>...</td>\n",
       "      <td>...</td>\n",
       "      <td>...</td>\n",
       "      <td>...</td>\n",
       "      <td>...</td>\n",
       "      <td>...</td>\n",
       "      <td>...</td>\n",
       "      <td>...</td>\n",
       "    </tr>\n",
       "    <tr>\n",
       "      <th>860</th>\n",
       "      <td>Explain</td>\n",
       "      <td>CI-10237898</td>\n",
       "      <td>465501</td>\n",
       "      <td>465496</td>\n",
       "      <td>Individual Task</td>\n",
       "      <td>Done</td>\n",
       "      <td>CI</td>\n",
       "      <td>codebusters</td>\n",
       "      <td>software</td>\n",
       "      <td>rohkamm</td>\n",
       "      <td>...</td>\n",
       "      <td>NaN</td>\n",
       "      <td>NaN</td>\n",
       "      <td>NaN</td>\n",
       "      <td>NaN</td>\n",
       "      <td>NaN</td>\n",
       "      <td>NaN</td>\n",
       "      <td>NaN</td>\n",
       "      <td>NaN</td>\n",
       "      <td>NaN</td>\n",
       "      <td>NaN</td>\n",
       "    </tr>\n",
       "    <tr>\n",
       "      <th>861</th>\n",
       "      <td>Review</td>\n",
       "      <td>CI-10237897</td>\n",
       "      <td>465500</td>\n",
       "      <td>465499</td>\n",
       "      <td>Individual Task</td>\n",
       "      <td>Done</td>\n",
       "      <td>CI</td>\n",
       "      <td>codebusters</td>\n",
       "      <td>software</td>\n",
       "      <td>rohkamm</td>\n",
       "      <td>...</td>\n",
       "      <td>NaN</td>\n",
       "      <td>NaN</td>\n",
       "      <td>NaN</td>\n",
       "      <td>NaN</td>\n",
       "      <td>NaN</td>\n",
       "      <td>NaN</td>\n",
       "      <td>NaN</td>\n",
       "      <td>NaN</td>\n",
       "      <td>NaN</td>\n",
       "      <td>NaN</td>\n",
       "    </tr>\n",
       "    <tr>\n",
       "      <th>862</th>\n",
       "      <td>Review</td>\n",
       "      <td>CI-10237896</td>\n",
       "      <td>465497</td>\n",
       "      <td>465496</td>\n",
       "      <td>Individual Task</td>\n",
       "      <td>Done</td>\n",
       "      <td>CI</td>\n",
       "      <td>codebusters</td>\n",
       "      <td>software</td>\n",
       "      <td>rohkamm</td>\n",
       "      <td>...</td>\n",
       "      <td>NaN</td>\n",
       "      <td>NaN</td>\n",
       "      <td>NaN</td>\n",
       "      <td>NaN</td>\n",
       "      <td>NaN</td>\n",
       "      <td>NaN</td>\n",
       "      <td>NaN</td>\n",
       "      <td>NaN</td>\n",
       "      <td>NaN</td>\n",
       "      <td>NaN</td>\n",
       "    </tr>\n",
       "    <tr>\n",
       "      <th>863</th>\n",
       "      <td>Review</td>\n",
       "      <td>CI-10237895</td>\n",
       "      <td>465494</td>\n",
       "      <td>465493</td>\n",
       "      <td>Individual Task</td>\n",
       "      <td>Done</td>\n",
       "      <td>CI</td>\n",
       "      <td>codebusters</td>\n",
       "      <td>software</td>\n",
       "      <td>rohkamm</td>\n",
       "      <td>...</td>\n",
       "      <td>NaN</td>\n",
       "      <td>NaN</td>\n",
       "      <td>NaN</td>\n",
       "      <td>NaN</td>\n",
       "      <td>NaN</td>\n",
       "      <td>NaN</td>\n",
       "      <td>NaN</td>\n",
       "      <td>NaN</td>\n",
       "      <td>NaN</td>\n",
       "      <td>NaN</td>\n",
       "    </tr>\n",
       "    <tr>\n",
       "      <th>864</th>\n",
       "      <td>Review</td>\n",
       "      <td>CI-10237894</td>\n",
       "      <td>465492</td>\n",
       "      <td>465491</td>\n",
       "      <td>Individual Task</td>\n",
       "      <td>Done</td>\n",
       "      <td>CI</td>\n",
       "      <td>codebusters</td>\n",
       "      <td>software</td>\n",
       "      <td>rohkamm</td>\n",
       "      <td>...</td>\n",
       "      <td>NaN</td>\n",
       "      <td>NaN</td>\n",
       "      <td>NaN</td>\n",
       "      <td>NaN</td>\n",
       "      <td>NaN</td>\n",
       "      <td>NaN</td>\n",
       "      <td>NaN</td>\n",
       "      <td>NaN</td>\n",
       "      <td>NaN</td>\n",
       "      <td>NaN</td>\n",
       "    </tr>\n",
       "  </tbody>\n",
       "</table>\n",
       "<p>14072 rows × 315 columns</p>\n",
       "</div>"
      ],
      "text/plain": [
       "                  Summary    Issue key  Issue id  Parent id       Issue Type  \\\n",
       "0    Import in Production  CI-10217127    394675     373630  Individual Task   \n",
       "1             Communicate  CI-10217126    394671     389490  Individual Task   \n",
       "2             Communicate  CI-10217125    394670     393625  Individual Task   \n",
       "3               Configure  CI-10217121    394664     389982  Individual Task   \n",
       "4               Configure  CI-10217120    394663     370941  Individual Task   \n",
       "..                    ...          ...       ...        ...              ...   \n",
       "860               Explain  CI-10237898    465501     465496  Individual Task   \n",
       "861                Review  CI-10237897    465500     465499  Individual Task   \n",
       "862                Review  CI-10237896    465497     465496  Individual Task   \n",
       "863                Review  CI-10237895    465494     465493  Individual Task   \n",
       "864                Review  CI-10237894    465492     465491  Individual Task   \n",
       "\n",
       "    Status Project key Project name Project type Project lead  ...  \\\n",
       "0     Done          CI  codebusters     software      rohkamm  ...   \n",
       "1     Done          CI  codebusters     software      rohkamm  ...   \n",
       "2     Done          CI  codebusters     software      rohkamm  ...   \n",
       "3     Done          CI  codebusters     software      rohkamm  ...   \n",
       "4     Done          CI  codebusters     software      rohkamm  ...   \n",
       "..     ...         ...          ...          ...          ...  ...   \n",
       "860   Done          CI  codebusters     software      rohkamm  ...   \n",
       "861   Done          CI  codebusters     software      rohkamm  ...   \n",
       "862   Done          CI  codebusters     software      rohkamm  ...   \n",
       "863   Done          CI  codebusters     software      rohkamm  ...   \n",
       "864   Done          CI  codebusters     software      rohkamm  ...   \n",
       "\n",
       "     Custom field (arctic QA Findings)  \\\n",
       "0                                  NaN   \n",
       "1                                  NaN   \n",
       "2                                  NaN   \n",
       "3                                  NaN   \n",
       "4                                  NaN   \n",
       "..                                 ...   \n",
       "860                                NaN   \n",
       "861                                NaN   \n",
       "862                                NaN   \n",
       "863                                NaN   \n",
       "864                                NaN   \n",
       "\n",
       "     Custom field (cytric Stability Findings) Comment Comment.1 Component/s  \\\n",
       "0                                         NaN     NaN       NaN         NaN   \n",
       "1                                         NaN     NaN       NaN         NaN   \n",
       "2                                         NaN     NaN       NaN         NaN   \n",
       "3                                         NaN     NaN       NaN         NaN   \n",
       "4                                         NaN     NaN       NaN         NaN   \n",
       "..                                        ...     ...       ...         ...   \n",
       "860                                       NaN     NaN       NaN         NaN   \n",
       "861                                       NaN     NaN       NaN         NaN   \n",
       "862                                       NaN     NaN       NaN         NaN   \n",
       "863                                       NaN     NaN       NaN         NaN   \n",
       "864                                       NaN     NaN       NaN         NaN   \n",
       "\n",
       "    Custom field (Customer/s) Sprint.35 Sprint.36  \\\n",
       "0                         NaN       NaN       NaN   \n",
       "1                         NaN       NaN       NaN   \n",
       "2                         NaN       NaN       NaN   \n",
       "3                         NaN       NaN       NaN   \n",
       "4                         NaN       NaN       NaN   \n",
       "..                        ...       ...       ...   \n",
       "860                       NaN       NaN       NaN   \n",
       "861                       NaN       NaN       NaN   \n",
       "862                       NaN       NaN       NaN   \n",
       "863                       NaN       NaN       NaN   \n",
       "864                       NaN       NaN       NaN   \n",
       "\n",
       "    Custom field (Priority Index) Custom field (Remaining Story Points)  \n",
       "0                             NaN                                   NaN  \n",
       "1                             NaN                                   NaN  \n",
       "2                             NaN                                   NaN  \n",
       "3                             NaN                                   NaN  \n",
       "4                             NaN                                   NaN  \n",
       "..                            ...                                   ...  \n",
       "860                           NaN                                   NaN  \n",
       "861                           NaN                                   NaN  \n",
       "862                           NaN                                   NaN  \n",
       "863                           NaN                                   NaN  \n",
       "864                           NaN                                   NaN  \n",
       "\n",
       "[14072 rows x 315 columns]"
      ]
     },
     "execution_count": 43,
     "metadata": {},
     "output_type": "execute_result"
    }
   ],
   "source": [
    "individual_part_1 = pd.read_csv('../../DataSets/KPIs/IndividualTasks/from20220101_till_2022_05_31.csv')\n",
    "individual_part_2 = pd.read_csv('../../DataSets/KPIs/IndividualTasks/from_20220601_till_20220831.csv')\n",
    "individual_part_3 = pd.read_csv('../../DataSets/KPIs/IndividualTasks/from_20220901_till_20221231.csv')\n",
    "individual_part_4 = pd.read_csv('../../DataSets/KPIs/IndividualTasks/from20230101_till_20230310.csv')\n",
    "individual_part_5 = pd.read_csv('../../DataSets/KPIs/IndividualTasks/from20230311_till_20230417.csv')\n",
    "individual_part_5 = pd.read_csv('../../DataSets/KPIs/IndividualTasks/from20230418_till_20230511.csv')\n",
    "\n",
    "\n",
    "all_individual_tasks_combined = pd.concat([individual_part_1, individual_part_2, individual_part_3, individual_part_4, individual_part_5], axis=0)\n",
    "all_individual_tasks_combined"
   ]
  },
  {
   "cell_type": "markdown",
   "metadata": {},
   "source": [
    "### Reset indexex of a combined dataset </br>\n",
    "Indexes of a new dataset are not appropriate, we need to apply `reset_index` method in order to match them with the number of rows"
   ]
  },
  {
   "cell_type": "code",
   "execution_count": 44,
   "metadata": {
    "scrolled": true
   },
   "outputs": [
    {
     "data": {
      "text/html": [
       "<div>\n",
       "<style scoped>\n",
       "    .dataframe tbody tr th:only-of-type {\n",
       "        vertical-align: middle;\n",
       "    }\n",
       "\n",
       "    .dataframe tbody tr th {\n",
       "        vertical-align: top;\n",
       "    }\n",
       "\n",
       "    .dataframe thead th {\n",
       "        text-align: right;\n",
       "    }\n",
       "</style>\n",
       "<table border=\"1\" class=\"dataframe\">\n",
       "  <thead>\n",
       "    <tr style=\"text-align: right;\">\n",
       "      <th></th>\n",
       "      <th>index</th>\n",
       "      <th>Summary</th>\n",
       "      <th>Issue key</th>\n",
       "      <th>Issue id</th>\n",
       "      <th>Parent id</th>\n",
       "      <th>Issue Type</th>\n",
       "      <th>Status</th>\n",
       "      <th>Project key</th>\n",
       "      <th>Project name</th>\n",
       "      <th>Project type</th>\n",
       "      <th>...</th>\n",
       "      <th>Custom field (arctic QA Findings)</th>\n",
       "      <th>Custom field (cytric Stability Findings)</th>\n",
       "      <th>Comment</th>\n",
       "      <th>Comment.1</th>\n",
       "      <th>Component/s</th>\n",
       "      <th>Custom field (Customer/s)</th>\n",
       "      <th>Sprint.35</th>\n",
       "      <th>Sprint.36</th>\n",
       "      <th>Custom field (Priority Index)</th>\n",
       "      <th>Custom field (Remaining Story Points)</th>\n",
       "    </tr>\n",
       "  </thead>\n",
       "  <tbody>\n",
       "    <tr>\n",
       "      <th>0</th>\n",
       "      <td>0</td>\n",
       "      <td>Import in Production</td>\n",
       "      <td>CI-10217127</td>\n",
       "      <td>394675</td>\n",
       "      <td>373630</td>\n",
       "      <td>Individual Task</td>\n",
       "      <td>Done</td>\n",
       "      <td>CI</td>\n",
       "      <td>codebusters</td>\n",
       "      <td>software</td>\n",
       "      <td>...</td>\n",
       "      <td>NaN</td>\n",
       "      <td>NaN</td>\n",
       "      <td>NaN</td>\n",
       "      <td>NaN</td>\n",
       "      <td>NaN</td>\n",
       "      <td>NaN</td>\n",
       "      <td>NaN</td>\n",
       "      <td>NaN</td>\n",
       "      <td>NaN</td>\n",
       "      <td>NaN</td>\n",
       "    </tr>\n",
       "    <tr>\n",
       "      <th>1</th>\n",
       "      <td>1</td>\n",
       "      <td>Communicate</td>\n",
       "      <td>CI-10217126</td>\n",
       "      <td>394671</td>\n",
       "      <td>389490</td>\n",
       "      <td>Individual Task</td>\n",
       "      <td>Done</td>\n",
       "      <td>CI</td>\n",
       "      <td>codebusters</td>\n",
       "      <td>software</td>\n",
       "      <td>...</td>\n",
       "      <td>NaN</td>\n",
       "      <td>NaN</td>\n",
       "      <td>NaN</td>\n",
       "      <td>NaN</td>\n",
       "      <td>NaN</td>\n",
       "      <td>NaN</td>\n",
       "      <td>NaN</td>\n",
       "      <td>NaN</td>\n",
       "      <td>NaN</td>\n",
       "      <td>NaN</td>\n",
       "    </tr>\n",
       "    <tr>\n",
       "      <th>2</th>\n",
       "      <td>2</td>\n",
       "      <td>Communicate</td>\n",
       "      <td>CI-10217125</td>\n",
       "      <td>394670</td>\n",
       "      <td>393625</td>\n",
       "      <td>Individual Task</td>\n",
       "      <td>Done</td>\n",
       "      <td>CI</td>\n",
       "      <td>codebusters</td>\n",
       "      <td>software</td>\n",
       "      <td>...</td>\n",
       "      <td>NaN</td>\n",
       "      <td>NaN</td>\n",
       "      <td>NaN</td>\n",
       "      <td>NaN</td>\n",
       "      <td>NaN</td>\n",
       "      <td>NaN</td>\n",
       "      <td>NaN</td>\n",
       "      <td>NaN</td>\n",
       "      <td>NaN</td>\n",
       "      <td>NaN</td>\n",
       "    </tr>\n",
       "    <tr>\n",
       "      <th>3</th>\n",
       "      <td>3</td>\n",
       "      <td>Configure</td>\n",
       "      <td>CI-10217121</td>\n",
       "      <td>394664</td>\n",
       "      <td>389982</td>\n",
       "      <td>Individual Task</td>\n",
       "      <td>Done</td>\n",
       "      <td>CI</td>\n",
       "      <td>codebusters</td>\n",
       "      <td>software</td>\n",
       "      <td>...</td>\n",
       "      <td>NaN</td>\n",
       "      <td>NaN</td>\n",
       "      <td>NaN</td>\n",
       "      <td>NaN</td>\n",
       "      <td>NaN</td>\n",
       "      <td>NaN</td>\n",
       "      <td>NaN</td>\n",
       "      <td>NaN</td>\n",
       "      <td>NaN</td>\n",
       "      <td>NaN</td>\n",
       "    </tr>\n",
       "    <tr>\n",
       "      <th>4</th>\n",
       "      <td>4</td>\n",
       "      <td>Configure</td>\n",
       "      <td>CI-10217120</td>\n",
       "      <td>394663</td>\n",
       "      <td>370941</td>\n",
       "      <td>Individual Task</td>\n",
       "      <td>Done</td>\n",
       "      <td>CI</td>\n",
       "      <td>codebusters</td>\n",
       "      <td>software</td>\n",
       "      <td>...</td>\n",
       "      <td>NaN</td>\n",
       "      <td>NaN</td>\n",
       "      <td>NaN</td>\n",
       "      <td>NaN</td>\n",
       "      <td>NaN</td>\n",
       "      <td>NaN</td>\n",
       "      <td>NaN</td>\n",
       "      <td>NaN</td>\n",
       "      <td>NaN</td>\n",
       "      <td>NaN</td>\n",
       "    </tr>\n",
       "    <tr>\n",
       "      <th>...</th>\n",
       "      <td>...</td>\n",
       "      <td>...</td>\n",
       "      <td>...</td>\n",
       "      <td>...</td>\n",
       "      <td>...</td>\n",
       "      <td>...</td>\n",
       "      <td>...</td>\n",
       "      <td>...</td>\n",
       "      <td>...</td>\n",
       "      <td>...</td>\n",
       "      <td>...</td>\n",
       "      <td>...</td>\n",
       "      <td>...</td>\n",
       "      <td>...</td>\n",
       "      <td>...</td>\n",
       "      <td>...</td>\n",
       "      <td>...</td>\n",
       "      <td>...</td>\n",
       "      <td>...</td>\n",
       "      <td>...</td>\n",
       "      <td>...</td>\n",
       "    </tr>\n",
       "    <tr>\n",
       "      <th>14067</th>\n",
       "      <td>860</td>\n",
       "      <td>Explain</td>\n",
       "      <td>CI-10237898</td>\n",
       "      <td>465501</td>\n",
       "      <td>465496</td>\n",
       "      <td>Individual Task</td>\n",
       "      <td>Done</td>\n",
       "      <td>CI</td>\n",
       "      <td>codebusters</td>\n",
       "      <td>software</td>\n",
       "      <td>...</td>\n",
       "      <td>NaN</td>\n",
       "      <td>NaN</td>\n",
       "      <td>NaN</td>\n",
       "      <td>NaN</td>\n",
       "      <td>NaN</td>\n",
       "      <td>NaN</td>\n",
       "      <td>NaN</td>\n",
       "      <td>NaN</td>\n",
       "      <td>NaN</td>\n",
       "      <td>NaN</td>\n",
       "    </tr>\n",
       "    <tr>\n",
       "      <th>14068</th>\n",
       "      <td>861</td>\n",
       "      <td>Review</td>\n",
       "      <td>CI-10237897</td>\n",
       "      <td>465500</td>\n",
       "      <td>465499</td>\n",
       "      <td>Individual Task</td>\n",
       "      <td>Done</td>\n",
       "      <td>CI</td>\n",
       "      <td>codebusters</td>\n",
       "      <td>software</td>\n",
       "      <td>...</td>\n",
       "      <td>NaN</td>\n",
       "      <td>NaN</td>\n",
       "      <td>NaN</td>\n",
       "      <td>NaN</td>\n",
       "      <td>NaN</td>\n",
       "      <td>NaN</td>\n",
       "      <td>NaN</td>\n",
       "      <td>NaN</td>\n",
       "      <td>NaN</td>\n",
       "      <td>NaN</td>\n",
       "    </tr>\n",
       "    <tr>\n",
       "      <th>14069</th>\n",
       "      <td>862</td>\n",
       "      <td>Review</td>\n",
       "      <td>CI-10237896</td>\n",
       "      <td>465497</td>\n",
       "      <td>465496</td>\n",
       "      <td>Individual Task</td>\n",
       "      <td>Done</td>\n",
       "      <td>CI</td>\n",
       "      <td>codebusters</td>\n",
       "      <td>software</td>\n",
       "      <td>...</td>\n",
       "      <td>NaN</td>\n",
       "      <td>NaN</td>\n",
       "      <td>NaN</td>\n",
       "      <td>NaN</td>\n",
       "      <td>NaN</td>\n",
       "      <td>NaN</td>\n",
       "      <td>NaN</td>\n",
       "      <td>NaN</td>\n",
       "      <td>NaN</td>\n",
       "      <td>NaN</td>\n",
       "    </tr>\n",
       "    <tr>\n",
       "      <th>14070</th>\n",
       "      <td>863</td>\n",
       "      <td>Review</td>\n",
       "      <td>CI-10237895</td>\n",
       "      <td>465494</td>\n",
       "      <td>465493</td>\n",
       "      <td>Individual Task</td>\n",
       "      <td>Done</td>\n",
       "      <td>CI</td>\n",
       "      <td>codebusters</td>\n",
       "      <td>software</td>\n",
       "      <td>...</td>\n",
       "      <td>NaN</td>\n",
       "      <td>NaN</td>\n",
       "      <td>NaN</td>\n",
       "      <td>NaN</td>\n",
       "      <td>NaN</td>\n",
       "      <td>NaN</td>\n",
       "      <td>NaN</td>\n",
       "      <td>NaN</td>\n",
       "      <td>NaN</td>\n",
       "      <td>NaN</td>\n",
       "    </tr>\n",
       "    <tr>\n",
       "      <th>14071</th>\n",
       "      <td>864</td>\n",
       "      <td>Review</td>\n",
       "      <td>CI-10237894</td>\n",
       "      <td>465492</td>\n",
       "      <td>465491</td>\n",
       "      <td>Individual Task</td>\n",
       "      <td>Done</td>\n",
       "      <td>CI</td>\n",
       "      <td>codebusters</td>\n",
       "      <td>software</td>\n",
       "      <td>...</td>\n",
       "      <td>NaN</td>\n",
       "      <td>NaN</td>\n",
       "      <td>NaN</td>\n",
       "      <td>NaN</td>\n",
       "      <td>NaN</td>\n",
       "      <td>NaN</td>\n",
       "      <td>NaN</td>\n",
       "      <td>NaN</td>\n",
       "      <td>NaN</td>\n",
       "      <td>NaN</td>\n",
       "    </tr>\n",
       "  </tbody>\n",
       "</table>\n",
       "<p>14072 rows × 316 columns</p>\n",
       "</div>"
      ],
      "text/plain": [
       "       index               Summary    Issue key  Issue id  Parent id  \\\n",
       "0          0  Import in Production  CI-10217127    394675     373630   \n",
       "1          1           Communicate  CI-10217126    394671     389490   \n",
       "2          2           Communicate  CI-10217125    394670     393625   \n",
       "3          3             Configure  CI-10217121    394664     389982   \n",
       "4          4             Configure  CI-10217120    394663     370941   \n",
       "...      ...                   ...          ...       ...        ...   \n",
       "14067    860               Explain  CI-10237898    465501     465496   \n",
       "14068    861                Review  CI-10237897    465500     465499   \n",
       "14069    862                Review  CI-10237896    465497     465496   \n",
       "14070    863                Review  CI-10237895    465494     465493   \n",
       "14071    864                Review  CI-10237894    465492     465491   \n",
       "\n",
       "            Issue Type Status Project key Project name Project type  ...  \\\n",
       "0      Individual Task   Done          CI  codebusters     software  ...   \n",
       "1      Individual Task   Done          CI  codebusters     software  ...   \n",
       "2      Individual Task   Done          CI  codebusters     software  ...   \n",
       "3      Individual Task   Done          CI  codebusters     software  ...   \n",
       "4      Individual Task   Done          CI  codebusters     software  ...   \n",
       "...                ...    ...         ...          ...          ...  ...   \n",
       "14067  Individual Task   Done          CI  codebusters     software  ...   \n",
       "14068  Individual Task   Done          CI  codebusters     software  ...   \n",
       "14069  Individual Task   Done          CI  codebusters     software  ...   \n",
       "14070  Individual Task   Done          CI  codebusters     software  ...   \n",
       "14071  Individual Task   Done          CI  codebusters     software  ...   \n",
       "\n",
       "      Custom field (arctic QA Findings)  \\\n",
       "0                                   NaN   \n",
       "1                                   NaN   \n",
       "2                                   NaN   \n",
       "3                                   NaN   \n",
       "4                                   NaN   \n",
       "...                                 ...   \n",
       "14067                               NaN   \n",
       "14068                               NaN   \n",
       "14069                               NaN   \n",
       "14070                               NaN   \n",
       "14071                               NaN   \n",
       "\n",
       "       Custom field (cytric Stability Findings)  Comment Comment.1  \\\n",
       "0                                           NaN      NaN       NaN   \n",
       "1                                           NaN      NaN       NaN   \n",
       "2                                           NaN      NaN       NaN   \n",
       "3                                           NaN      NaN       NaN   \n",
       "4                                           NaN      NaN       NaN   \n",
       "...                                         ...      ...       ...   \n",
       "14067                                       NaN      NaN       NaN   \n",
       "14068                                       NaN      NaN       NaN   \n",
       "14069                                       NaN      NaN       NaN   \n",
       "14070                                       NaN      NaN       NaN   \n",
       "14071                                       NaN      NaN       NaN   \n",
       "\n",
       "      Component/s Custom field (Customer/s) Sprint.35 Sprint.36  \\\n",
       "0             NaN                       NaN       NaN       NaN   \n",
       "1             NaN                       NaN       NaN       NaN   \n",
       "2             NaN                       NaN       NaN       NaN   \n",
       "3             NaN                       NaN       NaN       NaN   \n",
       "4             NaN                       NaN       NaN       NaN   \n",
       "...           ...                       ...       ...       ...   \n",
       "14067         NaN                       NaN       NaN       NaN   \n",
       "14068         NaN                       NaN       NaN       NaN   \n",
       "14069         NaN                       NaN       NaN       NaN   \n",
       "14070         NaN                       NaN       NaN       NaN   \n",
       "14071         NaN                       NaN       NaN       NaN   \n",
       "\n",
       "      Custom field (Priority Index) Custom field (Remaining Story Points)  \n",
       "0                               NaN                                   NaN  \n",
       "1                               NaN                                   NaN  \n",
       "2                               NaN                                   NaN  \n",
       "3                               NaN                                   NaN  \n",
       "4                               NaN                                   NaN  \n",
       "...                             ...                                   ...  \n",
       "14067                           NaN                                   NaN  \n",
       "14068                           NaN                                   NaN  \n",
       "14069                           NaN                                   NaN  \n",
       "14070                           NaN                                   NaN  \n",
       "14071                           NaN                                   NaN  \n",
       "\n",
       "[14072 rows x 316 columns]"
      ]
     },
     "execution_count": 44,
     "metadata": {},
     "output_type": "execute_result"
    }
   ],
   "source": [
    "all_individual_tasks_combined.reset_index(inplace=True)\n",
    "all_individual_tasks_combined"
   ]
  },
  {
   "cell_type": "markdown",
   "metadata": {},
   "source": [
    "### Filter columns and select only the ones needed for further calculations"
   ]
  },
  {
   "cell_type": "code",
   "execution_count": 45,
   "metadata": {
    "scrolled": false
   },
   "outputs": [],
   "source": [
    "all_individual_tasks_2022 = all_individual_tasks_combined[['Summary','Issue id', 'Parent id', 'Created', 'Resolved']]"
   ]
  },
  {
   "cell_type": "markdown",
   "metadata": {},
   "source": [
    "Drop columns with missing values"
   ]
  },
  {
   "cell_type": "code",
   "execution_count": 46,
   "metadata": {
    "scrolled": false
   },
   "outputs": [],
   "source": [
    "# all_individual_tasks_2022.dropna(inplace=True)"
   ]
  },
  {
   "cell_type": "markdown",
   "metadata": {},
   "source": [
    "### Convert date like columns to `datetime` object"
   ]
  },
  {
   "cell_type": "code",
   "execution_count": 47,
   "metadata": {
    "scrolled": true
   },
   "outputs": [
    {
     "name": "stderr",
     "output_type": "stream",
     "text": [
      "<ipython-input-47-00e4628fe922>:1: SettingWithCopyWarning: \n",
      "A value is trying to be set on a copy of a slice from a DataFrame.\n",
      "Try using .loc[row_indexer,col_indexer] = value instead\n",
      "\n",
      "See the caveats in the documentation: https://pandas.pydata.org/pandas-docs/stable/user_guide/indexing.html#returning-a-view-versus-a-copy\n",
      "  all_individual_tasks_2022[\"Created\"] = pd.to_datetime(all_individual_tasks_2022[\"Created\"])\n"
     ]
    },
    {
     "name": "stdout",
     "output_type": "stream",
     "text": [
      "<class 'pandas.core.frame.DataFrame'>\n",
      "RangeIndex: 14072 entries, 0 to 14071\n",
      "Data columns (total 5 columns):\n",
      " #   Column     Non-Null Count  Dtype         \n",
      "---  ------     --------------  -----         \n",
      " 0   Summary    14072 non-null  object        \n",
      " 1   Issue id   14072 non-null  int64         \n",
      " 2   Parent id  14072 non-null  int64         \n",
      " 3   Created    14072 non-null  datetime64[ns]\n",
      " 4   Resolved   13635 non-null  datetime64[ns]\n",
      "dtypes: datetime64[ns](2), int64(2), object(1)\n",
      "memory usage: 549.8+ KB\n"
     ]
    },
    {
     "name": "stderr",
     "output_type": "stream",
     "text": [
      "<ipython-input-47-00e4628fe922>:2: SettingWithCopyWarning: \n",
      "A value is trying to be set on a copy of a slice from a DataFrame.\n",
      "Try using .loc[row_indexer,col_indexer] = value instead\n",
      "\n",
      "See the caveats in the documentation: https://pandas.pydata.org/pandas-docs/stable/user_guide/indexing.html#returning-a-view-versus-a-copy\n",
      "  all_individual_tasks_2022[\"Resolved\"] = pd.to_datetime(all_individual_tasks_2022[\"Resolved\"])\n"
     ]
    }
   ],
   "source": [
    "all_individual_tasks_2022[\"Created\"] = pd.to_datetime(all_individual_tasks_2022[\"Created\"])\n",
    "all_individual_tasks_2022[\"Resolved\"] = pd.to_datetime(all_individual_tasks_2022[\"Resolved\"])\n",
    "all_individual_tasks_2022.info()"
   ]
  },
  {
   "cell_type": "code",
   "execution_count": 48,
   "metadata": {
    "scrolled": true
   },
   "outputs": [
    {
     "data": {
      "text/plain": [
       "Configure                         2501\n",
       "Review                            2496\n",
       "Verify                            2191\n",
       "Communicate                       2009\n",
       "Import to Test System             1822\n",
       "Import in Production              1688\n",
       "Import to Customer Test System     629\n",
       "Explain                            333\n",
       "Import to Staging System           161\n",
       "Clarify                            158\n",
       "Do                                  73\n",
       "Marcin Training                      2\n",
       "Michał Training                      2\n",
       "Maciej Training                      2\n",
       "CLONE - Review                       1\n",
       "Bartosz Training                     1\n",
       "Training - Maciej                    1\n",
       "Import to Test/Staging               1\n",
       "Training - Marcin                    1\n",
       "Name: Summary, dtype: int64"
      ]
     },
     "execution_count": 48,
     "metadata": {},
     "output_type": "execute_result"
    }
   ],
   "source": [
    "all_individual_tasks_2022['Summary'].value_counts()"
   ]
  },
  {
   "cell_type": "markdown",
   "metadata": {},
   "source": [
    "### Check if there are any `null` values"
   ]
  },
  {
   "cell_type": "code",
   "execution_count": 49,
   "metadata": {
    "scrolled": false
   },
   "outputs": [
    {
     "data": {
      "text/plain": [
       "Summary        0\n",
       "Issue id       0\n",
       "Parent id      0\n",
       "Created        0\n",
       "Resolved     437\n",
       "dtype: int64"
      ]
     },
     "execution_count": 49,
     "metadata": {},
     "output_type": "execute_result"
    }
   ],
   "source": [
    "all_individual_tasks_2022.isnull().sum()"
   ]
  },
  {
   "cell_type": "markdown",
   "metadata": {},
   "source": [
    "### Drop all rows with null value"
   ]
  },
  {
   "cell_type": "code",
   "execution_count": 50,
   "metadata": {
    "scrolled": true
   },
   "outputs": [
    {
     "name": "stderr",
     "output_type": "stream",
     "text": [
      "<ipython-input-50-ff50a85e03df>:1: SettingWithCopyWarning: \n",
      "A value is trying to be set on a copy of a slice from a DataFrame\n",
      "\n",
      "See the caveats in the documentation: https://pandas.pydata.org/pandas-docs/stable/user_guide/indexing.html#returning-a-view-versus-a-copy\n",
      "  all_individual_tasks_2022.dropna(inplace=True)\n"
     ]
    },
    {
     "data": {
      "text/plain": [
       "Summary      0\n",
       "Issue id     0\n",
       "Parent id    0\n",
       "Created      0\n",
       "Resolved     0\n",
       "dtype: int64"
      ]
     },
     "execution_count": 50,
     "metadata": {},
     "output_type": "execute_result"
    }
   ],
   "source": [
    "all_individual_tasks_2022.dropna(inplace=True)\n",
    "all_individual_tasks_2022.isnull().sum()"
   ]
  },
  {
   "cell_type": "markdown",
   "metadata": {},
   "source": [
    "**Summary:**\n",
    "\n",
    "- We are interested only in completed tickets so we have droped rows which contain `null` in `resolved` columns\n",
    "- Data is filtered and cleaned we are ready for analysis part"
   ]
  },
  {
   "cell_type": "markdown",
   "metadata": {},
   "source": [
    "# Data Analysis "
   ]
  },
  {
   "cell_type": "markdown",
   "metadata": {},
   "source": [
    "## Daterminate how long each ticket was in particular individual task"
   ]
  },
  {
   "cell_type": "markdown",
   "metadata": {},
   "source": [
    "- calculate time for eacch subtask\n",
    "- calculate how long the ticket was in review, configure, verify, import.., communicate steps\n",
    "- calcualte the total eg. sum all time spend in verify for one ticket\n"
   ]
  },
  {
   "cell_type": "markdown",
   "metadata": {},
   "source": [
    "### Calculate time spent for each of the subtask"
   ]
  },
  {
   "cell_type": "code",
   "execution_count": 51,
   "metadata": {
    "scrolled": true
   },
   "outputs": [
    {
     "name": "stderr",
     "output_type": "stream",
     "text": [
      "<ipython-input-51-ecf7dda40514>:2: SettingWithCopyWarning: \n",
      "A value is trying to be set on a copy of a slice from a DataFrame.\n",
      "Try using .loc[row_indexer,col_indexer] = value instead\n",
      "\n",
      "See the caveats in the documentation: https://pandas.pydata.org/pandas-docs/stable/user_guide/indexing.html#returning-a-view-versus-a-copy\n",
      "  all_individual_tasks_2022_time_calculation[\"time_in\"] = all_individual_tasks_2022_time_calculation[\"Resolved\"] - all_individual_tasks_2022_time_calculation[\"Created\"]\n"
     ]
    }
   ],
   "source": [
    "all_individual_tasks_2022_time_calculation = all_individual_tasks_2022\n",
    "all_individual_tasks_2022_time_calculation[\"time_in\"] = all_individual_tasks_2022_time_calculation[\"Resolved\"] - all_individual_tasks_2022_time_calculation[\"Created\"]"
   ]
  },
  {
   "cell_type": "code",
   "execution_count": 52,
   "metadata": {
    "scrolled": true
   },
   "outputs": [
    {
     "data": {
      "text/html": [
       "<div>\n",
       "<style scoped>\n",
       "    .dataframe tbody tr th:only-of-type {\n",
       "        vertical-align: middle;\n",
       "    }\n",
       "\n",
       "    .dataframe tbody tr th {\n",
       "        vertical-align: top;\n",
       "    }\n",
       "\n",
       "    .dataframe thead th {\n",
       "        text-align: right;\n",
       "    }\n",
       "</style>\n",
       "<table border=\"1\" class=\"dataframe\">\n",
       "  <thead>\n",
       "    <tr style=\"text-align: right;\">\n",
       "      <th></th>\n",
       "      <th>Summary</th>\n",
       "      <th>Issue id</th>\n",
       "      <th>Parent id</th>\n",
       "      <th>Created</th>\n",
       "      <th>Resolved</th>\n",
       "      <th>time_in</th>\n",
       "    </tr>\n",
       "  </thead>\n",
       "  <tbody>\n",
       "    <tr>\n",
       "      <th>7276</th>\n",
       "      <td>Review</td>\n",
       "      <td>438383</td>\n",
       "      <td>438382</td>\n",
       "      <td>2022-12-29 14:47:00</td>\n",
       "      <td>2023-01-04 11:44:00</td>\n",
       "      <td>5 days 20:57:00</td>\n",
       "    </tr>\n",
       "    <tr>\n",
       "      <th>13090</th>\n",
       "      <td>Configure</td>\n",
       "      <td>439046</td>\n",
       "      <td>438382</td>\n",
       "      <td>2023-01-04 11:44:00</td>\n",
       "      <td>2023-01-04 11:44:00</td>\n",
       "      <td>0 days 00:00:00</td>\n",
       "    </tr>\n",
       "  </tbody>\n",
       "</table>\n",
       "</div>"
      ],
      "text/plain": [
       "         Summary  Issue id  Parent id             Created            Resolved  \\\n",
       "7276      Review    438383     438382 2022-12-29 14:47:00 2023-01-04 11:44:00   \n",
       "13090  Configure    439046     438382 2023-01-04 11:44:00 2023-01-04 11:44:00   \n",
       "\n",
       "              time_in  \n",
       "7276  5 days 20:57:00  \n",
       "13090 0 days 00:00:00  "
      ]
     },
     "execution_count": 52,
     "metadata": {},
     "output_type": "execute_result"
    }
   ],
   "source": [
    "all_individual_tasks_2022_time_calculation.loc[all_individual_tasks_2022_time_calculation[\"Parent id\"] == 438382]"
   ]
  },
  {
   "cell_type": "markdown",
   "metadata": {},
   "source": [
    "### List all available statuses of the CI ticket subtask"
   ]
  },
  {
   "cell_type": "code",
   "execution_count": 53,
   "metadata": {
    "scrolled": true
   },
   "outputs": [
    {
     "data": {
      "text/plain": [
       "Configure                         2449\n",
       "Review                            2356\n",
       "Verify                            2116\n",
       "Communicate                       1914\n",
       "Import to Test System             1812\n",
       "Import in Production              1666\n",
       "Import to Customer Test System     608\n",
       "Explain                            327\n",
       "Import to Staging System           161\n",
       "Clarify                            153\n",
       "Do                                  63\n",
       "Marcin Training                      2\n",
       "Michał Training                      2\n",
       "Maciej Training                      2\n",
       "Bartosz Training                     1\n",
       "Training - Maciej                    1\n",
       "Import to Test/Staging               1\n",
       "Training - Marcin                    1\n",
       "Name: Summary, dtype: int64"
      ]
     },
     "execution_count": 53,
     "metadata": {},
     "output_type": "execute_result"
    }
   ],
   "source": [
    "all_individual_tasks_2022_time_calculation[\"Summary\"].value_counts()"
   ]
  },
  {
   "cell_type": "markdown",
   "metadata": {},
   "source": [
    "### Calculate time ticket was in review step"
   ]
  },
  {
   "cell_type": "code",
   "execution_count": 54,
   "metadata": {
    "scrolled": false
   },
   "outputs": [
    {
     "data": {
      "text/html": [
       "<div>\n",
       "<style scoped>\n",
       "    .dataframe tbody tr th:only-of-type {\n",
       "        vertical-align: middle;\n",
       "    }\n",
       "\n",
       "    .dataframe tbody tr th {\n",
       "        vertical-align: top;\n",
       "    }\n",
       "\n",
       "    .dataframe thead th {\n",
       "        text-align: right;\n",
       "    }\n",
       "</style>\n",
       "<table border=\"1\" class=\"dataframe\">\n",
       "  <thead>\n",
       "    <tr style=\"text-align: right;\">\n",
       "      <th></th>\n",
       "      <th>Summary</th>\n",
       "      <th>Issue id</th>\n",
       "      <th>Parent id</th>\n",
       "      <th>Created</th>\n",
       "      <th>Resolved</th>\n",
       "      <th>time_in</th>\n",
       "    </tr>\n",
       "  </thead>\n",
       "  <tbody>\n",
       "    <tr>\n",
       "      <th>5</th>\n",
       "      <td>Review</td>\n",
       "      <td>394662</td>\n",
       "      <td>370941</td>\n",
       "      <td>2022-05-30 17:42:00</td>\n",
       "      <td>2022-05-30 17:43:00</td>\n",
       "      <td>0 days 00:01:00</td>\n",
       "    </tr>\n",
       "    <tr>\n",
       "      <th>49</th>\n",
       "      <td>Review</td>\n",
       "      <td>394479</td>\n",
       "      <td>394478</td>\n",
       "      <td>2022-05-30 10:37:00</td>\n",
       "      <td>2022-06-01 15:58:00</td>\n",
       "      <td>2 days 05:21:00</td>\n",
       "    </tr>\n",
       "    <tr>\n",
       "      <th>70</th>\n",
       "      <td>Review</td>\n",
       "      <td>394391</td>\n",
       "      <td>394390</td>\n",
       "      <td>2022-05-30 04:46:00</td>\n",
       "      <td>2022-05-31 08:28:00</td>\n",
       "      <td>1 days 03:42:00</td>\n",
       "    </tr>\n",
       "    <tr>\n",
       "      <th>77</th>\n",
       "      <td>Review</td>\n",
       "      <td>394271</td>\n",
       "      <td>394270</td>\n",
       "      <td>2022-05-27 14:42:00</td>\n",
       "      <td>2022-05-27 16:12:00</td>\n",
       "      <td>0 days 01:30:00</td>\n",
       "    </tr>\n",
       "    <tr>\n",
       "      <th>89</th>\n",
       "      <td>Review</td>\n",
       "      <td>394220</td>\n",
       "      <td>394219</td>\n",
       "      <td>2022-05-27 13:03:00</td>\n",
       "      <td>2022-05-27 13:59:00</td>\n",
       "      <td>0 days 00:56:00</td>\n",
       "    </tr>\n",
       "    <tr>\n",
       "      <th>...</th>\n",
       "      <td>...</td>\n",
       "      <td>...</td>\n",
       "      <td>...</td>\n",
       "      <td>...</td>\n",
       "      <td>...</td>\n",
       "      <td>...</td>\n",
       "    </tr>\n",
       "    <tr>\n",
       "      <th>14066</th>\n",
       "      <td>Review</td>\n",
       "      <td>465502</td>\n",
       "      <td>465496</td>\n",
       "      <td>2023-04-18 04:34:00</td>\n",
       "      <td>2023-04-18 04:35:00</td>\n",
       "      <td>0 days 00:01:00</td>\n",
       "    </tr>\n",
       "    <tr>\n",
       "      <th>14068</th>\n",
       "      <td>Review</td>\n",
       "      <td>465500</td>\n",
       "      <td>465499</td>\n",
       "      <td>2023-04-18 04:31:00</td>\n",
       "      <td>2023-04-18 04:36:00</td>\n",
       "      <td>0 days 00:05:00</td>\n",
       "    </tr>\n",
       "    <tr>\n",
       "      <th>14069</th>\n",
       "      <td>Review</td>\n",
       "      <td>465497</td>\n",
       "      <td>465496</td>\n",
       "      <td>2023-04-18 04:16:00</td>\n",
       "      <td>2023-04-18 04:31:00</td>\n",
       "      <td>0 days 00:15:00</td>\n",
       "    </tr>\n",
       "    <tr>\n",
       "      <th>14070</th>\n",
       "      <td>Review</td>\n",
       "      <td>465494</td>\n",
       "      <td>465493</td>\n",
       "      <td>2023-04-18 02:16:00</td>\n",
       "      <td>2023-05-09 18:08:00</td>\n",
       "      <td>21 days 15:52:00</td>\n",
       "    </tr>\n",
       "    <tr>\n",
       "      <th>14071</th>\n",
       "      <td>Review</td>\n",
       "      <td>465492</td>\n",
       "      <td>465491</td>\n",
       "      <td>2023-04-18 01:18:00</td>\n",
       "      <td>2023-05-03 09:14:00</td>\n",
       "      <td>15 days 07:56:00</td>\n",
       "    </tr>\n",
       "  </tbody>\n",
       "</table>\n",
       "<p>2356 rows × 6 columns</p>\n",
       "</div>"
      ],
      "text/plain": [
       "      Summary  Issue id  Parent id             Created            Resolved  \\\n",
       "5      Review    394662     370941 2022-05-30 17:42:00 2022-05-30 17:43:00   \n",
       "49     Review    394479     394478 2022-05-30 10:37:00 2022-06-01 15:58:00   \n",
       "70     Review    394391     394390 2022-05-30 04:46:00 2022-05-31 08:28:00   \n",
       "77     Review    394271     394270 2022-05-27 14:42:00 2022-05-27 16:12:00   \n",
       "89     Review    394220     394219 2022-05-27 13:03:00 2022-05-27 13:59:00   \n",
       "...       ...       ...        ...                 ...                 ...   \n",
       "14066  Review    465502     465496 2023-04-18 04:34:00 2023-04-18 04:35:00   \n",
       "14068  Review    465500     465499 2023-04-18 04:31:00 2023-04-18 04:36:00   \n",
       "14069  Review    465497     465496 2023-04-18 04:16:00 2023-04-18 04:31:00   \n",
       "14070  Review    465494     465493 2023-04-18 02:16:00 2023-05-09 18:08:00   \n",
       "14071  Review    465492     465491 2023-04-18 01:18:00 2023-05-03 09:14:00   \n",
       "\n",
       "               time_in  \n",
       "5      0 days 00:01:00  \n",
       "49     2 days 05:21:00  \n",
       "70     1 days 03:42:00  \n",
       "77     0 days 01:30:00  \n",
       "89     0 days 00:56:00  \n",
       "...                ...  \n",
       "14066  0 days 00:01:00  \n",
       "14068  0 days 00:05:00  \n",
       "14069  0 days 00:15:00  \n",
       "14070 21 days 15:52:00  \n",
       "14071 15 days 07:56:00  \n",
       "\n",
       "[2356 rows x 6 columns]"
      ]
     },
     "execution_count": 54,
     "metadata": {},
     "output_type": "execute_result"
    }
   ],
   "source": [
    "all_individual_tasks_reivew_time = all_individual_tasks_2022[all_individual_tasks_2022['Summary'] == 'Review']\n",
    "all_individual_tasks_reivew_time"
   ]
  },
  {
   "cell_type": "markdown",
   "metadata": {},
   "source": [
    "### Grup tickets by the `Parent id` and sum total time spent in this subtask\n"
   ]
  },
  {
   "cell_type": "code",
   "execution_count": 57,
   "metadata": {
    "scrolled": true
   },
   "outputs": [
    {
     "data": {
      "text/html": [
       "<div>\n",
       "<style scoped>\n",
       "    .dataframe tbody tr th:only-of-type {\n",
       "        vertical-align: middle;\n",
       "    }\n",
       "\n",
       "    .dataframe tbody tr th {\n",
       "        vertical-align: top;\n",
       "    }\n",
       "\n",
       "    .dataframe thead th {\n",
       "        text-align: right;\n",
       "    }\n",
       "</style>\n",
       "<table border=\"1\" class=\"dataframe\">\n",
       "  <thead>\n",
       "    <tr style=\"text-align: right;\">\n",
       "      <th></th>\n",
       "      <th>Summary</th>\n",
       "      <th>Issue id</th>\n",
       "      <th>Parent id</th>\n",
       "      <th>Created</th>\n",
       "      <th>Resolved</th>\n",
       "      <th>time_in_review</th>\n",
       "    </tr>\n",
       "  </thead>\n",
       "  <tbody>\n",
       "    <tr>\n",
       "      <th>2906</th>\n",
       "      <td>Review</td>\n",
       "      <td>372651</td>\n",
       "      <td>345462</td>\n",
       "      <td>2022-03-02 02:19:00</td>\n",
       "      <td>2022-03-07 09:30:00</td>\n",
       "      <td>5 days 07:11:00</td>\n",
       "    </tr>\n",
       "    <tr>\n",
       "      <th>2994</th>\n",
       "      <td>Review</td>\n",
       "      <td>372082</td>\n",
       "      <td>345462</td>\n",
       "      <td>2022-02-25 15:05:00</td>\n",
       "      <td>2022-02-28 09:17:00</td>\n",
       "      <td>2 days 18:12:00</td>\n",
       "    </tr>\n",
       "  </tbody>\n",
       "</table>\n",
       "</div>"
      ],
      "text/plain": [
       "     Summary  Issue id  Parent id             Created            Resolved  \\\n",
       "2906  Review    372651     345462 2022-03-02 02:19:00 2022-03-07 09:30:00   \n",
       "2994  Review    372082     345462 2022-02-25 15:05:00 2022-02-28 09:17:00   \n",
       "\n",
       "      time_in_review  \n",
       "2906 5 days 07:11:00  \n",
       "2994 2 days 18:12:00  "
      ]
     },
     "execution_count": 57,
     "metadata": {},
     "output_type": "execute_result"
    }
   ],
   "source": [
    "all_individual_tasks_reivew_no_null.loc[all_individual_tasks_reivew_no_null[\"Parent id\"] == 345462]"
   ]
  },
  {
   "cell_type": "markdown",
   "metadata": {},
   "source": [
    "### Check on the particular ticket if the total time is summed correctly"
   ]
  },
  {
   "cell_type": "code",
   "execution_count": 79,
   "metadata": {
    "scrolled": true
   },
   "outputs": [
    {
     "data": {
      "text/html": [
       "<div>\n",
       "<style scoped>\n",
       "    .dataframe tbody tr th:only-of-type {\n",
       "        vertical-align: middle;\n",
       "    }\n",
       "\n",
       "    .dataframe tbody tr th {\n",
       "        vertical-align: top;\n",
       "    }\n",
       "\n",
       "    .dataframe thead th {\n",
       "        text-align: right;\n",
       "    }\n",
       "</style>\n",
       "<table border=\"1\" class=\"dataframe\">\n",
       "  <thead>\n",
       "    <tr style=\"text-align: right;\">\n",
       "      <th></th>\n",
       "      <th>Summary</th>\n",
       "      <th>Issue id</th>\n",
       "      <th>Created</th>\n",
       "      <th>Resolved</th>\n",
       "      <th>time_in_review</th>\n",
       "    </tr>\n",
       "    <tr>\n",
       "      <th>Parent id</th>\n",
       "      <th></th>\n",
       "      <th></th>\n",
       "      <th></th>\n",
       "      <th></th>\n",
       "      <th></th>\n",
       "    </tr>\n",
       "  </thead>\n",
       "  <tbody>\n",
       "    <tr>\n",
       "      <th>174802</th>\n",
       "      <td>1</td>\n",
       "      <td>1</td>\n",
       "      <td>1</td>\n",
       "      <td>1</td>\n",
       "      <td>1</td>\n",
       "    </tr>\n",
       "    <tr>\n",
       "      <th>329036</th>\n",
       "      <td>1</td>\n",
       "      <td>1</td>\n",
       "      <td>1</td>\n",
       "      <td>1</td>\n",
       "      <td>1</td>\n",
       "    </tr>\n",
       "    <tr>\n",
       "      <th>336670</th>\n",
       "      <td>1</td>\n",
       "      <td>1</td>\n",
       "      <td>1</td>\n",
       "      <td>1</td>\n",
       "      <td>1</td>\n",
       "    </tr>\n",
       "    <tr>\n",
       "      <th>338553</th>\n",
       "      <td>1</td>\n",
       "      <td>1</td>\n",
       "      <td>1</td>\n",
       "      <td>1</td>\n",
       "      <td>1</td>\n",
       "    </tr>\n",
       "    <tr>\n",
       "      <th>345462</th>\n",
       "      <td>2</td>\n",
       "      <td>2</td>\n",
       "      <td>2</td>\n",
       "      <td>2</td>\n",
       "      <td>2</td>\n",
       "    </tr>\n",
       "    <tr>\n",
       "      <th>...</th>\n",
       "      <td>...</td>\n",
       "      <td>...</td>\n",
       "      <td>...</td>\n",
       "      <td>...</td>\n",
       "      <td>...</td>\n",
       "    </tr>\n",
       "    <tr>\n",
       "      <th>471134</th>\n",
       "      <td>1</td>\n",
       "      <td>1</td>\n",
       "      <td>1</td>\n",
       "      <td>1</td>\n",
       "      <td>1</td>\n",
       "    </tr>\n",
       "    <tr>\n",
       "      <th>471138</th>\n",
       "      <td>1</td>\n",
       "      <td>1</td>\n",
       "      <td>1</td>\n",
       "      <td>1</td>\n",
       "      <td>1</td>\n",
       "    </tr>\n",
       "    <tr>\n",
       "      <th>471236</th>\n",
       "      <td>1</td>\n",
       "      <td>1</td>\n",
       "      <td>1</td>\n",
       "      <td>1</td>\n",
       "      <td>1</td>\n",
       "    </tr>\n",
       "    <tr>\n",
       "      <th>471244</th>\n",
       "      <td>1</td>\n",
       "      <td>1</td>\n",
       "      <td>1</td>\n",
       "      <td>1</td>\n",
       "      <td>1</td>\n",
       "    </tr>\n",
       "    <tr>\n",
       "      <th>471309</th>\n",
       "      <td>1</td>\n",
       "      <td>1</td>\n",
       "      <td>1</td>\n",
       "      <td>1</td>\n",
       "      <td>1</td>\n",
       "    </tr>\n",
       "  </tbody>\n",
       "</table>\n",
       "<p>2061 rows × 5 columns</p>\n",
       "</div>"
      ],
      "text/plain": [
       "           Summary  Issue id  Created  Resolved  time_in_review\n",
       "Parent id                                                      \n",
       "174802           1         1        1         1               1\n",
       "329036           1         1        1         1               1\n",
       "336670           1         1        1         1               1\n",
       "338553           1         1        1         1               1\n",
       "345462           2         2        2         2               2\n",
       "...            ...       ...      ...       ...             ...\n",
       "471134           1         1        1         1               1\n",
       "471138           1         1        1         1               1\n",
       "471236           1         1        1         1               1\n",
       "471244           1         1        1         1               1\n",
       "471309           1         1        1         1               1\n",
       "\n",
       "[2061 rows x 5 columns]"
      ]
     },
     "execution_count": 79,
     "metadata": {},
     "output_type": "execute_result"
    }
   ],
   "source": [
    "all_individual_tasks_reivew_no_null.groupby(\"Parent id\").count()"
   ]
  },
  {
   "cell_type": "code",
   "execution_count": 59,
   "metadata": {
    "scrolled": true
   },
   "outputs": [
    {
     "data": {
      "text/plain": [
       "Parent id\n",
       "174802     0 days 00:01:00\n",
       "329036     0 days 00:00:00\n",
       "336670     0 days 00:01:00\n",
       "338553   238 days 13:36:00\n",
       "345462     8 days 01:23:00\n",
       "                ...       \n",
       "471134     0 days 18:55:00\n",
       "471138     0 days 19:37:00\n",
       "471236     0 days 00:21:00\n",
       "471244     0 days 00:01:00\n",
       "471309     0 days 00:00:00\n",
       "Name: time_in_review, Length: 2061, dtype: timedelta64[ns]"
      ]
     },
     "execution_count": 59,
     "metadata": {},
     "output_type": "execute_result"
    }
   ],
   "source": [
    "all_individual_tasks_reivew_no_null_sum = all_individual_tasks_reivew_no_null.groupby(\"Parent id\")[\"time_in_review\"].sum()\n",
    "all_individual_tasks_reivew_no_null_sum"
   ]
  },
  {
   "cell_type": "code",
   "execution_count": 76,
   "metadata": {
    "scrolled": true
   },
   "outputs": [
    {
     "data": {
      "text/html": [
       "<div>\n",
       "<style scoped>\n",
       "    .dataframe tbody tr th:only-of-type {\n",
       "        vertical-align: middle;\n",
       "    }\n",
       "\n",
       "    .dataframe tbody tr th {\n",
       "        vertical-align: top;\n",
       "    }\n",
       "\n",
       "    .dataframe thead th {\n",
       "        text-align: right;\n",
       "    }\n",
       "</style>\n",
       "<table border=\"1\" class=\"dataframe\">\n",
       "  <thead>\n",
       "    <tr style=\"text-align: right;\">\n",
       "      <th></th>\n",
       "      <th>Parent id</th>\n",
       "      <th>time_in_review</th>\n",
       "    </tr>\n",
       "  </thead>\n",
       "  <tbody>\n",
       "    <tr>\n",
       "      <th>0</th>\n",
       "      <td>174802</td>\n",
       "      <td>0 days 00:01:00</td>\n",
       "    </tr>\n",
       "    <tr>\n",
       "      <th>1</th>\n",
       "      <td>329036</td>\n",
       "      <td>0 days 00:00:00</td>\n",
       "    </tr>\n",
       "    <tr>\n",
       "      <th>2</th>\n",
       "      <td>336670</td>\n",
       "      <td>0 days 00:01:00</td>\n",
       "    </tr>\n",
       "    <tr>\n",
       "      <th>3</th>\n",
       "      <td>338553</td>\n",
       "      <td>238 days 13:36:00</td>\n",
       "    </tr>\n",
       "    <tr>\n",
       "      <th>4</th>\n",
       "      <td>345462</td>\n",
       "      <td>8 days 01:23:00</td>\n",
       "    </tr>\n",
       "    <tr>\n",
       "      <th>...</th>\n",
       "      <td>...</td>\n",
       "      <td>...</td>\n",
       "    </tr>\n",
       "    <tr>\n",
       "      <th>2056</th>\n",
       "      <td>471134</td>\n",
       "      <td>0 days 18:55:00</td>\n",
       "    </tr>\n",
       "    <tr>\n",
       "      <th>2057</th>\n",
       "      <td>471138</td>\n",
       "      <td>0 days 19:37:00</td>\n",
       "    </tr>\n",
       "    <tr>\n",
       "      <th>2058</th>\n",
       "      <td>471236</td>\n",
       "      <td>0 days 00:21:00</td>\n",
       "    </tr>\n",
       "    <tr>\n",
       "      <th>2059</th>\n",
       "      <td>471244</td>\n",
       "      <td>0 days 00:01:00</td>\n",
       "    </tr>\n",
       "    <tr>\n",
       "      <th>2060</th>\n",
       "      <td>471309</td>\n",
       "      <td>0 days 00:00:00</td>\n",
       "    </tr>\n",
       "  </tbody>\n",
       "</table>\n",
       "<p>2061 rows × 2 columns</p>\n",
       "</div>"
      ],
      "text/plain": [
       "      Parent id    time_in_review\n",
       "0        174802   0 days 00:01:00\n",
       "1        329036   0 days 00:00:00\n",
       "2        336670   0 days 00:01:00\n",
       "3        338553 238 days 13:36:00\n",
       "4        345462   8 days 01:23:00\n",
       "...         ...               ...\n",
       "2056     471134   0 days 18:55:00\n",
       "2057     471138   0 days 19:37:00\n",
       "2058     471236   0 days 00:21:00\n",
       "2059     471244   0 days 00:01:00\n",
       "2060     471309   0 days 00:00:00\n",
       "\n",
       "[2061 rows x 2 columns]"
      ]
     },
     "execution_count": 76,
     "metadata": {},
     "output_type": "execute_result"
    }
   ],
   "source": [
    "all_individual_tasks_reivew_no_null_sum_df = all_individual_tasks_reivew_no_null_sum.to_frame()\n",
    "all_individual_tasks_reivew_no_null_sum_df.reset_index(inplace=True)\n",
    "all_individual_tasks_reivew_no_null_sum_df"
   ]
  },
  {
   "cell_type": "code",
   "execution_count": 77,
   "metadata": {},
   "outputs": [
    {
     "name": "stdout",
     "output_type": "stream",
     "text": [
      "<class 'pandas.core.frame.DataFrame'>\n",
      "RangeIndex: 2061 entries, 0 to 2060\n",
      "Data columns (total 2 columns):\n",
      " #   Column          Non-Null Count  Dtype          \n",
      "---  ------          --------------  -----          \n",
      " 0   Parent id       2061 non-null   int64          \n",
      " 1   time_in_review  2061 non-null   timedelta64[ns]\n",
      "dtypes: int64(1), timedelta64[ns](1)\n",
      "memory usage: 32.3 KB\n"
     ]
    }
   ],
   "source": [
    "all_individual_tasks_reivew_no_null_sum_df.info()"
   ]
  },
  {
   "cell_type": "code",
   "execution_count": 78,
   "metadata": {},
   "outputs": [
    {
     "data": {
      "text/html": [
       "<div>\n",
       "<style scoped>\n",
       "    .dataframe tbody tr th:only-of-type {\n",
       "        vertical-align: middle;\n",
       "    }\n",
       "\n",
       "    .dataframe tbody tr th {\n",
       "        vertical-align: top;\n",
       "    }\n",
       "\n",
       "    .dataframe thead th {\n",
       "        text-align: right;\n",
       "    }\n",
       "</style>\n",
       "<table border=\"1\" class=\"dataframe\">\n",
       "  <thead>\n",
       "    <tr style=\"text-align: right;\">\n",
       "      <th></th>\n",
       "      <th>Parent id</th>\n",
       "      <th>time_in_review</th>\n",
       "    </tr>\n",
       "  </thead>\n",
       "  <tbody>\n",
       "    <tr>\n",
       "      <th>4</th>\n",
       "      <td>345462</td>\n",
       "      <td>8 days 01:23:00</td>\n",
       "    </tr>\n",
       "  </tbody>\n",
       "</table>\n",
       "</div>"
      ],
      "text/plain": [
       "   Parent id  time_in_review\n",
       "4     345462 8 days 01:23:00"
      ]
     },
     "execution_count": 78,
     "metadata": {},
     "output_type": "execute_result"
    }
   ],
   "source": [
    "all_individual_tasks_reivew_no_null_sum_df.loc[all_individual_tasks_reivew_no_null_sum_df[\"Parent id\"] == 345462]"
   ]
  },
  {
   "cell_type": "code",
   "execution_count": 80,
   "metadata": {},
   "outputs": [],
   "source": [
    "all_individual_tasks_reivew_no_null_sum_df.rename({\"time_in\": \"time_in_review\"},axis=1, inplace=True)"
   ]
  },
  {
   "cell_type": "code",
   "execution_count": 81,
   "metadata": {},
   "outputs": [
    {
     "data": {
      "text/html": [
       "<div>\n",
       "<style scoped>\n",
       "    .dataframe tbody tr th:only-of-type {\n",
       "        vertical-align: middle;\n",
       "    }\n",
       "\n",
       "    .dataframe tbody tr th {\n",
       "        vertical-align: top;\n",
       "    }\n",
       "\n",
       "    .dataframe thead th {\n",
       "        text-align: right;\n",
       "    }\n",
       "</style>\n",
       "<table border=\"1\" class=\"dataframe\">\n",
       "  <thead>\n",
       "    <tr style=\"text-align: right;\">\n",
       "      <th></th>\n",
       "      <th>Parent id</th>\n",
       "      <th>time_in_review</th>\n",
       "    </tr>\n",
       "  </thead>\n",
       "  <tbody>\n",
       "    <tr>\n",
       "      <th>0</th>\n",
       "      <td>174802</td>\n",
       "      <td>0 days 00:01:00</td>\n",
       "    </tr>\n",
       "    <tr>\n",
       "      <th>1</th>\n",
       "      <td>329036</td>\n",
       "      <td>0 days 00:00:00</td>\n",
       "    </tr>\n",
       "    <tr>\n",
       "      <th>2</th>\n",
       "      <td>336670</td>\n",
       "      <td>0 days 00:01:00</td>\n",
       "    </tr>\n",
       "    <tr>\n",
       "      <th>3</th>\n",
       "      <td>338553</td>\n",
       "      <td>238 days 13:36:00</td>\n",
       "    </tr>\n",
       "    <tr>\n",
       "      <th>4</th>\n",
       "      <td>345462</td>\n",
       "      <td>8 days 01:23:00</td>\n",
       "    </tr>\n",
       "    <tr>\n",
       "      <th>...</th>\n",
       "      <td>...</td>\n",
       "      <td>...</td>\n",
       "    </tr>\n",
       "    <tr>\n",
       "      <th>2056</th>\n",
       "      <td>471134</td>\n",
       "      <td>0 days 18:55:00</td>\n",
       "    </tr>\n",
       "    <tr>\n",
       "      <th>2057</th>\n",
       "      <td>471138</td>\n",
       "      <td>0 days 19:37:00</td>\n",
       "    </tr>\n",
       "    <tr>\n",
       "      <th>2058</th>\n",
       "      <td>471236</td>\n",
       "      <td>0 days 00:21:00</td>\n",
       "    </tr>\n",
       "    <tr>\n",
       "      <th>2059</th>\n",
       "      <td>471244</td>\n",
       "      <td>0 days 00:01:00</td>\n",
       "    </tr>\n",
       "    <tr>\n",
       "      <th>2060</th>\n",
       "      <td>471309</td>\n",
       "      <td>0 days 00:00:00</td>\n",
       "    </tr>\n",
       "  </tbody>\n",
       "</table>\n",
       "<p>2061 rows × 2 columns</p>\n",
       "</div>"
      ],
      "text/plain": [
       "      Parent id    time_in_review\n",
       "0        174802   0 days 00:01:00\n",
       "1        329036   0 days 00:00:00\n",
       "2        336670   0 days 00:01:00\n",
       "3        338553 238 days 13:36:00\n",
       "4        345462   8 days 01:23:00\n",
       "...         ...               ...\n",
       "2056     471134   0 days 18:55:00\n",
       "2057     471138   0 days 19:37:00\n",
       "2058     471236   0 days 00:21:00\n",
       "2059     471244   0 days 00:01:00\n",
       "2060     471309   0 days 00:00:00\n",
       "\n",
       "[2061 rows x 2 columns]"
      ]
     },
     "execution_count": 81,
     "metadata": {},
     "output_type": "execute_result"
    }
   ],
   "source": [
    "all_individual_tasks_reivew_no_null_sum_df"
   ]
  },
  {
   "cell_type": "code",
   "execution_count": 82,
   "metadata": {
    "scrolled": true
   },
   "outputs": [
    {
     "data": {
      "text/html": [
       "<div>\n",
       "<style scoped>\n",
       "    .dataframe tbody tr th:only-of-type {\n",
       "        vertical-align: middle;\n",
       "    }\n",
       "\n",
       "    .dataframe tbody tr th {\n",
       "        vertical-align: top;\n",
       "    }\n",
       "\n",
       "    .dataframe thead th {\n",
       "        text-align: right;\n",
       "    }\n",
       "</style>\n",
       "<table border=\"1\" class=\"dataframe\">\n",
       "  <thead>\n",
       "    <tr style=\"text-align: right;\">\n",
       "      <th></th>\n",
       "      <th>Issue key</th>\n",
       "      <th>Issue id</th>\n",
       "      <th>Status</th>\n",
       "      <th>Reporter</th>\n",
       "      <th>Created</th>\n",
       "      <th>Due Date</th>\n",
       "      <th>Resolved</th>\n",
       "      <th>Customer</th>\n",
       "      <th>Type of Request</th>\n",
       "      <th>Parent id</th>\n",
       "      <th>time_in_review</th>\n",
       "    </tr>\n",
       "  </thead>\n",
       "  <tbody>\n",
       "    <tr>\n",
       "      <th>0</th>\n",
       "      <td>CI-8574</td>\n",
       "      <td>468635</td>\n",
       "      <td>Closed</td>\n",
       "      <td>yutaka</td>\n",
       "      <td>2023-04-28 03:47:00</td>\n",
       "      <td>01/May/23 12:00 AM</td>\n",
       "      <td>2023-05-08 16:08:00</td>\n",
       "      <td>Rehau</td>\n",
       "      <td>Service Request (SR)</td>\n",
       "      <td>468635.0</td>\n",
       "      <td>0 days 00:24:00</td>\n",
       "    </tr>\n",
       "    <tr>\n",
       "      <th>1</th>\n",
       "      <td>CI-8568</td>\n",
       "      <td>468149</td>\n",
       "      <td>Closed</td>\n",
       "      <td>aruizrobles</td>\n",
       "      <td>2023-04-26 15:30:00</td>\n",
       "      <td>03/May/23 12:00 AM</td>\n",
       "      <td>2023-05-04 17:55:00</td>\n",
       "      <td>Numiga</td>\n",
       "      <td>Service Request (SR)</td>\n",
       "      <td>468149.0</td>\n",
       "      <td>1 days 23:16:00</td>\n",
       "    </tr>\n",
       "    <tr>\n",
       "      <th>2</th>\n",
       "      <td>CI-8560</td>\n",
       "      <td>467735</td>\n",
       "      <td>Closed</td>\n",
       "      <td>nsanchez</td>\n",
       "      <td>2023-04-25 11:57:00</td>\n",
       "      <td>08/May/23 12:00 AM</td>\n",
       "      <td>2023-05-08 14:02:00</td>\n",
       "      <td>OBB</td>\n",
       "      <td>Service Request (SR)</td>\n",
       "      <td>467735.0</td>\n",
       "      <td>6 days 20:24:00</td>\n",
       "    </tr>\n",
       "    <tr>\n",
       "      <th>3</th>\n",
       "      <td>CI-8554</td>\n",
       "      <td>467243</td>\n",
       "      <td>Closed</td>\n",
       "      <td>yutaka</td>\n",
       "      <td>2023-04-24 06:44:00</td>\n",
       "      <td>08/May/23 12:00 AM</td>\n",
       "      <td>2023-05-10 04:06:00</td>\n",
       "      <td>Hensoldt</td>\n",
       "      <td>Service Request (SR)</td>\n",
       "      <td>467243.0</td>\n",
       "      <td>0 days 00:00:00</td>\n",
       "    </tr>\n",
       "    <tr>\n",
       "      <th>4</th>\n",
       "      <td>CI-8552</td>\n",
       "      <td>467085</td>\n",
       "      <td>Closed</td>\n",
       "      <td>nsanchez</td>\n",
       "      <td>2023-04-21 14:58:00</td>\n",
       "      <td>27/Apr/23 12:00 AM</td>\n",
       "      <td>2023-05-08 13:46:00</td>\n",
       "      <td>VW</td>\n",
       "      <td>Service Request (SR)</td>\n",
       "      <td>467085.0</td>\n",
       "      <td>6 days 21:53:00</td>\n",
       "    </tr>\n",
       "    <tr>\n",
       "      <th>...</th>\n",
       "      <td>...</td>\n",
       "      <td>...</td>\n",
       "      <td>...</td>\n",
       "      <td>...</td>\n",
       "      <td>...</td>\n",
       "      <td>...</td>\n",
       "      <td>...</td>\n",
       "      <td>...</td>\n",
       "      <td>...</td>\n",
       "      <td>...</td>\n",
       "      <td>...</td>\n",
       "    </tr>\n",
       "    <tr>\n",
       "      <th>309</th>\n",
       "      <td>CI-6926</td>\n",
       "      <td>393799</td>\n",
       "      <td>Closed</td>\n",
       "      <td>aklabisz</td>\n",
       "      <td>2022-05-25 12:42:00</td>\n",
       "      <td>12/Jul/22 12:00 AM</td>\n",
       "      <td>2023-01-27 19:53:00</td>\n",
       "      <td>Aquila Capital</td>\n",
       "      <td>Service Request (SR)</td>\n",
       "      <td>393799.0</td>\n",
       "      <td>38 days 18:52:00</td>\n",
       "    </tr>\n",
       "    <tr>\n",
       "      <th>310</th>\n",
       "      <td>CI-6911</td>\n",
       "      <td>393585</td>\n",
       "      <td>Closed</td>\n",
       "      <td>aklabisz</td>\n",
       "      <td>2022-05-24 15:11:00</td>\n",
       "      <td>11/Aug/22 12:00 AM</td>\n",
       "      <td>2023-01-24 10:33:00</td>\n",
       "      <td>VW</td>\n",
       "      <td>Service Request (SR)</td>\n",
       "      <td>393585.0</td>\n",
       "      <td>24 days 12:21:00</td>\n",
       "    </tr>\n",
       "    <tr>\n",
       "      <th>311</th>\n",
       "      <td>CI-6901</td>\n",
       "      <td>393357</td>\n",
       "      <td>Closed</td>\n",
       "      <td>aklabisz</td>\n",
       "      <td>2022-05-23 13:21:00</td>\n",
       "      <td>30/May/22 12:00 AM</td>\n",
       "      <td>2023-03-21 13:06:00</td>\n",
       "      <td>Porsche</td>\n",
       "      <td>Service Request (SR)</td>\n",
       "      <td>393357.0</td>\n",
       "      <td>28 days 01:38:00</td>\n",
       "    </tr>\n",
       "    <tr>\n",
       "      <th>312</th>\n",
       "      <td>CI-6825</td>\n",
       "      <td>389774</td>\n",
       "      <td>Closed</td>\n",
       "      <td>aklabisz</td>\n",
       "      <td>2022-05-11 11:16:00</td>\n",
       "      <td>16/May/22 12:00 AM</td>\n",
       "      <td>2023-01-24 12:32:00</td>\n",
       "      <td>Hugo Boss</td>\n",
       "      <td>Service Request (SR)</td>\n",
       "      <td>389774.0</td>\n",
       "      <td>8 days 14:12:00</td>\n",
       "    </tr>\n",
       "    <tr>\n",
       "      <th>313</th>\n",
       "      <td>CI-5953</td>\n",
       "      <td>349721</td>\n",
       "      <td>Closed</td>\n",
       "      <td>wiedenroth</td>\n",
       "      <td>2021-11-05 17:04:00</td>\n",
       "      <td>03/Dec/21 12:00 AM</td>\n",
       "      <td>2023-04-11 09:04:00</td>\n",
       "      <td>Allianz</td>\n",
       "      <td>Service Request (SR)</td>\n",
       "      <td>349721.0</td>\n",
       "      <td>0 days 00:02:00</td>\n",
       "    </tr>\n",
       "  </tbody>\n",
       "</table>\n",
       "<p>314 rows × 11 columns</p>\n",
       "</div>"
      ],
      "text/plain": [
       "    Issue key  Issue id  Status     Reporter             Created  \\\n",
       "0     CI-8574    468635  Closed       yutaka 2023-04-28 03:47:00   \n",
       "1     CI-8568    468149  Closed  aruizrobles 2023-04-26 15:30:00   \n",
       "2     CI-8560    467735  Closed     nsanchez 2023-04-25 11:57:00   \n",
       "3     CI-8554    467243  Closed       yutaka 2023-04-24 06:44:00   \n",
       "4     CI-8552    467085  Closed     nsanchez 2023-04-21 14:58:00   \n",
       "..        ...       ...     ...          ...                 ...   \n",
       "309   CI-6926    393799  Closed     aklabisz 2022-05-25 12:42:00   \n",
       "310   CI-6911    393585  Closed     aklabisz 2022-05-24 15:11:00   \n",
       "311   CI-6901    393357  Closed     aklabisz 2022-05-23 13:21:00   \n",
       "312   CI-6825    389774  Closed     aklabisz 2022-05-11 11:16:00   \n",
       "313   CI-5953    349721  Closed   wiedenroth 2021-11-05 17:04:00   \n",
       "\n",
       "               Due Date            Resolved        Customer  \\\n",
       "0    01/May/23 12:00 AM 2023-05-08 16:08:00           Rehau   \n",
       "1    03/May/23 12:00 AM 2023-05-04 17:55:00          Numiga   \n",
       "2    08/May/23 12:00 AM 2023-05-08 14:02:00             OBB   \n",
       "3    08/May/23 12:00 AM 2023-05-10 04:06:00        Hensoldt   \n",
       "4    27/Apr/23 12:00 AM 2023-05-08 13:46:00              VW   \n",
       "..                  ...                 ...             ...   \n",
       "309  12/Jul/22 12:00 AM 2023-01-27 19:53:00  Aquila Capital   \n",
       "310  11/Aug/22 12:00 AM 2023-01-24 10:33:00              VW   \n",
       "311  30/May/22 12:00 AM 2023-03-21 13:06:00         Porsche   \n",
       "312  16/May/22 12:00 AM 2023-01-24 12:32:00       Hugo Boss   \n",
       "313  03/Dec/21 12:00 AM 2023-04-11 09:04:00         Allianz   \n",
       "\n",
       "          Type of Request  Parent id   time_in_review  \n",
       "0    Service Request (SR)   468635.0  0 days 00:24:00  \n",
       "1    Service Request (SR)   468149.0  1 days 23:16:00  \n",
       "2    Service Request (SR)   467735.0  6 days 20:24:00  \n",
       "3    Service Request (SR)   467243.0  0 days 00:00:00  \n",
       "4    Service Request (SR)   467085.0  6 days 21:53:00  \n",
       "..                    ...        ...              ...  \n",
       "309  Service Request (SR)   393799.0 38 days 18:52:00  \n",
       "310  Service Request (SR)   393585.0 24 days 12:21:00  \n",
       "311  Service Request (SR)   393357.0 28 days 01:38:00  \n",
       "312  Service Request (SR)   389774.0  8 days 14:12:00  \n",
       "313  Service Request (SR)   349721.0  0 days 00:02:00  \n",
       "\n",
       "[314 rows x 11 columns]"
      ]
     },
     "execution_count": 82,
     "metadata": {},
     "output_type": "execute_result"
    }
   ],
   "source": [
    "all_sr_review_time = pd.merge(all_sr, all_individual_tasks_reivew_no_null_sum_df[['Parent id', 'time_in_review']], how=\"left\",left_on = \"Issue id\",right_on = \"Parent id\")\n",
    "all_sr_review_time"
   ]
  },
  {
   "cell_type": "code",
   "execution_count": 83,
   "metadata": {
    "scrolled": true
   },
   "outputs": [
    {
     "data": {
      "text/plain": [
       "Issue key           0\n",
       "Issue id            0\n",
       "Status              0\n",
       "Reporter            0\n",
       "Created             0\n",
       "Due Date            0\n",
       "Resolved            0\n",
       "Customer            0\n",
       "Type of Request     0\n",
       "Parent id          66\n",
       "time_in_review     66\n",
       "dtype: int64"
      ]
     },
     "execution_count": 83,
     "metadata": {},
     "output_type": "execute_result"
    }
   ],
   "source": [
    "all_sr_review_time.isnull().sum()"
   ]
  },
  {
   "cell_type": "markdown",
   "metadata": {},
   "source": [
    "# TO DO\n",
    "- investigate ticket with null rows"
   ]
  },
  {
   "cell_type": "markdown",
   "metadata": {},
   "source": [
    "### Determinate time spent on codebusters"
   ]
  },
  {
   "cell_type": "markdown",
   "metadata": {},
   "source": [
    "- calculate the total time ticket was in subtasks \"Configure\", \"Review\", \"mport to Test System\", \"Import in Production\", \"Import to Customer Test System\"\n",
    "- apply the results to new dataset based on `all_tickets_2022`"
   ]
  },
  {
   "cell_type": "code",
   "execution_count": null,
   "metadata": {},
   "outputs": [],
   "source": [
    "all_individual_with_codebusters_time = all_individual_tasks_2022_time_calculation.loc[all_individual_tasks_2022_time_calculation[\"Summary\"].isin([\"Configure\", \"Review\", \"Import to Test System\", \"Import in Production\", \"Import to Customer Test System\", \"Import to Test\", \"Import to Staging System\"])]"
   ]
  },
  {
   "cell_type": "markdown",
   "metadata": {},
   "source": [
    "Summarize time for each codebusters subtask "
   ]
  },
  {
   "cell_type": "code",
   "execution_count": null,
   "metadata": {},
   "outputs": [],
   "source": [
    "codebusters_time = all_individual_with_codebusters_time.groupby(\"Parent id\")[\"time_in\"].sum()"
   ]
  },
  {
   "cell_type": "code",
   "execution_count": null,
   "metadata": {},
   "outputs": [],
   "source": [
    "codebusters_time.rename({\"time_in\": \"time_on_codebusters\"},axis=1, inplace=True)"
   ]
  },
  {
   "cell_type": "code",
   "execution_count": null,
   "metadata": {
    "scrolled": true
   },
   "outputs": [],
   "source": [
    "codebusters_time"
   ]
  },
  {
   "cell_type": "code",
   "execution_count": null,
   "metadata": {},
   "outputs": [],
   "source": [
    "codebusters_time.isnull().sum()"
   ]
  },
  {
   "cell_type": "code",
   "execution_count": null,
   "metadata": {},
   "outputs": [],
   "source": [
    "all_tickets.shape"
   ]
  },
  {
   "cell_type": "code",
   "execution_count": null,
   "metadata": {},
   "outputs": [],
   "source": [
    "all_tickets.isnull().sum()"
   ]
  },
  {
   "cell_type": "markdown",
   "metadata": {},
   "source": [
    "Merge total time on codebusters with all jira ticekts dataset"
   ]
  },
  {
   "cell_type": "code",
   "execution_count": null,
   "metadata": {},
   "outputs": [],
   "source": [
    "all_tickets_with_codebusters_time = pd.merge(all_tickets_without_null, codebusters_time, how=\"left\",left_on = \"Issue id\",right_on = \"Parent id\")"
   ]
  },
  {
   "cell_type": "code",
   "execution_count": null,
   "metadata": {},
   "outputs": [],
   "source": [
    "all_tickets_with_codebusters_time"
   ]
  },
  {
   "cell_type": "code",
   "execution_count": null,
   "metadata": {
    "scrolled": true
   },
   "outputs": [],
   "source": [
    "all_tickets_with_codebusters_time.rename({\"time_in\": \"time_on_codebusters\"},axis=1, inplace=True)\n",
    "all_tickets_with_codebusters_time"
   ]
  },
  {
   "cell_type": "code",
   "execution_count": null,
   "metadata": {},
   "outputs": [],
   "source": [
    "all_tickets_with_codebusters_time.notnull().sum()"
   ]
  },
  {
   "cell_type": "markdown",
   "metadata": {},
   "source": [
    "### Determinate time spent outside codebusters"
   ]
  },
  {
   "cell_type": "markdown",
   "metadata": {},
   "source": [
    "- calculate the total time ticket was in one of the subtask \"Explain\", \"Verify\", \"Clarify\", \"Communicate\", \"Import in Production\", \"Import to Customer Test System\"\n",
    "- apply the results to new dataset based on `all_tickets_2022`"
   ]
  },
  {
   "cell_type": "code",
   "execution_count": null,
   "metadata": {},
   "outputs": [],
   "source": [
    "all_individual_with_others_time = all_individual_tasks_2022_time_calculation.loc[all_individual_tasks_2022_time_calculation[\"Summary\"].isin([\"Explain\", \"Verify\", \"Clarify\", \"Communicate\"])]"
   ]
  },
  {
   "cell_type": "code",
   "execution_count": null,
   "metadata": {
    "scrolled": true
   },
   "outputs": [],
   "source": [
    "all_individual_with_others_time"
   ]
  },
  {
   "cell_type": "markdown",
   "metadata": {},
   "source": [
    "Summarize time for each subtask outside codeubsters"
   ]
  },
  {
   "cell_type": "code",
   "execution_count": null,
   "metadata": {},
   "outputs": [],
   "source": [
    "others_time = all_individual_with_others_time.groupby(\"Parent id\")[\"time_in\"].sum()"
   ]
  },
  {
   "cell_type": "markdown",
   "metadata": {},
   "source": [
    "Summarize time for each subtask outside codeubsters"
   ]
  },
  {
   "cell_type": "markdown",
   "metadata": {},
   "source": [
    "Merge `all_tickets` with time outisde codebusters column"
   ]
  },
  {
   "cell_type": "code",
   "execution_count": null,
   "metadata": {},
   "outputs": [],
   "source": [
    "all_tickets_with_outside_codebusters_time = pd.merge(all_tickets_without_null, others_time, how=\"left\",left_on = \"Issue id\",right_on = \"Parent id\")"
   ]
  },
  {
   "cell_type": "code",
   "execution_count": null,
   "metadata": {},
   "outputs": [],
   "source": [
    "all_tickets_with_outside_codebusters_time.rename({\"time_in\": \"time_outside_codebusters\"},axis=1, inplace=True)\n",
    "all_tickets_with_outside_codebusters_time"
   ]
  },
  {
   "cell_type": "markdown",
   "metadata": {},
   "source": [
    "### Merge all dataframes together"
   ]
  },
  {
   "cell_type": "markdown",
   "metadata": {},
   "source": [
    "Merge df containing \"review\" time with df containg \"time on codebusters\" "
   ]
  },
  {
   "cell_type": "code",
   "execution_count": null,
   "metadata": {
    "scrolled": true
   },
   "outputs": [],
   "source": [
    "all_tickets_with_time = pd.merge(all_tickets_with_review_time, all_tickets_with_codebusters_time[['Issue id','time_on_codebusters']],  how=\"left\",left_on = \"Issue id\",right_on = \"Issue id\")"
   ]
  },
  {
   "cell_type": "markdown",
   "metadata": {},
   "source": [
    "Merge df containing \"review\" and \"time on codebusters\" time with df containg \"time outside codebusters\" "
   ]
  },
  {
   "cell_type": "code",
   "execution_count": null,
   "metadata": {
    "scrolled": true
   },
   "outputs": [],
   "source": [
    "all_tickets_with_time = pd.merge(all_tickets_with_time, all_tickets_with_outside_codebusters_time[['Issue id','time_outside_codebusters']],  how=\"left\",left_on = \"Issue id\",right_on = \"Issue id\")"
   ]
  },
  {
   "cell_type": "code",
   "execution_count": null,
   "metadata": {},
   "outputs": [],
   "source": [
    "all_tickets_with_time"
   ]
  },
  {
   "cell_type": "markdown",
   "metadata": {},
   "source": [
    "### Convert `time in..` columns to minutes"
   ]
  },
  {
   "cell_type": "markdown",
   "metadata": {},
   "source": [
    "Convert `timedelta` columns to float"
   ]
  },
  {
   "cell_type": "code",
   "execution_count": null,
   "metadata": {
    "scrolled": true
   },
   "outputs": [],
   "source": [
    "all_tickets_with_time_converted = all_tickets_with_time\n",
    "all_tickets_with_time_converted.info()"
   ]
  },
  {
   "cell_type": "markdown",
   "metadata": {},
   "source": [
    "Convert `time in..` columns to minutes"
   ]
  },
  {
   "cell_type": "code",
   "execution_count": null,
   "metadata": {
    "scrolled": true
   },
   "outputs": [],
   "source": [
    "all_tickets_with_time_converted['time_in_review'] = all_tickets_with_time_converted['time_in_review'].dt.total_seconds().div(60)\n",
    "all_tickets_with_time_converted"
   ]
  },
  {
   "cell_type": "code",
   "execution_count": null,
   "metadata": {},
   "outputs": [],
   "source": [
    "all_tickets_with_time_converted['time_on_codebusters'] = all_tickets_with_time_converted['time_on_codebusters'].dt.total_seconds().div(60)\n",
    "all_tickets_with_time_converted"
   ]
  },
  {
   "cell_type": "code",
   "execution_count": null,
   "metadata": {
    "scrolled": true
   },
   "outputs": [],
   "source": [
    "all_tickets_with_time_converted['time_outside_codebusters'] = all_tickets_with_time['time_outside_codebusters'].dt.total_seconds().div(60)\n",
    "all_tickets_with_time_converted"
   ]
  },
  {
   "cell_type": "code",
   "execution_count": null,
   "metadata": {
    "scrolled": true
   },
   "outputs": [],
   "source": [
    "all_tickets_with_time_converted.isnull().sum()"
   ]
  },
  {
   "cell_type": "code",
   "execution_count": null,
   "metadata": {},
   "outputs": [],
   "source": [
    "all_tickets_with_time_converted.dropna(subset=['time_in_review'], how=\"any\", inplace=True)\n",
    "all_tickets_with_time_converted.isnull().sum()"
   ]
  },
  {
   "cell_type": "markdown",
   "metadata": {},
   "source": [
    "## Save data for KPIs purposes"
   ]
  },
  {
   "cell_type": "code",
   "execution_count": null,
   "metadata": {},
   "outputs": [],
   "source": [
    "all_tickets_with_time_converted.to_csv('all_partners.csv', index=False)"
   ]
  },
  {
   "cell_type": "markdown",
   "metadata": {},
   "source": [
    "### Add a column to all tasks with the latest communicate step date\n",
    "- count \"real\" close time, bease on the date when ticket was moved to `communicate` step"
   ]
  },
  {
   "cell_type": "code",
   "execution_count": null,
   "metadata": {},
   "outputs": [],
   "source": [
    "all_individual_tasks_2022"
   ]
  },
  {
   "cell_type": "code",
   "execution_count": null,
   "metadata": {
    "scrolled": true
   },
   "outputs": [],
   "source": [
    "summary_duplicates = all_individual_tasks_2022.duplicated(['Summary', 'Parent id'], keep=False)\n",
    "all_individual_tasks_2022[summary_duplicates].sort_values(\"Parent id\")"
   ]
  },
  {
   "cell_type": "code",
   "execution_count": null,
   "metadata": {
    "scrolled": false
   },
   "outputs": [],
   "source": [
    "all_individual_tasks_2022_communicate = all_individual_tasks_2022[all_individual_tasks_2022[\"Summary\"] == \"Communicate\"]\n",
    "all_individual_tasks_2022_communicate.sort_values(\"Parent id\")"
   ]
  },
  {
   "cell_type": "code",
   "execution_count": null,
   "metadata": {},
   "outputs": [],
   "source": [
    "all_individual_tasks_2022_communicate.nunique()"
   ]
  },
  {
   "cell_type": "markdown",
   "metadata": {},
   "source": [
    "Drop rows with duplicated `Communicate` subtask and keep only the newest one"
   ]
  },
  {
   "cell_type": "code",
   "execution_count": null,
   "metadata": {},
   "outputs": [],
   "source": [
    "all_individual_tasks_2022_communicate.sort_values([\"Parent id\", \"Created\"])\n",
    "all_individual_tasks_2022_communicate_no_duplicates = all_individual_tasks_2022_communicate.drop_duplicates(['Summary', 'Parent id'], keep=\"last\")\n",
    "# all_individual_tasks_2022_communicate_no_duplicates = all_individual_tasks_2022_communicate\n",
    "all_individual_tasks_2022_communicate_no_duplicates"
   ]
  },
  {
   "cell_type": "code",
   "execution_count": null,
   "metadata": {},
   "outputs": [],
   "source": [
    "all_tickets_with_time_and_cummunicate_date = pd.merge(all_tickets_with_time_converted, all_individual_tasks_2022_communicate_no_duplicates[['Parent id','Created']], how=\"left\",left_on = \"Issue id\",right_on = \"Parent id\").drop(columns=[\"Parent id\"])\n",
    "all_tickets_with_time_and_cummunicate_date.rename({\"Created_y\": \"comminicate_created\"},axis=1, inplace=True)\n",
    "all_tickets_with_time_and_cummunicate_date"
   ]
  },
  {
   "cell_type": "markdown",
   "metadata": {},
   "source": [
    "Drop rows without `communicate_create`, we are taking in to consideration only completed tickets"
   ]
  },
  {
   "cell_type": "code",
   "execution_count": null,
   "metadata": {
    "scrolled": true
   },
   "outputs": [],
   "source": [
    "all_tickets_2022_with_time_and_cummunicate_date.isnull().sum()"
   ]
  },
  {
   "cell_type": "code",
   "execution_count": null,
   "metadata": {},
   "outputs": [],
   "source": [
    "all_tickets_2022_with_time_and_cummunicate_date.nunique()"
   ]
  },
  {
   "cell_type": "code",
   "execution_count": null,
   "metadata": {
    "scrolled": true
   },
   "outputs": [],
   "source": [
    "500 - 145"
   ]
  },
  {
   "cell_type": "markdown",
   "metadata": {},
   "source": []
  },
  {
   "cell_type": "code",
   "execution_count": null,
   "metadata": {},
   "outputs": [],
   "source": [
    "all_tickets_2022_with_time_and_cummunicate_date.dropna(subset=['comminicate_created'], how=\"any\", inplace=True)"
   ]
  },
  {
   "cell_type": "code",
   "execution_count": null,
   "metadata": {},
   "outputs": [],
   "source": [
    "all_tickets_2022_with_time_and_cummunicate_date"
   ]
  },
  {
   "cell_type": "code",
   "execution_count": null,
   "metadata": {},
   "outputs": [],
   "source": []
  },
  {
   "cell_type": "markdown",
   "metadata": {},
   "source": [
    "**Summary:**\n",
    "- rows with null value are droped\n",
    "- we take into consideration only completed tickets"
   ]
  },
  {
   "cell_type": "markdown",
   "metadata": {},
   "source": [
    "### Save data to csv file"
   ]
  },
  {
   "cell_type": "code",
   "execution_count": null,
   "metadata": {},
   "outputs": [],
   "source": [
    "all_tickets_2022_with_time_and_cummunicate_date.to_csv('all_tickets_combined.csv', index=False)"
   ]
  },
  {
   "cell_type": "code",
   "execution_count": null,
   "metadata": {},
   "outputs": [],
   "source": [
    "all_individual_tasks_2022_communicate_no_duplicates.nunique()"
   ]
  },
  {
   "cell_type": "markdown",
   "metadata": {},
   "source": [
    "## Data Analysis"
   ]
  },
  {
   "cell_type": "markdown",
   "metadata": {},
   "source": [
    "### Compare the size of the created data sets\n",
    "- compare the size of each datasests, in order to verify v"
   ]
  },
  {
   "cell_type": "code",
   "execution_count": null,
   "metadata": {},
   "outputs": [],
   "source": [
    "all_individual_tasks_2022_origin[all_individual_tasks_2022_origin['Parent id'] == 450084]"
   ]
  },
  {
   "cell_type": "code",
   "execution_count": null,
   "metadata": {},
   "outputs": [],
   "source": [
    "all_individual_tasks_2022.info()"
   ]
  },
  {
   "cell_type": "markdown",
   "metadata": {},
   "source": [
    "**Summary:**\n",
    "- We should receive inside `all_individual_tasks_2022_communicate_no_duplicates` 1372 rows not 1297"
   ]
  },
  {
   "cell_type": "markdown",
   "metadata": {},
   "source": [
    "# To Do:\n",
    "- invesitigate discrepency between datasests: `codebusters_time`(1798 rows),  `others_time` (1672 rows), `all_tickets_2022` (1699 rows)"
   ]
  },
  {
   "cell_type": "code",
   "execution_count": null,
   "metadata": {},
   "outputs": [],
   "source": [
    "duplucated_communicate = all_individual_tasks_2022_communicate.duplicated(['Summary', 'Parent id'])\n",
    "all_individual_tasks_2022_communicate[duplucated_communicate]"
   ]
  },
  {
   "cell_type": "code",
   "execution_count": null,
   "metadata": {},
   "outputs": [],
   "source": [
    "codebusters_time.shape"
   ]
  },
  {
   "cell_type": "code",
   "execution_count": null,
   "metadata": {},
   "outputs": [],
   "source": [
    "others_time.shape"
   ]
  },
  {
   "cell_type": "code",
   "execution_count": null,
   "metadata": {},
   "outputs": [],
   "source": [
    "all_tickets.shape"
   ]
  },
  {
   "cell_type": "markdown",
   "metadata": {},
   "source": [
    "## Investigate different columns with the tickets age"
   ]
  },
  {
   "cell_type": "markdown",
   "metadata": {},
   "source": [
    "- check the useful KPIs"
   ]
  },
  {
   "cell_type": "code",
   "execution_count": null,
   "metadata": {
    "scrolled": true
   },
   "outputs": [],
   "source": [
    "all_tickets_2022_updated.head(-5)"
   ]
  },
  {
   "cell_type": "code",
   "execution_count": null,
   "metadata": {
    "scrolled": true
   },
   "outputs": [],
   "source": [
    "all_tickets_2022_updated[all_tickets_2022_updated['Issue key'] == 'CI-7689']"
   ]
  },
  {
   "cell_type": "code",
   "execution_count": null,
   "metadata": {},
   "outputs": [],
   "source": [
    "all_tickets_2022_updated['age_till_communicate_hours'].describe()"
   ]
  },
  {
   "cell_type": "code",
   "execution_count": null,
   "metadata": {},
   "outputs": [],
   "source": [
    "# all_tickets_2022_updated.to_csv('all_tickets_2022_updated.csv')"
   ]
  }
 ],
 "metadata": {
  "kernelspec": {
   "display_name": "Python 3",
   "language": "python",
   "name": "python3"
  },
  "language_info": {
   "codemirror_mode": {
    "name": "ipython",
    "version": 3
   },
   "file_extension": ".py",
   "mimetype": "text/x-python",
   "name": "python",
   "nbconvert_exporter": "python",
   "pygments_lexer": "ipython3",
   "version": "3.8.3"
  }
 },
 "nbformat": 4,
 "nbformat_minor": 5
}
