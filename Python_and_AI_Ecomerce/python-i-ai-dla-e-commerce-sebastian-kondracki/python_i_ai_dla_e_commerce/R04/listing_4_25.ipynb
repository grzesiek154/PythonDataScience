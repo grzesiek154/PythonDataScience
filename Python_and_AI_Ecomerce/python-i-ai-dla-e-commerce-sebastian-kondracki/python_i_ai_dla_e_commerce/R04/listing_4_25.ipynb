{
  "cells": [
    {
      "cell_type": "code",
      "execution_count": null,
      "metadata": {
        "id": "vY1lxS1ygj1w"
      },
      "outputs": [],
      "source": [
        "from google.colab import drive\n",
        "drive.mount('/content/drive')"
      ]
    },
    {
      "cell_type": "code",
      "execution_count": null,
      "metadata": {
        "id": "F_Fx9YgmgrsZ"
      },
      "outputs": [],
      "source": [
        "import pandas as pd\n",
        "\n",
        "df = pd.read_csv(   \"/content/drive/MyDrive/google-colab-dataset/Kwartalne_wskazniki_cen_towarow_i_uslug_konsumpcyjnych_od_1995__roku.csv\")\n",
        "df.dropna(how=\"all\", inplace=True)\n",
        "print(df)"
      ]
    }
  ],
  "metadata": {
    "colab": {
      "name": "listing_4_25.ipynb",
      "provenance": []
    },
    "kernelspec": {
      "display_name": "Python 3",
      "name": "python3"
    },
    "language_info": {
      "name": "python"
    }
  },
  "nbformat": 4,
  "nbformat_minor": 0
}
