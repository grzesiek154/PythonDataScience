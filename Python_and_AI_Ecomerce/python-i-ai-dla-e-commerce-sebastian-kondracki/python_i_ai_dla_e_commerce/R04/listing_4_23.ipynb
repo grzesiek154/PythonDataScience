{
  "nbformat": 4,
  "nbformat_minor": 0,
  "metadata": {
    "colab": {
      "name": "listing_4_23.ipynb",
      "provenance": []
    },
    "kernelspec": {
      "name": "python3",
      "display_name": "Python 3"
    },
    "language_info": {
      "name": "python"
    }
  },
  "cells": [
    {
      "cell_type": "code",
      "execution_count": null,
      "metadata": {
        "id": "eSVauA4vesHs"
      },
      "outputs": [],
      "source": [
        "from google.colab import drive\n",
        "drive.mount('/content/drive')"
      ]
    },
    {
      "cell_type": "code",
      "source": [
        "!ls /content/drive/MyDrive/"
      ],
      "metadata": {
        "id": "vNPmlqRxf95s"
      },
      "execution_count": null,
      "outputs": []
    }
  ]
}