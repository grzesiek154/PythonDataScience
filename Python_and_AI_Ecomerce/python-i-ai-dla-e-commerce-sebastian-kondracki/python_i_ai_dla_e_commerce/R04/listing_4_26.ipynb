{
  "cells": [
    {
      "cell_type": "code",
      "execution_count": null,
      "metadata": {
        "id": "vY1lxS1ygj1w"
      },
      "outputs": [],
      "source": [
        "from google.colab import drive\n",
        "drive.mount('/content/drive')"
      ]
    },
    {
      "cell_type": "code",
      "execution_count": null,
      "metadata": {
        "id": "F_Fx9YgmgrsZ"
      },
      "outputs": [],
      "source": [
        "import pandas as pd\n",
        "\n",
        "df = pd.read_csv(   \"/content/drive/MyDrive/google-colab-dataset/Kwartalne_wskazniki_cen_towarow_i_uslug_konsumpcyjnych_od_1995__roku.csv\")\n",
        "df.dropna(how=\"all\", inplace=True)\n",
        "\n",
        "print(\"Pierwsze 3 wiersze:\")\n",
        "print(df.head(3))\n",
        "print(\"Ostatnie 3 wiersze:\")\n",
        "print(df.tail(3))\n",
        "print(\"Losowe 3 wiersze:\")\n",
        "print(df.sample(3))\n",
        "print(\"Losowy 1% wierszy:\")\n",
        "print(df.sample(frac=0.01))"
      ]
    }
  ],
  "metadata": {
    "colab": {
      "name": "listing_4_26.ipynb",
      "provenance": []
    },
    "kernelspec": {
      "display_name": "Python 3",
      "name": "python3"
    },
    "language_info": {
      "name": "python"
    }
  },
  "nbformat": 4,
  "nbformat_minor": 0
}
