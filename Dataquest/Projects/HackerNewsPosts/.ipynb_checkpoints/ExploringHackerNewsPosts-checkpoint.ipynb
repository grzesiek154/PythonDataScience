{
 "cells": [
  {
   "cell_type": "markdown",
   "id": "2894a691",
   "metadata": {},
   "source": [
    "# Explore posts form Hacker News dataset\n",
    "**This analysis aims to check if:**\n",
    "* Do Ask HN posts or Show HN posts, receive more comments on average?\n",
    "* Do posts created at a certain time receive more comments on average?"
   ]
  },
  {
   "cell_type": "markdown",
   "id": "34497b69",
   "metadata": {},
   "source": [
    "This data set is Hacker News posts from the last 12 months (up to September 26 2016).\n",
    "\n",
    "It includes the following columns:\n",
    "\n",
    "* title: title of the post (self explanatory)\n",
    "\n",
    "* url: the url of the item being linked to\n",
    "\n",
    "* num_points: the number of upvotes the post received\n",
    "\n",
    "* num_comments: the number of comments the post received\n",
    "\n",
    "* author: the name of the account that made the post\n",
    "\n",
    "* created_at: the date and time the post was made (the time zone is Eastern Time in the US"
   ]
  },
  {
   "cell_type": "markdown",
   "id": "e5558e18",
   "metadata": {},
   "source": [
    "## Import needed libraries"
   ]
  },
  {
   "cell_type": "code",
   "execution_count": 1,
   "id": "a6d4b0fb",
   "metadata": {},
   "outputs": [],
   "source": [
    "from csv import reader\n",
    "import datetime as dt"
   ]
  },
  {
   "cell_type": "markdown",
   "id": "0b769ae2",
   "metadata": {},
   "source": [
    "## Create utility functions"
   ]
  },
  {
   "cell_type": "markdown",
   "id": "1e0d1fbe",
   "metadata": {},
   "source": [
    "`extract_data` funtion takes a file path as an argument and returns csv file converted to python list"
   ]
  },
  {
   "cell_type": "code",
   "execution_count": 2,
   "id": "0c6c649d",
   "metadata": {},
   "outputs": [],
   "source": [
    "def extract_data(file_path):\n",
    "    open_dataset = open(file_path, encoding='utf8')\n",
    "    read_dataset = reader(open_dataset)\n",
    "    return list(read_dataset)"
   ]
  },
  {
   "cell_type": "markdown",
   "id": "ed3c32da",
   "metadata": {},
   "source": [
    "`display_list_data` funtion is used to display list data in user friendly fromat, it allows also to print additional informations like length of rows and length of columns"
   ]
  },
  {
   "cell_type": "code",
   "execution_count": 3,
   "id": "bad620ab",
   "metadata": {},
   "outputs": [],
   "source": [
    "def display_list_data(dataset, start, end, rows_and_columns):\n",
    "    sliced_data = dataset[start:end]\n",
    "    for row in sliced_data:\n",
    "        print(row)\n",
    "    print('\\n')\n",
    "    if rows_and_columns:\n",
    "        print('Number of rows: {:,}'.format(len(dataset)))\n",
    "        print('Number of columns:', len(dataset[0]))    "
   ]
  },
  {
   "cell_type": "markdown",
   "id": "419f785b",
   "metadata": {},
   "source": [
    "`display_dictionary_data` is used to display dictionary data in a more user-friendly format, additionally it allows also to print max and min values"
   ]
  },
  {
   "cell_type": "code",
   "execution_count": 4,
   "id": "6f46b004",
   "metadata": {},
   "outputs": [],
   "source": [
    "def display_dictionary_data(dictionary, topic, max_and_min_comments=False):\n",
    "    reversed_dataset = list(zip(dictionary.values(), dictionary.keys()))\n",
    "    sorted_dict = sorted(zip(dictionary.keys(), dictionary.values()))\n",
    "    for row in sorted_dict:\n",
    "        print('At {} there was {} {} added'.format(row[0],row[1],topic))\n",
    "    print('\\n')    \n",
    "    if max_and_min_comments:\n",
    "        max_value, max_key = max(reversed_dataset)\n",
    "        min_value, min_key = min(reversed_dataset)\n",
    "        print(\"At {} o'clock we noticed a maximum number of {} which was in total {}\".format(max_key, topic, max_value))\n",
    "        print(\"At {} o'clock we noticed the smallest number of {} which was in total {}\".format(min_key, topic, min_value))"
   ]
  },
  {
   "cell_type": "markdown",
   "id": "c699144c",
   "metadata": {},
   "source": [
    "## Import and clean data set"
   ]
  },
  {
   "cell_type": "markdown",
   "id": "6e1c3d40",
   "metadata": {},
   "source": [
    "We use `extract_data` function to convert csv file into python list<br/>\n",
    "We use `display_list_data` function to display first five rows of created list with hacer news posts"
   ]
  },
  {
   "cell_type": "code",
   "execution_count": 5,
   "id": "da9031c9",
   "metadata": {},
   "outputs": [
    {
     "name": "stdout",
     "output_type": "stream",
     "text": [
      "['id', 'title', 'url', 'num_points', 'num_comments', 'author', 'created_at']\n",
      "['12579008', 'You have two days to comment if you want stem cells to be classified as your own', 'http://www.regulations.gov/document?D=FDA-2015-D-3719-0018', '1', '0', 'altstar', '9/26/2016 3:26']\n",
      "['12579005', 'SQLAR  the SQLite Archiver', 'https://www.sqlite.org/sqlar/doc/trunk/README.md', '1', '0', 'blacksqr', '9/26/2016 3:24']\n",
      "['12578997', 'What if we just printed a flatscreen television on the side of our boxes?', 'https://medium.com/vanmoof/our-secrets-out-f21c1f03fdc8#.ietxmez43', '1', '0', 'pavel_lishin', '9/26/2016 3:19']\n",
      "['12578989', 'algorithmic music', 'http://cacm.acm.org/magazines/2011/7/109891-algorithmic-composition/fulltext', '1', '0', 'poindontcare', '9/26/2016 3:16']\n",
      "\n",
      "\n",
      "Number of rows: 293,120\n",
      "Number of columns: 7\n"
     ]
    }
   ],
   "source": [
    "hacker_news_posts = extract_data('HN_posts_year_to_Sep_26_2016.csv')\n",
    "display_list_data(hacker_news_posts, 0, 5, True)"
   ]
  },
  {
   "cell_type": "markdown",
   "id": "de7909e0",
   "metadata": {},
   "source": [
    "### Separate haders from the rest of the data"
   ]
  },
  {
   "cell_type": "code",
   "execution_count": 6,
   "id": "4d9ca03d",
   "metadata": {},
   "outputs": [],
   "source": [
    "headers = hacker_news_posts[:1]\n",
    "hn = hacker_news_posts[1:]"
   ]
  },
  {
   "cell_type": "markdown",
   "id": "710236e8",
   "metadata": {},
   "source": [
    "### Clean the data"
   ]
  },
  {
   "cell_type": "markdown",
   "id": "53c2f8a7",
   "metadata": {},
   "source": [
    "In this step we will remove posts without comments"
   ]
  },
  {
   "cell_type": "code",
   "execution_count": 7,
   "id": "17f8963a",
   "metadata": {},
   "outputs": [
    {
     "name": "stdout",
     "output_type": "stream",
     "text": [
      "[['id', 'title', 'url', 'num_points', 'num_comments', 'author', 'created_at']]\n",
      "293119\n",
      "80401\n",
      "212718\n"
     ]
    }
   ],
   "source": [
    "print(headers)\n",
    "hn[1]\n",
    "cleaned_hn = []\n",
    "for row in hn:\n",
    "    num_comments = int(row[4])\n",
    "    if num_comments > 0:\n",
    "        cleaned_hn.append(row)\n",
    "        \n",
    "print(len(hn))\n",
    "print(len(cleaned_hn))\n",
    "print(len(hn) - len(cleaned_hn))"
   ]
  },
  {
   "cell_type": "markdown",
   "id": "18ddb201",
   "metadata": {},
   "source": [
    "**Conclusion:**<br/>\n",
    "After removing posts without comments the amount of rows in the dataset is significantly different, it is reduced by 212718 entries"
   ]
  },
  {
   "cell_type": "markdown",
   "id": "a4ec01e3",
   "metadata": {},
   "source": [
    "## Extract only the posts that begin with either Ask HN or Show HN\n",
    "We are only concerned with post titles beginning with `Ask HN` or `Show HN`. Thus, we will create new lists containing just the data for those titles and store them in corresponding variables."
   ]
  },
  {
   "cell_type": "code",
   "execution_count": 8,
   "id": "70e54572",
   "metadata": {},
   "outputs": [
    {
     "name": "stdout",
     "output_type": "stream",
     "text": [
      "10158\n",
      "273822\n"
     ]
    }
   ],
   "source": [
    "ask_posts = []\n",
    "show_posts = []\n",
    "other_posts = []\n",
    "\n",
    "for row in hn:\n",
    "    title = row[1]\n",
    "    \n",
    "    if title.lower().startswith('ask hn'):\n",
    "        ask_posts.append(row)\n",
    "    elif title.lower().startswith('show hn'):\n",
    "        show_posts.append(row)\n",
    "    else:\n",
    "        other_posts.append(row)\n",
    "\n",
    "print(len(show_posts))  \n",
    "print(len(other_posts))"
   ]
  },
  {
   "cell_type": "markdown",
   "id": "db2b3590",
   "metadata": {},
   "source": [
    "Explore `ask_posts` dataset"
   ]
  },
  {
   "cell_type": "code",
   "execution_count": 9,
   "id": "6529a4e5",
   "metadata": {},
   "outputs": [
    {
     "name": "stdout",
     "output_type": "stream",
     "text": [
      "['12578908', 'Ask HN: What TLD do you use for local development?', '', '4', '7', 'Sevrene', '9/26/2016 2:53']\n",
      "['12578522', 'Ask HN: How do you pass on your work when you die?', '', '6', '3', 'PascLeRasc', '9/26/2016 1:17']\n",
      "['12577908', 'Ask HN: How a DNS problem can be limited to a geographic region?', '', '1', '0', 'kuon', '9/25/2016 22:57']\n",
      "\n",
      "\n",
      "Number of rows: 9,139\n",
      "Number of columns: 7\n"
     ]
    }
   ],
   "source": [
    "display_list_data(ask_posts,0, 3, True)"
   ]
  },
  {
   "cell_type": "markdown",
   "id": "65fd21eb",
   "metadata": {},
   "source": [
    "Explore `show_posts` dataset"
   ]
  },
  {
   "cell_type": "code",
   "execution_count": 10,
   "id": "9e40cf35",
   "metadata": {},
   "outputs": [
    {
     "name": "stdout",
     "output_type": "stream",
     "text": [
      "['12578335', 'Show HN: Finding puns computationally', 'http://puns.samueltaylor.org/', '2', '0', 'saamm', '9/26/2016 0:36']\n",
      "['12578182', 'Show HN: A simple library for complicated animations', 'https://christinecha.github.io/choreographer-js/', '1', '0', 'christinecha', '9/26/2016 0:01']\n",
      "['12578098', 'Show HN: WebGL visualization of DNA sequences', 'http://grondilu.github.io/dna.html', '1', '0', 'grondilu', '9/25/2016 23:44']\n",
      "\n",
      "\n",
      "Number of rows: 10,158\n",
      "Number of columns: 7\n"
     ]
    }
   ],
   "source": [
    "display_list_data(show_posts,0, 3, True)"
   ]
  },
  {
   "cell_type": "markdown",
   "id": "141aed83",
   "metadata": {},
   "source": [
    "Explore `other_posts` dataset"
   ]
  },
  {
   "cell_type": "code",
   "execution_count": 11,
   "id": "42aa1b11",
   "metadata": {},
   "outputs": [
    {
     "name": "stdout",
     "output_type": "stream",
     "text": [
      "['12579008', 'You have two days to comment if you want stem cells to be classified as your own', 'http://www.regulations.gov/document?D=FDA-2015-D-3719-0018', '1', '0', 'altstar', '9/26/2016 3:26']\n",
      "['12579005', 'SQLAR  the SQLite Archiver', 'https://www.sqlite.org/sqlar/doc/trunk/README.md', '1', '0', 'blacksqr', '9/26/2016 3:24']\n",
      "['12578997', 'What if we just printed a flatscreen television on the side of our boxes?', 'https://medium.com/vanmoof/our-secrets-out-f21c1f03fdc8#.ietxmez43', '1', '0', 'pavel_lishin', '9/26/2016 3:19']\n",
      "\n",
      "\n",
      "Number of rows: 273,822\n",
      "Number of columns: 7\n"
     ]
    }
   ],
   "source": [
    "display_list_data(other_posts,0, 3, True)"
   ]
  },
  {
   "cell_type": "markdown",
   "id": "3281bbc6",
   "metadata": {},
   "source": [
    "## Determine if ask posts or show posts receive more comments on average"
   ]
  },
  {
   "cell_type": "code",
   "execution_count": 12,
   "id": "992f998f",
   "metadata": {},
   "outputs": [
    {
     "name": "stdout",
     "output_type": "stream",
     "text": [
      "94986\n",
      "10.39\n"
     ]
    }
   ],
   "source": [
    "total_ask_comments = 0\n",
    "for row in ask_posts:\n",
    "    total_ask_comments += int(row[4])\n",
    "print(total_ask_comments)\n",
    "avg_ask_comments = round(total_ask_comments / len(ask_posts), 2)\n",
    "print(avg_ask_comments)"
   ]
  },
  {
   "cell_type": "code",
   "execution_count": 13,
   "id": "b297634a",
   "metadata": {},
   "outputs": [
    {
     "name": "stdout",
     "output_type": "stream",
     "text": [
      "4.89\n"
     ]
    }
   ],
   "source": [
    "total_show_comments = 0\n",
    "for row in show_posts:\n",
    "    total_show_comments += int(row[4])\n",
    "avg_show_posts = round(total_show_comments / len(show_posts), 2)\n",
    "print(avg_show_posts)"
   ]
  },
  {
   "cell_type": "code",
   "execution_count": 14,
   "id": "27bdaace",
   "metadata": {},
   "outputs": [
    {
     "name": "stdout",
     "output_type": "stream",
     "text": [
      "0.18\n"
     ]
    }
   ],
   "source": [
    "total_other_comments = 0\n",
    "for row in show_posts:\n",
    "    total_other_comments += int(row[4])\n",
    "avg_other_posts = round(total_other_comments / len(other_posts), 2)\n",
    "print(avg_other_posts)"
   ]
  },
  {
   "cell_type": "markdown",
   "id": "ab3a5d13",
   "metadata": {},
   "source": [
    "**Conclusion**<br/>\n",
    "Base on our analysis we can say that ask posts received the bigest amount of comments, the results are follwing:\n",
    "1. Ask posts received 10.39 comments on avarage\n",
    "2. Show posts received 4.89 comments on avarage\n",
    "3. Ask posts received 0.18 comments on avarage"
   ]
  },
  {
   "cell_type": "markdown",
   "id": "cd32620b",
   "metadata": {},
   "source": [
    "## Determinate number of posts and comments created in each hour"
   ]
  },
  {
   "cell_type": "markdown",
   "id": "02296e99",
   "metadata": {},
   "source": [
    "Calculate the number of ask posts created in each hour of the day, along with the number of comments received."
   ]
  },
  {
   "cell_type": "code",
   "execution_count": 15,
   "id": "ac79391c",
   "metadata": {},
   "outputs": [],
   "source": [
    "restult_list_ask_posts = []\n",
    "for row in ask_posts:\n",
    "    restult_list_ask_posts.append([row[6],int(row[4])])\n",
    "    \n",
    "counts_by_hour_ask = {}\n",
    "comments_by_hour_ask = {}\n",
    "\n",
    "for row in restult_list_ask_posts:\n",
    "    dt_obj = dt.datetime.strptime(row[0], \"%m/%d/%Y %H:%M\")\n",
    "    hour = dt_obj.strftime(\"%H\")\n",
    "    if hour in counts_by_hour_ask:\n",
    "        counts_by_hour_ask[hour] += 1\n",
    "        comments_by_hour_ask[hour] += row[1]\n",
    "    else:\n",
    "        counts_by_hour_ask[hour] = 1\n",
    "        comments_by_hour_ask[hour] = row[1]"
   ]
  },
  {
   "cell_type": "markdown",
   "id": "798ac4d3",
   "metadata": {},
   "source": [
    "Explore comments added for each hour<br/>\n",
    "**comments_by_hour:** contains the corresponding number of comments ask posts created at each hour"
   ]
  },
  {
   "cell_type": "code",
   "execution_count": 16,
   "id": "e9bd4bed",
   "metadata": {},
   "outputs": [
    {
     "name": "stdout",
     "output_type": "stream",
     "text": [
      "At 00 there was 2277 comments added\n",
      "At 01 there was 2089 comments added\n",
      "At 02 there was 2996 comments added\n",
      "At 03 there was 2154 comments added\n",
      "At 04 there was 2360 comments added\n",
      "At 05 there was 1838 comments added\n",
      "At 06 there was 1587 comments added\n",
      "At 07 there was 1585 comments added\n",
      "At 08 there was 2362 comments added\n",
      "At 09 there was 1477 comments added\n",
      "At 10 there was 3013 comments added\n",
      "At 11 there was 2797 comments added\n",
      "At 12 there was 4234 comments added\n",
      "At 13 there was 7245 comments added\n",
      "At 14 there was 4972 comments added\n",
      "At 15 there was 18525 comments added\n",
      "At 16 there was 4466 comments added\n",
      "At 17 there was 5547 comments added\n",
      "At 18 there was 4877 comments added\n",
      "At 19 there was 3954 comments added\n",
      "At 20 there was 4462 comments added\n",
      "At 21 there was 4500 comments added\n",
      "At 22 there was 3372 comments added\n",
      "At 23 there was 2297 comments added\n",
      "\n",
      "\n",
      "At 15 o'clock we noticed a maximum number of comments which was in total 18525\n",
      "At 09 o'clock we noticed the smallest number of comments which was in total 1477\n"
     ]
    }
   ],
   "source": [
    "display_dictionary_data(comments_by_hour_ask, 'comments', True)"
   ]
  },
  {
   "cell_type": "markdown",
   "id": "b6cf125e",
   "metadata": {},
   "source": [
    "**Conclusions**<br/>\n",
    "It can be seen from the above analysis that users are more likely to comment ask posts between 8 am and 22. Since 22  number of added comments starts to decline consequentially. The least user activity in the comment is noticeable from 3 am to 5 am.The peak was at 15 and the bottom was at 9 am."
   ]
  },
  {
   "cell_type": "markdown",
   "id": "00f059c0",
   "metadata": {},
   "source": [
    "Explore posts added for each hour<br/>\n",
    "**counts_by_hour:** contains the number of ask posts created during each hour of the day."
   ]
  },
  {
   "cell_type": "code",
   "execution_count": 17,
   "id": "09a073d3",
   "metadata": {},
   "outputs": [
    {
     "name": "stdout",
     "output_type": "stream",
     "text": [
      "At 00 there was 301 posts added\n",
      "At 01 there was 282 posts added\n",
      "At 02 there was 269 posts added\n",
      "At 03 there was 271 posts added\n",
      "At 04 there was 243 posts added\n",
      "At 05 there was 209 posts added\n",
      "At 06 there was 234 posts added\n",
      "At 07 there was 226 posts added\n",
      "At 08 there was 257 posts added\n",
      "At 09 there was 222 posts added\n",
      "At 10 there was 282 posts added\n",
      "At 11 there was 312 posts added\n",
      "At 12 there was 342 posts added\n",
      "At 13 there was 444 posts added\n",
      "At 14 there was 513 posts added\n",
      "At 15 there was 646 posts added\n",
      "At 16 there was 579 posts added\n",
      "At 17 there was 587 posts added\n",
      "At 18 there was 614 posts added\n",
      "At 19 there was 552 posts added\n",
      "At 20 there was 510 posts added\n",
      "At 21 there was 518 posts added\n",
      "At 22 there was 383 posts added\n",
      "At 23 there was 343 posts added\n",
      "\n",
      "\n",
      "At 15 o'clock we noticed a maximum number of posts which was in total 646\n",
      "At 05 o'clock we noticed the smallest number of posts which was in total 209\n"
     ]
    }
   ],
   "source": [
    "display_dictionary_data(counts_by_hour_ask, 'posts', True)"
   ]
  },
  {
   "cell_type": "markdown",
   "id": "611bb8ae",
   "metadata": {},
   "source": [
    "**Conclusions**<br/>\n",
    "It can be seen from the above analysis that number of added ask posts fluctates through the whole day.\n",
    "The peak was at 15 and the bottom was at 5 am."
   ]
  },
  {
   "cell_type": "markdown",
   "id": "16d5f651",
   "metadata": {},
   "source": [
    "Calculate the number of show posts created in each hour of the day, along with the number of comments received."
   ]
  },
  {
   "cell_type": "code",
   "execution_count": 18,
   "id": "27234028",
   "metadata": {},
   "outputs": [],
   "source": [
    "restult_list_show_posts = []\n",
    "for row in show_posts:\n",
    "    restult_list_show_posts.append([row[6],int(row[4])])\n",
    "    \n",
    "counts_by_hour_show = {}\n",
    "comments_by_hour_show = {}\n",
    "\n",
    "for row in restult_list_show_posts:\n",
    "    dt_obj = dt.datetime.strptime(row[0], \"%m/%d/%Y %H:%M\")\n",
    "    hour = dt_obj.strftime(\"%H\")\n",
    "    if hour in counts_by_hour_show:\n",
    "        counts_by_hour_show[hour] += 1\n",
    "        comments_by_hour_show[hour] += row[1]\n",
    "    else:\n",
    "        counts_by_hour_show[hour] = 1\n",
    "        comments_by_hour_show[hour] = row[1]"
   ]
  },
  {
   "cell_type": "markdown",
   "id": "abaa7047",
   "metadata": {},
   "source": [
    "**Conclusions**<br/>\n",
    "It can be seen from the above analysis that number of added ask posts fluctates through the whole day.\n",
    "The peak was at 15 and the bottom was at 5 am."
   ]
  },
  {
   "cell_type": "markdown",
   "id": "4ec36c1d",
   "metadata": {},
   "source": [
    "Explore `counts_by_hour_show` dataset"
   ]
  },
  {
   "cell_type": "code",
   "execution_count": 19,
   "id": "b5eebb10",
   "metadata": {},
   "outputs": [
    {
     "name": "stdout",
     "output_type": "stream",
     "text": [
      "At 00 there was 276 posts added\n",
      "At 01 there was 247 posts added\n",
      "At 02 there was 209 posts added\n",
      "At 03 there was 206 posts added\n",
      "At 04 there was 194 posts added\n",
      "At 05 there was 172 posts added\n",
      "At 06 there was 192 posts added\n",
      "At 07 there was 236 posts added\n",
      "At 08 there was 316 posts added\n",
      "At 09 there was 302 posts added\n",
      "At 10 there was 323 posts added\n",
      "At 11 there was 402 posts added\n",
      "At 12 there was 516 posts added\n",
      "At 13 there was 610 posts added\n",
      "At 14 there was 696 posts added\n",
      "At 15 there was 836 posts added\n",
      "At 16 there was 801 posts added\n",
      "At 17 there was 761 posts added\n",
      "At 18 there was 656 posts added\n",
      "At 19 there was 556 posts added\n",
      "At 20 there was 525 posts added\n",
      "At 21 there was 430 posts added\n",
      "At 22 there was 377 posts added\n",
      "At 23 there was 319 posts added\n",
      "\n",
      "\n",
      "At 15 o'clock we noticed a maximum number of posts which was in total 836\n",
      "At 05 o'clock we noticed the smallest number of posts which was in total 172\n"
     ]
    }
   ],
   "source": [
    "display_dictionary_data(counts_by_hour_show, 'posts', True)"
   ]
  },
  {
   "cell_type": "markdown",
   "id": "96b1d101",
   "metadata": {},
   "source": [
    "Explore `comments_by_hour_show` dataset"
   ]
  },
  {
   "cell_type": "code",
   "execution_count": 20,
   "id": "a0b5ff1e",
   "metadata": {},
   "outputs": [
    {
     "name": "stdout",
     "output_type": "stream",
     "text": [
      "At 00 there was 1283 comments added\n",
      "At 01 there was 1006 comments added\n",
      "At 02 there was 1076 comments added\n",
      "At 03 there was 934 comments added\n",
      "At 04 there was 978 comments added\n",
      "At 05 there was 592 comments added\n",
      "At 06 there was 904 comments added\n",
      "At 07 there was 1577 comments added\n",
      "At 08 there was 1771 comments added\n",
      "At 09 there was 1411 comments added\n",
      "At 10 there was 1228 comments added\n",
      "At 11 there was 2413 comments added\n",
      "At 12 there was 3609 comments added\n",
      "At 13 there was 3314 comments added\n",
      "At 14 there was 3839 comments added\n",
      "At 15 there was 3824 comments added\n",
      "At 16 there was 3769 comments added\n",
      "At 17 there was 3236 comments added\n",
      "At 18 there was 3242 comments added\n",
      "At 19 there was 2791 comments added\n",
      "At 20 there was 2183 comments added\n",
      "At 21 there was 1759 comments added\n",
      "At 22 there was 1450 comments added\n",
      "At 23 there was 1444 comments added\n",
      "\n",
      "\n",
      "At 14 o'clock we noticed a maximum number of comments which was in total 3839\n",
      "At 05 o'clock we noticed the smallest number of comments which was in total 592\n"
     ]
    }
   ],
   "source": [
    "display_dictionary_data(comments_by_hour_show, 'comments', True)"
   ]
  },
  {
   "cell_type": "markdown",
   "id": "bf3774e7",
   "metadata": {},
   "source": [
    "**Conclusions**<br/>\n",
    "It can be seen from the above analysis that users are more likely to add comments between 11 am and 19. During the evening number of added comments starts to decline. The least user activity in the comment is noticeable from 3 am to 5 am.\n",
    "The peak was at 14 and the bottom was at 5 am."
   ]
  },
  {
   "cell_type": "markdown",
   "id": "46a8f62a",
   "metadata": {},
   "source": [
    "## Calculate the average number of comments per post for posts created during each hour of the day"
   ]
  },
  {
   "cell_type": "code",
   "execution_count": 21,
   "id": "c8b5d818",
   "metadata": {},
   "outputs": [
    {
     "name": "stdout",
     "output_type": "stream",
     "text": [
      "[['02', 11.14], ['01', 7.41], ['22', 8.8], ['21', 8.69], ['19', 7.16], ['17', 9.45], ['15', 28.68], ['14', 9.69], ['13', 16.32], ['11', 8.96], ['10', 10.68], ['09', 6.65], ['07', 7.01], ['03', 7.95], ['23', 6.7], ['20', 8.75], ['16', 7.71], ['08', 9.19], ['00', 7.56], ['18', 7.94], ['12', 12.38], ['04', 9.71], ['06', 6.78], ['05', 8.79]]\n"
     ]
    }
   ],
   "source": [
    "# comments per post\n",
    "# need to know\n",
    "avg_by_hour_ask = []\n",
    "for hour in comments_by_hour_ask:\n",
    "    rounded_avg_ask = round(comments_by_hour_ask[hour] / counts_by_hour_ask[hour], 2)\n",
    "    avg_by_hour_ask.append([hour, rounded_avg_ask])\n",
    "print(avg_by_hour_ask)"
   ]
  },
  {
   "cell_type": "code",
   "execution_count": 22,
   "id": "299139a5",
   "metadata": {},
   "outputs": [
    {
     "name": "stdout",
     "output_type": "stream",
     "text": [
      "['02', 11.14]\n",
      "['01', 7.41]\n",
      "['22', 8.8]\n",
      "['21', 8.69]\n",
      "['19', 7.16]\n",
      "['17', 9.45]\n",
      "['15', 28.68]\n",
      "['14', 9.69]\n",
      "['13', 16.32]\n",
      "['11', 8.96]\n",
      "['10', 10.68]\n",
      "['09', 6.65]\n",
      "['07', 7.01]\n",
      "['03', 7.95]\n",
      "['23', 6.7]\n",
      "['20', 8.75]\n",
      "['16', 7.71]\n",
      "['08', 9.19]\n",
      "['00', 7.56]\n",
      "['18', 7.94]\n",
      "['12', 12.38]\n",
      "['04', 9.71]\n",
      "['06', 6.78]\n",
      "['05', 8.79]\n",
      "\n",
      "\n",
      "Number of rows: 24\n",
      "Number of columns: 2\n"
     ]
    }
   ],
   "source": [
    "display_list_data(avg_by_hour_ask, 0, len(avg_by_hour_ask), True)"
   ]
  },
  {
   "cell_type": "markdown",
   "id": "0390d984",
   "metadata": {},
   "source": [
    "## Display the five hours with the bigest amount of average comments per post"
   ]
  },
  {
   "cell_type": "code",
   "execution_count": 23,
   "id": "880ea268",
   "metadata": {},
   "outputs": [
    {
     "name": "stdout",
     "output_type": "stream",
     "text": [
      "[[28.68, '15'], [16.32, '13'], [12.38, '12'], [11.14, '02'], [10.68, '10'], [9.71, '04'], [9.69, '14'], [9.45, '17'], [9.19, '08'], [8.96, '11'], [8.8, '22'], [8.79, '05'], [8.75, '20'], [8.69, '21'], [7.95, '03'], [7.94, '18'], [7.71, '16'], [7.56, '00'], [7.41, '01'], [7.16, '19'], [7.01, '07'], [6.78, '06'], [6.7, '23'], [6.65, '09']]\n"
     ]
    }
   ],
   "source": [
    "swap_avg_by_hour = []\n",
    "for row in avg_by_hour_ask:\n",
    "    swap_avg_by_hour.append([row[1], row[0]])\n",
    "sorted_swap = sorted(swap_avg_by_hour, reverse=True)\n",
    "print(sorted_swap)"
   ]
  },
  {
   "cell_type": "code",
   "execution_count": 24,
   "id": "5cdfaa05",
   "metadata": {},
   "outputs": [
    {
     "name": "stdout",
     "output_type": "stream",
     "text": [
      "Top 5 Hours for Ask Posts Comments\n",
      "15:00: 28.68\n",
      "13:00: 16.32\n",
      "12:00: 12.38\n",
      "02:00: 11.14\n",
      "10:00: 10.68\n"
     ]
    }
   ],
   "source": [
    "print(\"Top 5 Hours for Ask Posts Comments\")\n",
    "for row in sorted_swap[:5]:\n",
    "    print('{}:00: {}'.format(row[1], row[0]))\n",
    "    "
   ]
  },
  {
   "cell_type": "markdown",
   "id": "534b6e33",
   "metadata": {},
   "source": [
    "### Convert time to CET time zone"
   ]
  },
  {
   "cell_type": "code",
   "execution_count": 25,
   "id": "18e1acc2",
   "metadata": {},
   "outputs": [],
   "source": [
    "ask_post_avg_by_hour_cet = []\n",
    "for row in sorted_swap:\n",
    "    hour = int(row[1])\n",
    "    dt_hour = dt.datetime(2022, 1, 1, hour, 0)\n",
    "    dt_cet = dt_hour + dt.timedelta(hours = 6)\n",
    "    ask_post_avg_by_hour_cet.append([row[0],dt_cet.hour])"
   ]
  },
  {
   "cell_type": "code",
   "execution_count": 26,
   "id": "12f3393a",
   "metadata": {},
   "outputs": [
    {
     "name": "stdout",
     "output_type": "stream",
     "text": [
      "Top 5 Hours for Ask Posts Comments in CET\n",
      "21:00: 28.68\n",
      "19:00: 16.32\n",
      "18:00: 12.38\n",
      "8:00: 11.14\n",
      "16:00: 10.68\n"
     ]
    }
   ],
   "source": [
    "print(\"Top 5 Hours for Ask Posts Comments in CET\")\n",
    "for row in ask_post_avg_by_hour_cet[:5]:\n",
    "    print('{}:00: {}'.format(row[1], row[0])) "
   ]
  },
  {
   "cell_type": "markdown",
   "id": "7450d984",
   "metadata": {},
   "source": [
    "# Determine if show and ask posts receive more points on average."
   ]
  },
  {
   "cell_type": "code",
   "execution_count": null,
   "id": "9d60f8ea",
   "metadata": {},
   "outputs": [],
   "source": []
  }
 ],
 "metadata": {
  "kernelspec": {
   "display_name": "Python 3 (ipykernel)",
   "language": "python",
   "name": "python3"
  },
  "language_info": {
   "codemirror_mode": {
    "name": "ipython",
    "version": 3
   },
   "file_extension": ".py",
   "mimetype": "text/x-python",
   "name": "python",
   "nbconvert_exporter": "python",
   "pygments_lexer": "ipython3",
   "version": "3.10.4"
  }
 },
 "nbformat": 4,
 "nbformat_minor": 5
}
