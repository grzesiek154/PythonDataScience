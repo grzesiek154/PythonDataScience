{
 "cells": [
  {
   "cell_type": "code",
   "execution_count": 1,
   "metadata": {},
   "outputs": [
    {
     "name": "stdout",
     "output_type": "stream",
     "text": [
      "Imię    Nazwisko\n",
      "------  ----------\n",
      "Anna    Nowak\n",
      "Jan     Kowalski\n"
     ]
    }
   ],
   "source": [
    "from tabulate import tabulate\n",
    "\n",
    "customers = []\n",
    "customers.append([\"Anna\", \"Nowak\"])\n",
    "customers.append([\"Jan\", \"Kowalski\"])\n",
    "print(tabulate(customers, headers=[\"Imię\", \"Nazwisko\"]))\n"
   ]
  },
  {
   "cell_type": "code",
   "execution_count": 2,
   "id": "63f467a8",
   "metadata": {},
   "outputs": [
    {
     "name": "stdout",
     "output_type": "stream",
     "text": [
      "Ilosc lekcji: 57\n",
      "Czas trwania: 10:47:52\n",
      "Format: zip\n",
      "Rok nagrania: 2021-01-21\n",
      "\n"
     ]
    }
   ],
   "source": [
    "description = '''Ilosc lekcji: 57\n",
    "Czas trwania: 10:47:52\n",
    "Format: zip\n",
    "Rok nagrania: 2021-01-21\n",
    "'''\n",
    "\n",
    "print(description)"
   ]
  },
  {
   "cell_type": "code",
   "execution_count": 3,
   "id": "ccffea58",
   "metadata": {},
   "outputs": [
    {
     "name": "stdout",
     "output_type": "stream",
     "text": [
      "MD5: Jan, Nowak, 123456789 <built-in method hexdigest of _hashlib.HASH object at 0x0000028FAD683190>\n",
      "SHA-2: Anna, Kowalska, 123456789 <built-in method hexdigest of _hashlib.HASH object at 0x0000028FAD682A90>\n"
     ]
    }
   ],
   "source": [
    "import hashlib\n",
    "\n",
    "customer1 = \"Jan, Nowak, 123456789\"\n",
    "print(\"MD5:\", customer1, hashlib.md5(customer1.encode(\"utf-8\")).hexdigest)\n",
    "\n",
    "customer2 = \"Anna, Kowalska, 123456789\"\n",
    "print(\"SHA-2:\", customer2, hashlib.sha256(customer2.encode(\"utf-8\")).hexdigest)"
   ]
  },
  {
   "cell_type": "code",
   "execution_count": 4,
   "id": "4355202f",
   "metadata": {},
   "outputs": [
    {
     "name": "stdout",
     "output_type": "stream",
     "text": [
      "Odległość Levenshteina Sebastian vs Sebastyan: 1\n",
      "Odległość Levenshteina Sebastian vs Seweryn: 6\n"
     ]
    }
   ],
   "source": [
    "import Levenshtein\n",
    "\n",
    "name1 = 'Sebastian'\n",
    "name2 = 'Sebastyan'\n",
    "name3 = 'Seweryn'\n",
    "print('Odległość Levenshteina Sebastian vs Sebastyan:',\n",
    "Levenshtein.distance(name1, name2))\n",
    "print('Odległość Levenshteina Sebastian vs Seweryn:',\n",
    "Levenshtein.distance(name1, name3))"
   ]
  },
  {
   "cell_type": "code",
   "execution_count": 5,
   "id": "dd7b4aa5",
   "metadata": {},
   "outputs": [
    {
     "name": "stdout",
     "output_type": "stream",
     "text": [
      "['Kowalski', 'Nowak', 'Wiśniewski', 'Kowalczyk', 'Adamowicz']\n",
      "Adamowicz\n",
      "Kowalczyk\n",
      "Wiśniewski\n",
      "['Kowalski', 'Nowak']\n"
     ]
    }
   ],
   "source": [
    "customers = [\"Kowalski\", \"Nowak\", \"Wiśniewski\"]\n",
    "customers.append(\"Kowalczyk\")\n",
    "customers.append(\"Adamowicz\")\n",
    "print(customers)\n",
    "print(customers.pop())\n",
    "print(customers.pop())\n",
    "print(customers.pop())\n",
    "print(customers)"
   ]
  },
  {
   "cell_type": "code",
   "execution_count": 6,
   "id": "d43af3c5",
   "metadata": {},
   "outputs": [
    {
     "name": "stdout",
     "output_type": "stream",
     "text": [
      "Suma wszystkich zbiorów kategorii {'Świeże i mrożone owoce morza', 'Masła i margaryny', 'Kawy', 'Wędliny', 'Jogurty', 'Maślanki', 'Pieluchy', 'Mleko', 'Soki', 'Śmietany', 'Wody', 'Herbaty i napary', 'Sery', 'Śmietanki do kawy', 'Napoje alkoholowe', 'Serki ziarniste', 'Szampony i odżywki'}\n",
      "Część wspólna wszystkich zbiorów kategorii {'Szampony i odżywki'}\n",
      "Kategorie pojawiające się tylko u powracających klientów {'Masła i margaryny', 'Soki', 'Śmietany', 'Wody', 'Wędliny', 'Jogurty', 'Maślanki', 'Sery', 'Śmietanki do kawy', 'Serki ziarniste'}\n",
      "Różnica symetryczna kategorii {'Świeże i mrożone owoce morza', 'Masła i margaryny', 'Soki', 'Śmietany', 'Wody', 'Wędliny', 'Jogurty', 'Maślanki', 'Serki ziarniste', 'Sery', 'Śmietanki do kawy', 'Pieluchy', 'Szampony i odżywki'}\n"
     ]
    }
   ],
   "source": [
    "new_customer = set()\n",
    "returning_customer = set()\n",
    "vip_customer = set()\n",
    "\n",
    "new_customer.add(\"Pieluchy\")\n",
    "new_customer.add(\"Szampony i odżywki\")\n",
    "new_customer.add(\"Herbaty i napary\")\n",
    "new_customer.add(\"Kawy\")\n",
    "new_customer.add(\"Mleko\")\n",
    "\n",
    "returning_customer.add(\"Maślanki\")\n",
    "returning_customer.add(\"Mleko\")\n",
    "returning_customer.add(\"Napoje alkoholowe\")\n",
    "returning_customer.add(\"Soki\")\n",
    "returning_customer.add(\"Wody\")\n",
    "returning_customer.add(\"Wędliny\")\n",
    "returning_customer.add(\"Kawy\")\n",
    "returning_customer.add(\"Jogurty\")\n",
    "returning_customer.add(\"Herbaty i napary\")\n",
    "returning_customer.add(\"Masła i margaryny\")\n",
    "returning_customer.add(\"Szampony i odżywki\")\n",
    "returning_customer.add(\"Serki ziarniste\")\n",
    "returning_customer.add(\"Sery\")\n",
    "returning_customer.add(\"Śmietanki do kawy\")\n",
    "returning_customer.add(\"Śmietany\")\n",
    "\n",
    "vip_customer.add(\"Napoje alkoholowe\")\n",
    "vip_customer.add(\"Szampony i odżywki\")\n",
    "vip_customer.add(\"Świeże i mrożone owoce morza\")\n",
    "\n",
    "all_customers = new_customer.union(returning_customer).union(vip_customer)\n",
    "all_customers2 = new_customer | returning_customer | vip_customer\n",
    "\n",
    "print(\"Suma wszystkich zbiorów kategorii\", all_customers)\n",
    "# print(\"Suma wszystkich zbiorów kategorii 2\", all_customers2)\n",
    "\n",
    "intersection_category = new_customer & vip_customer & returning_customer\n",
    "\n",
    "print(\"Część wspólna wszystkich zbiorów kategorii\",\n",
    "intersection_category)\n",
    "\n",
    "only_returning_category = returning_customer - vip_customer - new_customer\n",
    "print(\"Kategorie pojawiające się tylko u powracających klientów\",\n",
    "only_returning_category)\n",
    "\n",
    "symmetric_difference_category = new_customer ^ returning_customer ^ vip_customer\n",
    "print(\"Różnica symetryczna kategorii\", symmetric_difference_category)\n"
   ]
  },
  {
   "cell_type": "code",
   "execution_count": 7,
   "id": "d56f056d",
   "metadata": {},
   "outputs": [
    {
     "name": "stdout",
     "output_type": "stream",
     "text": [
      "{'Świeże i mrożone owoce morza', 'Napoje alkoholowe', 'Szampony i odżywki'}\n",
      "{'Napoje alkoholowe', 'Szampony i odżywki'}\n"
     ]
    }
   ],
   "source": [
    "print(vip_customer)\n",
    "vip_customer.pop()\n",
    "print(vip_customer)\n"
   ]
  },
  {
   "cell_type": "code",
   "execution_count": 8,
   "id": "1537263c",
   "metadata": {},
   "outputs": [
    {
     "name": "stdout",
     "output_type": "stream",
     "text": [
      "{'first_name': 'Anna', 'last_name': 'Nowak', 'pesel': '07280722588', 'nip': '7588398117', 'Asd': 'zxc'}\n"
     ]
    }
   ],
   "source": [
    "keys = (\"first_name\", \"last_name\", \"pesel\", \"nip\", \"Asd\")\n",
    "values = (\"Anna\", \"Nowak\", \"07280722588\", \"7588398117\", \"zxc\")\n",
    "customer = dict(zip(keys, values))\n",
    "print(customer)"
   ]
  },
  {
   "cell_type": "code",
   "execution_count": 9,
   "id": "8dc0db21",
   "metadata": {},
   "outputs": [
    {
     "name": "stdout",
     "output_type": "stream",
     "text": [
      "<__main__.Customer object at 0x0000028FAD69B160>\n",
      "<__main__.Customer object at 0x0000028FAD699A80>\n"
     ]
    }
   ],
   "source": [
    "class Customer:\n",
    "    def __init__(self, first_name, last_name, email):\n",
    "        self.first_name = first_name\n",
    "        self.last_name = last_name\n",
    "        self.email = email\n",
    "\n",
    "customer1 = Customer(\"Jan\", \"Nowak\", \"jan.nowak@mailinator.com\")\n",
    "customer2 = Customer(\"Anna\", \"Kowalska\", \"anna.kowalska@mailinator.com\")\n",
    "\n",
    "print(customer1)\n",
    "print(customer2)"
   ]
  }
 ],
 "metadata": {
  "kernelspec": {
   "display_name": "Python 3.10.4 64-bit",
   "language": "python",
   "name": "python3"
  },
  "language_info": {
   "codemirror_mode": {
    "name": "ipython",
    "version": 3
   },
   "file_extension": ".py",
   "mimetype": "text/x-python",
   "name": "python",
   "nbconvert_exporter": "python",
   "pygments_lexer": "ipython3",
   "version": "3.10.4"
  },
  "vscode": {
   "interpreter": {
    "hash": "61f7f75044dedb4e03ecf6b077c125388b58c1bc2432e9805d68d38c21443220"
   }
  }
 },
 "nbformat": 4,
 "nbformat_minor": 5
}
