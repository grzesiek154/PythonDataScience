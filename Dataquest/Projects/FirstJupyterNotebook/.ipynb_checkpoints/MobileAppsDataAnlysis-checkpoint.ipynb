{
 "cells": [
  {
   "cell_type": "markdown",
   "id": "b7883a03",
   "metadata": {},
   "source": [
    "# Determining the most popular mobile app genre among users"
   ]
  },
  {
   "cell_type": "markdown",
   "id": "88995cca",
   "metadata": {},
   "source": [
    "**Our goal for this project is to analyze data to help our developers understand what type of apps are likely to attract more users.**"
   ]
  },
  {
   "cell_type": "markdown",
   "id": "1e7fb68b",
   "metadata": {},
   "source": [
    "We will take into consideration:\n",
    "- only free apps\n",
    "- apps for which main soruce of revenoue are adds\n",
    "- the number of users of our apps determines our revenue for any given app"
   ]
  },
  {
   "cell_type": "markdown",
   "id": "71da385c",
   "metadata": {},
   "source": [
    "## Import android and ios app data"
   ]
  },
  {
   "cell_type": "code",
   "execution_count": 1,
   "id": "aa6c8fad",
   "metadata": {},
   "outputs": [],
   "source": [
    "from csv import reader"
   ]
  },
  {
   "cell_type": "code",
   "execution_count": 2,
   "id": "3382cdb8",
   "metadata": {},
   "outputs": [],
   "source": [
    "appleStoreData = open('AppleStore.csv', encoding='utf8')\n",
    "googlePlayStoreData = open('googleplaystore.csv', encoding='utf8')\n",
    "appleData = list(reader(appleStoreData))\n",
    "googleData = list(reader(googlePlayStoreData))"
   ]
  },
  {
   "cell_type": "markdown",
   "id": "c160fbfa",
   "metadata": {},
   "source": [
    "## Explore the data for analysis"
   ]
  },
  {
   "cell_type": "code",
   "execution_count": 3,
   "id": "a9bd911b",
   "metadata": {},
   "outputs": [],
   "source": [
    "def explore_data(dataset, start, end, rows_and_columns=False):\n",
    "    dataset_slice = dataset[start:end]    \n",
    "    for row in dataset_slice:\n",
    "        print(row)\n",
    "        print('\\n') # adds a new (empty) line after each row\n",
    "\n",
    "    if rows_and_columns:\n",
    "        print('Number of rows:', len(dataset))\n",
    "        print('Number of columns:', len(dataset[0]))"
   ]
  },
  {
   "cell_type": "markdown",
   "id": "94726ddb",
   "metadata": {},
   "source": [
    "Below cell shows all columns names from apple store data file, more information can be found in: https://www.kaggle.com/datasets/ramamet4/app-store-apple-data-set-10k-apps?resource=download"
   ]
  },
  {
   "cell_type": "code",
   "execution_count": 4,
   "id": "08f51b6a",
   "metadata": {},
   "outputs": [
    {
     "name": "stdout",
     "output_type": "stream",
     "text": [
      "['', 'id', 'track_name', 'size_bytes', 'currency', 'price', 'rating_count_tot', 'rating_count_ver', 'user_rating', 'user_rating_ver', 'ver', 'cont_rating', 'prime_genre', 'sup_devices.num', 'ipadSc_urls.num', 'lang.num', 'vpp_lic']\n",
      "\n",
      "\n"
     ]
    }
   ],
   "source": [
    "explore_data(appleData, 0,1)"
   ]
  },
  {
   "cell_type": "markdown",
   "id": "21b9e1d3",
   "metadata": {},
   "source": [
    "Display first 10 rows from apple store data set, and the number of total rows and columns available"
   ]
  },
  {
   "cell_type": "code",
   "execution_count": 5,
   "id": "48c77770",
   "metadata": {},
   "outputs": [
    {
     "name": "stdout",
     "output_type": "stream",
     "text": [
      "['', 'id', 'track_name', 'size_bytes', 'currency', 'price', 'rating_count_tot', 'rating_count_ver', 'user_rating', 'user_rating_ver', 'ver', 'cont_rating', 'prime_genre', 'sup_devices.num', 'ipadSc_urls.num', 'lang.num', 'vpp_lic']\n",
      "\n",
      "\n",
      "['1', '281656475', 'PAC-MAN Premium', '100788224', 'USD', '3.99', '21292', '26', '4', '4.5', '6.3.5', '4+', 'Games', '38', '5', '10', '1']\n",
      "\n",
      "\n",
      "['2', '281796108', 'Evernote - stay organized', '158578688', 'USD', '0', '161065', '26', '4', '3.5', '8.2.2', '4+', 'Productivity', '37', '5', '23', '1']\n",
      "\n",
      "\n",
      "['3', '281940292', 'WeatherBug - Local Weather, Radar, Maps, Alerts', '100524032', 'USD', '0', '188583', '2822', '3.5', '4.5', '5.0.0', '4+', 'Weather', '37', '5', '3', '1']\n",
      "\n",
      "\n",
      "['4', '282614216', 'eBay: Best App to Buy, Sell, Save! Online Shopping', '128512000', 'USD', '0', '262241', '649', '4', '4.5', '5.10.0', '12+', 'Shopping', '37', '5', '9', '1']\n",
      "\n",
      "\n",
      "['5', '282935706', 'Bible', '92774400', 'USD', '0', '985920', '5320', '4.5', '5', '7.5.1', '4+', 'Reference', '37', '5', '45', '1']\n",
      "\n",
      "\n",
      "['6', '283619399', 'Shanghai Mahjong', '10485713', 'USD', '0.99', '8253', '5516', '4', '4', '1.8', '4+', 'Games', '47', '5', '1', '1']\n",
      "\n",
      "\n",
      "['7', '283646709', 'PayPal - Send and request money safely', '227795968', 'USD', '0', '119487', '879', '4', '4.5', '6.12.0', '4+', 'Finance', '37', '0', '19', '1']\n",
      "\n",
      "\n",
      "['8', '284035177', 'Pandora - Music & Radio', '130242560', 'USD', '0', '1126879', '3594', '4', '4.5', '8.4.1', '12+', 'Music', '37', '4', '1', '1']\n",
      "\n",
      "\n",
      "['9', '284666222', 'PCalc - The Best Calculator', '49250304', 'USD', '9.99', '1117', '4', '4.5', '5', '3.6.6', '4+', 'Utilities', '37', '5', '1', '1']\n",
      "\n",
      "\n",
      "['10', '284736660', 'Ms. PAC-MAN', '70023168', 'USD', '3.99', '7885', '40', '4', '4', '4.0.4', '4+', 'Games', '38', '0', '10', '1']\n",
      "\n",
      "\n",
      "Number of rows: 7198\n",
      "Number of columns: 17\n"
     ]
    }
   ],
   "source": [
    "explore_data(appleData, 0,11, True)"
   ]
  },
  {
   "cell_type": "markdown",
   "id": "4bf04fba",
   "metadata": {},
   "source": [
    "Below cell shows all columns names from google play store data file, more information can be found in: https://www.kaggle.com/datasets/lava18/google-play-store-apps"
   ]
  },
  {
   "cell_type": "code",
   "execution_count": 6,
   "id": "7fd813b0",
   "metadata": {},
   "outputs": [
    {
     "name": "stdout",
     "output_type": "stream",
     "text": [
      "['App', 'Category', 'Rating', 'Reviews', 'Size', 'Installs', 'Type', 'Price', 'Content Rating', 'Genres', 'Last Updated', 'Current Ver', 'Android Ver']\n",
      "\n",
      "\n"
     ]
    }
   ],
   "source": [
    "explore_data(googleData, 0,1)"
   ]
  },
  {
   "cell_type": "markdown",
   "id": "aaffe404",
   "metadata": {},
   "source": [
    "Firt 10 rows from google play store data set, and on the bottom we can see number of total rows and columns available"
   ]
  },
  {
   "cell_type": "code",
   "execution_count": 7,
   "id": "202f88c6",
   "metadata": {},
   "outputs": [
    {
     "name": "stdout",
     "output_type": "stream",
     "text": [
      "['App', 'Category', 'Rating', 'Reviews', 'Size', 'Installs', 'Type', 'Price', 'Content Rating', 'Genres', 'Last Updated', 'Current Ver', 'Android Ver']\n",
      "\n",
      "\n",
      "['Photo Editor & Candy Camera & Grid & ScrapBook', 'ART_AND_DESIGN', '4.1', '159', '19M', '10,000+', 'Free', '0', 'Everyone', 'Art & Design', 'January 7, 2018', '1.0.0', '4.0.3 and up']\n",
      "\n",
      "\n",
      "['Coloring book moana', 'ART_AND_DESIGN', '3.9', '967', '14M', '500,000+', 'Free', '0', 'Everyone', 'Art & Design;Pretend Play', 'January 15, 2018', '2.0.0', '4.0.3 and up']\n",
      "\n",
      "\n",
      "['U Launcher Lite – FREE Live Cool Themes, Hide Apps', 'ART_AND_DESIGN', '4.7', '87510', '8.7M', '5,000,000+', 'Free', '0', 'Everyone', 'Art & Design', 'August 1, 2018', '1.2.4', '4.0.3 and up']\n",
      "\n",
      "\n",
      "['Sketch - Draw & Paint', 'ART_AND_DESIGN', '4.5', '215644', '25M', '50,000,000+', 'Free', '0', 'Teen', 'Art & Design', 'June 8, 2018', 'Varies with device', '4.2 and up']\n",
      "\n",
      "\n",
      "['Pixel Draw - Number Art Coloring Book', 'ART_AND_DESIGN', '4.3', '967', '2.8M', '100,000+', 'Free', '0', 'Everyone', 'Art & Design;Creativity', 'June 20, 2018', '1.1', '4.4 and up']\n",
      "\n",
      "\n",
      "['Paper flowers instructions', 'ART_AND_DESIGN', '4.4', '167', '5.6M', '50,000+', 'Free', '0', 'Everyone', 'Art & Design', 'March 26, 2017', '1.0', '2.3 and up']\n",
      "\n",
      "\n",
      "['Smoke Effect Photo Maker - Smoke Editor', 'ART_AND_DESIGN', '3.8', '178', '19M', '50,000+', 'Free', '0', 'Everyone', 'Art & Design', 'April 26, 2018', '1.1', '4.0.3 and up']\n",
      "\n",
      "\n",
      "['Infinite Painter', 'ART_AND_DESIGN', '4.1', '36815', '29M', '1,000,000+', 'Free', '0', 'Everyone', 'Art & Design', 'June 14, 2018', '6.1.61.1', '4.2 and up']\n",
      "\n",
      "\n",
      "['Garden Coloring Book', 'ART_AND_DESIGN', '4.4', '13791', '33M', '1,000,000+', 'Free', '0', 'Everyone', 'Art & Design', 'September 20, 2017', '2.9.2', '3.0 and up']\n",
      "\n",
      "\n",
      "['Kids Paint Free - Drawing Fun', 'ART_AND_DESIGN', '4.7', '121', '3.1M', '10,000+', 'Free', '0', 'Everyone', 'Art & Design;Creativity', 'July 3, 2018', '2.8', '4.0.3 and up']\n",
      "\n",
      "\n",
      "Number of rows: 10842\n",
      "Number of columns: 13\n"
     ]
    }
   ],
   "source": [
    "explore_data(googleData, 0,11, True)"
   ]
  },
  {
   "cell_type": "markdown",
   "id": "8972edc8",
   "metadata": {},
   "source": [
    "## Remove wrong row (10472) from google play data set"
   ]
  },
  {
   "cell_type": "code",
   "execution_count": 8,
   "id": "82a4581f",
   "metadata": {},
   "outputs": [
    {
     "name": "stdout",
     "output_type": "stream",
     "text": [
      "['Life Made WI-Fi Touchscreen Photo Frame', '1.9', '19', '3.0M', '1,000+', 'Free', '0', 'Everyone', '', 'February 11, 2018', '1.0.19', '4.0 and up']\n"
     ]
    }
   ],
   "source": [
    "print(googleData[10473])\n",
    "del googleData[10473]"
   ]
  },
  {
   "cell_type": "markdown",
   "id": "ab81e723",
   "metadata": {},
   "source": [
    "### Funtion \"check_row_length\" validates if there are rows with more columns than rows in header"
   ]
  },
  {
   "cell_type": "code",
   "execution_count": 9,
   "id": "63b0a674",
   "metadata": {},
   "outputs": [],
   "source": [
    "def check_row_length(dataSet, printCorrectData = True):\n",
    "    headerLen = len(dataSet[0])\n",
    "    correctedDataSet = []\n",
    "    wrongRowsDataSet = []\n",
    "    for row in dataSet:\n",
    "        if headerLen == len(row):\n",
    "            correctedDataSet.append(row)\n",
    "        else:\n",
    "            wrongRowsDataSet.append(row)\n",
    "    if printCorrectData:\n",
    "        return correctedDataSet\n",
    "    else:\n",
    "        return wrongRowsDataSet\n",
    "    "
   ]
  },
  {
   "cell_type": "markdown",
   "id": "c474bda2",
   "metadata": {},
   "source": [
    "Compare the length of original apple data set with the same data set after row check"
   ]
  },
  {
   "cell_type": "code",
   "execution_count": 10,
   "id": "48b85202",
   "metadata": {},
   "outputs": [
    {
     "name": "stdout",
     "output_type": "stream",
     "text": [
      "7198\n",
      "7198\n"
     ]
    }
   ],
   "source": [
    "print(len(appleData))\n",
    "print(len(check_row_length(appleData)))"
   ]
  },
  {
   "cell_type": "markdown",
   "id": "38275d19",
   "metadata": {},
   "source": [
    "Compare the length of original google play data set with the same data set after row check"
   ]
  },
  {
   "cell_type": "code",
   "execution_count": 11,
   "id": "3c28ecda",
   "metadata": {},
   "outputs": [
    {
     "name": "stdout",
     "output_type": "stream",
     "text": [
      "10841\n",
      "10841\n"
     ]
    }
   ],
   "source": [
    "print(len(googleData))\n",
    "print(len(check_row_length(googleData)))"
   ]
  },
  {
   "cell_type": "markdown",
   "id": "16382513",
   "metadata": {},
   "source": [
    "## Check for duplicates"
   ]
  },
  {
   "cell_type": "code",
   "execution_count": 12,
   "id": "88290fe7",
   "metadata": {},
   "outputs": [],
   "source": [
    "def check_duplicated_app_names(dataSet, appNameIndex, printCorrectData = True):\n",
    "    uniqueApps = []\n",
    "    duplicatedApps = []\n",
    "    for app in dataSet:\n",
    "        if app[appNameIndex] not in uniqueApps:\n",
    "            uniqueApps.append(app[appNameIndex])\n",
    "        else:\n",
    "            duplicatedApps.append(app)\n",
    "            \n",
    "    if printCorrectData:\n",
    "        return uniqueApps\n",
    "    else:\n",
    "        return duplicatedApps       "
   ]
  },
  {
   "cell_type": "code",
   "execution_count": 13,
   "id": "ddf1cb3b",
   "metadata": {},
   "outputs": [
    {
     "name": "stdout",
     "output_type": "stream",
     "text": [
      "7198\n",
      "2\n"
     ]
    }
   ],
   "source": [
    "print((len(appleData)))\n",
    "print(len(check_duplicated_app_names(appleData, 2, False)))"
   ]
  },
  {
   "cell_type": "markdown",
   "id": "be1564f9",
   "metadata": {},
   "source": [
    "Check duplicates in apple data set"
   ]
  },
  {
   "cell_type": "code",
   "execution_count": 14,
   "id": "b11b4263",
   "metadata": {
    "scrolled": true
   },
   "outputs": [
    {
     "name": "stdout",
     "output_type": "stream",
     "text": [
      "['7579', '1089824278', 'VR Roller Coaster', '240964608', 'USD', '0', '67', '44', '3.5', '4', '0.81', '4+', 'Games', '38', '0', '1', '1']\n",
      "['10885', '1178454060', 'Mannequin Challenge', '59572224', 'USD', '0', '105', '58', '4', '4.5', '1.0.1', '4+', 'Games', '38', '5', '1', '1']\n"
     ]
    }
   ],
   "source": [
    "duplicatedAppleApps = check_duplicated_app_names(appleData, 2, False)\n",
    "dupilcatedApple1, duplicatedApple2 = duplicatedAppleApps\n",
    "print(dupilcatedApple1)\n",
    "print(duplicatedApple2)"
   ]
  },
  {
   "cell_type": "markdown",
   "id": "b556dc88",
   "metadata": {},
   "source": [
    "Check duplicates in google data set"
   ]
  },
  {
   "cell_type": "code",
   "execution_count": 15,
   "id": "aba6a4bc",
   "metadata": {
    "scrolled": true
   },
   "outputs": [
    {
     "name": "stdout",
     "output_type": "stream",
     "text": [
      "1181\n",
      "10841\n",
      "Quick PDF Scanner + OCR FREE\n",
      "Box\n",
      "Google My Business\n",
      "ZOOM Cloud Meetings\n",
      "join.me - Simple Meetings\n",
      "Box\n",
      "Zenefits\n",
      "Google Ads\n",
      "Google My Business\n",
      "Slack\n"
     ]
    }
   ],
   "source": [
    "duplicatedGoogleApps = check_duplicated_app_names(googleData, 0, False)\n",
    "print(len(duplicatedGoogleApps))\n",
    "print(len(googleData))\n",
    "\n",
    "for app in duplicatedGoogleApps[:10]:\n",
    "    print(app[0])"
   ]
  },
  {
   "cell_type": "markdown",
   "id": "9355f161",
   "metadata": {},
   "source": [
    "Clear apple data set from duplicated values"
   ]
  },
  {
   "cell_type": "code",
   "execution_count": 16,
   "id": "ecbaa265",
   "metadata": {},
   "outputs": [],
   "source": [
    "appleDataCleared = check_duplicated_app_names(appleData, 2)"
   ]
  },
  {
   "cell_type": "markdown",
   "id": "a782a575",
   "metadata": {},
   "source": [
    "Clear google data set from duplicated values"
   ]
  },
  {
   "cell_type": "code",
   "execution_count": 17,
   "id": "b9b11aa2",
   "metadata": {},
   "outputs": [],
   "source": [
    "goolgeDataCleared = check_duplicated_app_names(googleData, 0)"
   ]
  },
  {
   "cell_type": "markdown",
   "id": "e364b0cf",
   "metadata": {},
   "source": [
    "### Verify if there is duplicated values, if so, keep only one with the highest reviews amount"
   ]
  },
  {
   "cell_type": "markdown",
   "id": "c721995d",
   "metadata": {},
   "source": [
    "We start by creating a dictionary \"reviews_max\" which will contain app name and the highest numer of reviews for this app"
   ]
  },
  {
   "cell_type": "code",
   "execution_count": 18,
   "id": "f7eeb42f",
   "metadata": {},
   "outputs": [],
   "source": [
    "reviews_max = {}\n",
    "\n",
    "for app in googleData[1:]:\n",
    "    name = app[0]\n",
    "    n_reviews = float(app[3])\n",
    "    \n",
    "    if name in reviews_max and reviews_max[name] < n_reviews:\n",
    "        reviews_max[name] = n_reviews\n",
    "        \n",
    "    elif name not in reviews_max:\n",
    "        reviews_max[name] = n_reviews"
   ]
  },
  {
   "cell_type": "markdown",
   "id": "ec2352a3",
   "metadata": {},
   "source": [
    "In a previous code cell, we found that there are 1,181 cases where an app occurs more than once, so the length of our dictionary (of unique apps) should be equal to the difference between the length of our data set and 1,181."
   ]
  },
  {
   "cell_type": "code",
   "execution_count": 19,
   "id": "d49c787e",
   "metadata": {},
   "outputs": [
    {
     "name": "stdout",
     "output_type": "stream",
     "text": [
      "Expected length: 9660\n",
      "Actual length: 9659\n"
     ]
    }
   ],
   "source": [
    "print('Expected length:', len(googleData) - 1181)\n",
    "print('Actual length:', len(reviews_max))"
   ]
  },
  {
   "cell_type": "markdown",
   "id": "6b9b575e",
   "metadata": {},
   "source": [
    "Now, let's use the reviews_max dictionary to remove the duplicates. For the duplicate cases, we'll only keep the entries with the highest number of reviews. In the code cell below:\n",
    "\n",
    "* We start by initializing two empty lists, android_clean and already_added.\n",
    "* We loop through the android data set, and for every iteration:\n",
    "   * We isolate the name of the app and the number of reviews.\n",
    "   * We add the current row (app) to the android_clean list, and the app name (name) to the already_added list if:\n",
    "        * The number of reviews of the current app matches the number of reviews of that app as described in the reviews_max dictionary; and\n",
    "        * The name of the app is not already in the already_added list. We need to add this supplementary condition to account for those cases where the highest number of reviews of a duplicate app is the same for more than one entry (for example, the Box app has three entries, and the number of reviews is the same). If we just check for reviews_max[name] == n_reviews, we'll still end up with duplicate entries for some apps."
   ]
  },
  {
   "cell_type": "code",
   "execution_count": 20,
   "id": "3e5283ce",
   "metadata": {},
   "outputs": [],
   "source": [
    "google_clean = []\n",
    "already_added = []\n",
    "\n",
    "for app in googleData[1:]:\n",
    "    name = app[0]\n",
    "    n_reviews = float(app[3])\n",
    "    \n",
    "    if (reviews_max[name] == n_reviews) and (name not in already_added):\n",
    "        google_clean.append(app)\n",
    "        already_added.append(name)"
   ]
  },
  {
   "cell_type": "code",
   "execution_count": 21,
   "id": "8a08d146",
   "metadata": {},
   "outputs": [
    {
     "name": "stdout",
     "output_type": "stream",
     "text": [
      "['Photo Editor & Candy Camera & Grid & ScrapBook', 'ART_AND_DESIGN', '4.1', '159', '19M', '10,000+', 'Free', '0', 'Everyone', 'Art & Design', 'January 7, 2018', '1.0.0', '4.0.3 and up']\n",
      "\n",
      "\n",
      "['U Launcher Lite – FREE Live Cool Themes, Hide Apps', 'ART_AND_DESIGN', '4.7', '87510', '8.7M', '5,000,000+', 'Free', '0', 'Everyone', 'Art & Design', 'August 1, 2018', '1.2.4', '4.0.3 and up']\n",
      "\n",
      "\n",
      "['Sketch - Draw & Paint', 'ART_AND_DESIGN', '4.5', '215644', '25M', '50,000,000+', 'Free', '0', 'Teen', 'Art & Design', 'June 8, 2018', 'Varies with device', '4.2 and up']\n",
      "\n",
      "\n",
      "Number of rows: 9659\n",
      "Number of columns: 13\n"
     ]
    }
   ],
   "source": [
    "explore_data(google_clean, 0, 3, True)"
   ]
  },
  {
   "cell_type": "markdown",
   "id": "3acc2b8e",
   "metadata": {},
   "source": [
    "## Clear our data sets from non-english characters"
   ]
  },
  {
   "cell_type": "markdown",
   "id": "8cbb6188",
   "metadata": {},
   "source": [
    "Funtion \"check_non_english_characters\" keeps only app names with no more than three non-english characters"
   ]
  },
  {
   "cell_type": "code",
   "execution_count": 22,
   "id": "efa13606",
   "metadata": {},
   "outputs": [],
   "source": [
    "def check_non_english_characters(word):\n",
    "    non_english_char_counter = 0\n",
    "    isEnglishWord = True;\n",
    "    for char in word:\n",
    "        char_num = ord(char)\n",
    "        if char_num > 127:\n",
    "            non_english_char_counter += 1\n",
    "            if (non_english_char_counter > 3):\n",
    "                non_english_char_counter = 0\n",
    "                isEnglishWord = False\n",
    "    return isEnglishWord"
   ]
  },
  {
   "cell_type": "code",
   "execution_count": 23,
   "id": "5ef120ae",
   "metadata": {},
   "outputs": [
    {
     "name": "stdout",
     "output_type": "stream",
     "text": [
      "True\n",
      "False\n",
      "True\n",
      "True\n"
     ]
    }
   ],
   "source": [
    "print(check_non_english_characters('Instagram'))\n",
    "print(check_non_english_characters('爱奇艺PPS -《欢乐颂2》电视剧热播'\n",
    "'Docs To Go™ Free Office Suite'))\n",
    "print(check_non_english_characters('Instachat 😜'))\n",
    "print(check_non_english_characters('Docs To Go™ Free Office Suite'))"
   ]
  },
  {
   "cell_type": "markdown",
   "id": "7b611b9a",
   "metadata": {},
   "source": [
    "Separte english and none english google apps"
   ]
  },
  {
   "cell_type": "code",
   "execution_count": 24,
   "id": "4d55b5f2",
   "metadata": {},
   "outputs": [
    {
     "name": "stdout",
     "output_type": "stream",
     "text": [
      "9614\n",
      "45\n"
     ]
    }
   ],
   "source": [
    "googleEnglishApps = []\n",
    "googleNoneEnglishApps = []\n",
    "\n",
    "for app in google_clean:\n",
    "    name = app[0]\n",
    "    if (check_non_english_characters(name)):\n",
    "        googleEnglishApps.append(app)\n",
    "    else:\n",
    "        googleNoneEnglishApps.append(app)\n",
    "    \n",
    "    \n",
    "print(len(googleEnglishApps))    \n",
    "print(len(googleNoneEnglishApps))   "
   ]
  },
  {
   "cell_type": "markdown",
   "id": "9c1e5aeb",
   "metadata": {},
   "source": [
    "Separte english and none english apple apps"
   ]
  },
  {
   "cell_type": "code",
   "execution_count": 25,
   "id": "02124783",
   "metadata": {},
   "outputs": [
    {
     "name": "stdout",
     "output_type": "stream",
     "text": [
      "6183\n",
      "1014\n"
     ]
    }
   ],
   "source": [
    "appleEnglishApps = []\n",
    "appleNoneEnglishApps = []\n",
    "\n",
    "for app in appleData[1:]:\n",
    "    name = app[2]\n",
    "    if (check_non_english_characters(name)):\n",
    "        appleEnglishApps.append(app)\n",
    "    else:\n",
    "        appleNoneEnglishApps.append(app)\n",
    "    \n",
    "    \n",
    "print(len(appleEnglishApps))    \n",
    "print(len(appleNoneEnglishApps))   "
   ]
  },
  {
   "cell_type": "code",
   "execution_count": 26,
   "id": "4347bab0",
   "metadata": {},
   "outputs": [
    {
     "name": "stdout",
     "output_type": "stream",
     "text": [
      "['1', '281656475', 'PAC-MAN Premium', '100788224', 'USD', '3.99', '21292', '26', '4', '4.5', '6.3.5', '4+', 'Games', '38', '5', '10', '1']\n"
     ]
    }
   ],
   "source": [
    "print(appleEnglishApps[0])"
   ]
  },
  {
   "cell_type": "markdown",
   "id": "c261e4f7",
   "metadata": {},
   "source": [
    "## Separate application which apps which earn on adds from paid applications"
   ]
  },
  {
   "cell_type": "code",
   "execution_count": 27,
   "id": "3d90742b",
   "metadata": {},
   "outputs": [
    {
     "name": "stdout",
     "output_type": "stream",
     "text": [
      "['Photo Editor & Candy Camera & Grid & ScrapBook', 'ART_AND_DESIGN', '4.1', '159', '19M', '10,000+', 'Free', '0', 'Everyone', 'Art & Design', 'January 7, 2018', '1.0.0', '4.0.3 and up']\n"
     ]
    }
   ],
   "source": [
    "# print(googleData[0])\n",
    "print(googleEnglishApps[0])\n"
   ]
  },
  {
   "cell_type": "markdown",
   "id": "8a35d32d",
   "metadata": {},
   "source": [
    "Separate android paid and free apps"
   ]
  },
  {
   "cell_type": "code",
   "execution_count": 28,
   "id": "ecb1d602",
   "metadata": {},
   "outputs": [],
   "source": [
    "googlePaidApps = []\n",
    "googleFreeApps = []\n",
    "\n",
    "for app in googleEnglishApps:\n",
    "    price = app[7]\n",
    "        \n",
    "    if (price != '0'):\n",
    "        googlePaidApps.append(app)\n",
    "    else:\n",
    "        googleFreeApps.append(app)"
   ]
  },
  {
   "cell_type": "code",
   "execution_count": 29,
   "id": "354e58b6",
   "metadata": {},
   "outputs": [
    {
     "name": "stdout",
     "output_type": "stream",
     "text": [
      "750\n",
      "8864\n"
     ]
    }
   ],
   "source": [
    "print(len(googlePaidApps))\n",
    "print(len(googleFreeApps))"
   ]
  },
  {
   "cell_type": "markdown",
   "id": "1acc631a",
   "metadata": {},
   "source": [
    "Separate android paid and free apps"
   ]
  },
  {
   "cell_type": "code",
   "execution_count": 30,
   "id": "cfab2974",
   "metadata": {},
   "outputs": [],
   "source": [
    "applePaidApps = []\n",
    "appleFreeApps = []\n",
    "\n",
    "for app in appleEnglishApps:\n",
    "    price = app[5]\n",
    "    \n",
    "    if (price == '0'):\n",
    "        appleFreeApps.append(app)\n",
    "    else:\n",
    "        applePaidApps.append(app)"
   ]
  },
  {
   "cell_type": "code",
   "execution_count": 31,
   "id": "0c6384bd",
   "metadata": {},
   "outputs": [
    {
     "name": "stdout",
     "output_type": "stream",
     "text": [
      "2961\n",
      "3222\n",
      "[['1', '281656475', 'PAC-MAN Premium', '100788224', 'USD', '3.99', '21292', '26', '4', '4.5', '6.3.5', '4+', 'Games', '38', '5', '10', '1'], ['2', '281796108', 'Evernote - stay organized', '158578688', 'USD', '0', '161065', '26', '4', '3.5', '8.2.2', '4+', 'Productivity', '37', '5', '23', '1'], ['3', '281940292', 'WeatherBug - Local Weather, Radar, Maps, Alerts', '100524032', 'USD', '0', '188583', '2822', '3.5', '4.5', '5.0.0', '4+', 'Weather', '37', '5', '3', '1'], ['4', '282614216', 'eBay: Best App to Buy, Sell, Save! Online Shopping', '128512000', 'USD', '0', '262241', '649', '4', '4.5', '5.10.0', '12+', 'Shopping', '37', '5', '9', '1'], ['5', '282935706', 'Bible', '92774400', 'USD', '0', '985920', '5320', '4.5', '5', '7.5.1', '4+', 'Reference', '37', '5', '45', '1']]\n"
     ]
    }
   ],
   "source": [
    "print(len(applePaidApps))\n",
    "print(len(appleFreeApps))\n",
    "print(appleEnglishApps[0:5])"
   ]
  },
  {
   "cell_type": "markdown",
   "id": "e44f20a9",
   "metadata": {},
   "source": [
    "## Determinate which type of application brings the bigest amount of profit"
   ]
  },
  {
   "cell_type": "markdown",
   "id": "8a7dfbfa",
   "metadata": {},
   "source": [
    "Our goal is to determine the kinds of apps that are likely to attract more users because the number of people using our apps affect our revenue. We need to find app profiles that are successful in both markets (google and apple). For instance, a profile that works well for both markets might be a productivity app that makes use of gamification."
   ]
  },
  {
   "cell_type": "markdown",
   "id": "2b42e498",
   "metadata": {},
   "source": [
    "Add headers to free apps data sets"
   ]
  },
  {
   "cell_type": "code",
   "execution_count": 32,
   "id": "ff64c649",
   "metadata": {},
   "outputs": [
    {
     "name": "stdout",
     "output_type": "stream",
     "text": [
      "['App', 'Category', 'Rating', 'Reviews', 'Size', 'Installs', 'Type', 'Price', 'Content Rating', 'Genres', 'Last Updated', 'Current Ver', 'Android Ver']\n",
      "['', 'id', 'track_name', 'size_bytes', 'currency', 'price', 'rating_count_tot', 'rating_count_ver', 'user_rating', 'user_rating_ver', 'ver', 'cont_rating', 'prime_genre', 'sup_devices.num', 'ipadSc_urls.num', 'lang.num', 'vpp_lic']\n"
     ]
    }
   ],
   "source": [
    "googleFreeApps.insert(0, googleData[0])\n",
    "print(googleFreeApps[0])\n",
    "appleFreeApps.insert(0, appleData[0])\n",
    "print(appleFreeApps[0])"
   ]
  },
  {
   "cell_type": "markdown",
   "id": "4a1cddb8",
   "metadata": {},
   "source": [
    "Function \"freq_table\" creates a frequency table for a particular column in concrete data set"
   ]
  },
  {
   "cell_type": "code",
   "execution_count": 40,
   "id": "018e0caa",
   "metadata": {},
   "outputs": [],
   "source": [
    "def freq_table(dataset, index):\n",
    "    freq_dictionary = {}\n",
    "    total = 0\n",
    "    for app in dataset[1:]:\n",
    "        total += 1\n",
    "        column_value = app[index]\n",
    "        if (column_value in freq_dictionary):\n",
    "            freq_dictionary[column_value] += 1\n",
    "        else:\n",
    "            freq_dictionary[column_value] = 1\n",
    "            \n",
    "    table_percentage = {}\n",
    "    for key in freq_dictionary:\n",
    "        percentage = round((freq_dictionary[key] / total) * 100,2)\n",
    "        table_percentage[key] = percentage\n",
    "    return table_percentage   "
   ]
  },
  {
   "cell_type": "code",
   "execution_count": 41,
   "id": "f3bb6ee9",
   "metadata": {},
   "outputs": [
    {
     "name": "stdout",
     "output_type": "stream",
     "text": [
      "{'Art & Design': 0.6, 'Art & Design;Creativity': 0.07, 'Auto & Vehicles': 0.93, 'Beauty': 0.6, 'Books & Reference': 2.14, 'Business': 4.59, 'Comics': 0.61, 'Comics;Creativity': 0.01, 'Communication': 3.24, 'Dating': 1.86, 'Education': 5.35, 'Education;Creativity': 0.05, 'Education;Education': 0.34, 'Education;Pretend Play': 0.06, 'Education;Brain Games': 0.03, 'Entertainment': 6.07, 'Entertainment;Brain Games': 0.08, 'Entertainment;Creativity': 0.03, 'Entertainment;Music & Video': 0.17, 'Events': 0.71, 'Finance': 3.7, 'Food & Drink': 1.24, 'Health & Fitness': 3.08, 'House & Home': 0.82, 'Libraries & Demo': 0.94, 'Lifestyle': 3.89, 'Lifestyle;Pretend Play': 0.01, 'Card': 0.45, 'Arcade': 1.85, 'Puzzle': 1.13, 'Racing': 0.99, 'Sports': 3.46, 'Casual': 1.76, 'Simulation': 2.04, 'Adventure': 0.68, 'Trivia': 0.42, 'Action': 3.1, 'Word': 0.26, 'Role Playing': 0.94, 'Strategy': 0.91, 'Board': 0.38, 'Music': 0.2, 'Action;Action & Adventure': 0.1, 'Casual;Brain Games': 0.14, 'Educational;Creativity': 0.03, 'Puzzle;Brain Games': 0.17, 'Educational;Education': 0.39, 'Casual;Pretend Play': 0.24, 'Educational;Brain Games': 0.07, 'Art & Design;Pretend Play': 0.01, 'Educational;Pretend Play': 0.09, 'Entertainment;Education': 0.01, 'Casual;Education': 0.02, 'Casual;Creativity': 0.07, 'Casual;Action & Adventure': 0.14, 'Music;Music & Video': 0.02, 'Arcade;Pretend Play': 0.01, 'Adventure;Action & Adventure': 0.03, 'Role Playing;Action & Adventure': 0.03, 'Simulation;Pretend Play': 0.02, 'Puzzle;Creativity': 0.02, 'Simulation;Action & Adventure': 0.08, 'Racing;Action & Adventure': 0.17, 'Sports;Action & Adventure': 0.02, 'Educational;Action & Adventure': 0.03, 'Arcade;Action & Adventure': 0.12, 'Entertainment;Action & Adventure': 0.03, 'Art & Design;Action & Adventure': 0.01, 'Puzzle;Action & Adventure': 0.03, 'Education;Action & Adventure': 0.03, 'Strategy;Action & Adventure': 0.01, 'Music & Audio;Music & Video': 0.01, 'Health & Fitness;Education': 0.01, 'Board;Action & Adventure': 0.02, 'Board;Brain Games': 0.08, 'Casual;Music & Video': 0.01, 'Education;Music & Video': 0.03, 'Role Playing;Pretend Play': 0.05, 'Entertainment;Pretend Play': 0.02, 'Medical': 3.53, 'Social': 2.66, 'Shopping': 2.25, 'Photography': 2.94, 'Travel & Local': 2.32, 'Travel & Local;Action & Adventure': 0.01, 'Tools': 8.45, 'Tools;Education': 0.01, 'Personalization': 3.32, 'Productivity': 3.89, 'Parenting': 0.5, 'Parenting;Music & Video': 0.07, 'Parenting;Education': 0.08, 'Parenting;Brain Games': 0.01, 'Weather': 0.8, 'Video Players & Editors': 1.77, 'Video Players & Editors;Music & Video': 0.02, 'Video Players & Editors;Creativity': 0.01, 'News & Magazines': 2.8, 'Maps & Navigation': 1.4, 'Health & Fitness;Action & Adventure': 0.01, 'Educational': 0.37, 'Casino': 0.43, 'Trivia;Education': 0.01, 'Lifestyle;Education': 0.01, 'Card;Action & Adventure': 0.01, 'Books & Reference;Education': 0.01, 'Simulation;Education': 0.01, 'Puzzle;Education': 0.01, 'Adventure;Education': 0.01, 'Role Playing;Brain Games': 0.01, 'Strategy;Education': 0.01, 'Racing;Pretend Play': 0.01, 'Communication;Creativity': 0.01, 'Strategy;Creativity': 0.01}\n"
     ]
    }
   ],
   "source": [
    "print(freq_table(googleFreeApps, 9))"
   ]
  },
  {
   "cell_type": "markdown",
   "id": "76b9cac8",
   "metadata": {},
   "source": [
    "\"display table\" function aims to print frequency distribution table in a user friendly way"
   ]
  },
  {
   "cell_type": "code",
   "execution_count": 42,
   "id": "9b021d1a",
   "metadata": {},
   "outputs": [],
   "source": [
    "def display_table(dataset, index):\n",
    "    table = freq_table(dataset, index)\n",
    "    table_display = []\n",
    "    for key in table:\n",
    "        key_val_as_tuple = (table[key], key)\n",
    "        table_display.append(key_val_as_tuple)\n",
    "\n",
    "    table_sorted = sorted(table_display, reverse = True)\n",
    "    for entry in table_sorted:\n",
    "        print(entry[1], ':', entry[0])"
   ]
  },
  {
   "cell_type": "code",
   "execution_count": 43,
   "id": "e9f18703",
   "metadata": {},
   "outputs": [
    {
     "name": "stdout",
     "output_type": "stream",
     "text": [
      "FAMILY : 18.91\n",
      "GAME : 9.73\n",
      "TOOLS : 8.46\n",
      "BUSINESS : 4.59\n",
      "LIFESTYLE : 3.9\n",
      "PRODUCTIVITY : 3.89\n",
      "FINANCE : 3.7\n",
      "MEDICAL : 3.53\n",
      "SPORTS : 3.4\n",
      "PERSONALIZATION : 3.32\n",
      "COMMUNICATION : 3.24\n",
      "HEALTH_AND_FITNESS : 3.08\n",
      "PHOTOGRAPHY : 2.94\n",
      "NEWS_AND_MAGAZINES : 2.8\n",
      "SOCIAL : 2.66\n",
      "TRAVEL_AND_LOCAL : 2.34\n",
      "SHOPPING : 2.25\n",
      "BOOKS_AND_REFERENCE : 2.14\n",
      "DATING : 1.86\n",
      "VIDEO_PLAYERS : 1.79\n",
      "MAPS_AND_NAVIGATION : 1.4\n",
      "FOOD_AND_DRINK : 1.24\n",
      "EDUCATION : 1.16\n",
      "ENTERTAINMENT : 0.96\n",
      "LIBRARIES_AND_DEMO : 0.94\n",
      "AUTO_AND_VEHICLES : 0.93\n",
      "HOUSE_AND_HOME : 0.82\n",
      "WEATHER : 0.8\n",
      "EVENTS : 0.71\n",
      "PARENTING : 0.65\n",
      "ART_AND_DESIGN : 0.63\n",
      "COMICS : 0.62\n",
      "BEAUTY : 0.6\n"
     ]
    }
   ],
   "source": [
    "display_table(googleFreeApps[1:], 1)"
   ]
  },
  {
   "cell_type": "code",
   "execution_count": 44,
   "id": "41b88c5c",
   "metadata": {},
   "outputs": [
    {
     "name": "stdout",
     "output_type": "stream",
     "text": [
      "Tools : 8.45\n",
      "Entertainment : 6.07\n",
      "Education : 5.35\n",
      "Business : 4.59\n",
      "Productivity : 3.89\n",
      "Lifestyle : 3.89\n",
      "Finance : 3.7\n",
      "Medical : 3.53\n",
      "Sports : 3.46\n",
      "Personalization : 3.32\n",
      "Communication : 3.24\n",
      "Action : 3.1\n",
      "Health & Fitness : 3.08\n",
      "Photography : 2.94\n",
      "News & Magazines : 2.8\n",
      "Social : 2.66\n",
      "Travel & Local : 2.32\n",
      "Shopping : 2.25\n",
      "Books & Reference : 2.14\n",
      "Simulation : 2.04\n",
      "Dating : 1.86\n",
      "Arcade : 1.85\n",
      "Video Players & Editors : 1.77\n",
      "Casual : 1.76\n",
      "Maps & Navigation : 1.4\n",
      "Food & Drink : 1.24\n",
      "Puzzle : 1.13\n",
      "Racing : 0.99\n",
      "Role Playing : 0.94\n",
      "Libraries & Demo : 0.94\n",
      "Auto & Vehicles : 0.93\n",
      "Strategy : 0.91\n",
      "House & Home : 0.82\n",
      "Weather : 0.8\n",
      "Events : 0.71\n",
      "Adventure : 0.68\n",
      "Comics : 0.61\n",
      "Beauty : 0.6\n",
      "Art & Design : 0.59\n",
      "Parenting : 0.5\n",
      "Card : 0.45\n",
      "Casino : 0.43\n",
      "Trivia : 0.42\n",
      "Educational;Education : 0.39\n",
      "Board : 0.38\n",
      "Educational : 0.37\n",
      "Education;Education : 0.34\n",
      "Word : 0.26\n",
      "Casual;Pretend Play : 0.24\n",
      "Music : 0.2\n",
      "Racing;Action & Adventure : 0.17\n",
      "Puzzle;Brain Games : 0.17\n",
      "Entertainment;Music & Video : 0.17\n",
      "Casual;Brain Games : 0.14\n",
      "Casual;Action & Adventure : 0.14\n",
      "Arcade;Action & Adventure : 0.12\n",
      "Action;Action & Adventure : 0.1\n",
      "Educational;Pretend Play : 0.09\n",
      "Simulation;Action & Adventure : 0.08\n",
      "Parenting;Education : 0.08\n",
      "Entertainment;Brain Games : 0.08\n",
      "Board;Brain Games : 0.08\n",
      "Parenting;Music & Video : 0.07\n",
      "Educational;Brain Games : 0.07\n",
      "Casual;Creativity : 0.07\n",
      "Art & Design;Creativity : 0.07\n",
      "Education;Pretend Play : 0.06\n",
      "Role Playing;Pretend Play : 0.05\n",
      "Education;Creativity : 0.05\n",
      "Role Playing;Action & Adventure : 0.03\n",
      "Puzzle;Action & Adventure : 0.03\n",
      "Entertainment;Creativity : 0.03\n",
      "Entertainment;Action & Adventure : 0.03\n",
      "Educational;Creativity : 0.03\n",
      "Educational;Action & Adventure : 0.03\n",
      "Education;Music & Video : 0.03\n",
      "Education;Brain Games : 0.03\n",
      "Education;Action & Adventure : 0.03\n",
      "Adventure;Action & Adventure : 0.03\n",
      "Video Players & Editors;Music & Video : 0.02\n",
      "Sports;Action & Adventure : 0.02\n",
      "Simulation;Pretend Play : 0.02\n",
      "Puzzle;Creativity : 0.02\n",
      "Music;Music & Video : 0.02\n",
      "Entertainment;Pretend Play : 0.02\n",
      "Casual;Education : 0.02\n",
      "Board;Action & Adventure : 0.02\n",
      "Video Players & Editors;Creativity : 0.01\n",
      "Trivia;Education : 0.01\n",
      "Travel & Local;Action & Adventure : 0.01\n",
      "Tools;Education : 0.01\n",
      "Strategy;Education : 0.01\n",
      "Strategy;Creativity : 0.01\n",
      "Strategy;Action & Adventure : 0.01\n",
      "Simulation;Education : 0.01\n",
      "Role Playing;Brain Games : 0.01\n",
      "Racing;Pretend Play : 0.01\n",
      "Puzzle;Education : 0.01\n",
      "Parenting;Brain Games : 0.01\n",
      "Music & Audio;Music & Video : 0.01\n",
      "Lifestyle;Pretend Play : 0.01\n",
      "Lifestyle;Education : 0.01\n",
      "Health & Fitness;Education : 0.01\n",
      "Health & Fitness;Action & Adventure : 0.01\n",
      "Entertainment;Education : 0.01\n",
      "Communication;Creativity : 0.01\n",
      "Comics;Creativity : 0.01\n",
      "Casual;Music & Video : 0.01\n",
      "Card;Action & Adventure : 0.01\n",
      "Books & Reference;Education : 0.01\n",
      "Art & Design;Pretend Play : 0.01\n",
      "Art & Design;Action & Adventure : 0.01\n",
      "Arcade;Pretend Play : 0.01\n",
      "Adventure;Education : 0.01\n"
     ]
    }
   ],
   "source": [
    "display_table(googleFreeApps[1:], 9)"
   ]
  },
  {
   "cell_type": "code",
   "execution_count": 45,
   "id": "c2c6d897",
   "metadata": {},
   "outputs": [
    {
     "name": "stdout",
     "output_type": "stream",
     "text": [
      "Games : 58.18\n",
      "Entertainment : 7.89\n",
      "Photo & Video : 4.97\n",
      "Education : 3.66\n",
      "Social Networking : 3.29\n",
      "Shopping : 2.61\n",
      "Utilities : 2.51\n",
      "Sports : 2.14\n",
      "Music : 2.05\n",
      "Health & Fitness : 2.02\n",
      "Productivity : 1.71\n",
      "Lifestyle : 1.58\n",
      "News : 1.33\n",
      "Travel : 1.24\n",
      "Finance : 1.12\n",
      "Weather : 0.87\n",
      "Food & Drink : 0.81\n",
      "Reference : 0.56\n",
      "Business : 0.53\n",
      "Book : 0.43\n",
      "Navigation : 0.19\n",
      "Medical : 0.19\n",
      "Catalogs : 0.12\n"
     ]
    }
   ],
   "source": [
    "display_table(appleFreeApps[1:], 12)"
   ]
  },
  {
   "cell_type": "markdown",
   "id": "42126f2c",
   "metadata": {},
   "source": [
    "When it comes to android app, the most popular category type is Family and the most popular genre type is Tools "
   ]
  },
  {
   "cell_type": "markdown",
   "id": "de8d5d44",
   "metadata": {},
   "source": [
    "If we talk about IOs apps the bigest pupularity is among Games genre."
   ]
  },
  {
   "cell_type": "markdown",
   "id": "ddc06665",
   "metadata": {},
   "source": [
    "**Get number of users per genre**"
   ]
  },
  {
   "cell_type": "code",
   "execution_count": 63,
   "id": "6f9ad4f1",
   "metadata": {},
   "outputs": [
    {
     "name": "stdout",
     "output_type": "stream",
     "text": [
      "Productivity : 21028.41\n",
      "Weather : 31445.57\n",
      "Shopping : 29182.63\n",
      "Reference : 33610.97\n",
      "Finance : 33263.45\n",
      "Music : 38777.91\n",
      "Utilities : 34367.15\n",
      "Travel : 33768.29\n",
      "Social Networking : 41544.38\n",
      "Sports : 39354.4\n",
      "Health & Fitness : 37746.29\n",
      "Games : 26636.27\n",
      "Food & Drink : 26704.59\n",
      "News : 26614.06\n",
      "Book : 26684.68\n",
      "Photo & Video : 26786.31\n",
      "Entertainment : 25713.41\n",
      "Business : 25611.41\n",
      "Lifestyle : 25460.69\n",
      "Education : 24781.38\n",
      "Navigation : 24895.9\n",
      "Medical : 24850.62\n",
      "Catalogs : 24824.74\n"
     ]
    }
   ],
   "source": [
    "genres_dict = freq_table(appleFreeApps, 12)\n",
    "total = 0\n",
    "len_genre = 0\n",
    "for genre in genres_dict:\n",
    "    for app in appleFreeApps[1:]:\n",
    "        app_genre = app[12]\n",
    "        if (genre == app_genre):\n",
    "            n_ratings = float(app[6])\n",
    "            total += n_ratings\n",
    "            len_genre += 1\n",
    "    avg_num_usr = round(total / len_genre, 2)\n",
    "    print(genre,':',avg_num_usr)\n",
    "    "
   ]
  },
  {
   "cell_type": "code",
   "execution_count": 65,
   "id": "c014bedf",
   "metadata": {},
   "outputs": [
    {
     "name": "stdout",
     "output_type": "stream",
     "text": [
      "1,000,000+ : 15.73\n",
      "100,000+ : 11.55\n",
      "10,000,000+ : 10.55\n",
      "10,000+ : 10.2\n",
      "1,000+ : 8.39\n",
      "100+ : 6.92\n",
      "5,000,000+ : 6.83\n",
      "500,000+ : 5.56\n",
      "50,000+ : 4.77\n",
      "5,000+ : 4.51\n",
      "10+ : 3.54\n",
      "500+ : 3.25\n",
      "50,000,000+ : 2.3\n",
      "100,000,000+ : 2.13\n",
      "50+ : 1.92\n",
      "5+ : 0.79\n",
      "1+ : 0.51\n",
      "500,000,000+ : 0.27\n",
      "1,000,000,000+ : 0.23\n",
      "0+ : 0.05\n",
      "0 : 0.01\n"
     ]
    }
   ],
   "source": [
    "display_table(googleFreeApps, 5)"
   ]
  },
  {
   "cell_type": "markdown",
   "id": "131222cf",
   "metadata": {},
   "source": [
    "**The average number of installs per app genre for the Google Play dataset**"
   ]
  },
  {
   "cell_type": "code",
   "execution_count": 93,
   "id": "07faa5c5",
   "metadata": {},
   "outputs": [
    {
     "name": "stdout",
     "output_type": "stream",
     "text": [
      "ART_AND_DESIGN : 1986335.09\n",
      "AUTO_AND_VEHICLES : 647317.82\n",
      "BEAUTY : 513151.89\n",
      "BOOKS_AND_REFERENCE : 8767811.89\n",
      "BUSINESS : 1712290.15\n",
      "COMICS : 817657.27\n",
      "COMMUNICATION : 38456119.17\n",
      "DATING : 854028.83\n",
      "EDUCATION : 1833495.15\n",
      "ENTERTAINMENT : 11640705.88\n",
      "EVENTS : 253542.22\n",
      "FINANCE : 1387692.48\n",
      "FOOD_AND_DRINK : 1924897.74\n",
      "HEALTH_AND_FITNESS : 4188821.99\n",
      "HOUSE_AND_HOME : 1331540.56\n",
      "LIBRARIES_AND_DEMO : 638503.73\n",
      "LIFESTYLE : 1437816.27\n",
      "GAME : 15588015.6\n",
      "FAMILY : 3695641.82\n",
      "MEDICAL : 120550.62\n",
      "SOCIAL : 23253652.13\n",
      "SHOPPING : 7036877.31\n",
      "PHOTOGRAPHY : 17840110.4\n",
      "SPORTS : 3638640.14\n",
      "TRAVEL_AND_LOCAL : 13984077.71\n",
      "TOOLS : 10801391.3\n",
      "PERSONALIZATION : 5201482.61\n",
      "PRODUCTIVITY : 16787331.34\n",
      "PARENTING : 542603.62\n",
      "WEATHER : 5074486.2\n",
      "VIDEO_PLAYERS : 24727872.45\n",
      "NEWS_AND_MAGAZINES : 9549178.47\n",
      "MAPS_AND_NAVIGATION : 4056941.77\n"
     ]
    }
   ],
   "source": [
    "category_freq = freq_table(googleFreeApps, 1)\n",
    "\n",
    "for category in category_freq:\n",
    "    total = 0\n",
    "    len_category = 0\n",
    "    for app in googleFreeApps[1:]:\n",
    "        app_category = app[1]\n",
    "        if (category == app_category):\n",
    "            n_installs = float(app[5].replace('+', '').replace(',',''))\n",
    "            total += n_installs\n",
    "            len_category += 1\n",
    "    try:        \n",
    "        avg_n_instals = round(total / len_category, 2)\n",
    "    except ZeroDivisionError:\n",
    "        print('total: ' + str(total))\n",
    "        print('n_installs: ' + str(n_installs))\n",
    "    print(category,':', avg_n_instals)"
   ]
  },
  {
   "cell_type": "code",
   "execution_count": null,
   "id": "a71eefe6",
   "metadata": {},
   "outputs": [],
   "source": []
  }
 ],
 "metadata": {
  "kernelspec": {
   "display_name": "Python 3 (ipykernel)",
   "language": "python",
   "name": "python3"
  },
  "language_info": {
   "codemirror_mode": {
    "name": "ipython",
    "version": 3
   },
   "file_extension": ".py",
   "mimetype": "text/x-python",
   "name": "python",
   "nbconvert_exporter": "python",
   "pygments_lexer": "ipython3",
   "version": "3.10.4"
  }
 },
 "nbformat": 4,
 "nbformat_minor": 5
}
