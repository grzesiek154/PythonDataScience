{
 "cells": [
  {
   "cell_type": "markdown",
   "id": "4b568c08",
   "metadata": {},
   "source": [
    "# This project aims to clean the data and analyze the included used car listings"
   ]
  },
  {
   "cell_type": "markdown",
   "id": "c3d1714f",
   "metadata": {},
   "source": [
    "The dataset was originally scraped and uploaded to Kaggle by user orgesleka.\n",
    "The original dataset isn't available on Kaggle anymore, but you can find it [here](https://data.world/data-society/used-cars-data). \n",
    "\n",
    "We've made a few modifications from the original dataset:\n",
    "\n",
    "- We sampled 50,000 data points from the full dataset, to ensure your code runs quickly in our hosted environment\n",
    "- We dirtied the dataset a bit to more closely resemble what you would expect from a scraped dataset (the version uploaded to Kaggle was cleaned to be easier to work with)"
   ]
  },
  {
   "cell_type": "markdown",
   "id": "fabee291",
   "metadata": {},
   "source": [
    "The data dictionary provided with data is as follows:\n",
    "\n",
    "- `dateCrawled` - When this ad was first crawled. All field-values are taken from this date.\n",
    "- `name` - Name of the car.\n",
    "- `seller` - Whether the seller is private or a dealer.\n",
    "- `offerType` - The type of listing\n",
    "- `price` - The price on the ad to sell the car.\n",
    "- `abtest` - Whether the listing is included in an A/B test.\n",
    "- `vehicleType` - The vehicle Type.\n",
    "- `yearOfRegistration` - The year in which the car was first registered.\n",
    "- `gearbox` - The transmission type.\n",
    "- `powerPS` - The power of the car in PS.\n",
    "- `model` - The car model name.\n",
    "- `kilometer` - How many kilometers the car has driven.\n",
    "- `monthOfRegistration` - The month in which the car was first registered.\n",
    "- `fuelType` - What type of fuel the car uses.\n",
    "- `brand` - The brand of the car.\n",
    "- `notRepairedDamage` - If the car has a damage which is not yet repaired.\n",
    "- `dateCreated` - The date on which the eBay listing was created.\n",
    "- `nrOfPictures` - The number of pictures in the ad.\n",
    "- `postalCode` - The postal code for the location of the vehicle.\n",
    "- `lastSeenOnline` - When the crawler saw this ad last online."
   ]
  },
  {
   "cell_type": "markdown",
   "id": "96bad4e0",
   "metadata": {},
   "source": [
    "Import libraries"
   ]
  },
  {
   "cell_type": "code",
   "execution_count": 1,
   "id": "e2c6dee3",
   "metadata": {},
   "outputs": [],
   "source": [
    "import numpy as np\n",
    "import pandas as pd\n",
    "import matplotlib.pyplot as plt"
   ]
  },
  {
   "cell_type": "code",
   "execution_count": 2,
   "id": "c47b0a94",
   "metadata": {},
   "outputs": [],
   "source": [
    "autos = pd.read_csv('autos.csv', encoding='Latin-1')"
   ]
  },
  {
   "cell_type": "code",
   "execution_count": 3,
   "id": "bea42346",
   "metadata": {},
   "outputs": [
    {
     "data": {
      "text/html": [
       "<div>\n",
       "<style scoped>\n",
       "    .dataframe tbody tr th:only-of-type {\n",
       "        vertical-align: middle;\n",
       "    }\n",
       "\n",
       "    .dataframe tbody tr th {\n",
       "        vertical-align: top;\n",
       "    }\n",
       "\n",
       "    .dataframe thead th {\n",
       "        text-align: right;\n",
       "    }\n",
       "</style>\n",
       "<table border=\"1\" class=\"dataframe\">\n",
       "  <thead>\n",
       "    <tr style=\"text-align: right;\">\n",
       "      <th></th>\n",
       "      <th>dateCrawled</th>\n",
       "      <th>name</th>\n",
       "      <th>seller</th>\n",
       "      <th>offerType</th>\n",
       "      <th>price</th>\n",
       "      <th>abtest</th>\n",
       "      <th>vehicleType</th>\n",
       "      <th>yearOfRegistration</th>\n",
       "      <th>gearbox</th>\n",
       "      <th>powerPS</th>\n",
       "      <th>model</th>\n",
       "      <th>kilometer</th>\n",
       "      <th>monthOfRegistration</th>\n",
       "      <th>fuelType</th>\n",
       "      <th>brand</th>\n",
       "      <th>notRepairedDamage</th>\n",
       "      <th>dateCreated</th>\n",
       "      <th>nrOfPictures</th>\n",
       "      <th>postalCode</th>\n",
       "      <th>lastSeen</th>\n",
       "    </tr>\n",
       "  </thead>\n",
       "  <tbody>\n",
       "    <tr>\n",
       "      <th>0</th>\n",
       "      <td>2016-03-24 11:52:17</td>\n",
       "      <td>Golf_3_1.6</td>\n",
       "      <td>privat</td>\n",
       "      <td>Angebot</td>\n",
       "      <td>480</td>\n",
       "      <td>test</td>\n",
       "      <td>NaN</td>\n",
       "      <td>1993</td>\n",
       "      <td>manuell</td>\n",
       "      <td>0</td>\n",
       "      <td>golf</td>\n",
       "      <td>150000</td>\n",
       "      <td>0</td>\n",
       "      <td>benzin</td>\n",
       "      <td>volkswagen</td>\n",
       "      <td>NaN</td>\n",
       "      <td>2016-03-24 00:00:00</td>\n",
       "      <td>0</td>\n",
       "      <td>70435</td>\n",
       "      <td>2016-04-07 03:16:57</td>\n",
       "    </tr>\n",
       "    <tr>\n",
       "      <th>1</th>\n",
       "      <td>2016-03-24 10:58:45</td>\n",
       "      <td>A5_Sportback_2.7_Tdi</td>\n",
       "      <td>privat</td>\n",
       "      <td>Angebot</td>\n",
       "      <td>18300</td>\n",
       "      <td>test</td>\n",
       "      <td>coupe</td>\n",
       "      <td>2011</td>\n",
       "      <td>manuell</td>\n",
       "      <td>190</td>\n",
       "      <td>NaN</td>\n",
       "      <td>125000</td>\n",
       "      <td>5</td>\n",
       "      <td>diesel</td>\n",
       "      <td>audi</td>\n",
       "      <td>ja</td>\n",
       "      <td>2016-03-24 00:00:00</td>\n",
       "      <td>0</td>\n",
       "      <td>66954</td>\n",
       "      <td>2016-04-07 01:46:50</td>\n",
       "    </tr>\n",
       "    <tr>\n",
       "      <th>2</th>\n",
       "      <td>2016-03-14 12:52:21</td>\n",
       "      <td>Jeep_Grand_Cherokee_\"Overland\"</td>\n",
       "      <td>privat</td>\n",
       "      <td>Angebot</td>\n",
       "      <td>9800</td>\n",
       "      <td>test</td>\n",
       "      <td>suv</td>\n",
       "      <td>2004</td>\n",
       "      <td>automatik</td>\n",
       "      <td>163</td>\n",
       "      <td>grand</td>\n",
       "      <td>125000</td>\n",
       "      <td>8</td>\n",
       "      <td>diesel</td>\n",
       "      <td>jeep</td>\n",
       "      <td>NaN</td>\n",
       "      <td>2016-03-14 00:00:00</td>\n",
       "      <td>0</td>\n",
       "      <td>90480</td>\n",
       "      <td>2016-04-05 12:47:46</td>\n",
       "    </tr>\n",
       "    <tr>\n",
       "      <th>3</th>\n",
       "      <td>2016-03-17 16:54:04</td>\n",
       "      <td>GOLF_4_1_4__3TÜRER</td>\n",
       "      <td>privat</td>\n",
       "      <td>Angebot</td>\n",
       "      <td>1500</td>\n",
       "      <td>test</td>\n",
       "      <td>kleinwagen</td>\n",
       "      <td>2001</td>\n",
       "      <td>manuell</td>\n",
       "      <td>75</td>\n",
       "      <td>golf</td>\n",
       "      <td>150000</td>\n",
       "      <td>6</td>\n",
       "      <td>benzin</td>\n",
       "      <td>volkswagen</td>\n",
       "      <td>nein</td>\n",
       "      <td>2016-03-17 00:00:00</td>\n",
       "      <td>0</td>\n",
       "      <td>91074</td>\n",
       "      <td>2016-03-17 17:40:17</td>\n",
       "    </tr>\n",
       "    <tr>\n",
       "      <th>4</th>\n",
       "      <td>2016-03-31 17:25:20</td>\n",
       "      <td>Skoda_Fabia_1.4_TDI_PD_Classic</td>\n",
       "      <td>privat</td>\n",
       "      <td>Angebot</td>\n",
       "      <td>3600</td>\n",
       "      <td>test</td>\n",
       "      <td>kleinwagen</td>\n",
       "      <td>2008</td>\n",
       "      <td>manuell</td>\n",
       "      <td>69</td>\n",
       "      <td>fabia</td>\n",
       "      <td>90000</td>\n",
       "      <td>7</td>\n",
       "      <td>diesel</td>\n",
       "      <td>skoda</td>\n",
       "      <td>nein</td>\n",
       "      <td>2016-03-31 00:00:00</td>\n",
       "      <td>0</td>\n",
       "      <td>60437</td>\n",
       "      <td>2016-04-06 10:17:21</td>\n",
       "    </tr>\n",
       "    <tr>\n",
       "      <th>...</th>\n",
       "      <td>...</td>\n",
       "      <td>...</td>\n",
       "      <td>...</td>\n",
       "      <td>...</td>\n",
       "      <td>...</td>\n",
       "      <td>...</td>\n",
       "      <td>...</td>\n",
       "      <td>...</td>\n",
       "      <td>...</td>\n",
       "      <td>...</td>\n",
       "      <td>...</td>\n",
       "      <td>...</td>\n",
       "      <td>...</td>\n",
       "      <td>...</td>\n",
       "      <td>...</td>\n",
       "      <td>...</td>\n",
       "      <td>...</td>\n",
       "      <td>...</td>\n",
       "      <td>...</td>\n",
       "      <td>...</td>\n",
       "    </tr>\n",
       "    <tr>\n",
       "      <th>371523</th>\n",
       "      <td>2016-03-14 17:48:27</td>\n",
       "      <td>Suche_t4___vito_ab_6_sitze</td>\n",
       "      <td>privat</td>\n",
       "      <td>Angebot</td>\n",
       "      <td>2200</td>\n",
       "      <td>test</td>\n",
       "      <td>NaN</td>\n",
       "      <td>2005</td>\n",
       "      <td>NaN</td>\n",
       "      <td>0</td>\n",
       "      <td>NaN</td>\n",
       "      <td>20000</td>\n",
       "      <td>1</td>\n",
       "      <td>NaN</td>\n",
       "      <td>sonstige_autos</td>\n",
       "      <td>NaN</td>\n",
       "      <td>2016-03-14 00:00:00</td>\n",
       "      <td>0</td>\n",
       "      <td>39576</td>\n",
       "      <td>2016-04-06 00:46:52</td>\n",
       "    </tr>\n",
       "    <tr>\n",
       "      <th>371524</th>\n",
       "      <td>2016-03-05 19:56:21</td>\n",
       "      <td>Smart_smart_leistungssteigerung_100ps</td>\n",
       "      <td>privat</td>\n",
       "      <td>Angebot</td>\n",
       "      <td>1199</td>\n",
       "      <td>test</td>\n",
       "      <td>cabrio</td>\n",
       "      <td>2000</td>\n",
       "      <td>automatik</td>\n",
       "      <td>101</td>\n",
       "      <td>fortwo</td>\n",
       "      <td>125000</td>\n",
       "      <td>3</td>\n",
       "      <td>benzin</td>\n",
       "      <td>smart</td>\n",
       "      <td>nein</td>\n",
       "      <td>2016-03-05 00:00:00</td>\n",
       "      <td>0</td>\n",
       "      <td>26135</td>\n",
       "      <td>2016-03-11 18:17:12</td>\n",
       "    </tr>\n",
       "    <tr>\n",
       "      <th>371525</th>\n",
       "      <td>2016-03-19 18:57:12</td>\n",
       "      <td>Volkswagen_Multivan_T4_TDI_7DC_UY2</td>\n",
       "      <td>privat</td>\n",
       "      <td>Angebot</td>\n",
       "      <td>9200</td>\n",
       "      <td>test</td>\n",
       "      <td>bus</td>\n",
       "      <td>1996</td>\n",
       "      <td>manuell</td>\n",
       "      <td>102</td>\n",
       "      <td>transporter</td>\n",
       "      <td>150000</td>\n",
       "      <td>3</td>\n",
       "      <td>diesel</td>\n",
       "      <td>volkswagen</td>\n",
       "      <td>nein</td>\n",
       "      <td>2016-03-19 00:00:00</td>\n",
       "      <td>0</td>\n",
       "      <td>87439</td>\n",
       "      <td>2016-04-07 07:15:26</td>\n",
       "    </tr>\n",
       "    <tr>\n",
       "      <th>371526</th>\n",
       "      <td>2016-03-20 19:41:08</td>\n",
       "      <td>VW_Golf_Kombi_1_9l_TDI</td>\n",
       "      <td>privat</td>\n",
       "      <td>Angebot</td>\n",
       "      <td>3400</td>\n",
       "      <td>test</td>\n",
       "      <td>kombi</td>\n",
       "      <td>2002</td>\n",
       "      <td>manuell</td>\n",
       "      <td>100</td>\n",
       "      <td>golf</td>\n",
       "      <td>150000</td>\n",
       "      <td>6</td>\n",
       "      <td>diesel</td>\n",
       "      <td>volkswagen</td>\n",
       "      <td>NaN</td>\n",
       "      <td>2016-03-20 00:00:00</td>\n",
       "      <td>0</td>\n",
       "      <td>40764</td>\n",
       "      <td>2016-03-24 12:45:21</td>\n",
       "    </tr>\n",
       "    <tr>\n",
       "      <th>371527</th>\n",
       "      <td>2016-03-07 19:39:19</td>\n",
       "      <td>BMW_M135i_vollausgestattet_NP_52.720____Euro</td>\n",
       "      <td>privat</td>\n",
       "      <td>Angebot</td>\n",
       "      <td>28990</td>\n",
       "      <td>control</td>\n",
       "      <td>limousine</td>\n",
       "      <td>2013</td>\n",
       "      <td>manuell</td>\n",
       "      <td>320</td>\n",
       "      <td>m_reihe</td>\n",
       "      <td>50000</td>\n",
       "      <td>8</td>\n",
       "      <td>benzin</td>\n",
       "      <td>bmw</td>\n",
       "      <td>nein</td>\n",
       "      <td>2016-03-07 00:00:00</td>\n",
       "      <td>0</td>\n",
       "      <td>73326</td>\n",
       "      <td>2016-03-22 03:17:10</td>\n",
       "    </tr>\n",
       "  </tbody>\n",
       "</table>\n",
       "<p>371528 rows × 20 columns</p>\n",
       "</div>"
      ],
      "text/plain": [
       "                dateCrawled                                          name  \\\n",
       "0       2016-03-24 11:52:17                                    Golf_3_1.6   \n",
       "1       2016-03-24 10:58:45                          A5_Sportback_2.7_Tdi   \n",
       "2       2016-03-14 12:52:21                Jeep_Grand_Cherokee_\"Overland\"   \n",
       "3       2016-03-17 16:54:04                            GOLF_4_1_4__3TÜRER   \n",
       "4       2016-03-31 17:25:20                Skoda_Fabia_1.4_TDI_PD_Classic   \n",
       "...                     ...                                           ...   \n",
       "371523  2016-03-14 17:48:27                    Suche_t4___vito_ab_6_sitze   \n",
       "371524  2016-03-05 19:56:21         Smart_smart_leistungssteigerung_100ps   \n",
       "371525  2016-03-19 18:57:12            Volkswagen_Multivan_T4_TDI_7DC_UY2   \n",
       "371526  2016-03-20 19:41:08                        VW_Golf_Kombi_1_9l_TDI   \n",
       "371527  2016-03-07 19:39:19  BMW_M135i_vollausgestattet_NP_52.720____Euro   \n",
       "\n",
       "        seller offerType  price   abtest vehicleType  yearOfRegistration  \\\n",
       "0       privat   Angebot    480     test         NaN                1993   \n",
       "1       privat   Angebot  18300     test       coupe                2011   \n",
       "2       privat   Angebot   9800     test         suv                2004   \n",
       "3       privat   Angebot   1500     test  kleinwagen                2001   \n",
       "4       privat   Angebot   3600     test  kleinwagen                2008   \n",
       "...        ...       ...    ...      ...         ...                 ...   \n",
       "371523  privat   Angebot   2200     test         NaN                2005   \n",
       "371524  privat   Angebot   1199     test      cabrio                2000   \n",
       "371525  privat   Angebot   9200     test         bus                1996   \n",
       "371526  privat   Angebot   3400     test       kombi                2002   \n",
       "371527  privat   Angebot  28990  control   limousine                2013   \n",
       "\n",
       "          gearbox  powerPS        model  kilometer  monthOfRegistration  \\\n",
       "0         manuell        0         golf     150000                    0   \n",
       "1         manuell      190          NaN     125000                    5   \n",
       "2       automatik      163        grand     125000                    8   \n",
       "3         manuell       75         golf     150000                    6   \n",
       "4         manuell       69        fabia      90000                    7   \n",
       "...           ...      ...          ...        ...                  ...   \n",
       "371523        NaN        0          NaN      20000                    1   \n",
       "371524  automatik      101       fortwo     125000                    3   \n",
       "371525    manuell      102  transporter     150000                    3   \n",
       "371526    manuell      100         golf     150000                    6   \n",
       "371527    manuell      320      m_reihe      50000                    8   \n",
       "\n",
       "       fuelType           brand notRepairedDamage          dateCreated  \\\n",
       "0        benzin      volkswagen               NaN  2016-03-24 00:00:00   \n",
       "1        diesel            audi                ja  2016-03-24 00:00:00   \n",
       "2        diesel            jeep               NaN  2016-03-14 00:00:00   \n",
       "3        benzin      volkswagen              nein  2016-03-17 00:00:00   \n",
       "4        diesel           skoda              nein  2016-03-31 00:00:00   \n",
       "...         ...             ...               ...                  ...   \n",
       "371523      NaN  sonstige_autos               NaN  2016-03-14 00:00:00   \n",
       "371524   benzin           smart              nein  2016-03-05 00:00:00   \n",
       "371525   diesel      volkswagen              nein  2016-03-19 00:00:00   \n",
       "371526   diesel      volkswagen               NaN  2016-03-20 00:00:00   \n",
       "371527   benzin             bmw              nein  2016-03-07 00:00:00   \n",
       "\n",
       "        nrOfPictures  postalCode             lastSeen  \n",
       "0                  0       70435  2016-04-07 03:16:57  \n",
       "1                  0       66954  2016-04-07 01:46:50  \n",
       "2                  0       90480  2016-04-05 12:47:46  \n",
       "3                  0       91074  2016-03-17 17:40:17  \n",
       "4                  0       60437  2016-04-06 10:17:21  \n",
       "...              ...         ...                  ...  \n",
       "371523             0       39576  2016-04-06 00:46:52  \n",
       "371524             0       26135  2016-03-11 18:17:12  \n",
       "371525             0       87439  2016-04-07 07:15:26  \n",
       "371526             0       40764  2016-03-24 12:45:21  \n",
       "371527             0       73326  2016-03-22 03:17:10  \n",
       "\n",
       "[371528 rows x 20 columns]"
      ]
     },
     "execution_count": 3,
     "metadata": {},
     "output_type": "execute_result"
    }
   ],
   "source": [
    "autos"
   ]
  },
  {
   "cell_type": "markdown",
   "id": "ff17b761",
   "metadata": {},
   "source": [
    "## Print basic info about `autos` dataframe"
   ]
  },
  {
   "cell_type": "code",
   "execution_count": 4,
   "id": "0b025d3a",
   "metadata": {},
   "outputs": [
    {
     "name": "stdout",
     "output_type": "stream",
     "text": [
      "<class 'pandas.core.frame.DataFrame'>\n",
      "RangeIndex: 371528 entries, 0 to 371527\n",
      "Data columns (total 20 columns):\n",
      " #   Column               Non-Null Count   Dtype \n",
      "---  ------               --------------   ----- \n",
      " 0   dateCrawled          371528 non-null  object\n",
      " 1   name                 371528 non-null  object\n",
      " 2   seller               371528 non-null  object\n",
      " 3   offerType            371528 non-null  object\n",
      " 4   price                371528 non-null  int64 \n",
      " 5   abtest               371528 non-null  object\n",
      " 6   vehicleType          333659 non-null  object\n",
      " 7   yearOfRegistration   371528 non-null  int64 \n",
      " 8   gearbox              351319 non-null  object\n",
      " 9   powerPS              371528 non-null  int64 \n",
      " 10  model                351044 non-null  object\n",
      " 11  kilometer            371528 non-null  int64 \n",
      " 12  monthOfRegistration  371528 non-null  int64 \n",
      " 13  fuelType             338142 non-null  object\n",
      " 14  brand                371528 non-null  object\n",
      " 15  notRepairedDamage    299468 non-null  object\n",
      " 16  dateCreated          371528 non-null  object\n",
      " 17  nrOfPictures         371528 non-null  int64 \n",
      " 18  postalCode           371528 non-null  int64 \n",
      " 19  lastSeen             371528 non-null  object\n",
      "dtypes: int64(7), object(13)\n",
      "memory usage: 56.7+ MB\n",
      "None\n"
     ]
    }
   ],
   "source": [
    "print(autos.info())"
   ]
  },
  {
   "cell_type": "markdown",
   "id": "2867bc8e",
   "metadata": {},
   "source": []
  },
  {
   "cell_type": "markdown",
   "id": "dfa1a0a4",
   "metadata": {},
   "source": []
  },
  {
   "cell_type": "markdown",
   "id": "7f24fb10",
   "metadata": {},
   "source": [
    "## Print first n rows of the `autos` dataset"
   ]
  },
  {
   "cell_type": "code",
   "execution_count": 5,
   "id": "e6b69046",
   "metadata": {},
   "outputs": [
    {
     "name": "stdout",
     "output_type": "stream",
     "text": [
      "           dateCrawled                            name  seller offerType  \\\n",
      "0  2016-03-24 11:52:17                      Golf_3_1.6  privat   Angebot   \n",
      "1  2016-03-24 10:58:45            A5_Sportback_2.7_Tdi  privat   Angebot   \n",
      "2  2016-03-14 12:52:21  Jeep_Grand_Cherokee_\"Overland\"  privat   Angebot   \n",
      "3  2016-03-17 16:54:04              GOLF_4_1_4__3TÜRER  privat   Angebot   \n",
      "4  2016-03-31 17:25:20  Skoda_Fabia_1.4_TDI_PD_Classic  privat   Angebot   \n",
      "\n",
      "   price abtest vehicleType  yearOfRegistration    gearbox  powerPS  model  \\\n",
      "0    480   test         NaN                1993    manuell        0   golf   \n",
      "1  18300   test       coupe                2011    manuell      190    NaN   \n",
      "2   9800   test         suv                2004  automatik      163  grand   \n",
      "3   1500   test  kleinwagen                2001    manuell       75   golf   \n",
      "4   3600   test  kleinwagen                2008    manuell       69  fabia   \n",
      "\n",
      "   kilometer  monthOfRegistration fuelType       brand notRepairedDamage  \\\n",
      "0     150000                    0   benzin  volkswagen               NaN   \n",
      "1     125000                    5   diesel        audi                ja   \n",
      "2     125000                    8   diesel        jeep               NaN   \n",
      "3     150000                    6   benzin  volkswagen              nein   \n",
      "4      90000                    7   diesel       skoda              nein   \n",
      "\n",
      "           dateCreated  nrOfPictures  postalCode             lastSeen  \n",
      "0  2016-03-24 00:00:00             0       70435  2016-04-07 03:16:57  \n",
      "1  2016-03-24 00:00:00             0       66954  2016-04-07 01:46:50  \n",
      "2  2016-03-14 00:00:00             0       90480  2016-04-05 12:47:46  \n",
      "3  2016-03-17 00:00:00             0       91074  2016-03-17 17:40:17  \n",
      "4  2016-03-31 00:00:00             0       60437  2016-04-06 10:17:21  \n"
     ]
    }
   ],
   "source": [
    "print(autos.head(5))"
   ]
  },
  {
   "cell_type": "markdown",
   "id": "35204185",
   "metadata": {},
   "source": [
    "# Data cleaning start"
   ]
  },
  {
   "cell_type": "markdown",
   "id": "fda776d1",
   "metadata": {},
   "source": [
    "## 1. Update column names"
   ]
  },
  {
   "cell_type": "markdown",
   "id": "ec703b2e",
   "metadata": {},
   "source": [
    "Change column names from camelcase to Python's preferred snakecase"
   ]
  },
  {
   "cell_type": "code",
   "execution_count": 6,
   "id": "12eb44b6",
   "metadata": {},
   "outputs": [
    {
     "data": {
      "text/plain": [
       "Index(['dateCrawled', 'name', 'seller', 'offerType', 'price', 'abtest',\n",
       "       'vehicleType', 'yearOfRegistration', 'gearbox', 'powerPS', 'model',\n",
       "       'kilometer', 'monthOfRegistration', 'fuelType', 'brand',\n",
       "       'notRepairedDamage', 'dateCreated', 'nrOfPictures', 'postalCode',\n",
       "       'lastSeen'],\n",
       "      dtype='object')"
      ]
     },
     "execution_count": 6,
     "metadata": {},
     "output_type": "execute_result"
    }
   ],
   "source": [
    "autos.columns"
   ]
  },
  {
   "cell_type": "code",
   "execution_count": 7,
   "id": "7f3fd7c7",
   "metadata": {},
   "outputs": [],
   "source": [
    "autos.rename({\n",
    "    \"dateCrawled\":\"date_crawled\",\n",
    "    \"offerType\":\"offer_type\",\n",
    "    \"vehicleType\":\"vehicle_type\",\n",
    "    \"powerPS\":\"power_in_ps\",\n",
    "    \"yearOfRegistration\":\"registration_year\",\n",
    "    \"monthOfRegistration\":\"registration_month\",\n",
    "    \"fuelType\":\"fuel_type\",\n",
    "    \"notRepairedDamage\":\"not_repaired_damage\",\n",
    "    \"dateCreated\":\"ad_created\",\n",
    "    \"nrOfPictures\":\"num_of_pictures\",\n",
    "    \"postalCode\":\"postal_code\",\n",
    "    \"lastSeen\":\"last_seen\",\n",
    "    \"kilometer\":\"odometer_km\"\n",
    "}, axis=1, inplace=True)"
   ]
  },
  {
   "cell_type": "markdown",
   "id": "a2559230",
   "metadata": {},
   "source": [
    "Display n rows with updated column names"
   ]
  },
  {
   "cell_type": "code",
   "execution_count": 8,
   "id": "7f1b2dbd",
   "metadata": {},
   "outputs": [
    {
     "data": {
      "text/html": [
       "<div>\n",
       "<style scoped>\n",
       "    .dataframe tbody tr th:only-of-type {\n",
       "        vertical-align: middle;\n",
       "    }\n",
       "\n",
       "    .dataframe tbody tr th {\n",
       "        vertical-align: top;\n",
       "    }\n",
       "\n",
       "    .dataframe thead th {\n",
       "        text-align: right;\n",
       "    }\n",
       "</style>\n",
       "<table border=\"1\" class=\"dataframe\">\n",
       "  <thead>\n",
       "    <tr style=\"text-align: right;\">\n",
       "      <th></th>\n",
       "      <th>date_crawled</th>\n",
       "      <th>name</th>\n",
       "      <th>seller</th>\n",
       "      <th>offer_type</th>\n",
       "      <th>price</th>\n",
       "      <th>abtest</th>\n",
       "      <th>vehicle_type</th>\n",
       "      <th>registration_year</th>\n",
       "      <th>gearbox</th>\n",
       "      <th>power_in_ps</th>\n",
       "      <th>model</th>\n",
       "      <th>odometer_km</th>\n",
       "      <th>registration_month</th>\n",
       "      <th>fuel_type</th>\n",
       "      <th>brand</th>\n",
       "      <th>not_repaired_damage</th>\n",
       "      <th>ad_created</th>\n",
       "      <th>num_of_pictures</th>\n",
       "      <th>postal_code</th>\n",
       "      <th>last_seen</th>\n",
       "    </tr>\n",
       "  </thead>\n",
       "  <tbody>\n",
       "    <tr>\n",
       "      <th>0</th>\n",
       "      <td>2016-03-24 11:52:17</td>\n",
       "      <td>Golf_3_1.6</td>\n",
       "      <td>privat</td>\n",
       "      <td>Angebot</td>\n",
       "      <td>480</td>\n",
       "      <td>test</td>\n",
       "      <td>NaN</td>\n",
       "      <td>1993</td>\n",
       "      <td>manuell</td>\n",
       "      <td>0</td>\n",
       "      <td>golf</td>\n",
       "      <td>150000</td>\n",
       "      <td>0</td>\n",
       "      <td>benzin</td>\n",
       "      <td>volkswagen</td>\n",
       "      <td>NaN</td>\n",
       "      <td>2016-03-24 00:00:00</td>\n",
       "      <td>0</td>\n",
       "      <td>70435</td>\n",
       "      <td>2016-04-07 03:16:57</td>\n",
       "    </tr>\n",
       "    <tr>\n",
       "      <th>1</th>\n",
       "      <td>2016-03-24 10:58:45</td>\n",
       "      <td>A5_Sportback_2.7_Tdi</td>\n",
       "      <td>privat</td>\n",
       "      <td>Angebot</td>\n",
       "      <td>18300</td>\n",
       "      <td>test</td>\n",
       "      <td>coupe</td>\n",
       "      <td>2011</td>\n",
       "      <td>manuell</td>\n",
       "      <td>190</td>\n",
       "      <td>NaN</td>\n",
       "      <td>125000</td>\n",
       "      <td>5</td>\n",
       "      <td>diesel</td>\n",
       "      <td>audi</td>\n",
       "      <td>ja</td>\n",
       "      <td>2016-03-24 00:00:00</td>\n",
       "      <td>0</td>\n",
       "      <td>66954</td>\n",
       "      <td>2016-04-07 01:46:50</td>\n",
       "    </tr>\n",
       "    <tr>\n",
       "      <th>2</th>\n",
       "      <td>2016-03-14 12:52:21</td>\n",
       "      <td>Jeep_Grand_Cherokee_\"Overland\"</td>\n",
       "      <td>privat</td>\n",
       "      <td>Angebot</td>\n",
       "      <td>9800</td>\n",
       "      <td>test</td>\n",
       "      <td>suv</td>\n",
       "      <td>2004</td>\n",
       "      <td>automatik</td>\n",
       "      <td>163</td>\n",
       "      <td>grand</td>\n",
       "      <td>125000</td>\n",
       "      <td>8</td>\n",
       "      <td>diesel</td>\n",
       "      <td>jeep</td>\n",
       "      <td>NaN</td>\n",
       "      <td>2016-03-14 00:00:00</td>\n",
       "      <td>0</td>\n",
       "      <td>90480</td>\n",
       "      <td>2016-04-05 12:47:46</td>\n",
       "    </tr>\n",
       "    <tr>\n",
       "      <th>3</th>\n",
       "      <td>2016-03-17 16:54:04</td>\n",
       "      <td>GOLF_4_1_4__3TÜRER</td>\n",
       "      <td>privat</td>\n",
       "      <td>Angebot</td>\n",
       "      <td>1500</td>\n",
       "      <td>test</td>\n",
       "      <td>kleinwagen</td>\n",
       "      <td>2001</td>\n",
       "      <td>manuell</td>\n",
       "      <td>75</td>\n",
       "      <td>golf</td>\n",
       "      <td>150000</td>\n",
       "      <td>6</td>\n",
       "      <td>benzin</td>\n",
       "      <td>volkswagen</td>\n",
       "      <td>nein</td>\n",
       "      <td>2016-03-17 00:00:00</td>\n",
       "      <td>0</td>\n",
       "      <td>91074</td>\n",
       "      <td>2016-03-17 17:40:17</td>\n",
       "    </tr>\n",
       "    <tr>\n",
       "      <th>4</th>\n",
       "      <td>2016-03-31 17:25:20</td>\n",
       "      <td>Skoda_Fabia_1.4_TDI_PD_Classic</td>\n",
       "      <td>privat</td>\n",
       "      <td>Angebot</td>\n",
       "      <td>3600</td>\n",
       "      <td>test</td>\n",
       "      <td>kleinwagen</td>\n",
       "      <td>2008</td>\n",
       "      <td>manuell</td>\n",
       "      <td>69</td>\n",
       "      <td>fabia</td>\n",
       "      <td>90000</td>\n",
       "      <td>7</td>\n",
       "      <td>diesel</td>\n",
       "      <td>skoda</td>\n",
       "      <td>nein</td>\n",
       "      <td>2016-03-31 00:00:00</td>\n",
       "      <td>0</td>\n",
       "      <td>60437</td>\n",
       "      <td>2016-04-06 10:17:21</td>\n",
       "    </tr>\n",
       "  </tbody>\n",
       "</table>\n",
       "</div>"
      ],
      "text/plain": [
       "          date_crawled                            name  seller offer_type  \\\n",
       "0  2016-03-24 11:52:17                      Golf_3_1.6  privat    Angebot   \n",
       "1  2016-03-24 10:58:45            A5_Sportback_2.7_Tdi  privat    Angebot   \n",
       "2  2016-03-14 12:52:21  Jeep_Grand_Cherokee_\"Overland\"  privat    Angebot   \n",
       "3  2016-03-17 16:54:04              GOLF_4_1_4__3TÜRER  privat    Angebot   \n",
       "4  2016-03-31 17:25:20  Skoda_Fabia_1.4_TDI_PD_Classic  privat    Angebot   \n",
       "\n",
       "   price abtest vehicle_type  registration_year    gearbox  power_in_ps  \\\n",
       "0    480   test          NaN               1993    manuell            0   \n",
       "1  18300   test        coupe               2011    manuell          190   \n",
       "2   9800   test          suv               2004  automatik          163   \n",
       "3   1500   test   kleinwagen               2001    manuell           75   \n",
       "4   3600   test   kleinwagen               2008    manuell           69   \n",
       "\n",
       "   model  odometer_km  registration_month fuel_type       brand  \\\n",
       "0   golf       150000                   0    benzin  volkswagen   \n",
       "1    NaN       125000                   5    diesel        audi   \n",
       "2  grand       125000                   8    diesel        jeep   \n",
       "3   golf       150000                   6    benzin  volkswagen   \n",
       "4  fabia        90000                   7    diesel       skoda   \n",
       "\n",
       "  not_repaired_damage           ad_created  num_of_pictures  postal_code  \\\n",
       "0                 NaN  2016-03-24 00:00:00                0        70435   \n",
       "1                  ja  2016-03-24 00:00:00                0        66954   \n",
       "2                 NaN  2016-03-14 00:00:00                0        90480   \n",
       "3                nein  2016-03-17 00:00:00                0        91074   \n",
       "4                nein  2016-03-31 00:00:00                0        60437   \n",
       "\n",
       "             last_seen  \n",
       "0  2016-04-07 03:16:57  \n",
       "1  2016-04-07 01:46:50  \n",
       "2  2016-04-05 12:47:46  \n",
       "3  2016-03-17 17:40:17  \n",
       "4  2016-04-06 10:17:21  "
      ]
     },
     "execution_count": 8,
     "metadata": {},
     "output_type": "execute_result"
    }
   ],
   "source": [
    "autos.head(5)"
   ]
  },
  {
   "cell_type": "code",
   "execution_count": 9,
   "id": "8c98df26",
   "metadata": {},
   "outputs": [
    {
     "data": {
      "text/html": [
       "<div>\n",
       "<style scoped>\n",
       "    .dataframe tbody tr th:only-of-type {\n",
       "        vertical-align: middle;\n",
       "    }\n",
       "\n",
       "    .dataframe tbody tr th {\n",
       "        vertical-align: top;\n",
       "    }\n",
       "\n",
       "    .dataframe thead th {\n",
       "        text-align: right;\n",
       "    }\n",
       "</style>\n",
       "<table border=\"1\" class=\"dataframe\">\n",
       "  <thead>\n",
       "    <tr style=\"text-align: right;\">\n",
       "      <th></th>\n",
       "      <th>date_crawled</th>\n",
       "      <th>name</th>\n",
       "      <th>seller</th>\n",
       "      <th>offer_type</th>\n",
       "      <th>price</th>\n",
       "      <th>abtest</th>\n",
       "      <th>vehicle_type</th>\n",
       "      <th>registration_year</th>\n",
       "      <th>gearbox</th>\n",
       "      <th>power_in_ps</th>\n",
       "      <th>model</th>\n",
       "      <th>odometer_km</th>\n",
       "      <th>registration_month</th>\n",
       "      <th>fuel_type</th>\n",
       "      <th>brand</th>\n",
       "      <th>not_repaired_damage</th>\n",
       "      <th>ad_created</th>\n",
       "      <th>num_of_pictures</th>\n",
       "      <th>postal_code</th>\n",
       "      <th>last_seen</th>\n",
       "    </tr>\n",
       "  </thead>\n",
       "  <tbody>\n",
       "    <tr>\n",
       "      <th>count</th>\n",
       "      <td>371528</td>\n",
       "      <td>371528</td>\n",
       "      <td>371528</td>\n",
       "      <td>371528</td>\n",
       "      <td>3.715280e+05</td>\n",
       "      <td>371528</td>\n",
       "      <td>333659</td>\n",
       "      <td>371528.000000</td>\n",
       "      <td>351319</td>\n",
       "      <td>371528.000000</td>\n",
       "      <td>351044</td>\n",
       "      <td>371528.000000</td>\n",
       "      <td>371528.000000</td>\n",
       "      <td>338142</td>\n",
       "      <td>371528</td>\n",
       "      <td>299468</td>\n",
       "      <td>371528</td>\n",
       "      <td>371528.0</td>\n",
       "      <td>371528.00000</td>\n",
       "      <td>371528</td>\n",
       "    </tr>\n",
       "    <tr>\n",
       "      <th>unique</th>\n",
       "      <td>280500</td>\n",
       "      <td>233531</td>\n",
       "      <td>2</td>\n",
       "      <td>2</td>\n",
       "      <td>NaN</td>\n",
       "      <td>2</td>\n",
       "      <td>8</td>\n",
       "      <td>NaN</td>\n",
       "      <td>2</td>\n",
       "      <td>NaN</td>\n",
       "      <td>251</td>\n",
       "      <td>NaN</td>\n",
       "      <td>NaN</td>\n",
       "      <td>7</td>\n",
       "      <td>40</td>\n",
       "      <td>2</td>\n",
       "      <td>114</td>\n",
       "      <td>NaN</td>\n",
       "      <td>NaN</td>\n",
       "      <td>182806</td>\n",
       "    </tr>\n",
       "    <tr>\n",
       "      <th>top</th>\n",
       "      <td>2016-03-24 14:49:47</td>\n",
       "      <td>Ford_Fiesta</td>\n",
       "      <td>privat</td>\n",
       "      <td>Angebot</td>\n",
       "      <td>NaN</td>\n",
       "      <td>test</td>\n",
       "      <td>limousine</td>\n",
       "      <td>NaN</td>\n",
       "      <td>manuell</td>\n",
       "      <td>NaN</td>\n",
       "      <td>golf</td>\n",
       "      <td>NaN</td>\n",
       "      <td>NaN</td>\n",
       "      <td>benzin</td>\n",
       "      <td>volkswagen</td>\n",
       "      <td>nein</td>\n",
       "      <td>2016-04-03 00:00:00</td>\n",
       "      <td>NaN</td>\n",
       "      <td>NaN</td>\n",
       "      <td>2016-04-07 06:45:59</td>\n",
       "    </tr>\n",
       "    <tr>\n",
       "      <th>freq</th>\n",
       "      <td>7</td>\n",
       "      <td>657</td>\n",
       "      <td>371525</td>\n",
       "      <td>371516</td>\n",
       "      <td>NaN</td>\n",
       "      <td>192585</td>\n",
       "      <td>95894</td>\n",
       "      <td>NaN</td>\n",
       "      <td>274214</td>\n",
       "      <td>NaN</td>\n",
       "      <td>30070</td>\n",
       "      <td>NaN</td>\n",
       "      <td>NaN</td>\n",
       "      <td>223857</td>\n",
       "      <td>79640</td>\n",
       "      <td>263182</td>\n",
       "      <td>14450</td>\n",
       "      <td>NaN</td>\n",
       "      <td>NaN</td>\n",
       "      <td>17</td>\n",
       "    </tr>\n",
       "    <tr>\n",
       "      <th>mean</th>\n",
       "      <td>NaN</td>\n",
       "      <td>NaN</td>\n",
       "      <td>NaN</td>\n",
       "      <td>NaN</td>\n",
       "      <td>1.729514e+04</td>\n",
       "      <td>NaN</td>\n",
       "      <td>NaN</td>\n",
       "      <td>2004.577997</td>\n",
       "      <td>NaN</td>\n",
       "      <td>115.549477</td>\n",
       "      <td>NaN</td>\n",
       "      <td>125618.688228</td>\n",
       "      <td>5.734445</td>\n",
       "      <td>NaN</td>\n",
       "      <td>NaN</td>\n",
       "      <td>NaN</td>\n",
       "      <td>NaN</td>\n",
       "      <td>0.0</td>\n",
       "      <td>50820.66764</td>\n",
       "      <td>NaN</td>\n",
       "    </tr>\n",
       "    <tr>\n",
       "      <th>std</th>\n",
       "      <td>NaN</td>\n",
       "      <td>NaN</td>\n",
       "      <td>NaN</td>\n",
       "      <td>NaN</td>\n",
       "      <td>3.587954e+06</td>\n",
       "      <td>NaN</td>\n",
       "      <td>NaN</td>\n",
       "      <td>92.866598</td>\n",
       "      <td>NaN</td>\n",
       "      <td>192.139578</td>\n",
       "      <td>NaN</td>\n",
       "      <td>40112.337051</td>\n",
       "      <td>3.712412</td>\n",
       "      <td>NaN</td>\n",
       "      <td>NaN</td>\n",
       "      <td>NaN</td>\n",
       "      <td>NaN</td>\n",
       "      <td>0.0</td>\n",
       "      <td>25799.08247</td>\n",
       "      <td>NaN</td>\n",
       "    </tr>\n",
       "    <tr>\n",
       "      <th>min</th>\n",
       "      <td>NaN</td>\n",
       "      <td>NaN</td>\n",
       "      <td>NaN</td>\n",
       "      <td>NaN</td>\n",
       "      <td>0.000000e+00</td>\n",
       "      <td>NaN</td>\n",
       "      <td>NaN</td>\n",
       "      <td>1000.000000</td>\n",
       "      <td>NaN</td>\n",
       "      <td>0.000000</td>\n",
       "      <td>NaN</td>\n",
       "      <td>5000.000000</td>\n",
       "      <td>0.000000</td>\n",
       "      <td>NaN</td>\n",
       "      <td>NaN</td>\n",
       "      <td>NaN</td>\n",
       "      <td>NaN</td>\n",
       "      <td>0.0</td>\n",
       "      <td>1067.00000</td>\n",
       "      <td>NaN</td>\n",
       "    </tr>\n",
       "    <tr>\n",
       "      <th>25%</th>\n",
       "      <td>NaN</td>\n",
       "      <td>NaN</td>\n",
       "      <td>NaN</td>\n",
       "      <td>NaN</td>\n",
       "      <td>1.150000e+03</td>\n",
       "      <td>NaN</td>\n",
       "      <td>NaN</td>\n",
       "      <td>1999.000000</td>\n",
       "      <td>NaN</td>\n",
       "      <td>70.000000</td>\n",
       "      <td>NaN</td>\n",
       "      <td>125000.000000</td>\n",
       "      <td>3.000000</td>\n",
       "      <td>NaN</td>\n",
       "      <td>NaN</td>\n",
       "      <td>NaN</td>\n",
       "      <td>NaN</td>\n",
       "      <td>0.0</td>\n",
       "      <td>30459.00000</td>\n",
       "      <td>NaN</td>\n",
       "    </tr>\n",
       "    <tr>\n",
       "      <th>50%</th>\n",
       "      <td>NaN</td>\n",
       "      <td>NaN</td>\n",
       "      <td>NaN</td>\n",
       "      <td>NaN</td>\n",
       "      <td>2.950000e+03</td>\n",
       "      <td>NaN</td>\n",
       "      <td>NaN</td>\n",
       "      <td>2003.000000</td>\n",
       "      <td>NaN</td>\n",
       "      <td>105.000000</td>\n",
       "      <td>NaN</td>\n",
       "      <td>150000.000000</td>\n",
       "      <td>6.000000</td>\n",
       "      <td>NaN</td>\n",
       "      <td>NaN</td>\n",
       "      <td>NaN</td>\n",
       "      <td>NaN</td>\n",
       "      <td>0.0</td>\n",
       "      <td>49610.00000</td>\n",
       "      <td>NaN</td>\n",
       "    </tr>\n",
       "    <tr>\n",
       "      <th>75%</th>\n",
       "      <td>NaN</td>\n",
       "      <td>NaN</td>\n",
       "      <td>NaN</td>\n",
       "      <td>NaN</td>\n",
       "      <td>7.200000e+03</td>\n",
       "      <td>NaN</td>\n",
       "      <td>NaN</td>\n",
       "      <td>2008.000000</td>\n",
       "      <td>NaN</td>\n",
       "      <td>150.000000</td>\n",
       "      <td>NaN</td>\n",
       "      <td>150000.000000</td>\n",
       "      <td>9.000000</td>\n",
       "      <td>NaN</td>\n",
       "      <td>NaN</td>\n",
       "      <td>NaN</td>\n",
       "      <td>NaN</td>\n",
       "      <td>0.0</td>\n",
       "      <td>71546.00000</td>\n",
       "      <td>NaN</td>\n",
       "    </tr>\n",
       "    <tr>\n",
       "      <th>max</th>\n",
       "      <td>NaN</td>\n",
       "      <td>NaN</td>\n",
       "      <td>NaN</td>\n",
       "      <td>NaN</td>\n",
       "      <td>2.147484e+09</td>\n",
       "      <td>NaN</td>\n",
       "      <td>NaN</td>\n",
       "      <td>9999.000000</td>\n",
       "      <td>NaN</td>\n",
       "      <td>20000.000000</td>\n",
       "      <td>NaN</td>\n",
       "      <td>150000.000000</td>\n",
       "      <td>12.000000</td>\n",
       "      <td>NaN</td>\n",
       "      <td>NaN</td>\n",
       "      <td>NaN</td>\n",
       "      <td>NaN</td>\n",
       "      <td>0.0</td>\n",
       "      <td>99998.00000</td>\n",
       "      <td>NaN</td>\n",
       "    </tr>\n",
       "  </tbody>\n",
       "</table>\n",
       "</div>"
      ],
      "text/plain": [
       "               date_crawled         name  seller offer_type         price  \\\n",
       "count                371528       371528  371528     371528  3.715280e+05   \n",
       "unique               280500       233531       2          2           NaN   \n",
       "top     2016-03-24 14:49:47  Ford_Fiesta  privat    Angebot           NaN   \n",
       "freq                      7          657  371525     371516           NaN   \n",
       "mean                    NaN          NaN     NaN        NaN  1.729514e+04   \n",
       "std                     NaN          NaN     NaN        NaN  3.587954e+06   \n",
       "min                     NaN          NaN     NaN        NaN  0.000000e+00   \n",
       "25%                     NaN          NaN     NaN        NaN  1.150000e+03   \n",
       "50%                     NaN          NaN     NaN        NaN  2.950000e+03   \n",
       "75%                     NaN          NaN     NaN        NaN  7.200000e+03   \n",
       "max                     NaN          NaN     NaN        NaN  2.147484e+09   \n",
       "\n",
       "        abtest vehicle_type  registration_year  gearbox    power_in_ps  \\\n",
       "count   371528       333659      371528.000000   351319  371528.000000   \n",
       "unique       2            8                NaN        2            NaN   \n",
       "top       test    limousine                NaN  manuell            NaN   \n",
       "freq    192585        95894                NaN   274214            NaN   \n",
       "mean       NaN          NaN        2004.577997      NaN     115.549477   \n",
       "std        NaN          NaN          92.866598      NaN     192.139578   \n",
       "min        NaN          NaN        1000.000000      NaN       0.000000   \n",
       "25%        NaN          NaN        1999.000000      NaN      70.000000   \n",
       "50%        NaN          NaN        2003.000000      NaN     105.000000   \n",
       "75%        NaN          NaN        2008.000000      NaN     150.000000   \n",
       "max        NaN          NaN        9999.000000      NaN   20000.000000   \n",
       "\n",
       "         model    odometer_km  registration_month fuel_type       brand  \\\n",
       "count   351044  371528.000000       371528.000000    338142      371528   \n",
       "unique     251            NaN                 NaN         7          40   \n",
       "top       golf            NaN                 NaN    benzin  volkswagen   \n",
       "freq     30070            NaN                 NaN    223857       79640   \n",
       "mean       NaN  125618.688228            5.734445       NaN         NaN   \n",
       "std        NaN   40112.337051            3.712412       NaN         NaN   \n",
       "min        NaN    5000.000000            0.000000       NaN         NaN   \n",
       "25%        NaN  125000.000000            3.000000       NaN         NaN   \n",
       "50%        NaN  150000.000000            6.000000       NaN         NaN   \n",
       "75%        NaN  150000.000000            9.000000       NaN         NaN   \n",
       "max        NaN  150000.000000           12.000000       NaN         NaN   \n",
       "\n",
       "       not_repaired_damage           ad_created  num_of_pictures  \\\n",
       "count               299468               371528         371528.0   \n",
       "unique                   2                  114              NaN   \n",
       "top                   nein  2016-04-03 00:00:00              NaN   \n",
       "freq                263182                14450              NaN   \n",
       "mean                   NaN                  NaN              0.0   \n",
       "std                    NaN                  NaN              0.0   \n",
       "min                    NaN                  NaN              0.0   \n",
       "25%                    NaN                  NaN              0.0   \n",
       "50%                    NaN                  NaN              0.0   \n",
       "75%                    NaN                  NaN              0.0   \n",
       "max                    NaN                  NaN              0.0   \n",
       "\n",
       "         postal_code            last_seen  \n",
       "count   371528.00000               371528  \n",
       "unique           NaN               182806  \n",
       "top              NaN  2016-04-07 06:45:59  \n",
       "freq             NaN                   17  \n",
       "mean     50820.66764                  NaN  \n",
       "std      25799.08247                  NaN  \n",
       "min       1067.00000                  NaN  \n",
       "25%      30459.00000                  NaN  \n",
       "50%      49610.00000                  NaN  \n",
       "75%      71546.00000                  NaN  \n",
       "max      99998.00000                  NaN  "
      ]
     },
     "execution_count": 9,
     "metadata": {},
     "output_type": "execute_result"
    }
   ],
   "source": [
    "autos.describe(include='all')"
   ]
  },
  {
   "cell_type": "code",
   "execution_count": 10,
   "id": "5b1130ca",
   "metadata": {},
   "outputs": [
    {
     "data": {
      "text/plain": [
       "array([1993, 2011, 2004, 2001, 2008, 1995, 1980, 2014, 1998, 2005, 1910,\n",
       "       2016, 2007, 2009, 2002, 2018, 1997, 1990, 2017, 1981, 2003, 1994,\n",
       "       1991, 1984, 2006, 1999, 2012, 2010, 2000, 1992, 2013, 1996, 1985,\n",
       "       1989, 2015, 1968, 1982, 1976, 1983, 1959, 1973, 1111, 1969, 1971,\n",
       "       1987, 1986, 1988, 1967, 1970, 1965, 1945, 1925, 1974, 1979, 1955,\n",
       "       1978, 1972, 1977, 1961, 1963, 1964, 1960, 1966, 1975, 1937, 1936,\n",
       "       5000, 1954, 1958, 9999, 1956, 3200, 1000, 1933, 1941, 1962, 8888,\n",
       "       1500, 2200, 4100, 1929, 1951, 1957, 1940, 3000, 2066, 1949, 2019,\n",
       "       1800, 1953, 1935, 1234, 8000, 5300, 9000, 2900, 6000, 5900, 5911,\n",
       "       1400, 1950, 4000, 1948, 1952, 1200, 8500, 1932, 1255, 1927, 1923,\n",
       "       1931, 3700, 3800, 4800, 1942, 7000, 1911, 6500, 2290, 2500, 1930,\n",
       "       1001, 6200, 9450, 1944, 1943, 1947, 1934, 1938, 1688, 2800, 1253,\n",
       "       1928, 7500, 1919, 5555, 7777, 5600, 1600, 1939, 2222, 1039, 9996,\n",
       "       1300, 8455, 1915, 4500, 1920, 1602, 7800, 9229, 1946, 7100, 8200,\n",
       "       3500], dtype=int64)"
      ]
     },
     "execution_count": 10,
     "metadata": {},
     "output_type": "execute_result"
    }
   ],
   "source": [
    "autos[\"registration_year\"].unique()"
   ]
  },
  {
   "cell_type": "markdown",
   "id": "f0bb286b",
   "metadata": {},
   "source": [
    "#### Observations\n"
   ]
  },
  {
   "cell_type": "markdown",
   "id": "c0811946",
   "metadata": {},
   "source": [
    "## 2. Investigate columns with low amount of unique values"
   ]
  },
  {
   "cell_type": "markdown",
   "id": "e87ba6ff",
   "metadata": {},
   "source": [
    "Check proportion of data for columns with less then 10 unique values"
   ]
  },
  {
   "cell_type": "code",
   "execution_count": 11,
   "id": "1c969c30",
   "metadata": {},
   "outputs": [
    {
     "data": {
      "text/plain": [
       "privat        371525\n",
       "gewerblich         3\n",
       "Name: seller, dtype: int64"
      ]
     },
     "execution_count": 11,
     "metadata": {},
     "output_type": "execute_result"
    }
   ],
   "source": [
    "autos[\"seller\"].value_counts()"
   ]
  },
  {
   "cell_type": "code",
   "execution_count": 12,
   "id": "d36a91f2",
   "metadata": {
    "scrolled": true
   },
   "outputs": [
    {
     "data": {
      "text/plain": [
       "Angebot    371516\n",
       "Gesuch         12\n",
       "Name: offer_type, dtype: int64"
      ]
     },
     "execution_count": 12,
     "metadata": {},
     "output_type": "execute_result"
    }
   ],
   "source": [
    "autos[\"offer_type\"].value_counts()"
   ]
  },
  {
   "cell_type": "code",
   "execution_count": 13,
   "id": "43f56cf2",
   "metadata": {},
   "outputs": [
    {
     "data": {
      "text/plain": [
       "test       192585\n",
       "control    178943\n",
       "Name: abtest, dtype: int64"
      ]
     },
     "execution_count": 13,
     "metadata": {},
     "output_type": "execute_result"
    }
   ],
   "source": [
    "autos[\"abtest\"].value_counts()"
   ]
  },
  {
   "cell_type": "code",
   "execution_count": 14,
   "id": "4ea4fcda",
   "metadata": {},
   "outputs": [
    {
     "data": {
      "text/plain": [
       "limousine     95894\n",
       "kleinwagen    80023\n",
       "kombi         67564\n",
       "bus           30201\n",
       "cabrio        22898\n",
       "coupe         19015\n",
       "suv           14707\n",
       "andere         3357\n",
       "Name: vehicle_type, dtype: int64"
      ]
     },
     "execution_count": 14,
     "metadata": {},
     "output_type": "execute_result"
    }
   ],
   "source": [
    "autos[\"vehicle_type\"].value_counts()"
   ]
  },
  {
   "cell_type": "code",
   "execution_count": 15,
   "id": "ef23aeb7",
   "metadata": {},
   "outputs": [
    {
     "data": {
      "text/plain": [
       "manuell      274214\n",
       "automatik     77105\n",
       "Name: gearbox, dtype: int64"
      ]
     },
     "execution_count": 15,
     "metadata": {},
     "output_type": "execute_result"
    }
   ],
   "source": [
    "autos[\"gearbox\"].value_counts()"
   ]
  },
  {
   "cell_type": "code",
   "execution_count": 16,
   "id": "9c081575",
   "metadata": {},
   "outputs": [
    {
     "data": {
      "text/plain": [
       "benzin     223857\n",
       "diesel     107746\n",
       "lpg          5378\n",
       "cng           571\n",
       "hybrid        278\n",
       "andere        208\n",
       "elektro       104\n",
       "Name: fuel_type, dtype: int64"
      ]
     },
     "execution_count": 16,
     "metadata": {},
     "output_type": "execute_result"
    }
   ],
   "source": [
    "autos[\"fuel_type\"].value_counts()"
   ]
  },
  {
   "cell_type": "code",
   "execution_count": 17,
   "id": "da37a590",
   "metadata": {
    "scrolled": false
   },
   "outputs": [
    {
     "data": {
      "text/plain": [
       "nein    263182\n",
       "ja       36286\n",
       "Name: not_repaired_damage, dtype: int64"
      ]
     },
     "execution_count": 17,
     "metadata": {},
     "output_type": "execute_result"
    }
   ],
   "source": [
    "autos[\"not_repaired_damage\"].value_counts()"
   ]
  },
  {
   "cell_type": "code",
   "execution_count": 18,
   "id": "cd1eaaf2",
   "metadata": {},
   "outputs": [
    {
     "data": {
      "text/plain": [
       "0    0\n",
       "1    0\n",
       "2    0\n",
       "3    0\n",
       "4    0\n",
       "Name: num_of_pictures, dtype: int64"
      ]
     },
     "execution_count": 18,
     "metadata": {},
     "output_type": "execute_result"
    }
   ],
   "source": [
    "autos[\"num_of_pictures\"].head(5)"
   ]
  },
  {
   "cell_type": "markdown",
   "id": "bdcab0e2",
   "metadata": {},
   "source": [
    "#### Observations:\n",
    "- Columns `seller` and `offer_type` have prominent advantage of one value, therefore will be dropped\n",
    "- Column `num_of_pictures` contains only 0 values and will be droped"
   ]
  },
  {
   "cell_type": "markdown",
   "id": "c9a73f92",
   "metadata": {},
   "source": [
    "## 3. Drop broken column and columns which have siginicant advantage of one value"
   ]
  },
  {
   "cell_type": "code",
   "execution_count": 19,
   "id": "46a92143",
   "metadata": {},
   "outputs": [],
   "source": [
    "autos.drop(\"num_of_pictures\", axis=1, inplace=True)"
   ]
  },
  {
   "cell_type": "code",
   "execution_count": 20,
   "id": "72ab8ceb",
   "metadata": {},
   "outputs": [],
   "source": [
    "autos.drop(\"seller\", axis=1, inplace=True)\n",
    "autos.drop(\"offer_type\", axis=1, inplace=True)"
   ]
  },
  {
   "cell_type": "code",
   "execution_count": 21,
   "id": "423cddfc",
   "metadata": {},
   "outputs": [
    {
     "name": "stdout",
     "output_type": "stream",
     "text": [
      "<class 'pandas.core.frame.DataFrame'>\n",
      "RangeIndex: 371528 entries, 0 to 371527\n",
      "Data columns (total 17 columns):\n",
      " #   Column               Non-Null Count   Dtype \n",
      "---  ------               --------------   ----- \n",
      " 0   date_crawled         371528 non-null  object\n",
      " 1   name                 371528 non-null  object\n",
      " 2   price                371528 non-null  int64 \n",
      " 3   abtest               371528 non-null  object\n",
      " 4   vehicle_type         333659 non-null  object\n",
      " 5   registration_year    371528 non-null  int64 \n",
      " 6   gearbox              351319 non-null  object\n",
      " 7   power_in_ps          371528 non-null  int64 \n",
      " 8   model                351044 non-null  object\n",
      " 9   odometer_km          371528 non-null  int64 \n",
      " 10  registration_month   371528 non-null  int64 \n",
      " 11  fuel_type            338142 non-null  object\n",
      " 12  brand                371528 non-null  object\n",
      " 13  not_repaired_damage  299468 non-null  object\n",
      " 14  ad_created           371528 non-null  object\n",
      " 15  postal_code          371528 non-null  int64 \n",
      " 16  last_seen            371528 non-null  object\n",
      "dtypes: int64(6), object(11)\n",
      "memory usage: 48.2+ MB\n"
     ]
    }
   ],
   "source": [
    "autos.info()"
   ]
  },
  {
   "cell_type": "markdown",
   "id": "70de7129",
   "metadata": {},
   "source": [
    "## 4. Look for any values that look unrealistically high or low (outliers)"
   ]
  },
  {
   "cell_type": "markdown",
   "id": "1cc1e70c",
   "metadata": {},
   "source": [
    "### 4.2 Determinate outliers in `autos[\"odometer_km\"]` column"
   ]
  },
  {
   "cell_type": "markdown",
   "id": "6ee983cc",
   "metadata": {},
   "source": [
    "Analyze `odometer_km` column"
   ]
  },
  {
   "cell_type": "code",
   "execution_count": 22,
   "id": "4c20c0c5",
   "metadata": {},
   "outputs": [
    {
     "data": {
      "text/plain": [
       "(13,)"
      ]
     },
     "execution_count": 22,
     "metadata": {},
     "output_type": "execute_result"
    }
   ],
   "source": [
    "autos[\"odometer_km\"].unique().shape"
   ]
  },
  {
   "cell_type": "code",
   "execution_count": 23,
   "id": "846d1a62",
   "metadata": {},
   "outputs": [
    {
     "data": {
      "text/plain": [
       "count    371528.000000\n",
       "mean     125618.688228\n",
       "std       40112.337051\n",
       "min        5000.000000\n",
       "25%      125000.000000\n",
       "50%      150000.000000\n",
       "75%      150000.000000\n",
       "max      150000.000000\n",
       "Name: odometer_km, dtype: float64"
      ]
     },
     "execution_count": 23,
     "metadata": {},
     "output_type": "execute_result"
    }
   ],
   "source": [
    "autos[\"odometer_km\"].describe()"
   ]
  },
  {
   "cell_type": "code",
   "execution_count": 24,
   "id": "59e99ebb",
   "metadata": {},
   "outputs": [
    {
     "data": {
      "text/plain": [
       "150000    240797\n",
       "125000     38067\n",
       "100000     15920\n",
       "90000      12523\n",
       "80000      11053\n",
       "70000       9773\n",
       "60000       8669\n",
       "50000       7615\n",
       "5000        7069\n",
       "40000       6376\n",
       "30000       6041\n",
       "20000       5676\n",
       "10000       1949\n",
       "Name: odometer_km, dtype: int64"
      ]
     },
     "execution_count": 24,
     "metadata": {},
     "output_type": "execute_result"
    }
   ],
   "source": [
    "autos[\"odometer_km\"].value_counts()"
   ]
  },
  {
   "cell_type": "code",
   "execution_count": 25,
   "id": "87098357",
   "metadata": {},
   "outputs": [
    {
     "data": {
      "text/plain": [
       "count    371528.000000\n",
       "mean     125618.688228\n",
       "std       40112.337051\n",
       "min        5000.000000\n",
       "25%      125000.000000\n",
       "50%      150000.000000\n",
       "75%      150000.000000\n",
       "max      150000.000000\n",
       "Name: odometer_km, dtype: float64"
      ]
     },
     "execution_count": 25,
     "metadata": {},
     "output_type": "execute_result"
    }
   ],
   "source": [
    "autos[\"odometer_km\"].describe()"
   ]
  },
  {
   "cell_type": "markdown",
   "id": "3be48213",
   "metadata": {},
   "source": [
    "Using the interquartile rule to find outliers in `autos[\"odometer_km\"]` column"
   ]
  },
  {
   "cell_type": "markdown",
   "id": "8ba00530",
   "metadata": {},
   "source": [
    "#### Observations\n",
    "\n",
    "- The median and 75th percentile value is the same as the maximum value 150,000km. \n",
    "- The values distribition looks good, taking in the considaratdin the characterstic od the data\n",
    "\n"
   ]
  },
  {
   "cell_type": "markdown",
   "id": "07ccb93e",
   "metadata": {},
   "source": [
    "### 4.2 Determinate outliers in `autos[\"price\"]` column"
   ]
  },
  {
   "cell_type": "code",
   "execution_count": 26,
   "id": "b8c4e2d6",
   "metadata": {
    "scrolled": true
   },
   "outputs": [
    {
     "data": {
      "text/plain": [
       "0         10778\n",
       "500        5670\n",
       "1500       5394\n",
       "1000       4649\n",
       "1200       4594\n",
       "          ...  \n",
       "349000        1\n",
       "8889          1\n",
       "3440          1\n",
       "1997          1\n",
       "10985         1\n",
       "Name: price, Length: 5597, dtype: int64"
      ]
     },
     "execution_count": 26,
     "metadata": {},
     "output_type": "execute_result"
    }
   ],
   "source": [
    "autos[\"price\"].value_counts()"
   ]
  },
  {
   "cell_type": "code",
   "execution_count": 27,
   "id": "a9f1ad3a",
   "metadata": {},
   "outputs": [
    {
     "data": {
      "text/plain": [
       "count    3.715280e+05\n",
       "mean     1.729514e+04\n",
       "std      3.587954e+06\n",
       "min      0.000000e+00\n",
       "25%      1.150000e+03\n",
       "50%      2.950000e+03\n",
       "75%      7.200000e+03\n",
       "max      2.147484e+09\n",
       "Name: price, dtype: float64"
      ]
     },
     "execution_count": 27,
     "metadata": {},
     "output_type": "execute_result"
    }
   ],
   "source": [
    "autos[\"price\"].describe()"
   ]
  },
  {
   "cell_type": "code",
   "execution_count": 28,
   "id": "d8a2c4ee",
   "metadata": {
    "scrolled": true
   },
   "outputs": [
    {
     "data": {
      "text/plain": [
       "(371528, 17)"
      ]
     },
     "execution_count": 28,
     "metadata": {},
     "output_type": "execute_result"
    }
   ],
   "source": [
    "autos.shape"
   ]
  },
  {
   "cell_type": "code",
   "execution_count": 29,
   "id": "ab41f1bf",
   "metadata": {
    "scrolled": true
   },
   "outputs": [
    {
     "name": "stdout",
     "output_type": "stream",
     "text": [
      "Values with 0 price state 3% of total\n"
     ]
    }
   ],
   "source": [
    "n_rows = autos.shape[0]\n",
    "percentage_zero_prices = round((10778 / n_rows) * 100)\n",
    "print(f\"Values with 0 price state {percentage_zero_prices}% of total\")"
   ]
  },
  {
   "cell_type": "markdown",
   "id": "6982f049",
   "metadata": {},
   "source": [
    "Using the interquartile rule to find outliers in `autos[\"price\"]` column"
   ]
  },
  {
   "cell_type": "code",
   "execution_count": 30,
   "id": "6a8fe982",
   "metadata": {},
   "outputs": [
    {
     "data": {
      "text/plain": [
       "275109    0\n",
       "215757    0\n",
       "338766    0\n",
       "253111    0\n",
       "141603    0\n",
       "Name: price, dtype: int64"
      ]
     },
     "execution_count": 30,
     "metadata": {},
     "output_type": "execute_result"
    }
   ],
   "source": [
    "sorted_prices = autos[\"price\"].sort_values()\n",
    "sorted_prices.head(5)"
   ]
  },
  {
   "cell_type": "code",
   "execution_count": 31,
   "id": "858700c0",
   "metadata": {},
   "outputs": [
    {
     "name": "stdout",
     "output_type": "stream",
     "text": [
      "The 25% qurtile is 1150.0\n",
      "The 75% qurtile is 7200.0\n",
      "The interquartile range is 6050.0\n",
      "The upper limit for outliers is 16275.0\n",
      "The upper limit for outliers is -7925.0\n"
     ]
    }
   ],
   "source": [
    "Q1 = sorted_prices.quantile(.25)\n",
    "Q3 = sorted_prices.quantile(.75)\n",
    "IQR = Q3 - Q1\n",
    "upperFence = Q3 + (1.5 * IQR)\n",
    "lowerFence = Q1 - (1.5 * IQR)\n",
    "print(f\"The 25% qurtile is {Q1}\")\n",
    "print(f\"The 75% qurtile is {Q3}\")\n",
    "print(f\"The interquartile range is {IQR}\")\n",
    "print(f\"The upper limit for outliers is {upperFence}\")\n",
    "print(f\"The upper limit for outliers is {lowerFence}\")"
   ]
  },
  {
   "cell_type": "code",
   "execution_count": 32,
   "id": "414f4ec3",
   "metadata": {},
   "outputs": [],
   "source": [
    "values_above_upper_limit = autos[autos[\"price\"] > upperFence]\n",
    "autous_without_outliers = autos[autos[\"price\"].between(1, upperFence)]"
   ]
  },
  {
   "cell_type": "code",
   "execution_count": 33,
   "id": "ad2d45e7",
   "metadata": {},
   "outputs": [
    {
     "data": {
      "text/plain": [
       "28108"
      ]
     },
     "execution_count": 33,
     "metadata": {},
     "output_type": "execute_result"
    }
   ],
   "source": [
    "values_above_upper_limit[\"price\"].count()"
   ]
  },
  {
   "cell_type": "code",
   "execution_count": 34,
   "id": "baa3593d",
   "metadata": {},
   "outputs": [
    {
     "data": {
      "text/plain": [
       "332642"
      ]
     },
     "execution_count": 34,
     "metadata": {},
     "output_type": "execute_result"
    }
   ],
   "source": [
    "autous_without_outliers[\"price\"].count()"
   ]
  },
  {
   "cell_type": "markdown",
   "id": "c7fa70f0",
   "metadata": {},
   "source": [
    "Determinate how big part of total are values above upper limit"
   ]
  },
  {
   "cell_type": "code",
   "execution_count": 35,
   "id": "dc4a2315",
   "metadata": {},
   "outputs": [
    {
     "name": "stdout",
     "output_type": "stream",
     "text": [
      "Values above upper limit state 8% of total\n"
     ]
    }
   ],
   "source": [
    "prices_above_upper_limit = round((28108/n_rows) * 100)\n",
    "print(f\"Values above upper limit state {prices_above_upper_limit}% of total\")"
   ]
  },
  {
   "cell_type": "code",
   "execution_count": 36,
   "id": "c7554610",
   "metadata": {},
   "outputs": [
    {
     "data": {
      "text/plain": [
       "(332642, 17)"
      ]
     },
     "execution_count": 36,
     "metadata": {},
     "output_type": "execute_result"
    }
   ],
   "source": [
    "autos = autos[autos[\"price\"].between(1, upperFence)]\n",
    "autos.shape"
   ]
  },
  {
   "cell_type": "code",
   "execution_count": 37,
   "id": "0c5778a2",
   "metadata": {},
   "outputs": [
    {
     "data": {
      "text/plain": [
       "count    332642.000000\n",
       "mean       4109.250005\n",
       "std        3844.906790\n",
       "min           1.000000\n",
       "25%        1150.000000\n",
       "50%        2700.000000\n",
       "75%        5999.000000\n",
       "max       16270.000000\n",
       "Name: price, dtype: float64"
      ]
     },
     "execution_count": 37,
     "metadata": {},
     "output_type": "execute_result"
    }
   ],
   "source": [
    "autos[\"price\"].describe()"
   ]
  },
  {
   "cell_type": "markdown",
   "id": "710df5ba",
   "metadata": {},
   "source": [
    "#### Observations\n",
    "- 0 prices state only 3% of total price values, we can exclude them and treat as outliers\n",
    "- prices above upper limit state 8% of total price values, we can exclude them and treat as outliers\n",
    "- there is no big difference between mean (2700) and Q3 (5999) values\n",
    "- distribution of values seems to be fine for the price data"
   ]
  },
  {
   "cell_type": "markdown",
   "id": "06aa9345",
   "metadata": {},
   "source": [
    "## 5. Analyze the date clumns range"
   ]
  },
  {
   "cell_type": "code",
   "execution_count": 38,
   "id": "5d3f6646",
   "metadata": {},
   "outputs": [
    {
     "name": "stdout",
     "output_type": "stream",
     "text": [
      "<class 'pandas.core.frame.DataFrame'>\n",
      "Int64Index: 332642 entries, 0 to 371526\n",
      "Data columns (total 17 columns):\n",
      " #   Column               Non-Null Count   Dtype \n",
      "---  ------               --------------   ----- \n",
      " 0   date_crawled         332642 non-null  object\n",
      " 1   name                 332642 non-null  object\n",
      " 2   price                332642 non-null  int64 \n",
      " 3   abtest               332642 non-null  object\n",
      " 4   vehicle_type         299207 non-null  object\n",
      " 5   registration_year    332642 non-null  int64 \n",
      " 6   gearbox              315439 non-null  object\n",
      " 7   power_in_ps          332642 non-null  int64 \n",
      " 8   model                315482 non-null  object\n",
      " 9   odometer_km          332642 non-null  int64 \n",
      " 10  registration_month   332642 non-null  int64 \n",
      " 11  fuel_type            303495 non-null  object\n",
      " 12  brand                332642 non-null  object\n",
      " 13  not_repaired_damage  267503 non-null  object\n",
      " 14  ad_created           332642 non-null  object\n",
      " 15  postal_code          332642 non-null  int64 \n",
      " 16  last_seen            332642 non-null  object\n",
      "dtypes: int64(6), object(11)\n",
      "memory usage: 45.7+ MB\n",
      "None\n"
     ]
    }
   ],
   "source": [
    "print(autos.info())"
   ]
  },
  {
   "cell_type": "code",
   "execution_count": 39,
   "id": "42b6a37a",
   "metadata": {
    "scrolled": true
   },
   "outputs": [
    {
     "data": {
      "text/html": [
       "<div>\n",
       "<style scoped>\n",
       "    .dataframe tbody tr th:only-of-type {\n",
       "        vertical-align: middle;\n",
       "    }\n",
       "\n",
       "    .dataframe tbody tr th {\n",
       "        vertical-align: top;\n",
       "    }\n",
       "\n",
       "    .dataframe thead th {\n",
       "        text-align: right;\n",
       "    }\n",
       "</style>\n",
       "<table border=\"1\" class=\"dataframe\">\n",
       "  <thead>\n",
       "    <tr style=\"text-align: right;\">\n",
       "      <th></th>\n",
       "      <th>date_crawled</th>\n",
       "      <th>ad_created</th>\n",
       "      <th>last_seen</th>\n",
       "    </tr>\n",
       "  </thead>\n",
       "  <tbody>\n",
       "    <tr>\n",
       "      <th>0</th>\n",
       "      <td>2016-03-24 11:52:17</td>\n",
       "      <td>2016-03-24 00:00:00</td>\n",
       "      <td>2016-04-07 03:16:57</td>\n",
       "    </tr>\n",
       "    <tr>\n",
       "      <th>2</th>\n",
       "      <td>2016-03-14 12:52:21</td>\n",
       "      <td>2016-03-14 00:00:00</td>\n",
       "      <td>2016-04-05 12:47:46</td>\n",
       "    </tr>\n",
       "    <tr>\n",
       "      <th>3</th>\n",
       "      <td>2016-03-17 16:54:04</td>\n",
       "      <td>2016-03-17 00:00:00</td>\n",
       "      <td>2016-03-17 17:40:17</td>\n",
       "    </tr>\n",
       "    <tr>\n",
       "      <th>4</th>\n",
       "      <td>2016-03-31 17:25:20</td>\n",
       "      <td>2016-03-31 00:00:00</td>\n",
       "      <td>2016-04-06 10:17:21</td>\n",
       "    </tr>\n",
       "    <tr>\n",
       "      <th>5</th>\n",
       "      <td>2016-04-04 17:36:23</td>\n",
       "      <td>2016-04-04 00:00:00</td>\n",
       "      <td>2016-04-06 19:17:07</td>\n",
       "    </tr>\n",
       "  </tbody>\n",
       "</table>\n",
       "</div>"
      ],
      "text/plain": [
       "          date_crawled           ad_created            last_seen\n",
       "0  2016-03-24 11:52:17  2016-03-24 00:00:00  2016-04-07 03:16:57\n",
       "2  2016-03-14 12:52:21  2016-03-14 00:00:00  2016-04-05 12:47:46\n",
       "3  2016-03-17 16:54:04  2016-03-17 00:00:00  2016-03-17 17:40:17\n",
       "4  2016-03-31 17:25:20  2016-03-31 00:00:00  2016-04-06 10:17:21\n",
       "5  2016-04-04 17:36:23  2016-04-04 00:00:00  2016-04-06 19:17:07"
      ]
     },
     "execution_count": 39,
     "metadata": {},
     "output_type": "execute_result"
    }
   ],
   "source": [
    "autos[['date_crawled','ad_created','last_seen']][0:5]"
   ]
  },
  {
   "cell_type": "markdown",
   "id": "229967c8",
   "metadata": {},
   "source": [
    "### 5.1 Analyze `date_crawled` column"
   ]
  },
  {
   "cell_type": "markdown",
   "id": "c411c9a4",
   "metadata": {},
   "source": [
    "- Exctrat year, month and day from `date_crawled` column\n",
    "- Sort values by index\n",
    "- Convert values to relative frequency"
   ]
  },
  {
   "cell_type": "code",
   "execution_count": 40,
   "id": "6845bc8f",
   "metadata": {
    "scrolled": false
   },
   "outputs": [],
   "source": [
    "date_crawled = autos['date_crawled'].str[:10].value_counts(normalize=True, dropna=False).sort_index()\n",
    "date_crawled = date_crawled.apply(lambda x: x * 100)"
   ]
  },
  {
   "cell_type": "code",
   "execution_count": 41,
   "id": "13383f7c",
   "metadata": {},
   "outputs": [
    {
     "data": {
      "text/plain": [
       "count    34.000000\n",
       "mean      2.941176\n",
       "std       0.967754\n",
       "min       0.159932\n",
       "25%       3.017809\n",
       "50%       3.291527\n",
       "75%       3.496402\n",
       "max       3.856098\n",
       "Name: date_crawled, dtype: float64"
      ]
     },
     "execution_count": 41,
     "metadata": {},
     "output_type": "execute_result"
    }
   ],
   "source": [
    "date_crawled.describe()"
   ]
  },
  {
   "cell_type": "markdown",
   "id": "9473ed76",
   "metadata": {},
   "source": [
    "#### Observations\n",
    "- Advertisements were added with similar frequency through 34 days\n",
    "- At 13, 16 and 18 of March 2016, we can notice a decline in numbers of new offers crawled\n",
    "- Since 2016-04-05 we can observe a significant decrease in the number of offers crawled added\n",
    "- Standard deviation is 0.009678, which means that variability is very low"
   ]
  },
  {
   "cell_type": "markdown",
   "id": "76ab9d6c",
   "metadata": {},
   "source": [
    "### 5.2 Analyze `ad_created` column"
   ]
  },
  {
   "cell_type": "markdown",
   "id": "6d0bf016",
   "metadata": {},
   "source": [
    "- Exctrat year, month and day from `ad_created` column\n",
    "- Sort values by index\n",
    "- Convert values to relative frequency"
   ]
  },
  {
   "cell_type": "code",
   "execution_count": 42,
   "id": "91140dcc",
   "metadata": {},
   "outputs": [
    {
     "name": "stdout",
     "output_type": "stream",
     "text": [
      "2016-03-05    257.003024\n",
      "2016-03-06    145.171085\n",
      "2016-03-07    356.990398\n",
      "2016-03-08    335.856567\n",
      "2016-03-09    341.267789\n",
      "2016-03-10    328.912164\n",
      "2016-03-11    329.393161\n",
      "2016-03-12    364.505985\n",
      "2016-03-13    157.196025\n",
      "2016-03-14    363.062993\n",
      "2016-03-15    334.233200\n",
      "2016-03-16    304.351224\n",
      "2016-03-17    319.683023\n",
      "2016-03-18    131.342404\n",
      "2016-03-19    353.833851\n",
      "2016-03-20    363.634177\n",
      "2016-03-21    358.373266\n",
      "2016-03-22    327.619483\n",
      "2016-03-23    320.133958\n",
      "2016-03-24    297.677383\n",
      "2016-03-25    327.859982\n",
      "2016-03-26    320.254207\n",
      "2016-03-27    300.924117\n",
      "2016-03-28    350.286494\n",
      "2016-03-29    340.546293\n",
      "2016-03-30    334.173075\n",
      "2016-03-31    317.308097\n",
      "2016-04-01    338.051118\n",
      "2016-04-02    347.701132\n",
      "2016-04-03    385.609755\n",
      "2016-04-04    373.494628\n",
      "2016-04-05    126.622615\n",
      "2016-04-06     30.934157\n",
      "2016-04-07     15.993170\n",
      "Name: date_crawled, dtype: float64\n"
     ]
    }
   ],
   "source": [
    "ad_created = autos['ad_created'].str[:10].value_counts(normalize=True, dropna=False).sort_index()\n",
    "ad_created = date_crawled.apply(lambda x: x * 100)\n",
    "print(ad_created)"
   ]
  },
  {
   "cell_type": "code",
   "execution_count": 43,
   "id": "51628350",
   "metadata": {},
   "outputs": [
    {
     "data": {
      "text/plain": [
       "count     34.000000\n",
       "mean     294.117647\n",
       "std       96.775429\n",
       "min       15.993170\n",
       "25%      301.780894\n",
       "50%      329.152663\n",
       "75%      349.640154\n",
       "max      385.609755\n",
       "Name: date_crawled, dtype: float64"
      ]
     },
     "execution_count": 43,
     "metadata": {},
     "output_type": "execute_result"
    }
   ],
   "source": [
    "ad_created.describe()"
   ]
  },
  {
   "cell_type": "markdown",
   "id": "c58309f4",
   "metadata": {},
   "source": [
    "#### Observations\n",
    "- Advertisements were added with similar frequency through 34 days\n",
    "- At 13, 16 and 18 of March 2016, we can notice a decline in numbers of new offers\n",
    "- Since 2016-04-05 we can observe a significant decrease in the number of new offers added\n",
    "- Standard deviation is 0.967754, which means that variability is higher than for `ad_created` column, but still, it is low"
   ]
  },
  {
   "cell_type": "markdown",
   "id": "33cfedde",
   "metadata": {},
   "source": [
    "### 5.2 Analyze `last_seen` column"
   ]
  },
  {
   "cell_type": "markdown",
   "id": "9013689c",
   "metadata": {},
   "source": [
    "- Exctrat year, month and day from `last_seen` column\n",
    "- Sort values by index\n",
    "- Convert values to relative frequency"
   ]
  },
  {
   "cell_type": "code",
   "execution_count": 44,
   "id": "7a58730f",
   "metadata": {},
   "outputs": [
    {
     "name": "stdout",
     "output_type": "stream",
     "text": [
      "2016-03-05    257.003024\n",
      "2016-03-06    145.171085\n",
      "2016-03-07    356.990398\n",
      "2016-03-08    335.856567\n",
      "2016-03-09    341.267789\n",
      "2016-03-10    328.912164\n",
      "2016-03-11    329.393161\n",
      "2016-03-12    364.505985\n",
      "2016-03-13    157.196025\n",
      "2016-03-14    363.062993\n",
      "2016-03-15    334.233200\n",
      "2016-03-16    304.351224\n",
      "2016-03-17    319.683023\n",
      "2016-03-18    131.342404\n",
      "2016-03-19    353.833851\n",
      "2016-03-20    363.634177\n",
      "2016-03-21    358.373266\n",
      "2016-03-22    327.619483\n",
      "2016-03-23    320.133958\n",
      "2016-03-24    297.677383\n",
      "2016-03-25    327.859982\n",
      "2016-03-26    320.254207\n",
      "2016-03-27    300.924117\n",
      "2016-03-28    350.286494\n",
      "2016-03-29    340.546293\n",
      "2016-03-30    334.173075\n",
      "2016-03-31    317.308097\n",
      "2016-04-01    338.051118\n",
      "2016-04-02    347.701132\n",
      "2016-04-03    385.609755\n",
      "2016-04-04    373.494628\n",
      "2016-04-05    126.622615\n",
      "2016-04-06     30.934157\n",
      "2016-04-07     15.993170\n",
      "Name: date_crawled, dtype: float64\n"
     ]
    }
   ],
   "source": [
    "last_seen = autos['last_seen'].str[:10].value_counts(normalize=True, dropna=False).sort_index()\n",
    "last_seen = date_crawled.apply(lambda x: x * 100)\n",
    "print(last_seen)"
   ]
  },
  {
   "cell_type": "code",
   "execution_count": 45,
   "id": "92406f78",
   "metadata": {},
   "outputs": [
    {
     "data": {
      "text/plain": [
       "count     34.000000\n",
       "mean     294.117647\n",
       "std       96.775429\n",
       "min       15.993170\n",
       "25%      301.780894\n",
       "50%      329.152663\n",
       "75%      349.640154\n",
       "max      385.609755\n",
       "Name: date_crawled, dtype: float64"
      ]
     },
     "execution_count": 45,
     "metadata": {},
     "output_type": "execute_result"
    }
   ],
   "source": [
    "last_seen.describe()"
   ]
  },
  {
   "cell_type": "markdown",
   "id": "e4ff2f95",
   "metadata": {},
   "source": [
    "#### Observations:\n",
    "- Advertisements were added with similar frequency through 34 days\n",
    "- At 13, 16 and 18 of March 2016, we can notice a decline in numbers of last seen offers\n",
    "- Since 2016-04-05 we can observe a significant decrease in the number of last seen offers\n",
    "- Standard deviation is 0.967754, which means that variability is higher than for `ad_created` column, but still, it is low"
   ]
  },
  {
   "cell_type": "markdown",
   "id": "5320dcb3",
   "metadata": {},
   "source": [
    "### 5.3 Analyze `registration_year` column"
   ]
  },
  {
   "cell_type": "code",
   "execution_count": 46,
   "id": "39410c56",
   "metadata": {},
   "outputs": [
    {
     "name": "stdout",
     "output_type": "stream",
     "text": [
      "1000    0.000090\n",
      "1001    0.000003\n",
      "1039    0.000003\n",
      "1111    0.000003\n",
      "1234    0.000012\n",
      "          ...   \n",
      "8500    0.000003\n",
      "8888    0.000003\n",
      "9000    0.000006\n",
      "9450    0.000003\n",
      "9999    0.000048\n",
      "Name: registration_year, Length: 137, dtype: float64\n"
     ]
    }
   ],
   "source": [
    "registration_year = autos[\"registration_year\"].value_counts(normalize=True, dropna=False).sort_index()\n",
    "# registration_year = registration_year.apply(lambda x: x * 100)\n",
    "print(registration_year)"
   ]
  },
  {
   "cell_type": "code",
   "execution_count": 47,
   "id": "85eed0a4",
   "metadata": {},
   "outputs": [
    {
     "data": {
      "text/plain": [
       "count    332642.000000\n",
       "mean       2003.878819\n",
       "std          76.894784\n",
       "min        1000.000000\n",
       "25%        1999.000000\n",
       "50%        2003.000000\n",
       "75%        2007.000000\n",
       "max        9999.000000\n",
       "Name: registration_year, dtype: float64"
      ]
     },
     "execution_count": 47,
     "metadata": {},
     "output_type": "execute_result"
    }
   ],
   "source": [
    "autos[\"registration_year\"].describe()"
   ]
  },
  {
   "cell_type": "markdown",
   "id": "c5801aa9",
   "metadata": {},
   "source": [
    "Retrive values before 1900"
   ]
  },
  {
   "cell_type": "code",
   "execution_count": 48,
   "id": "d8bb0687",
   "metadata": {},
   "outputs": [],
   "source": [
    "autos_before_1900 = autos[autos[\"registration_year\"] < 1900]"
   ]
  },
  {
   "cell_type": "code",
   "execution_count": 49,
   "id": "9e56d8d5",
   "metadata": {},
   "outputs": [
    {
     "data": {
      "text/plain": [
       "(52, 17)"
      ]
     },
     "execution_count": 49,
     "metadata": {},
     "output_type": "execute_result"
    }
   ],
   "source": [
    "autos_before_1900.shape"
   ]
  },
  {
   "cell_type": "code",
   "execution_count": 50,
   "id": "bf0725c6",
   "metadata": {},
   "outputs": [
    {
     "data": {
      "text/plain": [
       "52"
      ]
     },
     "execution_count": 50,
     "metadata": {},
     "output_type": "execute_result"
    }
   ],
   "source": [
    "autos_before_1900[\"registration_year\"].count()"
   ]
  },
  {
   "cell_type": "code",
   "execution_count": 51,
   "id": "ecffae2a",
   "metadata": {},
   "outputs": [
    {
     "data": {
      "text/plain": [
       "1000    30\n",
       "1800     5\n",
       "1234     4\n",
       "1500     3\n",
       "1600     2\n",
       "1300     2\n",
       "1400     1\n",
       "1255     1\n",
       "1001     1\n",
       "1111     1\n",
       "1039     1\n",
       "1602     1\n",
       "Name: registration_year, dtype: int64"
      ]
     },
     "execution_count": 51,
     "metadata": {},
     "output_type": "execute_result"
    }
   ],
   "source": [
    "autos_before_1900[\"registration_year\"].value_counts()"
   ]
  },
  {
   "cell_type": "markdown",
   "id": "9d45dcb6",
   "metadata": {},
   "source": [
    "Retrive values after 2016"
   ]
  },
  {
   "cell_type": "code",
   "execution_count": 52,
   "id": "4a0b918b",
   "metadata": {},
   "outputs": [],
   "source": [
    "autos_after_2016 = autos[autos[\"registration_year\"] > 2016]"
   ]
  },
  {
   "cell_type": "code",
   "execution_count": 53,
   "id": "d8cc82e5",
   "metadata": {},
   "outputs": [
    {
     "data": {
      "text/plain": [
       "2017    9780\n",
       "2018    3729\n",
       "2019      15\n",
       "2066       1\n",
       "2200       1\n",
       "2222       1\n",
       "2290       1\n",
       "2500       3\n",
       "2800       1\n",
       "2900       1\n",
       "3000       6\n",
       "3200       1\n",
       "3700       1\n",
       "3800       1\n",
       "4000       3\n",
       "4100       1\n",
       "4500       2\n",
       "4800       1\n",
       "5000      16\n",
       "5300       1\n",
       "5555       2\n",
       "5600       1\n",
       "5900       1\n",
       "5911       2\n",
       "6000       4\n",
       "6500       1\n",
       "7000       4\n",
       "7100       1\n",
       "7800       1\n",
       "8000       2\n",
       "8200       1\n",
       "8500       1\n",
       "8888       1\n",
       "9000       2\n",
       "9450       1\n",
       "9999      16\n",
       "Name: registration_year, dtype: int64"
      ]
     },
     "execution_count": 53,
     "metadata": {},
     "output_type": "execute_result"
    }
   ],
   "source": [
    "autos_after_2016[\"registration_year\"].value_counts().sort_index()"
   ]
  },
  {
   "cell_type": "markdown",
   "id": "a403d679",
   "metadata": {},
   "source": [
    "Retrive the rows with year lower than 1900 and higher than 2016 and determinate what percentage is this value"
   ]
  },
  {
   "cell_type": "code",
   "execution_count": 54,
   "id": "14806f97",
   "metadata": {},
   "outputs": [],
   "source": [
    "invalid_rows = (~(autos['registration_year'].between(1900, 2016))).sum()"
   ]
  },
  {
   "cell_type": "code",
   "execution_count": 55,
   "id": "c521d257",
   "metadata": {},
   "outputs": [
    {
     "data": {
      "text/plain": [
       "4.106216292590833"
      ]
     },
     "execution_count": 55,
     "metadata": {},
     "output_type": "execute_result"
    }
   ],
   "source": [
    "invalid_rows_percentage = (invalid_rows / autos.shape[0]) * 100\n",
    "invalid_rows_percentage"
   ]
  },
  {
   "cell_type": "markdown",
   "id": "39d44eba",
   "metadata": {},
   "source": [
    "#### Observations:\n",
    "- Invalid rows are only 4% of total amount of rows\n",
    "- Invalid rows can be removed from the `autos` dataframe"
   ]
  },
  {
   "cell_type": "markdown",
   "id": "acb4f594",
   "metadata": {},
   "source": [
    "Remove invalid rows from `autos` dataframe"
   ]
  },
  {
   "cell_type": "code",
   "execution_count": 56,
   "id": "96cbd9c5",
   "metadata": {},
   "outputs": [],
   "source": [
    "autos = autos[autos['registration_year'].between(1900, 2016)]"
   ]
  },
  {
   "cell_type": "code",
   "execution_count": 57,
   "id": "5338039e",
   "metadata": {
    "scrolled": true
   },
   "outputs": [
    {
     "data": {
      "text/plain": [
       "2000    7.223582\n",
       "1999    6.887201\n",
       "2005    6.692206\n",
       "2001    6.142020\n",
       "2003    6.086845\n",
       "2006    6.044836\n",
       "2004    6.026026\n",
       "2002    5.847647\n",
       "1998    5.376776\n",
       "2007    5.128173\n",
       "Name: registration_year, dtype: float64"
      ]
     },
     "execution_count": 57,
     "metadata": {},
     "output_type": "execute_result"
    }
   ],
   "source": [
    "autos[\"registration_year\"].value_counts(normalize=True).apply(lambda x: x * 100).sort_values(ascending=False).head(10)"
   ]
  },
  {
   "cell_type": "code",
   "execution_count": 58,
   "id": "be958027",
   "metadata": {},
   "outputs": [
    {
     "data": {
      "text/plain": [
       "61.455312665565245"
      ]
     },
     "execution_count": 58,
     "metadata": {},
     "output_type": "execute_result"
    }
   ],
   "source": [
    "autos[\"registration_year\"].value_counts(normalize=True).apply(lambda x: x * 100).sort_values(ascending=False).head(10).sum()"
   ]
  },
  {
   "cell_type": "markdown",
   "id": "c93d1635",
   "metadata": {},
   "source": [
    "#### Observations:\n",
    "- The bigest amount of offers contains car registrated betweend 1998 and 2007, it is 61% of total"
   ]
  },
  {
   "cell_type": "markdown",
   "id": "0a583fc3",
   "metadata": {},
   "source": [
    "## 6. Explore the `brand` column"
   ]
  },
  {
   "cell_type": "markdown",
   "id": "81cd7c68",
   "metadata": {},
   "source": [
    "Identify each unique `brand` in the data set."
   ]
  },
  {
   "cell_type": "code",
   "execution_count": 59,
   "id": "5f34c244",
   "metadata": {},
   "outputs": [
    {
     "data": {
      "text/plain": [
       "array(['volkswagen', 'jeep', 'skoda', 'bmw', 'peugeot', 'ford', 'mazda',\n",
       "       'renault', 'mercedes_benz', 'seat', 'honda', 'fiat', 'opel',\n",
       "       'mini', 'smart', 'hyundai', 'sonstige_autos', 'audi', 'nissan',\n",
       "       'alfa_romeo', 'subaru', 'volvo', 'mitsubishi', 'kia', 'suzuki',\n",
       "       'lancia', 'citroen', 'toyota', 'chevrolet', 'dacia', 'daihatsu',\n",
       "       'trabant', 'chrysler', 'jaguar', 'daewoo', 'porsche', 'rover',\n",
       "       'saab', 'land_rover', 'lada'], dtype=object)"
      ]
     },
     "execution_count": 59,
     "metadata": {},
     "output_type": "execute_result"
    }
   ],
   "source": [
    "brands = autos[\"brand\"].unique()\n",
    "brands"
   ]
  },
  {
   "cell_type": "markdown",
   "id": "7b7b53c1",
   "metadata": {},
   "source": [
    "Select 20 brands with the highest number of offers"
   ]
  },
  {
   "cell_type": "code",
   "execution_count": 60,
   "id": "035f32e0",
   "metadata": {},
   "outputs": [],
   "source": [
    "top20 = autos[\"brand\"].value_counts().index[:20]"
   ]
  },
  {
   "cell_type": "markdown",
   "id": "bdb3cb27",
   "metadata": {},
   "source": [
    "Retrive avarage price value for top 20 car brands"
   ]
  },
  {
   "cell_type": "code",
   "execution_count": 75,
   "id": "ce2d93a5",
   "metadata": {
    "scrolled": true
   },
   "outputs": [
    {
     "name": "stdout",
     "output_type": "stream",
     "text": [
      "<class 'list'>\n",
      "mini : 8243.06\n",
      "bmw : 5714.7\n",
      "audi : 5693.2\n",
      "skoda : 5579.09\n",
      "mercedes_benz : 5296.44\n",
      "hyundai : 4847.2\n",
      "toyota : 4591.92\n",
      "volkswagen : 4151.89\n",
      "volvo : 3892.79\n",
      "seat : 3866.49\n",
      "nissan : 3816.81\n",
      "smart : 3559.53\n",
      "mazda : 3542.57\n",
      "citroen : 3468.14\n",
      "peugeot : 3083.21\n",
      "ford : 3017.07\n",
      "mitsubishi : 2834.15\n",
      "fiat : 2744.63\n",
      "opel : 2728.23\n",
      "renault : 2288.74\n"
     ]
    }
   ],
   "source": [
    "avg_price_by_brand = {}\n",
    "\n",
    "for brand in top20:\n",
    "    \n",
    "    selected_brands = autos[autos[\"brand\"] == brand]\n",
    "    price_mean = selected_brands[\"price\"].mean()\n",
    "    \n",
    "    avg_price_by_brand[brand] = round(price_mean, 2)\n",
    "    sorted_prices = sorted(avg_price_by_brand.items(), key=lambda x: x[1], reverse=True)\n",
    "\n",
    "    \n",
    "for item in sorted_prices:\n",
    "    print(item[0],':',item[1]) "
   ]
  },
  {
   "cell_type": "code",
   "execution_count": 76,
   "id": "90292334",
   "metadata": {},
   "outputs": [
    {
     "data": {
      "text/plain": [
       "0              (mini, 8243.06)\n",
       "1                (bmw, 5714.7)\n",
       "2               (audi, 5693.2)\n",
       "3             (skoda, 5579.09)\n",
       "4     (mercedes_benz, 5296.44)\n",
       "5            (hyundai, 4847.2)\n",
       "6            (toyota, 4591.92)\n",
       "7        (volkswagen, 4151.89)\n",
       "8             (volvo, 3892.79)\n",
       "9              (seat, 3866.49)\n",
       "10           (nissan, 3816.81)\n",
       "11            (smart, 3559.53)\n",
       "12            (mazda, 3542.57)\n",
       "13          (citroen, 3468.14)\n",
       "14          (peugeot, 3083.21)\n",
       "15             (ford, 3017.07)\n",
       "16       (mitsubishi, 2834.15)\n",
       "17             (fiat, 2744.63)\n",
       "18             (opel, 2728.23)\n",
       "19          (renault, 2288.74)\n",
       "dtype: object"
      ]
     },
     "execution_count": 76,
     "metadata": {},
     "output_type": "execute_result"
    }
   ],
   "source": [
    "sorted_prices_series = pd.Series(sorted_prices)\n",
    "sorted_prices_series"
   ]
  },
  {
   "cell_type": "markdown",
   "id": "354f3cae",
   "metadata": {},
   "source": [
    "#### Observations:\n",
    "- Mini cars have the bigest average per price"
   ]
  },
  {
   "cell_type": "code",
   "execution_count": null,
   "id": "44ebf0a1",
   "metadata": {},
   "outputs": [],
   "source": []
  }
 ],
 "metadata": {
  "kernelspec": {
   "display_name": "Python 3 (ipykernel)",
   "language": "python",
   "name": "python3"
  },
  "language_info": {
   "codemirror_mode": {
    "name": "ipython",
    "version": 3
   },
   "file_extension": ".py",
   "mimetype": "text/x-python",
   "name": "python",
   "nbconvert_exporter": "python",
   "pygments_lexer": "ipython3",
   "version": "3.10.4"
  }
 },
 "nbformat": 4,
 "nbformat_minor": 5
}
