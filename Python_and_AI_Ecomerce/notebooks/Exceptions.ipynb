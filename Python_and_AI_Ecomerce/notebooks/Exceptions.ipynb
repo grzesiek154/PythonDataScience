{
 "cells": [
  {
   "cell_type": "code",
   "execution_count": null,
   "metadata": {},
   "outputs": [],
   "source": [
    "try:\n",
    "    a = int(\"a\")\n",
    "    b = 0\n",
    "    c = a / b\n",
    "except ValueError:\n",
    "    c = None\n",
    "    print(\"Wystąpił błąd konwersji. Spróbuj jeszcze raz\")\n",
    "else:\n",
    "    print(\"a + b = \", str(c))\n",
    "\n",
    "finally:\n",
    "    a = 0\n",
    "    b = 0\n",
    "    c = 0\n",
    "    print(\"Koniec programu\")"
   ]
  },
  {
   "cell_type": "code",
   "execution_count": null,
   "metadata": {},
   "outputs": [],
   "source": [
    "try:\n",
    "    a = int(\"a\")\n",
    "    b = 0\n",
    "    c = a / b\n",
    "except ValueError:\n",
    "    c = None\n",
    "    print(\"Wystąpił błąd konwersji\")\n",
    "except ZeroDivisionError:\n",
    "    c = None\n",
    "    print(\"Wystąpił błąd dzielenia przez zero\")\n",
    "except:\n",
    "    c = None\n",
    "    print(\"Błąd typu:\")\n",
    "\n",
    "print(c)\n"
   ]
  }
 ],
 "metadata": {
  "kernelspec": {
   "display_name": "Python 3.10.4 64-bit",
   "language": "python",
   "name": "python3"
  },
  "language_info": {
   "name": "python",
   "version": "3.10.4"
  },
  "orig_nbformat": 4,
  "vscode": {
   "interpreter": {
    "hash": "61f7f75044dedb4e03ecf6b077c125388b58c1bc2432e9805d68d38c21443220"
   }
  }
 },
 "nbformat": 4,
 "nbformat_minor": 2
}
