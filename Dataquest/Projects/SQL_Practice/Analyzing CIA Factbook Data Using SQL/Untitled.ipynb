{
 "cells": [
  {
   "cell_type": "markdown",
   "metadata": {},
   "source": [
    "# Modules instalation"
   ]
  },
  {
   "cell_type": "code",
   "execution_count": null,
   "metadata": {},
   "outputs": [],
   "source": [
    "!conda install -yc conda-forge ipython-sql"
   ]
  },
  {
   "cell_type": "code",
   "execution_count": null,
   "metadata": {
    "scrolled": true
   },
   "outputs": [],
   "source": [
    "!conda update -n base -c conda-forge conda"
   ]
  },
  {
   "cell_type": "code",
   "execution_count": null,
   "metadata": {},
   "outputs": [],
   "source": [
    "!conda --version"
   ]
  },
  {
   "cell_type": "markdown",
   "metadata": {},
   "source": [
    "# Load database"
   ]
  },
  {
   "cell_type": "code",
   "execution_count": 19,
   "metadata": {},
   "outputs": [],
   "source": [
    "%%capture\n",
    "%load_ext sql\n",
    "%sql sqlite:///factbook2.db"
   ]
  },
  {
   "cell_type": "markdown",
   "metadata": {},
   "source": [
    "# Overview of the Data"
   ]
  },
  {
   "cell_type": "code",
   "execution_count": 21,
   "metadata": {},
   "outputs": [
    {
     "name": "stdout",
     "output_type": "stream",
     "text": [
      " * sqlite:///factbook2.db\n",
      "Done.\n"
     ]
    },
    {
     "data": {
      "text/html": [
       "<table>\n",
       "    <thead>\n",
       "        <tr>\n",
       "            <th>type</th>\n",
       "            <th>name</th>\n",
       "            <th>tbl_name</th>\n",
       "            <th>rootpage</th>\n",
       "            <th>sql</th>\n",
       "        </tr>\n",
       "    </thead>\n",
       "    <tbody>\n",
       "        <tr>\n",
       "            <td>table</td>\n",
       "            <td>sqlite_sequence</td>\n",
       "            <td>sqlite_sequence</td>\n",
       "            <td>3</td>\n",
       "            <td>CREATE TABLE sqlite_sequence(name,seq)</td>\n",
       "        </tr>\n",
       "        <tr>\n",
       "            <td>table</td>\n",
       "            <td>facts</td>\n",
       "            <td>facts</td>\n",
       "            <td>47</td>\n",
       "            <td>CREATE TABLE &quot;facts&quot; (&quot;id&quot; INTEGER PRIMARY KEY AUTOINCREMENT NOT NULL, &quot;code&quot; varchar(255) NOT NULL, &quot;name&quot; varchar(255) NOT NULL, &quot;area&quot; integer, &quot;area_land&quot; integer, &quot;area_water&quot; integer, &quot;population&quot; integer, &quot;population_growth&quot; float, &quot;birth_rate&quot; float, &quot;death_rate&quot; float, &quot;migration_rate&quot; float)</td>\n",
       "        </tr>\n",
       "        <tr>\n",
       "            <td>table</td>\n",
       "            <td>cities</td>\n",
       "            <td>cities</td>\n",
       "            <td>2</td>\n",
       "            <td>CREATE TABLE cities (<br>        id integer primary key,<br>        name text,<br>        population integer,<br>        capital bool,<br>        facts_id text,<br>        foreign key(facts_id) references facts(id)<br>    )</td>\n",
       "        </tr>\n",
       "    </tbody>\n",
       "</table>"
      ],
      "text/plain": [
       "[('table', 'sqlite_sequence', 'sqlite_sequence', 3, 'CREATE TABLE sqlite_sequence(name,seq)'),\n",
       " ('table', 'facts', 'facts', 47, 'CREATE TABLE \"facts\" (\"id\" INTEGER PRIMARY KEY AUTOINCREMENT NOT NULL, \"code\" varchar(255) NOT NULL, \"name\" varchar(255) NOT NULL, \"area\" integer, \"a ... (4 characters truncated) ... land\" integer, \"area_water\" integer, \"population\" integer, \"population_growth\" float, \"birth_rate\" float, \"death_rate\" float, \"migration_rate\" float)'),\n",
       " ('table', 'cities', 'cities', 2, 'CREATE TABLE cities (\\n        id integer primary key,\\n        name text,\\n        population integer,\\n        capital bool,\\n        facts_id text,\\n        foreign key(facts_id) references facts(id)\\n    )')]"
      ]
     },
     "execution_count": 21,
     "metadata": {},
     "output_type": "execute_result"
    }
   ],
   "source": [
    "%%sql\n",
    "SELECT *\n",
    "  FROM sqlite_master\n",
    " WHERE type='table';"
   ]
  },
  {
   "cell_type": "code",
   "execution_count": null,
   "metadata": {
    "scrolled": true
   },
   "outputs": [],
   "source": [
    "%%sql\n",
    "SELECT *\n",
    "  FROM facts\n",
    " LIMIT 5;"
   ]
  },
  {
   "cell_type": "markdown",
   "metadata": {},
   "source": [
    "**In this project, we'll work with data from the CIA World Factbook, a compendium of statistics about all of the countries on Earth. The Factbook contains demographic information like the following:**"
   ]
  },
  {
   "cell_type": "markdown",
   "metadata": {},
   "source": [
    "\n",
    "\n",
    "Here are the descriptions for some of the columns:\n",
    "- name — the name of the country.\n",
    "- area — the total land and sea area of the country.\n",
    "- population — the country's population.\n",
    "- population_growth— the country's population growth as a percentage.\n",
    "- birth_rate — the country's birth rate, or the number of births a year per 1,000 people.\n",
    "- death_rate — the country's death rate, or the number of death a year per 1,000 people.\n",
    "- area— the country's total area (both land and water).\n",
    "- area_land — the country's land area in square kilometers.\n",
    "- area_water — the country's water area in square kilometers.\n",
    "\n",
    "Let's start by calculating some summary statistics and see what they tell us.\n"
   ]
  },
  {
   "cell_type": "markdown",
   "metadata": {},
   "source": [
    "# Summary Statistics"
   ]
  },
  {
   "cell_type": "markdown",
   "metadata": {},
   "source": [
    "Minimum population"
   ]
  },
  {
   "cell_type": "code",
   "execution_count": null,
   "metadata": {},
   "outputs": [],
   "source": [
    "%%sql\n",
    "SELECT MIN(population) AS min_pop,\n",
    "       MAX(population) AS max_pop,\n",
    "       MIN(population_growth) AS min_pop_growth,\n",
    "       MAX(population_growth) max_pop_growth \n",
    "  FROM facts;\n",
    "\n"
   ]
  },
  {
   "cell_type": "markdown",
   "metadata": {},
   "source": [
    "A few things are interesting in the summary statistics on the previous screen:\n",
    "\n",
    "- There's a country with a population of 0.\n",
    "- There's a country with a population of `7256490011` (or more than 7.2 billion people).\n"
   ]
  },
  {
   "cell_type": "markdown",
   "metadata": {},
   "source": [
    "## Exploring Outliers"
   ]
  },
  {
   "cell_type": "markdown",
   "metadata": {},
   "source": [
    "Countries with the minimum population."
   ]
  },
  {
   "cell_type": "code",
   "execution_count": 17,
   "metadata": {},
   "outputs": [
    {
     "name": "stdout",
     "output_type": "stream",
     "text": [
      " * sqlite:///factbook2.db\n",
      "Done.\n"
     ]
    },
    {
     "data": {
      "text/html": [
       "<table>\n",
       "    <thead>\n",
       "        <tr>\n",
       "            <th>id</th>\n",
       "            <th>code</th>\n",
       "            <th>name</th>\n",
       "            <th>area</th>\n",
       "            <th>area_land</th>\n",
       "            <th>area_water</th>\n",
       "            <th>population</th>\n",
       "            <th>population_growth</th>\n",
       "            <th>birth_rate</th>\n",
       "            <th>death_rate</th>\n",
       "            <th>migration_rate</th>\n",
       "        </tr>\n",
       "    </thead>\n",
       "    <tbody>\n",
       "        <tr>\n",
       "            <td>250</td>\n",
       "            <td>ay</td>\n",
       "            <td>Antarctica</td>\n",
       "            <td>None</td>\n",
       "            <td>280000</td>\n",
       "            <td>None</td>\n",
       "            <td>0</td>\n",
       "            <td>None</td>\n",
       "            <td>None</td>\n",
       "            <td>None</td>\n",
       "            <td>None</td>\n",
       "        </tr>\n",
       "    </tbody>\n",
       "</table>"
      ],
      "text/plain": [
       "[(250, 'ay', 'Antarctica', None, 280000, None, 0, None, None, None, None)]"
      ]
     },
     "execution_count": 17,
     "metadata": {},
     "output_type": "execute_result"
    }
   ],
   "source": [
    "%%sql\n",
    "SELECT * FROM facts WHERE population = (SELECT MIN(population) AS min_pop FROM facts);"
   ]
  },
  {
   "cell_type": "markdown",
   "metadata": {},
   "source": [
    "# Challenge: Complex Query with Joins and Subqueries"
   ]
  },
  {
   "attachments": {
    "image.png": {
     "image/png": "[encoded data removed]"
    }
   },
   "cell_type": "markdown",
   "metadata": {},
   "source": [
    "![image.png](attachment:image.png)"
   ]
  },
  {
   "cell_type": "code",
   "execution_count": 37,
   "metadata": {
    "scrolled": true
   },
   "outputs": [
    {
     "name": "stdout",
     "output_type": "stream",
     "text": [
      " * sqlite:///factbook2.db\n",
      "Done.\n"
     ]
    },
    {
     "data": {
      "text/html": [
       "<table>\n",
       "    <thead>\n",
       "        <tr>\n",
       "            <th>id</th>\n",
       "            <th>code</th>\n",
       "            <th>name</th>\n",
       "            <th>area</th>\n",
       "            <th>area_land</th>\n",
       "            <th>area_water</th>\n",
       "            <th>population</th>\n",
       "            <th>population_growth</th>\n",
       "            <th>birth_rate</th>\n",
       "            <th>death_rate</th>\n",
       "            <th>migration_rate</th>\n",
       "        </tr>\n",
       "    </thead>\n",
       "    <tbody>\n",
       "        <tr>\n",
       "            <td>163</td>\n",
       "            <td>sp</td>\n",
       "            <td>Spain</td>\n",
       "            <td>505370</td>\n",
       "            <td>498980</td>\n",
       "            <td>6390</td>\n",
       "            <td>48146134</td>\n",
       "            <td>0.89</td>\n",
       "            <td>9.64</td>\n",
       "            <td>9.04</td>\n",
       "            <td>8.31</td>\n",
       "        </tr>\n",
       "    </tbody>\n",
       "</table>"
      ],
      "text/plain": [
       "[(163, 'sp', 'Spain', 505370, 498980, 6390, 48146134, 0.89, 9.64, 9.04, 8.31)]"
      ]
     },
     "execution_count": 37,
     "metadata": {},
     "output_type": "execute_result"
    }
   ],
   "source": [
    "%%sql\n",
    "SELECT * FROM facts WHERE name = 'Spain' lIMIT 5;"
   ]
  },
  {
   "cell_type": "code",
   "execution_count": 32,
   "metadata": {},
   "outputs": [
    {
     "name": "stdout",
     "output_type": "stream",
     "text": [
      " * sqlite:///factbook2.db\n",
      "Done.\n"
     ]
    },
    {
     "data": {
      "text/html": [
       "<table>\n",
       "    <thead>\n",
       "        <tr>\n",
       "            <th>id</th>\n",
       "            <th>name</th>\n",
       "            <th>population</th>\n",
       "            <th>capital</th>\n",
       "            <th>facts_id</th>\n",
       "        </tr>\n",
       "    </thead>\n",
       "    <tbody>\n",
       "        <tr>\n",
       "            <td>1</td>\n",
       "            <td>Oranjestad</td>\n",
       "            <td>37000</td>\n",
       "            <td>1</td>\n",
       "            <td>216</td>\n",
       "        </tr>\n",
       "        <tr>\n",
       "            <td>2</td>\n",
       "            <td>Saint John&#x27;S</td>\n",
       "            <td>27000</td>\n",
       "            <td>1</td>\n",
       "            <td>6</td>\n",
       "        </tr>\n",
       "        <tr>\n",
       "            <td>3</td>\n",
       "            <td>Abu Dhabi</td>\n",
       "            <td>942000</td>\n",
       "            <td>1</td>\n",
       "            <td>184</td>\n",
       "        </tr>\n",
       "        <tr>\n",
       "            <td>4</td>\n",
       "            <td>Dubai</td>\n",
       "            <td>1978000</td>\n",
       "            <td>0</td>\n",
       "            <td>184</td>\n",
       "        </tr>\n",
       "        <tr>\n",
       "            <td>5</td>\n",
       "            <td>Sharjah</td>\n",
       "            <td>983000</td>\n",
       "            <td>0</td>\n",
       "            <td>184</td>\n",
       "        </tr>\n",
       "    </tbody>\n",
       "</table>"
      ],
      "text/plain": [
       "[(1, 'Oranjestad', 37000, 1, '216'),\n",
       " (2, \"Saint John'S\", 27000, 1, '6'),\n",
       " (3, 'Abu Dhabi', 942000, 1, '184'),\n",
       " (4, 'Dubai', 1978000, 0, '184'),\n",
       " (5, 'Sharjah', 983000, 0, '184')]"
      ]
     },
     "execution_count": 32,
     "metadata": {},
     "output_type": "execute_result"
    }
   ],
   "source": [
    "%%sql\n",
    "SELECT * FROM cities lIMIT 5;"
   ]
  },
  {
   "cell_type": "code",
   "execution_count": 31,
   "metadata": {},
   "outputs": [
    {
     "name": "stdout",
     "output_type": "stream",
     "text": [
      " * sqlite:///factbook2.db\n",
      "Done.\n"
     ]
    },
    {
     "data": {
      "text/html": [
       "<table>\n",
       "    <thead>\n",
       "        <tr>\n",
       "            <th>id</th>\n",
       "            <th>name</th>\n",
       "            <th>population</th>\n",
       "            <th>capital</th>\n",
       "            <th>facts_id</th>\n",
       "        </tr>\n",
       "    </thead>\n",
       "    <tbody>\n",
       "        <tr>\n",
       "            <td>16</td>\n",
       "            <td>Buenos Aires</td>\n",
       "            <td>13528000</td>\n",
       "            <td>1</td>\n",
       "            <td>7</td>\n",
       "        </tr>\n",
       "        <tr>\n",
       "            <td>37</td>\n",
       "            <td>Dhaka</td>\n",
       "            <td>15391000</td>\n",
       "            <td>1</td>\n",
       "            <td>14</td>\n",
       "        </tr>\n",
       "        <tr>\n",
       "            <td>81</td>\n",
       "            <td>Beijing</td>\n",
       "            <td>15594000</td>\n",
       "            <td>1</td>\n",
       "            <td>37</td>\n",
       "        </tr>\n",
       "        <tr>\n",
       "            <td>111</td>\n",
       "            <td>Cairo</td>\n",
       "            <td>11169000</td>\n",
       "            <td>1</td>\n",
       "            <td>53</td>\n",
       "        </tr>\n",
       "        <tr>\n",
       "            <td>161</td>\n",
       "            <td>New Delhi</td>\n",
       "            <td>22654000</td>\n",
       "            <td>1</td>\n",
       "            <td>77</td>\n",
       "        </tr>\n",
       "        <tr>\n",
       "            <td>190</td>\n",
       "            <td>Tokyo</td>\n",
       "            <td>37217000</td>\n",
       "            <td>1</td>\n",
       "            <td>85</td>\n",
       "        </tr>\n",
       "        <tr>\n",
       "            <td>240</td>\n",
       "            <td>Mexico City</td>\n",
       "            <td>20446000</td>\n",
       "            <td>1</td>\n",
       "            <td>114</td>\n",
       "        </tr>\n",
       "        <tr>\n",
       "            <td>291</td>\n",
       "            <td>Manila</td>\n",
       "            <td>11862000</td>\n",
       "            <td>1</td>\n",
       "            <td>138</td>\n",
       "        </tr>\n",
       "        <tr>\n",
       "            <td>296</td>\n",
       "            <td>Moscow</td>\n",
       "            <td>11621000</td>\n",
       "            <td>1</td>\n",
       "            <td>143</td>\n",
       "        </tr>\n",
       "    </tbody>\n",
       "</table>"
      ],
      "text/plain": [
       "[(16, 'Buenos Aires', 13528000, 1, '7'),\n",
       " (37, 'Dhaka', 15391000, 1, '14'),\n",
       " (81, 'Beijing', 15594000, 1, '37'),\n",
       " (111, 'Cairo', 11169000, 1, '53'),\n",
       " (161, 'New Delhi', 22654000, 1, '77'),\n",
       " (190, 'Tokyo', 37217000, 1, '85'),\n",
       " (240, 'Mexico City', 20446000, 1, '114'),\n",
       " (291, 'Manila', 11862000, 1, '138'),\n",
       " (296, 'Moscow', 11621000, 1, '143')]"
      ]
     },
     "execution_count": 31,
     "metadata": {},
     "output_type": "execute_result"
    }
   ],
   "source": [
    "%%sql\n",
    "SELECT * FROM cities WHERE capital = 1 AND population > 10000000\n",
    "             "
   ]
  },
  {
   "cell_type": "markdown",
   "metadata": {},
   "source": [
    "`urban_pop` - the sum of the population in major urban areas belonging to that country.\n",
    "\n",
    "\n",
    "slect sum of cities populations in cities table for each of the countries from facts"
   ]
  },
  {
   "cell_type": "code",
   "execution_count": 60,
   "metadata": {},
   "outputs": [
    {
     "name": "stdout",
     "output_type": "stream",
     "text": [
      " * sqlite:///factbook2.db\n",
      "Done.\n"
     ]
    },
    {
     "data": {
      "text/html": [
       "<table>\n",
       "    <thead>\n",
       "        <tr>\n",
       "            <th>country</th>\n",
       "            <th>total_pop</th>\n",
       "            <th>urban_pct</th>\n",
       "        </tr>\n",
       "    </thead>\n",
       "    <tbody>\n",
       "        <tr>\n",
       "            <td>Uruguay</td>\n",
       "            <td>3341893</td>\n",
       "            <td>0.5003152404939356</td>\n",
       "        </tr>\n",
       "        <tr>\n",
       "            <td>Congo, Republic of the</td>\n",
       "            <td>4755097</td>\n",
       "            <td>0.5141850944365594</td>\n",
       "        </tr>\n",
       "        <tr>\n",
       "            <td>Brunei</td>\n",
       "            <td>429646</td>\n",
       "            <td>0.5609269026128487</td>\n",
       "        </tr>\n",
       "        <tr>\n",
       "            <td>New Caledonia</td>\n",
       "            <td>271615</td>\n",
       "            <td>0.5780240413821034</td>\n",
       "        </tr>\n",
       "        <tr>\n",
       "            <td>Virgin Islands</td>\n",
       "            <td>103574</td>\n",
       "            <td>0.5792959623071428</td>\n",
       "        </tr>\n",
       "        <tr>\n",
       "            <td>Falkland Islands (Islas Malvinas)</td>\n",
       "            <td>3361</td>\n",
       "            <td>0.5950609937518596</td>\n",
       "        </tr>\n",
       "        <tr>\n",
       "            <td>Djibouti</td>\n",
       "            <td>828324</td>\n",
       "            <td>0.5987995035758954</td>\n",
       "        </tr>\n",
       "        <tr>\n",
       "            <td>Australia</td>\n",
       "            <td>22751014</td>\n",
       "            <td>0.6060828761302683</td>\n",
       "        </tr>\n",
       "        <tr>\n",
       "            <td>Iceland</td>\n",
       "            <td>331918</td>\n",
       "            <td>0.6206352171319423</td>\n",
       "        </tr>\n",
       "        <tr>\n",
       "            <td>Israel</td>\n",
       "            <td>8049314</td>\n",
       "            <td>0.6492478737939655</td>\n",
       "        </tr>\n",
       "        <tr>\n",
       "            <td>United Arab Emirates</td>\n",
       "            <td>5779760</td>\n",
       "            <td>0.6752875551926032</td>\n",
       "        </tr>\n",
       "        <tr>\n",
       "            <td>Puerto Rico</td>\n",
       "            <td>3598357</td>\n",
       "            <td>0.6878139106264332</td>\n",
       "        </tr>\n",
       "        <tr>\n",
       "            <td>Bahamas, The</td>\n",
       "            <td>324597</td>\n",
       "            <td>0.7825087724162577</td>\n",
       "        </tr>\n",
       "        <tr>\n",
       "            <td>Kuwait</td>\n",
       "            <td>2788534</td>\n",
       "            <td>0.8628189579183901</td>\n",
       "        </tr>\n",
       "        <tr>\n",
       "            <td>Saint Pierre and Miquelon</td>\n",
       "            <td>5657</td>\n",
       "            <td>0.8838607035531201</td>\n",
       "        </tr>\n",
       "        <tr>\n",
       "            <td>Guam</td>\n",
       "            <td>161785</td>\n",
       "            <td>1.0445962233828847</td>\n",
       "        </tr>\n",
       "        <tr>\n",
       "            <td>Northern Mariana Islands</td>\n",
       "            <td>52344</td>\n",
       "            <td>1.0698456365581537</td>\n",
       "        </tr>\n",
       "        <tr>\n",
       "            <td>American Samoa</td>\n",
       "            <td>54343</td>\n",
       "            <td>1.1777045801667188</td>\n",
       "        </tr>\n",
       "    </tbody>\n",
       "</table>"
      ],
      "text/plain": [
       "[('Uruguay', 3341893, 0.5003152404939356),\n",
       " ('Congo, Republic of the', 4755097, 0.5141850944365594),\n",
       " ('Brunei', 429646, 0.5609269026128487),\n",
       " ('New Caledonia', 271615, 0.5780240413821034),\n",
       " ('Virgin Islands', 103574, 0.5792959623071428),\n",
       " ('Falkland Islands (Islas Malvinas)', 3361, 0.5950609937518596),\n",
       " ('Djibouti', 828324, 0.5987995035758954),\n",
       " ('Australia', 22751014, 0.6060828761302683),\n",
       " ('Iceland', 331918, 0.6206352171319423),\n",
       " ('Israel', 8049314, 0.6492478737939655),\n",
       " ('United Arab Emirates', 5779760, 0.6752875551926032),\n",
       " ('Puerto Rico', 3598357, 0.6878139106264332),\n",
       " ('Bahamas, The', 324597, 0.7825087724162577),\n",
       " ('Kuwait', 2788534, 0.8628189579183901),\n",
       " ('Saint Pierre and Miquelon', 5657, 0.8838607035531201),\n",
       " ('Guam', 161785, 1.0445962233828847),\n",
       " ('Northern Mariana Islands', 52344, 1.0698456365581537),\n",
       " ('American Samoa', 54343, 1.1777045801667188)]"
      ]
     },
     "execution_count": 60,
     "metadata": {},
     "output_type": "execute_result"
    }
   ],
   "source": [
    "%%sql\n",
    "SELECT f.name country,  \n",
    "f.population as total_pop,\n",
    "(urban_pop / CAST(f.population AS FLOAT)) urban_pct\n",
    "FROM facts f\n",
    "\n",
    "INNER JOIN (\n",
    "    SELECT facts_id, SUM(population) urban_pop FROM cities GROUP BY 1\n",
    "            ) c ON c.facts_id = f.id\n",
    "\n",
    "WHERE urban_pct > 0.5\n",
    "ORDER BY urban_pct ASC\n",
    " "
   ]
  },
  {
   "cell_type": "code",
   "execution_count": null,
   "metadata": {},
   "outputs": [],
   "source": [
    "   (\n",
    "            SELECT * FROM cities \n",
    "            WHERE capital = 1 \n",
    "            AND population > 10000000\n",
    "            ) c ON c.facts_id = f.id\n"
   ]
  },
  {
   "cell_type": "code",
   "execution_count": 30,
   "metadata": {},
   "outputs": [
    {
     "name": "stdout",
     "output_type": "stream",
     "text": [
      " * sqlite:///factbook2.db\n",
      "Done.\n"
     ]
    },
    {
     "data": {
      "text/html": [
       "<table>\n",
       "    <thead>\n",
       "        <tr>\n",
       "            <th>SUM(population)</th>\n",
       "        </tr>\n",
       "    </thead>\n",
       "    <tbody>\n",
       "        <tr>\n",
       "            <td>991685100</td>\n",
       "        </tr>\n",
       "    </tbody>\n",
       "</table>"
      ],
      "text/plain": [
       "[(991685100,)]"
      ]
     },
     "execution_count": 30,
     "metadata": {},
     "output_type": "execute_result"
    }
   ],
   "source": [
    "%%sql\n",
    "SELECT SUM(population) FROM cities"
   ]
  },
  {
   "cell_type": "code",
   "execution_count": null,
   "metadata": {},
   "outputs": [],
   "source": []
  }
 ],
 "metadata": {
  "kernelspec": {
   "display_name": "Python 3",
   "language": "python",
   "name": "python3"
  },
  "language_info": {
   "codemirror_mode": {
    "name": "ipython",
    "version": 3
   },
   "file_extension": ".py",
   "mimetype": "text/x-python",
   "name": "python",
   "nbconvert_exporter": "python",
   "pygments_lexer": "ipython3",
   "version": "3.8.3"
  }
 },
 "nbformat": 4,
 "nbformat_minor": 5
}
